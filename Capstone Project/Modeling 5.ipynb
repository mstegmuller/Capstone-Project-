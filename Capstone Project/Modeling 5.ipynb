{
 "cells": [
  {
   "cell_type": "markdown",
   "id": "b2a29256",
   "metadata": {},
   "source": [
    "# Predicting the Cost of Natural Disasters"
   ]
  },
  {
   "cell_type": "markdown",
   "id": "8e0fa1ea",
   "metadata": {},
   "source": [
    "#### By Mike Stegmuller "
   ]
  },
  {
   "cell_type": "markdown",
   "id": "c19bf898",
   "metadata": {},
   "source": [
    "## The main problem I am exploring is how much natural disasters cost. I am trying to predict the cost of the next natural disaster by choosing the best machine learning model. The metrics I am using to make my predictions are type of disaster, number of days a disaster lasts, number of deaths, and inflation rate."
   ]
  },
  {
   "cell_type": "markdown",
   "id": "26eed685",
   "metadata": {},
   "source": [
    "### Importing libraries and data"
   ]
  },
  {
   "cell_type": "code",
   "execution_count": 1,
   "id": "0475cfce",
   "metadata": {},
   "outputs": [],
   "source": [
    "import os\n",
    "import pandas as pd\n",
    "from datetime import datetime\n",
    "import matplotlib.pyplot as plt \n",
    "import seaborn as sns\n",
    "import numpy as np\n",
    "import plotly.express as px\n",
    "import plotly.graph_objects as go\n",
    "\n",
    "import statsmodels.api as sm \n",
    "from statsmodels.graphics.api import abline_plot \n",
    "from sklearn.metrics import mean_squared_error as MSE\n",
    "from sklearn.metrics import mean_absolute_error\n",
    "from sklearn.model_selection import train_test_split \n",
    "from sklearn import linear_model, preprocessing \n",
    "from sklearn.preprocessing import StandardScaler\n",
    "import warnings \n",
    "from sklearn.linear_model import LinearRegression\n",
    "from sklearn.tree import DecisionTreeRegressor \n",
    "from sklearn.tree import DecisionTreeClassifier\n",
    "from sklearn import tree, metrics\n",
    "from sklearn.linear_model import LogisticRegression\n",
    "from sklearn.metrics import accuracy_score, precision_score, recall_score, f1_score, r2_score, mean_squared_error\n",
    "from sklearn.preprocessing import OneHotEncoder\n",
    "from sklearn.metrics import classification_report\n",
    "\n",
    "from sklearn.model_selection import cross_val_score, KFold\n",
    "from sklearn.linear_model  import LogisticRegression\n",
    "from sklearn.svm import SVC\n",
    "from sklearn.datasets import load_iris\n",
    "\n",
    "import graphviz\n",
    "from graphviz import Digraph\n",
    "\n",
    "import graphviz as gr\n",
    "\n",
    "from sklearn import datasets\n",
    "from sklearn import svm"
   ]
  },
  {
   "cell_type": "code",
   "execution_count": 2,
   "id": "d5f7682c",
   "metadata": {},
   "outputs": [
    {
     "data": {
      "text/html": [
       "<div>\n",
       "<style scoped>\n",
       "    .dataframe tbody tr th:only-of-type {\n",
       "        vertical-align: middle;\n",
       "    }\n",
       "\n",
       "    .dataframe tbody tr th {\n",
       "        vertical-align: top;\n",
       "    }\n",
       "\n",
       "    .dataframe thead th {\n",
       "        text-align: right;\n",
       "    }\n",
       "</style>\n",
       "<table border=\"1\" class=\"dataframe\">\n",
       "  <thead>\n",
       "    <tr style=\"text-align: right;\">\n",
       "      <th></th>\n",
       "      <th>Total CPI-Adjusted Cost (Millions of Dollars)_x</th>\n",
       "      <th>Deaths</th>\n",
       "      <th>number_of_days</th>\n",
       "      <th>Inflation rate value</th>\n",
       "      <th>Drought</th>\n",
       "      <th>Flooding</th>\n",
       "      <th>Freeze</th>\n",
       "      <th>Severe Storm</th>\n",
       "      <th>Tropical Cyclone</th>\n",
       "      <th>Wildfire</th>\n",
       "      <th>Winter Storm</th>\n",
       "    </tr>\n",
       "  </thead>\n",
       "  <tbody>\n",
       "    <tr>\n",
       "      <th>0</th>\n",
       "      <td>2678.6</td>\n",
       "      <td>7</td>\n",
       "      <td>7</td>\n",
       "      <td>82383.333333</td>\n",
       "      <td>0</td>\n",
       "      <td>1</td>\n",
       "      <td>0</td>\n",
       "      <td>0</td>\n",
       "      <td>0</td>\n",
       "      <td>0</td>\n",
       "      <td>0</td>\n",
       "    </tr>\n",
       "    <tr>\n",
       "      <th>1</th>\n",
       "      <td>2177.2</td>\n",
       "      <td>13</td>\n",
       "      <td>4</td>\n",
       "      <td>82383.333333</td>\n",
       "      <td>0</td>\n",
       "      <td>0</td>\n",
       "      <td>0</td>\n",
       "      <td>0</td>\n",
       "      <td>1</td>\n",
       "      <td>0</td>\n",
       "      <td>0</td>\n",
       "    </tr>\n",
       "    <tr>\n",
       "      <th>2</th>\n",
       "      <td>39579.0</td>\n",
       "      <td>1260</td>\n",
       "      <td>182</td>\n",
       "      <td>82383.333333</td>\n",
       "      <td>1</td>\n",
       "      <td>0</td>\n",
       "      <td>0</td>\n",
       "      <td>0</td>\n",
       "      <td>0</td>\n",
       "      <td>0</td>\n",
       "      <td>0</td>\n",
       "    </tr>\n",
       "    <tr>\n",
       "      <th>3</th>\n",
       "      <td>2019.2</td>\n",
       "      <td>0</td>\n",
       "      <td>2</td>\n",
       "      <td>90933.333333</td>\n",
       "      <td>0</td>\n",
       "      <td>0</td>\n",
       "      <td>1</td>\n",
       "      <td>0</td>\n",
       "      <td>0</td>\n",
       "      <td>0</td>\n",
       "      <td>0</td>\n",
       "    </tr>\n",
       "    <tr>\n",
       "      <th>4</th>\n",
       "      <td>1372.9</td>\n",
       "      <td>20</td>\n",
       "      <td>5</td>\n",
       "      <td>90933.333333</td>\n",
       "      <td>0</td>\n",
       "      <td>0</td>\n",
       "      <td>0</td>\n",
       "      <td>1</td>\n",
       "      <td>0</td>\n",
       "      <td>0</td>\n",
       "      <td>0</td>\n",
       "    </tr>\n",
       "  </tbody>\n",
       "</table>\n",
       "</div>"
      ],
      "text/plain": [
       "   Total CPI-Adjusted Cost (Millions of Dollars)_x  Deaths  number_of_days  \\\n",
       "0                                           2678.6       7               7   \n",
       "1                                           2177.2      13               4   \n",
       "2                                          39579.0    1260             182   \n",
       "3                                           2019.2       0               2   \n",
       "4                                           1372.9      20               5   \n",
       "\n",
       "   Inflation rate value  Drought  Flooding  Freeze  Severe Storm  \\\n",
       "0          82383.333333        0         1       0             0   \n",
       "1          82383.333333        0         0       0             0   \n",
       "2          82383.333333        1         0       0             0   \n",
       "3          90933.333333        0         0       1             0   \n",
       "4          90933.333333        0         0       0             1   \n",
       "\n",
       "   Tropical Cyclone  Wildfire  Winter Storm  \n",
       "0                 0         0             0  \n",
       "1                 1         0             0  \n",
       "2                 0         0             0  \n",
       "3                 0         0             0  \n",
       "4                 0         0             0  "
      ]
     },
     "execution_count": 2,
     "metadata": {},
     "output_type": "execute_result"
    }
   ],
   "source": [
    "df = pd.read_csv('df' , index_col=0)\n",
    "df.head()"
   ]
  },
  {
   "cell_type": "code",
   "execution_count": 3,
   "id": "c6ba4f4c",
   "metadata": {},
   "outputs": [
    {
     "data": {
      "text/plain": [
       "(376, 11)"
      ]
     },
     "execution_count": 3,
     "metadata": {},
     "output_type": "execute_result"
    }
   ],
   "source": [
    "df.shape"
   ]
  },
  {
   "cell_type": "code",
   "execution_count": 4,
   "id": "c42d7c46",
   "metadata": {},
   "outputs": [
    {
     "data": {
      "text/html": [
       "<div>\n",
       "<style scoped>\n",
       "    .dataframe tbody tr th:only-of-type {\n",
       "        vertical-align: middle;\n",
       "    }\n",
       "\n",
       "    .dataframe tbody tr th {\n",
       "        vertical-align: top;\n",
       "    }\n",
       "\n",
       "    .dataframe thead th {\n",
       "        text-align: right;\n",
       "    }\n",
       "</style>\n",
       "<table border=\"1\" class=\"dataframe\">\n",
       "  <thead>\n",
       "    <tr style=\"text-align: right;\">\n",
       "      <th></th>\n",
       "      <th>Deaths</th>\n",
       "      <th>number_of_days</th>\n",
       "      <th>Inflation rate value</th>\n",
       "      <th>Drought</th>\n",
       "      <th>Flooding</th>\n",
       "      <th>Freeze</th>\n",
       "      <th>Severe Storm</th>\n",
       "      <th>Tropical Cyclone</th>\n",
       "      <th>Wildfire</th>\n",
       "      <th>Winter Storm</th>\n",
       "    </tr>\n",
       "  </thead>\n",
       "  <tbody>\n",
       "    <tr>\n",
       "      <th>278</th>\n",
       "      <td>-0.221801</td>\n",
       "      <td>-0.356201</td>\n",
       "      <td>0.691152</td>\n",
       "      <td>0</td>\n",
       "      <td>0</td>\n",
       "      <td>0</td>\n",
       "      <td>1</td>\n",
       "      <td>0</td>\n",
       "      <td>0</td>\n",
       "      <td>0</td>\n",
       "    </tr>\n",
       "    <tr>\n",
       "      <th>60</th>\n",
       "      <td>-0.221801</td>\n",
       "      <td>-0.431887</td>\n",
       "      <td>-1.208622</td>\n",
       "      <td>0</td>\n",
       "      <td>0</td>\n",
       "      <td>0</td>\n",
       "      <td>1</td>\n",
       "      <td>0</td>\n",
       "      <td>0</td>\n",
       "      <td>0</td>\n",
       "    </tr>\n",
       "    <tr>\n",
       "      <th>119</th>\n",
       "      <td>7.706977</td>\n",
       "      <td>-0.368815</td>\n",
       "      <td>-0.419720</td>\n",
       "      <td>0</td>\n",
       "      <td>0</td>\n",
       "      <td>0</td>\n",
       "      <td>0</td>\n",
       "      <td>1</td>\n",
       "      <td>0</td>\n",
       "      <td>0</td>\n",
       "    </tr>\n",
       "    <tr>\n",
       "      <th>266</th>\n",
       "      <td>-0.221801</td>\n",
       "      <td>-0.419273</td>\n",
       "      <td>0.607408</td>\n",
       "      <td>0</td>\n",
       "      <td>0</td>\n",
       "      <td>0</td>\n",
       "      <td>1</td>\n",
       "      <td>0</td>\n",
       "      <td>0</td>\n",
       "      <td>0</td>\n",
       "    </tr>\n",
       "    <tr>\n",
       "      <th>352</th>\n",
       "      <td>-0.079057</td>\n",
       "      <td>-0.419273</td>\n",
       "      <td>1.550068</td>\n",
       "      <td>0</td>\n",
       "      <td>0</td>\n",
       "      <td>0</td>\n",
       "      <td>1</td>\n",
       "      <td>0</td>\n",
       "      <td>0</td>\n",
       "      <td>0</td>\n",
       "    </tr>\n",
       "  </tbody>\n",
       "</table>\n",
       "</div>"
      ],
      "text/plain": [
       "       Deaths  number_of_days  Inflation rate value  Drought  Flooding  \\\n",
       "278 -0.221801       -0.356201              0.691152        0         0   \n",
       "60  -0.221801       -0.431887             -1.208622        0         0   \n",
       "119  7.706977       -0.368815             -0.419720        0         0   \n",
       "266 -0.221801       -0.419273              0.607408        0         0   \n",
       "352 -0.079057       -0.419273              1.550068        0         0   \n",
       "\n",
       "     Freeze  Severe Storm  Tropical Cyclone  Wildfire  Winter Storm  \n",
       "278       0             1                 0         0             0  \n",
       "60        0             1                 0         0             0  \n",
       "119       0             0                 1         0             0  \n",
       "266       0             1                 0         0             0  \n",
       "352       0             1                 0         0             0  "
      ]
     },
     "execution_count": 4,
     "metadata": {},
     "output_type": "execute_result"
    }
   ],
   "source": [
    "X_train = pd.read_csv('X_train' , index_col=0)\n",
    "X_train.head()\n"
   ]
  },
  {
   "cell_type": "code",
   "execution_count": 5,
   "id": "c17681f1",
   "metadata": {},
   "outputs": [
    {
     "data": {
      "text/html": [
       "<div>\n",
       "<style scoped>\n",
       "    .dataframe tbody tr th:only-of-type {\n",
       "        vertical-align: middle;\n",
       "    }\n",
       "\n",
       "    .dataframe tbody tr th {\n",
       "        vertical-align: top;\n",
       "    }\n",
       "\n",
       "    .dataframe thead th {\n",
       "        text-align: right;\n",
       "    }\n",
       "</style>\n",
       "<table border=\"1\" class=\"dataframe\">\n",
       "  <thead>\n",
       "    <tr style=\"text-align: right;\">\n",
       "      <th></th>\n",
       "      <th>Deaths</th>\n",
       "      <th>number_of_days</th>\n",
       "      <th>Inflation rate value</th>\n",
       "      <th>Drought</th>\n",
       "      <th>Flooding</th>\n",
       "      <th>Freeze</th>\n",
       "      <th>Severe Storm</th>\n",
       "      <th>Tropical Cyclone</th>\n",
       "      <th>Wildfire</th>\n",
       "      <th>Winter Storm</th>\n",
       "    </tr>\n",
       "  </thead>\n",
       "  <tbody>\n",
       "    <tr>\n",
       "      <th>290</th>\n",
       "      <td>-0.113661</td>\n",
       "      <td>-0.406659</td>\n",
       "      <td>0.750000</td>\n",
       "      <td>0</td>\n",
       "      <td>0</td>\n",
       "      <td>0</td>\n",
       "      <td>1</td>\n",
       "      <td>0</td>\n",
       "      <td>0</td>\n",
       "      <td>0</td>\n",
       "    </tr>\n",
       "    <tr>\n",
       "      <th>357</th>\n",
       "      <td>-0.221801</td>\n",
       "      <td>-0.406659</td>\n",
       "      <td>1.550068</td>\n",
       "      <td>0</td>\n",
       "      <td>0</td>\n",
       "      <td>0</td>\n",
       "      <td>1</td>\n",
       "      <td>0</td>\n",
       "      <td>0</td>\n",
       "      <td>0</td>\n",
       "    </tr>\n",
       "    <tr>\n",
       "      <th>261</th>\n",
       "      <td>-0.208824</td>\n",
       "      <td>-0.394044</td>\n",
       "      <td>0.607408</td>\n",
       "      <td>0</td>\n",
       "      <td>0</td>\n",
       "      <td>0</td>\n",
       "      <td>1</td>\n",
       "      <td>0</td>\n",
       "      <td>0</td>\n",
       "      <td>0</td>\n",
       "    </tr>\n",
       "    <tr>\n",
       "      <th>157</th>\n",
       "      <td>-0.208824</td>\n",
       "      <td>-0.406659</td>\n",
       "      <td>-0.000105</td>\n",
       "      <td>0</td>\n",
       "      <td>0</td>\n",
       "      <td>0</td>\n",
       "      <td>0</td>\n",
       "      <td>0</td>\n",
       "      <td>0</td>\n",
       "      <td>1</td>\n",
       "    </tr>\n",
       "    <tr>\n",
       "      <th>145</th>\n",
       "      <td>0.262664</td>\n",
       "      <td>-0.406659</td>\n",
       "      <td>-0.052019</td>\n",
       "      <td>0</td>\n",
       "      <td>0</td>\n",
       "      <td>0</td>\n",
       "      <td>0</td>\n",
       "      <td>1</td>\n",
       "      <td>0</td>\n",
       "      <td>0</td>\n",
       "    </tr>\n",
       "  </tbody>\n",
       "</table>\n",
       "</div>"
      ],
      "text/plain": [
       "       Deaths  number_of_days  Inflation rate value  Drought  Flooding  \\\n",
       "290 -0.113661       -0.406659              0.750000        0         0   \n",
       "357 -0.221801       -0.406659              1.550068        0         0   \n",
       "261 -0.208824       -0.394044              0.607408        0         0   \n",
       "157 -0.208824       -0.406659             -0.000105        0         0   \n",
       "145  0.262664       -0.406659             -0.052019        0         0   \n",
       "\n",
       "     Freeze  Severe Storm  Tropical Cyclone  Wildfire  Winter Storm  \n",
       "290       0             1                 0         0             0  \n",
       "357       0             1                 0         0             0  \n",
       "261       0             1                 0         0             0  \n",
       "157       0             0                 0         0             1  \n",
       "145       0             0                 1         0             0  "
      ]
     },
     "execution_count": 5,
     "metadata": {},
     "output_type": "execute_result"
    }
   ],
   "source": [
    "X_test = pd.read_csv('X_test' , index_col=0)\n",
    "X_test.head()"
   ]
  },
  {
   "cell_type": "code",
   "execution_count": 6,
   "id": "f7089a23",
   "metadata": {},
   "outputs": [
    {
     "data": {
      "text/html": [
       "<div>\n",
       "<style scoped>\n",
       "    .dataframe tbody tr th:only-of-type {\n",
       "        vertical-align: middle;\n",
       "    }\n",
       "\n",
       "    .dataframe tbody tr th {\n",
       "        vertical-align: top;\n",
       "    }\n",
       "\n",
       "    .dataframe thead th {\n",
       "        text-align: right;\n",
       "    }\n",
       "</style>\n",
       "<table border=\"1\" class=\"dataframe\">\n",
       "  <thead>\n",
       "    <tr style=\"text-align: right;\">\n",
       "      <th></th>\n",
       "      <th>Total CPI-Adjusted Cost (Millions of Dollars)_x</th>\n",
       "    </tr>\n",
       "  </thead>\n",
       "  <tbody>\n",
       "    <tr>\n",
       "      <th>278</th>\n",
       "      <td>1816.8</td>\n",
       "    </tr>\n",
       "    <tr>\n",
       "      <th>60</th>\n",
       "      <td>1161.5</td>\n",
       "    </tr>\n",
       "    <tr>\n",
       "      <th>119</th>\n",
       "      <td>195046.1</td>\n",
       "    </tr>\n",
       "    <tr>\n",
       "      <th>266</th>\n",
       "      <td>2712.1</td>\n",
       "    </tr>\n",
       "    <tr>\n",
       "      <th>352</th>\n",
       "      <td>5740.4</td>\n",
       "    </tr>\n",
       "  </tbody>\n",
       "</table>\n",
       "</div>"
      ],
      "text/plain": [
       "     Total CPI-Adjusted Cost (Millions of Dollars)_x\n",
       "278                                           1816.8\n",
       "60                                            1161.5\n",
       "119                                         195046.1\n",
       "266                                           2712.1\n",
       "352                                           5740.4"
      ]
     },
     "execution_count": 6,
     "metadata": {},
     "output_type": "execute_result"
    }
   ],
   "source": [
    "y_train = pd.read_csv('y_train' , index_col=0)\n",
    "y_train.head()"
   ]
  },
  {
   "cell_type": "code",
   "execution_count": 7,
   "id": "685282f8",
   "metadata": {},
   "outputs": [
    {
     "data": {
      "text/html": [
       "<div>\n",
       "<style scoped>\n",
       "    .dataframe tbody tr th:only-of-type {\n",
       "        vertical-align: middle;\n",
       "    }\n",
       "\n",
       "    .dataframe tbody tr th {\n",
       "        vertical-align: top;\n",
       "    }\n",
       "\n",
       "    .dataframe thead th {\n",
       "        text-align: right;\n",
       "    }\n",
       "</style>\n",
       "<table border=\"1\" class=\"dataframe\">\n",
       "  <thead>\n",
       "    <tr style=\"text-align: right;\">\n",
       "      <th></th>\n",
       "      <th>Total CPI-Adjusted Cost (Millions of Dollars)_x</th>\n",
       "    </tr>\n",
       "  </thead>\n",
       "  <tbody>\n",
       "    <tr>\n",
       "      <th>290</th>\n",
       "      <td>2779.9</td>\n",
       "    </tr>\n",
       "    <tr>\n",
       "      <th>357</th>\n",
       "      <td>1333.3</td>\n",
       "    </tr>\n",
       "    <tr>\n",
       "      <th>261</th>\n",
       "      <td>1621.4</td>\n",
       "    </tr>\n",
       "    <tr>\n",
       "      <th>157</th>\n",
       "      <td>1160.2</td>\n",
       "    </tr>\n",
       "    <tr>\n",
       "      <th>145</th>\n",
       "      <td>41998.3</td>\n",
       "    </tr>\n",
       "  </tbody>\n",
       "</table>\n",
       "</div>"
      ],
      "text/plain": [
       "     Total CPI-Adjusted Cost (Millions of Dollars)_x\n",
       "290                                           2779.9\n",
       "357                                           1333.3\n",
       "261                                           1621.4\n",
       "157                                           1160.2\n",
       "145                                          41998.3"
      ]
     },
     "execution_count": 7,
     "metadata": {},
     "output_type": "execute_result"
    }
   ],
   "source": [
    "y_test = pd.read_csv('y_test' , index_col=0)\n",
    "y_test.head()"
   ]
  },
  {
   "cell_type": "markdown",
   "id": "c7ac6723",
   "metadata": {},
   "source": [
    "# Linear Regression "
   ]
  },
  {
   "cell_type": "code",
   "execution_count": 8,
   "id": "9d1c5c09",
   "metadata": {},
   "outputs": [],
   "source": [
    "rModel = linear_model.LinearRegression()"
   ]
  },
  {
   "cell_type": "code",
   "execution_count": 9,
   "id": "787f1659",
   "metadata": {},
   "outputs": [
    {
     "data": {
      "text/plain": [
       "LinearRegression()"
      ]
     },
     "execution_count": 9,
     "metadata": {},
     "output_type": "execute_result"
    }
   ],
   "source": [
    "rModel.fit(X_train, y_train)"
   ]
  },
  {
   "cell_type": "code",
   "execution_count": 10,
   "id": "969cebdb",
   "metadata": {},
   "outputs": [],
   "source": [
    "y_pred = rModel.predict(X_test)"
   ]
  },
  {
   "cell_type": "code",
   "execution_count": 11,
   "id": "38c97531",
   "metadata": {},
   "outputs": [
    {
     "data": {
      "image/png": "[encoded data removed]",
      "text/plain": [
       "<Figure size 432x288 with 1 Axes>"
      ]
     },
     "metadata": {
      "needs_background": "light"
     },
     "output_type": "display_data"
    }
   ],
   "source": [
    " # Let's plot the predictions against the actual result. Use scatter()\n",
    "_ = plt.scatter(y_test, y_pred)\n",
    "_ = plt.xlabel('X')\n",
    "_ = plt.ylabel('Cost')"
   ]
  },
  {
   "cell_type": "code",
   "execution_count": 12,
   "id": "9bdaafc5",
   "metadata": {},
   "outputs": [],
   "source": [
    "#rModel.fit(X_train[['Inflation rate value']], y_train)"
   ]
  },
  {
   "cell_type": "code",
   "execution_count": 13,
   "id": "47d9274d",
   "metadata": {},
   "outputs": [],
   "source": [
    "#y_pred = rModel.predict(X_test[['Inflation rate value']])"
   ]
  },
  {
   "cell_type": "code",
   "execution_count": 14,
   "id": "3b3e4fd1",
   "metadata": {},
   "outputs": [],
   "source": [
    "#rModel.fit(X_train[['number_of_days']], y_train)"
   ]
  },
  {
   "cell_type": "code",
   "execution_count": 15,
   "id": "83c83e4e",
   "metadata": {},
   "outputs": [],
   "source": [
    "#y_pred = rModel.predict(X_test[['number_of_days']])"
   ]
  },
  {
   "cell_type": "code",
   "execution_count": 16,
   "id": "330def2a",
   "metadata": {},
   "outputs": [],
   "source": [
    "#rModel.fit(X_train[['Deaths']], y_train)"
   ]
  },
  {
   "cell_type": "code",
   "execution_count": 17,
   "id": "4efc321d",
   "metadata": {},
   "outputs": [],
   "source": [
    "#y_pred = rModel.predict(X_test[['Deaths']])"
   ]
  },
  {
   "cell_type": "code",
   "execution_count": 18,
   "id": "1eee0860",
   "metadata": {},
   "outputs": [],
   "source": [
    "#  # Let's plot the predictions against the actual result. Use scatter()\n",
    "# _ = plt.scatter(y_test, y_pred)\n",
    "# _ = plt.xlabel('X')\n",
    "# _ = plt.ylabel('Cost')"
   ]
  },
  {
   "cell_type": "markdown",
   "id": "76337847",
   "metadata": {},
   "source": [
    "R squared score"
   ]
  },
  {
   "cell_type": "code",
   "execution_count": 19,
   "id": "5e7b294b",
   "metadata": {},
   "outputs": [
    {
     "data": {
      "text/plain": [
       "-0.005053879132344008"
      ]
     },
     "execution_count": 19,
     "metadata": {},
     "output_type": "execute_result"
    }
   ],
   "source": [
    "r2_score(y_test, y_pred)"
   ]
  },
  {
   "cell_type": "markdown",
   "id": "a5e2d87f",
   "metadata": {},
   "source": [
    "Mean Absolute Error"
   ]
  },
  {
   "cell_type": "code",
   "execution_count": 20,
   "id": "fe1a112f",
   "metadata": {},
   "outputs": [],
   "source": [
    "mae_rModel = mean_absolute_error(y_test, y_pred)"
   ]
  },
  {
   "cell_type": "code",
   "execution_count": 21,
   "id": "cda9bb84",
   "metadata": {},
   "outputs": [
    {
     "data": {
      "text/plain": [
       "3310.8856358511302"
      ]
     },
     "execution_count": 21,
     "metadata": {},
     "output_type": "execute_result"
    }
   ],
   "source": [
    "mae_rModel"
   ]
  },
  {
   "cell_type": "code",
   "execution_count": 22,
   "id": "5f723ee8",
   "metadata": {},
   "outputs": [],
   "source": [
    "#Mean Squared Error"
   ]
  },
  {
   "cell_type": "code",
   "execution_count": 23,
   "id": "eb43bc5a",
   "metadata": {},
   "outputs": [],
   "source": [
    "#mse_rModel = MSE(y_test, y_pred)"
   ]
  },
  {
   "cell_type": "code",
   "execution_count": 24,
   "id": "20c60ce1",
   "metadata": {},
   "outputs": [],
   "source": [
    "#mse_rModel"
   ]
  },
  {
   "cell_type": "code",
   "execution_count": 25,
   "id": "c9050fef",
   "metadata": {},
   "outputs": [],
   "source": [
    "#Root Mean Squared Error"
   ]
  },
  {
   "cell_type": "code",
   "execution_count": 26,
   "id": "1861027b",
   "metadata": {},
   "outputs": [],
   "source": [
    "#rmse_rModel = mse_rModel**(1/2)"
   ]
  },
  {
   "cell_type": "code",
   "execution_count": 27,
   "id": "41a1b748",
   "metadata": {},
   "outputs": [],
   "source": [
    "#rmse_rModel"
   ]
  },
  {
   "cell_type": "markdown",
   "id": "5ebfcb4a",
   "metadata": {},
   "source": [
    "Linear regression model scoring"
   ]
  },
  {
   "cell_type": "code",
   "execution_count": 28,
   "id": "4bc15cd2",
   "metadata": {},
   "outputs": [
    {
     "data": {
      "text/plain": [
       "-0.005053879132344008"
      ]
     },
     "execution_count": 28,
     "metadata": {},
     "output_type": "execute_result"
    }
   ],
   "source": [
    "rModel_score = rModel.score(X_test, y_test)\n",
    "rModel_score"
   ]
  },
  {
   "cell_type": "code",
   "execution_count": 29,
   "id": "c1c135cd",
   "metadata": {},
   "outputs": [
    {
     "data": {
      "text/plain": [
       "array([ 0.26792068, -2.60296418, -0.08266262, -5.12115601, -1.72961695,\n",
       "        0.12408641, -3.62652903,  0.61303701,  0.77866743,  0.29976217,\n",
       "       -0.96858592,  0.70148366,  0.440599  , -2.96977989, -1.36125743,\n",
       "        0.87131802, -0.53109846, -8.25055969, -1.39151465,  0.77461467])"
      ]
     },
     "execution_count": 29,
     "metadata": {},
     "output_type": "execute_result"
    }
   ],
   "source": [
    "rModel_cross_val_score = (cross_val_score(rModel, X_test, y_test, cv = 20))\n",
    "rModel_cross_val_score"
   ]
  },
  {
   "cell_type": "code",
   "execution_count": 30,
   "id": "4d36b2a3",
   "metadata": {},
   "outputs": [
    {
     "data": {
      "text/plain": [
       "-8.250559693474933"
      ]
     },
     "execution_count": 30,
     "metadata": {},
     "output_type": "execute_result"
    }
   ],
   "source": [
    "rModel_cross_val_score_min = (cross_val_score(rModel, X_test, y_test, cv = 20)).min()\n",
    "rModel_cross_val_score_min"
   ]
  },
  {
   "cell_type": "code",
   "execution_count": 31,
   "id": "f558ac1a",
   "metadata": {},
   "outputs": [
    {
     "data": {
      "text/plain": [
       "0.8713180160695595"
      ]
     },
     "execution_count": 31,
     "metadata": {},
     "output_type": "execute_result"
    }
   ],
   "source": [
    "rModel_cross_val_score_max = (cross_val_score(rModel, X_test, y_test, cv = 20)).max()\n",
    "rModel_cross_val_score_max"
   ]
  },
  {
   "cell_type": "code",
   "execution_count": 32,
   "id": "100a01d8",
   "metadata": {},
   "outputs": [
    {
     "data": {
      "text/plain": [
       "-1.1882117907981142"
      ]
     },
     "execution_count": 32,
     "metadata": {},
     "output_type": "execute_result"
    }
   ],
   "source": [
    "rModel_cross_val_score_mean = (cross_val_score(rModel, X_test, y_test, cv = 20)).mean()\n",
    "rModel_cross_val_score_mean"
   ]
  },
  {
   "cell_type": "markdown",
   "id": "e69ea502",
   "metadata": {},
   "source": [
    "The models predictive accuracy is less than 1%, a high chance of a wrong prediction.\n",
    "\n",
    "The cross validation score, which evaluates and scores on 20 versions of the data. There is one instance where there is 87% accuracy. Better but not good."
   ]
  },
  {
   "cell_type": "markdown",
   "id": "1a5b60a7",
   "metadata": {},
   "source": [
    "Comparing test data to the training data."
   ]
  },
  {
   "cell_type": "code",
   "execution_count": 33,
   "id": "d5e0bceb",
   "metadata": {},
   "outputs": [
    {
     "data": {
      "text/plain": [
       "0.459703896647058"
      ]
     },
     "execution_count": 33,
     "metadata": {},
     "output_type": "execute_result"
    }
   ],
   "source": [
    "rModel_score_train = rModel.score(X_train, y_train)\n",
    "rModel_score_train"
   ]
  },
  {
   "cell_type": "code",
   "execution_count": 34,
   "id": "4e2bcd74",
   "metadata": {},
   "outputs": [
    {
     "data": {
      "text/plain": [
       "array([  0.61251563,  -4.76059077,   0.14218092,   0.16600076,\n",
       "        -0.68140789,  -3.40004635,   0.31358973,   0.27650463,\n",
       "         0.3069905 ,   0.4963321 ,  -0.61241393,   0.32887738,\n",
       "        -8.67957383, -25.69140596,  -0.66765158,   0.37166449,\n",
       "        -0.04068492,  -0.67949414,   0.23818458,   0.49252122])"
      ]
     },
     "execution_count": 34,
     "metadata": {},
     "output_type": "execute_result"
    }
   ],
   "source": [
    "rModel_cross_val_score_train = (cross_val_score(rModel, X_train, y_train, cv = 20))\n",
    "rModel_cross_val_score_train"
   ]
  },
  {
   "cell_type": "code",
   "execution_count": 35,
   "id": "08500e58",
   "metadata": {},
   "outputs": [
    {
     "data": {
      "text/plain": [
       "-25.691405960037525"
      ]
     },
     "execution_count": 35,
     "metadata": {},
     "output_type": "execute_result"
    }
   ],
   "source": [
    "rModel_cross_val_score_train_min = (cross_val_score(rModel, X_train, y_train, cv = 20)).min()\n",
    "rModel_cross_val_score_train_min"
   ]
  },
  {
   "cell_type": "code",
   "execution_count": 36,
   "id": "2e057603",
   "metadata": {},
   "outputs": [
    {
     "data": {
      "text/plain": [
       "0.6125156318011482"
      ]
     },
     "execution_count": 36,
     "metadata": {},
     "output_type": "execute_result"
    }
   ],
   "source": [
    "rModel_cross_val_score_train_max = (cross_val_score(rModel, X_train, y_train, cv = 20)).max()\n",
    "rModel_cross_val_score_train_max"
   ]
  },
  {
   "cell_type": "code",
   "execution_count": 37,
   "id": "175e3496",
   "metadata": {},
   "outputs": [
    {
     "data": {
      "text/plain": [
       "-2.073395370679537"
      ]
     },
     "execution_count": 37,
     "metadata": {},
     "output_type": "execute_result"
    }
   ],
   "source": [
    "rModel_cross_val_score_train_mean = (cross_val_score(rModel, X_train, y_train, cv = 20)).mean()\n",
    "rModel_cross_val_score_train_mean"
   ]
  },
  {
   "cell_type": "markdown",
   "id": "7c9aaa1b",
   "metadata": {},
   "source": [
    "The linear regression model train data has a bettor score than the test data, but has less when it comes to the max value.  "
   ]
  },
  {
   "cell_type": "markdown",
   "id": "acf41da1",
   "metadata": {},
   "source": [
    "### The relatively low scores on the linear regression model indicate that the features do not have enough predictive power to make an accurate prediction.  "
   ]
  },
  {
   "cell_type": "markdown",
   "id": "8bd9c764",
   "metadata": {},
   "source": [
    "# Decision Tree Regressor"
   ]
  },
  {
   "cell_type": "code",
   "execution_count": 38,
   "id": "4f1316dc",
   "metadata": {},
   "outputs": [],
   "source": [
    "dtr = DecisionTreeRegressor(max_depth =4, min_samples_leaf= 0.1, random_state=3)"
   ]
  },
  {
   "cell_type": "code",
   "execution_count": 39,
   "id": "8a46bed5",
   "metadata": {},
   "outputs": [
    {
     "data": {
      "text/plain": [
       "DecisionTreeRegressor(max_depth=4, min_samples_leaf=0.1, random_state=3)"
      ]
     },
     "execution_count": 39,
     "metadata": {},
     "output_type": "execute_result"
    }
   ],
   "source": [
    "dtr.fit(X_train, y_train)"
   ]
  },
  {
   "cell_type": "code",
   "execution_count": 40,
   "id": "c26c4524",
   "metadata": {},
   "outputs": [],
   "source": [
    "y_predict = dtr.predict(X_test)"
   ]
  },
  {
   "cell_type": "markdown",
   "id": "49bb6a43",
   "metadata": {},
   "source": [
    "Mean Absolute Error"
   ]
  },
  {
   "cell_type": "code",
   "execution_count": 41,
   "id": "78e0ff61",
   "metadata": {},
   "outputs": [
    {
     "data": {
      "text/plain": [
       "3310.8856358511302"
      ]
     },
     "execution_count": 41,
     "metadata": {},
     "output_type": "execute_result"
    }
   ],
   "source": [
    "mae_dtr = mean_absolute_error(y_test, y_pred)\n",
    "mae_dtr"
   ]
  },
  {
   "cell_type": "markdown",
   "id": "4d7aa18f",
   "metadata": {},
   "source": [
    "Model Scoring"
   ]
  },
  {
   "cell_type": "code",
   "execution_count": 42,
   "id": "647bf730",
   "metadata": {},
   "outputs": [
    {
     "data": {
      "text/plain": [
       "-1.9959332405320507"
      ]
     },
     "execution_count": 42,
     "metadata": {},
     "output_type": "execute_result"
    }
   ],
   "source": [
    "dtr_score = dtr.score(X_test, y_test)\n",
    "dtr_score"
   ]
  },
  {
   "cell_type": "code",
   "execution_count": 43,
   "id": "897992fc",
   "metadata": {},
   "outputs": [
    {
     "data": {
      "text/plain": [
       "array([  0.08930465,  -0.47971447,  -0.25178106,  -4.97493679,\n",
       "         0.91139121,  -0.12402203, -14.79628716,   0.83223892,\n",
       "        -1.13222844,   0.27693225,   0.67658453,   0.08342149,\n",
       "        -2.98095165,  -7.05574493,  -1.5257361 ,   0.08563086,\n",
       "        -0.1051766 ,  -3.45290734,  -4.074046  ,   0.78518683])"
      ]
     },
     "execution_count": 43,
     "metadata": {},
     "output_type": "execute_result"
    }
   ],
   "source": [
    "dtr_cross_val_score = cross_val_score(dtr, X_test, y_test, cv = 20)\n",
    "dtr_cross_val_score"
   ]
  },
  {
   "cell_type": "code",
   "execution_count": 44,
   "id": "ca590da3",
   "metadata": {},
   "outputs": [
    {
     "data": {
      "text/plain": [
       "-14.796287155308436"
      ]
     },
     "execution_count": 44,
     "metadata": {},
     "output_type": "execute_result"
    }
   ],
   "source": [
    "dtr_cross_val_score_min = cross_val_score(dtr, X_test, y_test, cv = 20).min()\n",
    "dtr_cross_val_score_min"
   ]
  },
  {
   "cell_type": "code",
   "execution_count": 45,
   "id": "9cffce09",
   "metadata": {},
   "outputs": [
    {
     "data": {
      "text/plain": [
       "0.9113912083028579"
      ]
     },
     "execution_count": 45,
     "metadata": {},
     "output_type": "execute_result"
    }
   ],
   "source": [
    "dtr_cross_val_score_max = cross_val_score(dtr, X_test, y_test, cv = 20).max()\n",
    "dtr_cross_val_score_max"
   ]
  },
  {
   "cell_type": "code",
   "execution_count": 46,
   "id": "29ed6f21",
   "metadata": {},
   "outputs": [
    {
     "data": {
      "text/plain": [
       "-1.8606420916095054"
      ]
     },
     "execution_count": 46,
     "metadata": {},
     "output_type": "execute_result"
    }
   ],
   "source": [
    "dtr_cross_val_score_mean = cross_val_score(dtr, X_test, y_test, cv = 20).mean()\n",
    "dtr_cross_val_score_mean"
   ]
  },
  {
   "cell_type": "markdown",
   "id": "f2d286f1",
   "metadata": {},
   "source": [
    "The test data does not have an accurate predictive score, however there is an irritation in the cross value score where it performs at 91% accuracy.  "
   ]
  },
  {
   "cell_type": "markdown",
   "id": "c8c1ceeb",
   "metadata": {},
   "source": [
    "Comparing the training data"
   ]
  },
  {
   "cell_type": "code",
   "execution_count": 47,
   "id": "8237bf8c",
   "metadata": {},
   "outputs": [
    {
     "data": {
      "text/plain": [
       "0.32213003694857156"
      ]
     },
     "execution_count": 47,
     "metadata": {},
     "output_type": "execute_result"
    }
   ],
   "source": [
    "dtr_score_train = dtr.score(X_train, y_train)\n",
    "dtr_score_train"
   ]
  },
  {
   "cell_type": "code",
   "execution_count": 48,
   "id": "873c8701",
   "metadata": {},
   "outputs": [
    {
     "data": {
      "text/plain": [
       "array([ 1.85248397e-01, -2.01184282e+01,  6.29998428e-02,  1.67461432e-02,\n",
       "        2.98972159e-01, -2.87961023e+00,  5.37869930e-01,  8.52648544e-01,\n",
       "        2.40201225e-01,  2.31928007e-01, -3.26620842e+00,  6.85881230e-01,\n",
       "       -1.80124983e+01, -2.34534218e+01,  3.69981160e-01,  3.06232044e-01,\n",
       "       -5.16221745e+00, -5.32009862e-01,  2.92653083e-01,  5.20728085e-01])"
      ]
     },
     "execution_count": 48,
     "metadata": {},
     "output_type": "execute_result"
    }
   ],
   "source": [
    "dtr_cross_val_score_train = (cross_val_score(dtr, X_train, y_train, cv = 20))\n",
    "dtr_cross_val_score_train"
   ]
  },
  {
   "cell_type": "code",
   "execution_count": 49,
   "id": "d277e537",
   "metadata": {},
   "outputs": [
    {
     "data": {
      "text/plain": [
       "-23.453421793893078"
      ]
     },
     "execution_count": 49,
     "metadata": {},
     "output_type": "execute_result"
    }
   ],
   "source": [
    "dtr_cross_val_score_train_min = (cross_val_score(dtr, X_train, y_train, cv = 20)).min()\n",
    "dtr_cross_val_score_train_min"
   ]
  },
  {
   "cell_type": "code",
   "execution_count": 50,
   "id": "3a7ab42b",
   "metadata": {},
   "outputs": [
    {
     "data": {
      "text/plain": [
       "0.8526485442710794"
      ]
     },
     "execution_count": 50,
     "metadata": {},
     "output_type": "execute_result"
    }
   ],
   "source": [
    "dtr_cross_val_score_train_max = (cross_val_score(dtr, X_train, y_train, cv = 20)).max()\n",
    "dtr_cross_val_score_train_max"
   ]
  },
  {
   "cell_type": "code",
   "execution_count": 51,
   "id": "43834e9b",
   "metadata": {},
   "outputs": [
    {
     "data": {
      "text/plain": [
       "-3.441115218851368"
      ]
     },
     "execution_count": 51,
     "metadata": {},
     "output_type": "execute_result"
    }
   ],
   "source": [
    "dtr_cross_val_score_train_mean = (cross_val_score(dtr, X_train, y_train, cv = 20)).mean()\n",
    "dtr_cross_val_score_train_mean"
   ]
  },
  {
   "cell_type": "markdown",
   "id": "e05d6d97",
   "metadata": {},
   "source": [
    "### The training data scores are slightly better; however the  train max value is at 85% compared to the test at 91%.  With the minimum values being very far from 0 on both the test and train data, the decision tree model is probably not the best when trying to predict future costs.  "
   ]
  },
  {
   "cell_type": "markdown",
   "id": "44999369",
   "metadata": {},
   "source": [
    "# Random Forest"
   ]
  },
  {
   "cell_type": "code",
   "execution_count": 52,
   "id": "c90e8159",
   "metadata": {},
   "outputs": [],
   "source": [
    "from sklearn.ensemble import RandomForestRegressor"
   ]
  },
  {
   "cell_type": "code",
   "execution_count": 53,
   "id": "ca28ffbb",
   "metadata": {},
   "outputs": [
    {
     "data": {
      "text/plain": [
       "RandomForestRegressor()"
      ]
     },
     "execution_count": 53,
     "metadata": {},
     "output_type": "execute_result"
    }
   ],
   "source": [
    "rfr = RandomForestRegressor(n_estimators=100)\n",
    "rfr.fit(X_train, np.ravel(y_train))"
   ]
  },
  {
   "cell_type": "code",
   "execution_count": 54,
   "id": "49819ca9",
   "metadata": {},
   "outputs": [],
   "source": [
    "y_pred = rfr.predict(X_test)"
   ]
  },
  {
   "cell_type": "markdown",
   "id": "367a8286",
   "metadata": {},
   "source": [
    "Mean Absolute Error"
   ]
  },
  {
   "cell_type": "code",
   "execution_count": 55,
   "id": "843a2b66",
   "metadata": {},
   "outputs": [
    {
     "data": {
      "text/plain": [
       "2805.3670229863224"
      ]
     },
     "execution_count": 55,
     "metadata": {},
     "output_type": "execute_result"
    }
   ],
   "source": [
    "mae_rfr = mean_absolute_error(y_test, y_pred)\n",
    "mae_rfr"
   ]
  },
  {
   "cell_type": "markdown",
   "id": "e88f04bb",
   "metadata": {},
   "source": [
    "Model Scoring"
   ]
  },
  {
   "cell_type": "code",
   "execution_count": 56,
   "id": "edd415ff",
   "metadata": {},
   "outputs": [
    {
     "data": {
      "text/plain": [
       "0.1990190936950973"
      ]
     },
     "execution_count": 56,
     "metadata": {},
     "output_type": "execute_result"
    }
   ],
   "source": [
    "rfr_score = rfr.score(X_test, y_test)\n",
    "rfr_score"
   ]
  },
  {
   "cell_type": "code",
   "execution_count": 57,
   "id": "4f02436e",
   "metadata": {},
   "outputs": [
    {
     "data": {
      "text/plain": [
       "array([ 0.29965639, -0.3397679 ,  0.14625887, -1.30330095,  0.32770325,\n",
       "        0.29368656, -4.32353311, -0.74764611,  0.02662777,  0.383508  ,\n",
       "        0.11895604,  0.53501013, -1.68759961, -0.08979674,  0.3791891 ,\n",
       "        0.75637989,  0.12664757, -6.54544907, -1.74602948,  0.79307797])"
      ]
     },
     "execution_count": 57,
     "metadata": {},
     "output_type": "execute_result"
    }
   ],
   "source": [
    "rfr_cross_val_score = cross_val_score(rfr, X_test, np.ravel(y_test), cv = 20)\n",
    "rfr_cross_val_score"
   ]
  },
  {
   "cell_type": "code",
   "execution_count": 58,
   "id": "04736de6",
   "metadata": {},
   "outputs": [
    {
     "data": {
      "text/plain": [
       "-4.98829070180417"
      ]
     },
     "execution_count": 58,
     "metadata": {},
     "output_type": "execute_result"
    }
   ],
   "source": [
    "rfr_cross_val_score_min = cross_val_score(rfr, X_test, np.ravel(y_test), cv = 20).min()\n",
    "rfr_cross_val_score_min"
   ]
  },
  {
   "cell_type": "code",
   "execution_count": 59,
   "id": "c4a61dd2",
   "metadata": {},
   "outputs": [
    {
     "data": {
      "text/plain": [
       "0.7714550866854445"
      ]
     },
     "execution_count": 59,
     "metadata": {},
     "output_type": "execute_result"
    }
   ],
   "source": [
    "rfr_cross_val_score_max = cross_val_score(rfr, X_test, np.ravel(y_test), cv = 20).max()\n",
    "rfr_cross_val_score_max"
   ]
  },
  {
   "cell_type": "code",
   "execution_count": 60,
   "id": "f070efdf",
   "metadata": {},
   "outputs": [
    {
     "data": {
      "text/plain": [
       "-0.6700722283667924"
      ]
     },
     "execution_count": 60,
     "metadata": {},
     "output_type": "execute_result"
    }
   ],
   "source": [
    "rfr_cross_val_score_mean = cross_val_score(rfr, X_test, np.ravel(y_test), cv = 20).mean()\n",
    "rfr_cross_val_score_mean"
   ]
  },
  {
   "cell_type": "markdown",
   "id": "db81573e",
   "metadata": {},
   "source": [
    "Like the decision tree, the test data does not have an accurate predictive score, however there is an irritation in the cross value score where it performs at 76% accuracy.  There are higher cross value scores in the random forest compared to the decision tree. "
   ]
  },
  {
   "cell_type": "markdown",
   "id": "372a4e64",
   "metadata": {},
   "source": [
    "Comparing trining data"
   ]
  },
  {
   "cell_type": "code",
   "execution_count": 61,
   "id": "22f9457c",
   "metadata": {},
   "outputs": [
    {
     "data": {
      "text/plain": [
       "0.9228425534769221"
      ]
     },
     "execution_count": 61,
     "metadata": {},
     "output_type": "execute_result"
    }
   ],
   "source": [
    "rfr_score_train = rfr.score(X_train, y_train)\n",
    "rfr_score_train"
   ]
  },
  {
   "cell_type": "code",
   "execution_count": 62,
   "id": "db1769bc",
   "metadata": {},
   "outputs": [
    {
     "data": {
      "text/plain": [
       "array([ 0.47724517, -3.65794423,  0.41286165,  0.05454997,  0.75367064,\n",
       "       -1.43903214,  0.95758112,  0.60771079, -0.44402017,  0.38733094,\n",
       "        0.15677061,  0.47312992, -2.30885225, -7.92657033, -0.13039341,\n",
       "        0.90851323, -0.18575669,  0.0906368 ,  0.69917099, -1.23425016])"
      ]
     },
     "execution_count": 62,
     "metadata": {},
     "output_type": "execute_result"
    }
   ],
   "source": [
    "rfr_cross_val_score_train = (cross_val_score(rfr, X_train, np.ravel(y_train), cv = 20))\n",
    "rfr_cross_val_score_train"
   ]
  },
  {
   "cell_type": "code",
   "execution_count": 63,
   "id": "4912612b",
   "metadata": {},
   "outputs": [
    {
     "data": {
      "text/plain": [
       "-7.3665555041980415"
      ]
     },
     "execution_count": 63,
     "metadata": {},
     "output_type": "execute_result"
    }
   ],
   "source": [
    "rfr_cross_val_score_train_min = (cross_val_score(rfr, X_train, np.ravel(y_train), cv = 20)).min()\n",
    "rfr_cross_val_score_train_min"
   ]
  },
  {
   "cell_type": "code",
   "execution_count": 64,
   "id": "587f034f",
   "metadata": {},
   "outputs": [
    {
     "data": {
      "text/plain": [
       "0.9413978683905182"
      ]
     },
     "execution_count": 64,
     "metadata": {},
     "output_type": "execute_result"
    }
   ],
   "source": [
    "rfr_cross_val_score_train_max = (cross_val_score(rfr, X_train, np.ravel(y_train), cv = 20)).max()\n",
    "rfr_cross_val_score_train_max"
   ]
  },
  {
   "cell_type": "code",
   "execution_count": 65,
   "id": "85ed3c68",
   "metadata": {},
   "outputs": [
    {
     "data": {
      "text/plain": [
       "-0.5596075818498933"
      ]
     },
     "execution_count": 65,
     "metadata": {},
     "output_type": "execute_result"
    }
   ],
   "source": [
    "rfr_cross_val_score_train_mean = (cross_val_score(rfr, X_train, np.ravel(y_train), cv = 20)).mean()\n",
    "rfr_cross_val_score_train_mean"
   ]
  },
  {
   "cell_type": "markdown",
   "id": "9c793f70",
   "metadata": {},
   "source": [
    "The training data scored higher on both the score and had multiple instances over 50% accuracy. "
   ]
  },
  {
   "cell_type": "markdown",
   "id": "7abbffee",
   "metadata": {},
   "source": [
    "### The Random Forest model has both a good model score and good cross value scores.  Most of the scores are close to 0."
   ]
  },
  {
   "cell_type": "markdown",
   "id": "a8d10db0",
   "metadata": {},
   "source": [
    "# Comparing the models"
   ]
  },
  {
   "cell_type": "code",
   "execution_count": 66,
   "id": "ea80b3a2",
   "metadata": {},
   "outputs": [
    {
     "data": {
      "image/png": "[encoded data removed]",
      "text/plain": [
       "<Figure size 432x288 with 1 Axes>"
      ]
     },
     "metadata": {
      "needs_background": "light"
     },
     "output_type": "display_data"
    }
   ],
   "source": [
    "fig, ax = plt.subplots()\n",
    "\n",
    "model_scores = ['model score', 'CV Mean', 'CV Min', 'CV Max']\n",
    "counts = [rModel_score, rModel_cross_val_score_mean, rModel_cross_val_score_min, rModel_cross_val_score_max]\n",
    "bar_labels = ['score', 'mean', 'Min', 'Max']\n",
    "bar_colors = ['tab:red', 'tab:blue', 'tab:green', 'tab:orange']\n",
    "\n",
    "\n",
    "ax.bar(model_scores, counts, label=bar_labels, color=bar_colors)\n",
    "\n",
    "ax.set_ylabel('model score')\n",
    "ax.set_title('Linear regression')\n",
    "ax.legend(title='model score type')\n",
    "\n",
    "plt.show()"
   ]
  },
  {
   "cell_type": "code",
   "execution_count": 67,
   "id": "503e3aa5",
   "metadata": {},
   "outputs": [
    {
     "data": {
      "image/png": "[encoded data removed]",
      "text/plain": [
       "<Figure size 432x288 with 1 Axes>"
      ]
     },
     "metadata": {
      "needs_background": "light"
     },
     "output_type": "display_data"
    }
   ],
   "source": [
    "fig, ax = plt.subplots()\n",
    "\n",
    "model_scores = ['model score', 'CV Mean', 'CV Min', 'CV Max']\n",
    "counts = [dtr_score, dtr_cross_val_score_mean, dtr_cross_val_score_min, dtr_cross_val_score_max]\n",
    "bar_labels = ['score', 'mean', 'Min', 'Max']\n",
    "bar_colors = ['tab:red', 'tab:blue', 'tab:green', 'tab:orange']\n",
    "\n",
    "ax.bar(model_scores, counts, label=bar_labels, color=bar_colors)\n",
    "\n",
    "ax.set_ylabel('model score')\n",
    "ax.set_title('Decision Tree Regressor')\n",
    "ax.legend(title='model score type')\n",
    "\n",
    "plt.show()"
   ]
  },
  {
   "cell_type": "code",
   "execution_count": 68,
   "id": "0dd32b39",
   "metadata": {},
   "outputs": [
    {
     "data": {
      "image/png": "[encoded data removed]",
      "text/plain": [
       "<Figure size 432x288 with 1 Axes>"
      ]
     },
     "metadata": {
      "needs_background": "light"
     },
     "output_type": "display_data"
    }
   ],
   "source": [
    "fig, ax = plt.subplots()\n",
    "\n",
    "model_scores = ['model score', 'CV Mean', 'CV Min', 'CV Max']\n",
    "counts = [rfr_score, rfr_cross_val_score_mean, rfr_cross_val_score_min, rfr_cross_val_score_max]\n",
    "bar_labels = ['score', 'mean', 'Min', 'Max']\n",
    "bar_colors = ['tab:red', 'tab:blue', 'tab:green', 'tab:orange']\n",
    "\n",
    "ax.bar(model_scores, counts, label=bar_labels, color=bar_colors)\n",
    "\n",
    "ax.set_ylabel('model score')\n",
    "ax.set_title('Random Forest Regressor')\n",
    "ax.legend(title='model score type')\n",
    "\n",
    "plt.show()"
   ]
  },
  {
   "cell_type": "code",
   "execution_count": 69,
   "id": "9ed99313",
   "metadata": {},
   "outputs": [
    {
     "name": "stdout",
     "output_type": "stream",
     "text": [
      "       ML Model Test  Model accuracy test score\n",
      "0  Linear Regression                  -0.005054\n",
      "1      Decision Tree                  -1.995933\n",
      "2      Random Forest                   0.199019\n"
     ]
    },
    {
     "data": {
      "text/html": [
       "<div>\n",
       "<style scoped>\n",
       "    .dataframe tbody tr th:only-of-type {\n",
       "        vertical-align: middle;\n",
       "    }\n",
       "\n",
       "    .dataframe tbody tr th {\n",
       "        vertical-align: top;\n",
       "    }\n",
       "\n",
       "    .dataframe thead th {\n",
       "        text-align: right;\n",
       "    }\n",
       "</style>\n",
       "<table border=\"1\" class=\"dataframe\">\n",
       "  <thead>\n",
       "    <tr style=\"text-align: right;\">\n",
       "      <th></th>\n",
       "      <th>ML Model</th>\n",
       "      <th>Mean</th>\n",
       "      <th>Min</th>\n",
       "      <th>Max</th>\n",
       "    </tr>\n",
       "  </thead>\n",
       "  <tbody>\n",
       "    <tr>\n",
       "      <th>0</th>\n",
       "      <td>Linear Regression</td>\n",
       "      <td>-1.188212</td>\n",
       "      <td>-8.250560</td>\n",
       "      <td>0.871318</td>\n",
       "    </tr>\n",
       "    <tr>\n",
       "      <th>1</th>\n",
       "      <td>Decision Tree</td>\n",
       "      <td>-1.860642</td>\n",
       "      <td>-14.796287</td>\n",
       "      <td>-1.860642</td>\n",
       "    </tr>\n",
       "    <tr>\n",
       "      <th>2</th>\n",
       "      <td>Random Forest</td>\n",
       "      <td>-0.670072</td>\n",
       "      <td>-4.988291</td>\n",
       "      <td>0.771455</td>\n",
       "    </tr>\n",
       "  </tbody>\n",
       "</table>\n",
       "</div>"
      ],
      "text/plain": [
       "            ML Model      Mean        Min       Max\n",
       "0  Linear Regression -1.188212  -8.250560  0.871318\n",
       "1      Decision Tree -1.860642 -14.796287 -1.860642\n",
       "2      Random Forest -0.670072  -4.988291  0.771455"
      ]
     },
     "execution_count": 69,
     "metadata": {},
     "output_type": "execute_result"
    }
   ],
   "source": [
    "myLabels = [ 'Linear Regression','Decision Tree','Random Forest']\n",
    "model_score= [  rModel_score,dtr_score, rfr_score]\n",
    "cross_val_score_mean = [ rModel_cross_val_score_mean, dtr_cross_val_score_mean, rfr_cross_val_score_mean]\n",
    "cross_val_score_min = [ rModel_cross_val_score_min, dtr_cross_val_score_min, rfr_cross_val_score_min]\n",
    "cross_val_score_max = [ rModel_cross_val_score_max, dtr_cross_val_score_mean, rfr_cross_val_score_max]\n",
    "\n",
    "\n",
    "score_tab_acc = pd.DataFrame(list(zip(myLabels, model_score)), \n",
    "               columns =['ML Model Test', 'Model accuracy test score']) \n",
    "\n",
    "score_tab = pd.DataFrame(list(zip(myLabels, cross_val_score_mean, cross_val_score_min, cross_val_score_max)), \n",
    "               columns =['ML Model', 'Mean', 'Min', 'Max' ]) \n",
    "print(score_tab_acc)\n",
    "\n",
    "score_tab"
   ]
  },
  {
   "cell_type": "code",
   "execution_count": 70,
   "id": "fb86c36b",
   "metadata": {},
   "outputs": [
    {
     "name": "stdout",
     "output_type": "stream",
     "text": [
      "      ML Model Train  Model accuracy train score\n",
      "0  Linear Regression                    0.459704\n",
      "1      Decision Tree                    0.322130\n",
      "2      Random Forest                    0.922843\n"
     ]
    },
    {
     "data": {
      "text/html": [
       "<div>\n",
       "<style scoped>\n",
       "    .dataframe tbody tr th:only-of-type {\n",
       "        vertical-align: middle;\n",
       "    }\n",
       "\n",
       "    .dataframe tbody tr th {\n",
       "        vertical-align: top;\n",
       "    }\n",
       "\n",
       "    .dataframe thead th {\n",
       "        text-align: right;\n",
       "    }\n",
       "</style>\n",
       "<table border=\"1\" class=\"dataframe\">\n",
       "  <thead>\n",
       "    <tr style=\"text-align: right;\">\n",
       "      <th></th>\n",
       "      <th>ML Model</th>\n",
       "      <th>Mean</th>\n",
       "      <th>Min</th>\n",
       "      <th>Max</th>\n",
       "    </tr>\n",
       "  </thead>\n",
       "  <tbody>\n",
       "    <tr>\n",
       "      <th>0</th>\n",
       "      <td>Linear Regression</td>\n",
       "      <td>-2.073395</td>\n",
       "      <td>-25.691406</td>\n",
       "      <td>0.612516</td>\n",
       "    </tr>\n",
       "    <tr>\n",
       "      <th>1</th>\n",
       "      <td>Decision Tree</td>\n",
       "      <td>-3.441115</td>\n",
       "      <td>-23.453422</td>\n",
       "      <td>-3.441115</td>\n",
       "    </tr>\n",
       "    <tr>\n",
       "      <th>2</th>\n",
       "      <td>Random Forest</td>\n",
       "      <td>-0.559608</td>\n",
       "      <td>-7.366556</td>\n",
       "      <td>0.941398</td>\n",
       "    </tr>\n",
       "  </tbody>\n",
       "</table>\n",
       "</div>"
      ],
      "text/plain": [
       "            ML Model      Mean        Min       Max\n",
       "0  Linear Regression -2.073395 -25.691406  0.612516\n",
       "1      Decision Tree -3.441115 -23.453422 -3.441115\n",
       "2      Random Forest -0.559608  -7.366556  0.941398"
      ]
     },
     "execution_count": 70,
     "metadata": {},
     "output_type": "execute_result"
    }
   ],
   "source": [
    "myLabels = [ 'Linear Regression','Decision Tree','Random Forest']\n",
    "model_score= [  rModel_score_train,dtr_score_train, rfr_score_train]\n",
    "cross_val_score_mean = [ rModel_cross_val_score_train_mean, dtr_cross_val_score_train_mean, rfr_cross_val_score_train_mean]\n",
    "cross_val_score_min = [ rModel_cross_val_score_train_min, dtr_cross_val_score_train_min, rfr_cross_val_score_train_min]\n",
    "cross_val_score_max = [ rModel_cross_val_score_train_max, dtr_cross_val_score_train_mean, rfr_cross_val_score_train_max]\n",
    "\n",
    "\n",
    "score_tab_acc = pd.DataFrame(list(zip(myLabels, model_score)), \n",
    "               columns =['ML Model Train', 'Model accuracy train score']) \n",
    "\n",
    "score_tab = pd.DataFrame(list(zip(myLabels, cross_val_score_mean, cross_val_score_min, cross_val_score_max)), \n",
    "               columns =['ML Model', 'Mean', 'Min', 'Max' ]) \n",
    "print(score_tab_acc)\n",
    "\n",
    "score_tab"
   ]
  },
  {
   "cell_type": "code",
   "execution_count": 88,
   "id": "6be60380",
   "metadata": {},
   "outputs": [],
   "source": [
    "myLabels = [ 'Linear Regression','Decision Tree','Random Forest']\n",
    "score_test= [  rModel_score,dtr_score, rfr_score]\n",
    "score_train=[  rModel_score_train,dtr_score_train, rfr_score_train]\n",
    "cross_val_score=[ rModel_cross_val_score_max, dtr_cross_val_score_max, rfr_cross_val_score_max]\n",
    "#cross_val_score2=[ rModel_cross_val_score_min, dtr_cross_val_score_min, rfr_cross_val_score_min]\n",
    "#cross_val_score3=[ rModel_cross_val_score_mean, dtr_cross_val_score_mean, rfr_cross_val_score_mean]"
   ]
  },
  {
   "cell_type": "code",
   "execution_count": 90,
   "id": "67d9e78d",
   "metadata": {},
   "outputs": [
    {
     "data": {
      "image/png": "[encoded data removed]",
      "text/plain": [
       "<Figure size 720x360 with 1 Axes>"
      ]
     },
     "metadata": {
      "needs_background": "light"
     },
     "output_type": "display_data"
    },
    {
     "data": {
      "image/png": "[encoded data removed]",
      "text/plain": [
       "<Figure size 720x360 with 1 Axes>"
      ]
     },
     "metadata": {
      "needs_background": "light"
     },
     "output_type": "display_data"
    }
   ],
   "source": [
    "index=[1,2,3]\n",
    "index_acc=[1.2,2.2,3.2]\n",
    "plt.figure(figsize=(10,5))\n",
    "plt.xlabel('Models',fontsize=15)\n",
    "plt.ylabel ('Model cross value scores Max',fontsize=15)\n",
    "plt.title('Comparison of the algorithms',fontsize=15)\n",
    "#patterns = [ \"/\"]\n",
    "_=plt.bar(index_acc,cross_val_score,color='lime',alpha=0.8,label='Accuracy score',edgecolor='k',width=0.3)\n",
    "#_=plt.bar(index_acc,cross_val_score2,color='g',alpha=0.8,label='Accuracy score',edgecolor='k',width=0.3)\n",
    "#_=plt.bar(index_acc,cross_val_score3,color='darkgreen',alpha=0.8,label='Accuracy score',edgecolor='k',width=0.3)\n",
    "plt.xticks([1, 2,3], myLabels)\n",
    "plt.legend()\n",
    "#plt.savefig(\"26.png\")\n",
    "plt.show()\n",
    "\n",
    "#plotting and comparing ROC-AUC train/test scores:\n",
    "\n",
    "index=[1,2,3]\n",
    "index_acc=[1.2,2.2,3.2]\n",
    "plt.figure(figsize=(10,5))\n",
    "plt.xlabel('Models',fontsize=15)\n",
    "plt.ylabel ('Model scores test/train',fontsize=15)\n",
    "plt.title('Comparison of the algorithms',fontsize=15)\n",
    "_=plt.bar(index,score_train,color='midnightblue',alpha=0.6,label='Training score',edgecolor='k',width=0.2)\n",
    "_=plt.bar(index_acc,score_test,color='skyblue',alpha=0.8,label='Test score',edgecolor='k',width=0.2)\n",
    "plt.xticks([1, 2,3], myLabels)\n",
    "plt.legend()\n",
    "#plt.savefig(\"27.png\")\n",
    "plt.show()"
   ]
  },
  {
   "cell_type": "markdown",
   "id": "cea0c61a",
   "metadata": {},
   "source": [
    "## In conclusion, I believe the random forest machine learning model is the best for predicting the data. The random forest regressor had positive model scores, in particular, with the training data. It combines multiple decision trees into a single model. It uses 100 decision tree models to make final predictions based on the average of the individual trees. In this model the overall score for the test data is .84 which is great for predictive accuracy. In the cross value score, there were multiple scores over 70%, another good sign. In the bar graph the mean, min and max bars are all very close to 1 and both the test and train data are over 0. The train data also scored very high with a prediction score of .92."
   ]
  },
  {
   "cell_type": "code",
   "execution_count": null,
   "id": "e83f56bc",
   "metadata": {},
   "outputs": [],
   "source": []
  }
 ],
 "metadata": {
  "kernelspec": {
   "display_name": "PythonData",
   "language": "python",
   "name": "pythondata"
  },
  "language_info": {
   "codemirror_mode": {
    "name": "ipython",
    "version": 3
   },
   "file_extension": ".py",
   "mimetype": "text/x-python",
   "name": "python",
   "nbconvert_exporter": "python",
   "pygments_lexer": "ipython3",
   "version": "3.7.10"
  }
 },
 "nbformat": 4,
 "nbformat_minor": 5
}
