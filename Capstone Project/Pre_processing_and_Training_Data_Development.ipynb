{
 "cells": [
  {
   "cell_type": "code",
   "execution_count": 1,
   "id": "96d290f1",
   "metadata": {},
   "outputs": [],
   "source": [
    "import os\n",
    "import pandas as pd\n",
    "from datetime import datetime\n",
    "import matplotlib.pyplot as plt \n",
    "import seaborn as sns\n",
    "import numpy as np\n",
    "import plotly.express as px"
   ]
  },
  {
   "cell_type": "code",
   "execution_count": 2,
   "id": "615aee46",
   "metadata": {},
   "outputs": [],
   "source": [
    "import statsmodels.api as sm \n",
    "from statsmodels.graphics.api import abline_plot \n",
    "from sklearn.metrics import mean_squared_error, r2_score \n",
    "from sklearn.model_selection import train_test_split \n",
    "from sklearn import linear_model, preprocessing \n",
    "from sklearn.preprocessing import StandardScaler\n",
    "import warnings "
   ]
  },
  {
   "cell_type": "markdown",
   "id": "2c48b025",
   "metadata": {},
   "source": [
    "# Reading CSV Data"
   ]
  },
  {
   "cell_type": "code",
   "execution_count": 3,
   "id": "fbc31259",
   "metadata": {},
   "outputs": [],
   "source": [
    "df1 = pd.read_csv('df1.csv' , index_col=0)\n"
   ]
  },
  {
   "cell_type": "code",
   "execution_count": 4,
   "id": "13ac3511",
   "metadata": {},
   "outputs": [
    {
     "data": {
      "text/html": [
       "<div>\n",
       "<style scoped>\n",
       "    .dataframe tbody tr th:only-of-type {\n",
       "        vertical-align: middle;\n",
       "    }\n",
       "\n",
       "    .dataframe tbody tr th {\n",
       "        vertical-align: top;\n",
       "    }\n",
       "\n",
       "    .dataframe thead th {\n",
       "        text-align: right;\n",
       "    }\n",
       "</style>\n",
       "<table border=\"1\" class=\"dataframe\">\n",
       "  <thead>\n",
       "    <tr style=\"text-align: right;\">\n",
       "      <th></th>\n",
       "      <th>Name</th>\n",
       "      <th>Disaster</th>\n",
       "      <th>Begin Date</th>\n",
       "      <th>End Date</th>\n",
       "      <th>Total CPI-Adjusted Cost (Millions of Dollars)</th>\n",
       "      <th>Deaths</th>\n",
       "      <th>year_only</th>\n",
       "      <th>number_of_days</th>\n",
       "    </tr>\n",
       "  </thead>\n",
       "  <tbody>\n",
       "    <tr>\n",
       "      <th>0</th>\n",
       "      <td>Southern Severe Storms and Flooding (April 1980)</td>\n",
       "      <td>Flooding</td>\n",
       "      <td>1980-04-10</td>\n",
       "      <td>1980-04-17</td>\n",
       "      <td>2678.6</td>\n",
       "      <td>7</td>\n",
       "      <td>1980</td>\n",
       "      <td>7</td>\n",
       "    </tr>\n",
       "    <tr>\n",
       "      <th>1</th>\n",
       "      <td>Hurricane Allen (August 1980)</td>\n",
       "      <td>Tropical Cyclone</td>\n",
       "      <td>1980-08-07</td>\n",
       "      <td>1980-08-11</td>\n",
       "      <td>2177.2</td>\n",
       "      <td>13</td>\n",
       "      <td>1980</td>\n",
       "      <td>4</td>\n",
       "    </tr>\n",
       "    <tr>\n",
       "      <th>2</th>\n",
       "      <td>Central/Eastern Drought/Heat Wave (Summer-Fall...</td>\n",
       "      <td>Drought</td>\n",
       "      <td>1980-06-01</td>\n",
       "      <td>1980-11-30</td>\n",
       "      <td>39579.0</td>\n",
       "      <td>1260</td>\n",
       "      <td>1980</td>\n",
       "      <td>182</td>\n",
       "    </tr>\n",
       "    <tr>\n",
       "      <th>3</th>\n",
       "      <td>Florida Freeze (January 1981)</td>\n",
       "      <td>Freeze</td>\n",
       "      <td>1981-01-12</td>\n",
       "      <td>1981-01-14</td>\n",
       "      <td>2019.2</td>\n",
       "      <td>0</td>\n",
       "      <td>1981</td>\n",
       "      <td>2</td>\n",
       "    </tr>\n",
       "    <tr>\n",
       "      <th>4</th>\n",
       "      <td>Severe Storms, Flash Floods, Hail, Tornadoes (...</td>\n",
       "      <td>Severe Storm</td>\n",
       "      <td>1981-05-05</td>\n",
       "      <td>1981-05-10</td>\n",
       "      <td>1372.9</td>\n",
       "      <td>20</td>\n",
       "      <td>1981</td>\n",
       "      <td>5</td>\n",
       "    </tr>\n",
       "  </tbody>\n",
       "</table>\n",
       "</div>"
      ],
      "text/plain": [
       "                                                Name          Disaster  \\\n",
       "0   Southern Severe Storms and Flooding (April 1980)          Flooding   \n",
       "1                      Hurricane Allen (August 1980)  Tropical Cyclone   \n",
       "2  Central/Eastern Drought/Heat Wave (Summer-Fall...           Drought   \n",
       "3                      Florida Freeze (January 1981)            Freeze   \n",
       "4  Severe Storms, Flash Floods, Hail, Tornadoes (...      Severe Storm   \n",
       "\n",
       "   Begin Date    End Date  Total CPI-Adjusted Cost (Millions of Dollars)  \\\n",
       "0  1980-04-10  1980-04-17                                         2678.6   \n",
       "1  1980-08-07  1980-08-11                                         2177.2   \n",
       "2  1980-06-01  1980-11-30                                        39579.0   \n",
       "3  1981-01-12  1981-01-14                                         2019.2   \n",
       "4  1981-05-05  1981-05-10                                         1372.9   \n",
       "\n",
       "   Deaths  year_only  number_of_days  \n",
       "0       7       1980               7  \n",
       "1      13       1980               4  \n",
       "2    1260       1980             182  \n",
       "3       0       1981               2  \n",
       "4      20       1981               5  "
      ]
     },
     "execution_count": 4,
     "metadata": {},
     "output_type": "execute_result"
    }
   ],
   "source": [
    "df1.head()"
   ]
  },
  {
   "cell_type": "code",
   "execution_count": 5,
   "id": "9b31b139",
   "metadata": {},
   "outputs": [
    {
     "data": {
      "text/html": [
       "<div>\n",
       "<style scoped>\n",
       "    .dataframe tbody tr th:only-of-type {\n",
       "        vertical-align: middle;\n",
       "    }\n",
       "\n",
       "    .dataframe tbody tr th {\n",
       "        vertical-align: top;\n",
       "    }\n",
       "\n",
       "    .dataframe thead th {\n",
       "        text-align: right;\n",
       "    }\n",
       "</style>\n",
       "<table border=\"1\" class=\"dataframe\">\n",
       "  <thead>\n",
       "    <tr style=\"text-align: right;\">\n",
       "      <th></th>\n",
       "      <th>state</th>\n",
       "      <th>drought</th>\n",
       "      <th>flooding</th>\n",
       "      <th>freeze</th>\n",
       "      <th>severe storm</th>\n",
       "      <th>tropical cyclone</th>\n",
       "      <th>wildfire</th>\n",
       "      <th>winter storm</th>\n",
       "    </tr>\n",
       "  </thead>\n",
       "  <tbody>\n",
       "    <tr>\n",
       "      <th>0</th>\n",
       "      <td>AK</td>\n",
       "      <td>0.0</td>\n",
       "      <td>0.0</td>\n",
       "      <td>0.0</td>\n",
       "      <td>0.0</td>\n",
       "      <td>0.0</td>\n",
       "      <td>2292.8</td>\n",
       "      <td>0.0</td>\n",
       "    </tr>\n",
       "    <tr>\n",
       "      <th>1</th>\n",
       "      <td>AL</td>\n",
       "      <td>6780.6</td>\n",
       "      <td>134.7</td>\n",
       "      <td>148.7</td>\n",
       "      <td>13894.8</td>\n",
       "      <td>26457.6</td>\n",
       "      <td>716.4</td>\n",
       "      <td>2377.1</td>\n",
       "    </tr>\n",
       "    <tr>\n",
       "      <th>2</th>\n",
       "      <td>AR</td>\n",
       "      <td>6651.0</td>\n",
       "      <td>4597.8</td>\n",
       "      <td>291.0</td>\n",
       "      <td>10216.5</td>\n",
       "      <td>706.4</td>\n",
       "      <td>0.0</td>\n",
       "      <td>1135.5</td>\n",
       "    </tr>\n",
       "    <tr>\n",
       "      <th>3</th>\n",
       "      <td>AZ</td>\n",
       "      <td>1486.5</td>\n",
       "      <td>1879.5</td>\n",
       "      <td>0.0</td>\n",
       "      <td>5358.0</td>\n",
       "      <td>0.0</td>\n",
       "      <td>1327.8</td>\n",
       "      <td>0.0</td>\n",
       "    </tr>\n",
       "    <tr>\n",
       "      <th>4</th>\n",
       "      <td>CA</td>\n",
       "      <td>16199.3</td>\n",
       "      <td>18798.3</td>\n",
       "      <td>15131.0</td>\n",
       "      <td>3445.4</td>\n",
       "      <td>0.0</td>\n",
       "      <td>98106.3</td>\n",
       "      <td>0.0</td>\n",
       "    </tr>\n",
       "  </tbody>\n",
       "</table>\n",
       "</div>"
      ],
      "text/plain": [
       "  state  drought  flooding   freeze  severe storm  tropical cyclone  wildfire  \\\n",
       "0    AK      0.0       0.0      0.0           0.0               0.0    2292.8   \n",
       "1    AL   6780.6     134.7    148.7       13894.8           26457.6     716.4   \n",
       "2    AR   6651.0    4597.8    291.0       10216.5             706.4       0.0   \n",
       "3    AZ   1486.5    1879.5      0.0        5358.0               0.0    1327.8   \n",
       "4    CA  16199.3   18798.3  15131.0        3445.4               0.0   98106.3   \n",
       "\n",
       "   winter storm  \n",
       "0           0.0  \n",
       "1        2377.1  \n",
       "2        1135.5  \n",
       "3           0.0  \n",
       "4           0.0  "
      ]
     },
     "execution_count": 5,
     "metadata": {},
     "output_type": "execute_result"
    }
   ],
   "source": [
    "df2 = pd.read_csv('df2.csv' , index_col=0)\n",
    "df2.head()"
   ]
  },
  {
   "cell_type": "code",
   "execution_count": 6,
   "id": "db022e58",
   "metadata": {},
   "outputs": [
    {
     "data": {
      "text/html": [
       "<div>\n",
       "<style scoped>\n",
       "    .dataframe tbody tr th:only-of-type {\n",
       "        vertical-align: middle;\n",
       "    }\n",
       "\n",
       "    .dataframe tbody tr th {\n",
       "        vertical-align: top;\n",
       "    }\n",
       "\n",
       "    .dataframe thead th {\n",
       "        text-align: right;\n",
       "    }\n",
       "</style>\n",
       "<table border=\"1\" class=\"dataframe\">\n",
       "  <thead>\n",
       "    <tr style=\"text-align: right;\">\n",
       "      <th></th>\n",
       "      <th>year</th>\n",
       "      <th>state</th>\n",
       "      <th>drought</th>\n",
       "      <th>flooding</th>\n",
       "      <th>freeze</th>\n",
       "      <th>severe storm</th>\n",
       "      <th>tropical cyclone</th>\n",
       "      <th>wildfire</th>\n",
       "      <th>winter storm</th>\n",
       "    </tr>\n",
       "  </thead>\n",
       "  <tbody>\n",
       "    <tr>\n",
       "      <th>0</th>\n",
       "      <td>1980</td>\n",
       "      <td>AK</td>\n",
       "      <td>0</td>\n",
       "      <td>0</td>\n",
       "      <td>0</td>\n",
       "      <td>0</td>\n",
       "      <td>0</td>\n",
       "      <td>0</td>\n",
       "      <td>0</td>\n",
       "    </tr>\n",
       "    <tr>\n",
       "      <th>1</th>\n",
       "      <td>1980</td>\n",
       "      <td>AL</td>\n",
       "      <td>1</td>\n",
       "      <td>0</td>\n",
       "      <td>0</td>\n",
       "      <td>0</td>\n",
       "      <td>0</td>\n",
       "      <td>0</td>\n",
       "      <td>0</td>\n",
       "    </tr>\n",
       "    <tr>\n",
       "      <th>2</th>\n",
       "      <td>1980</td>\n",
       "      <td>AR</td>\n",
       "      <td>1</td>\n",
       "      <td>1</td>\n",
       "      <td>0</td>\n",
       "      <td>0</td>\n",
       "      <td>0</td>\n",
       "      <td>0</td>\n",
       "      <td>0</td>\n",
       "    </tr>\n",
       "    <tr>\n",
       "      <th>3</th>\n",
       "      <td>1980</td>\n",
       "      <td>AZ</td>\n",
       "      <td>0</td>\n",
       "      <td>0</td>\n",
       "      <td>0</td>\n",
       "      <td>0</td>\n",
       "      <td>0</td>\n",
       "      <td>0</td>\n",
       "      <td>0</td>\n",
       "    </tr>\n",
       "    <tr>\n",
       "      <th>4</th>\n",
       "      <td>1980</td>\n",
       "      <td>CA</td>\n",
       "      <td>0</td>\n",
       "      <td>0</td>\n",
       "      <td>0</td>\n",
       "      <td>0</td>\n",
       "      <td>0</td>\n",
       "      <td>0</td>\n",
       "      <td>0</td>\n",
       "    </tr>\n",
       "  </tbody>\n",
       "</table>\n",
       "</div>"
      ],
      "text/plain": [
       "   year state  drought  flooding  freeze  severe storm  tropical cyclone  \\\n",
       "0  1980    AK        0         0       0             0                 0   \n",
       "1  1980    AL        1         0       0             0                 0   \n",
       "2  1980    AR        1         1       0             0                 0   \n",
       "3  1980    AZ        0         0       0             0                 0   \n",
       "4  1980    CA        0         0       0             0                 0   \n",
       "\n",
       "   wildfire  winter storm  \n",
       "0         0             0  \n",
       "1         0             0  \n",
       "2         0             0  \n",
       "3         0             0  \n",
       "4         0             0  "
      ]
     },
     "execution_count": 6,
     "metadata": {},
     "output_type": "execute_result"
    }
   ],
   "source": [
    "df3 = pd.read_csv('df3.csv' , index_col=0)\n",
    "df3.head()"
   ]
  },
  {
   "cell_type": "code",
   "execution_count": 7,
   "id": "f43ff701",
   "metadata": {},
   "outputs": [
    {
     "data": {
      "text/html": [
       "<div>\n",
       "<style scoped>\n",
       "    .dataframe tbody tr th:only-of-type {\n",
       "        vertical-align: middle;\n",
       "    }\n",
       "\n",
       "    .dataframe tbody tr th {\n",
       "        vertical-align: top;\n",
       "    }\n",
       "\n",
       "    .dataframe thead th {\n",
       "        text-align: right;\n",
       "    }\n",
       "</style>\n",
       "<table border=\"1\" class=\"dataframe\">\n",
       "  <thead>\n",
       "    <tr style=\"text-align: right;\">\n",
       "      <th></th>\n",
       "      <th>year_only</th>\n",
       "      <th>Inflation rate value</th>\n",
       "      <th>Total CPI-Adjusted Cost (Millions of Dollars)</th>\n",
       "    </tr>\n",
       "  </thead>\n",
       "  <tbody>\n",
       "    <tr>\n",
       "      <th>0</th>\n",
       "      <td>1980</td>\n",
       "      <td>82383.333333</td>\n",
       "      <td>44434.8</td>\n",
       "    </tr>\n",
       "    <tr>\n",
       "      <th>1</th>\n",
       "      <td>1981</td>\n",
       "      <td>90933.333333</td>\n",
       "      <td>3392.1</td>\n",
       "    </tr>\n",
       "    <tr>\n",
       "      <th>2</th>\n",
       "      <td>1982</td>\n",
       "      <td>96533.333333</td>\n",
       "      <td>14765.9</td>\n",
       "    </tr>\n",
       "    <tr>\n",
       "      <th>3</th>\n",
       "      <td>1983</td>\n",
       "      <td>99583.333333</td>\n",
       "      <td>26005.6</td>\n",
       "    </tr>\n",
       "    <tr>\n",
       "      <th>4</th>\n",
       "      <td>1984</td>\n",
       "      <td>103933.333333</td>\n",
       "      <td>3124.5</td>\n",
       "    </tr>\n",
       "  </tbody>\n",
       "</table>\n",
       "</div>"
      ],
      "text/plain": [
       "   year_only  Inflation rate value  \\\n",
       "0       1980          82383.333333   \n",
       "1       1981          90933.333333   \n",
       "2       1982          96533.333333   \n",
       "3       1983          99583.333333   \n",
       "4       1984         103933.333333   \n",
       "\n",
       "   Total CPI-Adjusted Cost (Millions of Dollars)  \n",
       "0                                        44434.8  \n",
       "1                                         3392.1  \n",
       "2                                        14765.9  \n",
       "3                                        26005.6  \n",
       "4                                         3124.5  "
      ]
     },
     "execution_count": 7,
     "metadata": {},
     "output_type": "execute_result"
    }
   ],
   "source": [
    "Inflation_rate_vs_total_cost = pd.read_csv('Inflation_rate_vs_total_cost.csv' , index_col=0)\n",
    "Inflation_rate_vs_total_cost.head()"
   ]
  },
  {
   "cell_type": "markdown",
   "id": "c360d43d",
   "metadata": {},
   "source": [
    "# Creating Dummies"
   ]
  },
  {
   "cell_type": "code",
   "execution_count": 8,
   "id": "01507e63",
   "metadata": {},
   "outputs": [
    {
     "name": "stdout",
     "output_type": "stream",
     "text": [
      "<class 'pandas.core.frame.DataFrame'>\n",
      "Int64Index: 376 entries, 0 to 375\n",
      "Data columns (total 8 columns):\n",
      " #   Column                                         Non-Null Count  Dtype  \n",
      "---  ------                                         --------------  -----  \n",
      " 0   Name                                           376 non-null    object \n",
      " 1   Disaster                                       376 non-null    object \n",
      " 2   Begin Date                                     376 non-null    object \n",
      " 3   End Date                                       376 non-null    object \n",
      " 4   Total CPI-Adjusted Cost (Millions of Dollars)  376 non-null    float64\n",
      " 5   Deaths                                         376 non-null    int64  \n",
      " 6   year_only                                      376 non-null    int64  \n",
      " 7   number_of_days                                 376 non-null    int64  \n",
      "dtypes: float64(1), int64(3), object(4)\n",
      "memory usage: 26.4+ KB\n"
     ]
    }
   ],
   "source": [
    "df1.info()"
   ]
  },
  {
   "cell_type": "code",
   "execution_count": 9,
   "id": "be4b9ceb",
   "metadata": {},
   "outputs": [
    {
     "data": {
      "text/html": [
       "<div>\n",
       "<style scoped>\n",
       "    .dataframe tbody tr th:only-of-type {\n",
       "        vertical-align: middle;\n",
       "    }\n",
       "\n",
       "    .dataframe tbody tr th {\n",
       "        vertical-align: top;\n",
       "    }\n",
       "\n",
       "    .dataframe thead th {\n",
       "        text-align: right;\n",
       "    }\n",
       "</style>\n",
       "<table border=\"1\" class=\"dataframe\">\n",
       "  <thead>\n",
       "    <tr style=\"text-align: right;\">\n",
       "      <th></th>\n",
       "      <th>Drought</th>\n",
       "      <th>Flooding</th>\n",
       "      <th>Freeze</th>\n",
       "      <th>Severe Storm</th>\n",
       "      <th>Tropical Cyclone</th>\n",
       "      <th>Wildfire</th>\n",
       "      <th>Winter Storm</th>\n",
       "    </tr>\n",
       "  </thead>\n",
       "  <tbody>\n",
       "    <tr>\n",
       "      <th>0</th>\n",
       "      <td>0</td>\n",
       "      <td>1</td>\n",
       "      <td>0</td>\n",
       "      <td>0</td>\n",
       "      <td>0</td>\n",
       "      <td>0</td>\n",
       "      <td>0</td>\n",
       "    </tr>\n",
       "    <tr>\n",
       "      <th>1</th>\n",
       "      <td>0</td>\n",
       "      <td>0</td>\n",
       "      <td>0</td>\n",
       "      <td>0</td>\n",
       "      <td>1</td>\n",
       "      <td>0</td>\n",
       "      <td>0</td>\n",
       "    </tr>\n",
       "    <tr>\n",
       "      <th>2</th>\n",
       "      <td>1</td>\n",
       "      <td>0</td>\n",
       "      <td>0</td>\n",
       "      <td>0</td>\n",
       "      <td>0</td>\n",
       "      <td>0</td>\n",
       "      <td>0</td>\n",
       "    </tr>\n",
       "    <tr>\n",
       "      <th>3</th>\n",
       "      <td>0</td>\n",
       "      <td>0</td>\n",
       "      <td>1</td>\n",
       "      <td>0</td>\n",
       "      <td>0</td>\n",
       "      <td>0</td>\n",
       "      <td>0</td>\n",
       "    </tr>\n",
       "    <tr>\n",
       "      <th>4</th>\n",
       "      <td>0</td>\n",
       "      <td>0</td>\n",
       "      <td>0</td>\n",
       "      <td>1</td>\n",
       "      <td>0</td>\n",
       "      <td>0</td>\n",
       "      <td>0</td>\n",
       "    </tr>\n",
       "  </tbody>\n",
       "</table>\n",
       "</div>"
      ],
      "text/plain": [
       "   Drought  Flooding  Freeze  Severe Storm  Tropical Cyclone  Wildfire  \\\n",
       "0        0         1       0             0                 0         0   \n",
       "1        0         0       0             0                 1         0   \n",
       "2        1         0       0             0                 0         0   \n",
       "3        0         0       1             0                 0         0   \n",
       "4        0         0       0             1                 0         0   \n",
       "\n",
       "   Winter Storm  \n",
       "0             0  \n",
       "1             0  \n",
       "2             0  \n",
       "3             0  \n",
       "4             0  "
      ]
     },
     "execution_count": 9,
     "metadata": {},
     "output_type": "execute_result"
    }
   ],
   "source": [
    "dummy = pd.get_dummies(df1['Disaster'])\n",
    "dummy.head()"
   ]
  },
  {
   "cell_type": "code",
   "execution_count": 10,
   "id": "8164f8bf",
   "metadata": {},
   "outputs": [
    {
     "data": {
      "text/html": [
       "<div>\n",
       "<style scoped>\n",
       "    .dataframe tbody tr th:only-of-type {\n",
       "        vertical-align: middle;\n",
       "    }\n",
       "\n",
       "    .dataframe tbody tr th {\n",
       "        vertical-align: top;\n",
       "    }\n",
       "\n",
       "    .dataframe thead th {\n",
       "        text-align: right;\n",
       "    }\n",
       "</style>\n",
       "<table border=\"1\" class=\"dataframe\">\n",
       "  <thead>\n",
       "    <tr style=\"text-align: right;\">\n",
       "      <th></th>\n",
       "      <th>Name</th>\n",
       "      <th>Disaster</th>\n",
       "      <th>Begin Date</th>\n",
       "      <th>End Date</th>\n",
       "      <th>Total CPI-Adjusted Cost (Millions of Dollars)</th>\n",
       "      <th>Deaths</th>\n",
       "      <th>year_only</th>\n",
       "      <th>number_of_days</th>\n",
       "      <th>Drought</th>\n",
       "      <th>Flooding</th>\n",
       "      <th>Freeze</th>\n",
       "      <th>Severe Storm</th>\n",
       "      <th>Tropical Cyclone</th>\n",
       "      <th>Wildfire</th>\n",
       "      <th>Winter Storm</th>\n",
       "    </tr>\n",
       "  </thead>\n",
       "  <tbody>\n",
       "    <tr>\n",
       "      <th>0</th>\n",
       "      <td>Southern Severe Storms and Flooding (April 1980)</td>\n",
       "      <td>Flooding</td>\n",
       "      <td>1980-04-10</td>\n",
       "      <td>1980-04-17</td>\n",
       "      <td>2678.6</td>\n",
       "      <td>7</td>\n",
       "      <td>1980</td>\n",
       "      <td>7</td>\n",
       "      <td>0</td>\n",
       "      <td>1</td>\n",
       "      <td>0</td>\n",
       "      <td>0</td>\n",
       "      <td>0</td>\n",
       "      <td>0</td>\n",
       "      <td>0</td>\n",
       "    </tr>\n",
       "    <tr>\n",
       "      <th>1</th>\n",
       "      <td>Hurricane Allen (August 1980)</td>\n",
       "      <td>Tropical Cyclone</td>\n",
       "      <td>1980-08-07</td>\n",
       "      <td>1980-08-11</td>\n",
       "      <td>2177.2</td>\n",
       "      <td>13</td>\n",
       "      <td>1980</td>\n",
       "      <td>4</td>\n",
       "      <td>0</td>\n",
       "      <td>0</td>\n",
       "      <td>0</td>\n",
       "      <td>0</td>\n",
       "      <td>1</td>\n",
       "      <td>0</td>\n",
       "      <td>0</td>\n",
       "    </tr>\n",
       "    <tr>\n",
       "      <th>2</th>\n",
       "      <td>Central/Eastern Drought/Heat Wave (Summer-Fall...</td>\n",
       "      <td>Drought</td>\n",
       "      <td>1980-06-01</td>\n",
       "      <td>1980-11-30</td>\n",
       "      <td>39579.0</td>\n",
       "      <td>1260</td>\n",
       "      <td>1980</td>\n",
       "      <td>182</td>\n",
       "      <td>1</td>\n",
       "      <td>0</td>\n",
       "      <td>0</td>\n",
       "      <td>0</td>\n",
       "      <td>0</td>\n",
       "      <td>0</td>\n",
       "      <td>0</td>\n",
       "    </tr>\n",
       "    <tr>\n",
       "      <th>3</th>\n",
       "      <td>Florida Freeze (January 1981)</td>\n",
       "      <td>Freeze</td>\n",
       "      <td>1981-01-12</td>\n",
       "      <td>1981-01-14</td>\n",
       "      <td>2019.2</td>\n",
       "      <td>0</td>\n",
       "      <td>1981</td>\n",
       "      <td>2</td>\n",
       "      <td>0</td>\n",
       "      <td>0</td>\n",
       "      <td>1</td>\n",
       "      <td>0</td>\n",
       "      <td>0</td>\n",
       "      <td>0</td>\n",
       "      <td>0</td>\n",
       "    </tr>\n",
       "    <tr>\n",
       "      <th>4</th>\n",
       "      <td>Severe Storms, Flash Floods, Hail, Tornadoes (...</td>\n",
       "      <td>Severe Storm</td>\n",
       "      <td>1981-05-05</td>\n",
       "      <td>1981-05-10</td>\n",
       "      <td>1372.9</td>\n",
       "      <td>20</td>\n",
       "      <td>1981</td>\n",
       "      <td>5</td>\n",
       "      <td>0</td>\n",
       "      <td>0</td>\n",
       "      <td>0</td>\n",
       "      <td>1</td>\n",
       "      <td>0</td>\n",
       "      <td>0</td>\n",
       "      <td>0</td>\n",
       "    </tr>\n",
       "  </tbody>\n",
       "</table>\n",
       "</div>"
      ],
      "text/plain": [
       "                                                Name          Disaster  \\\n",
       "0   Southern Severe Storms and Flooding (April 1980)          Flooding   \n",
       "1                      Hurricane Allen (August 1980)  Tropical Cyclone   \n",
       "2  Central/Eastern Drought/Heat Wave (Summer-Fall...           Drought   \n",
       "3                      Florida Freeze (January 1981)            Freeze   \n",
       "4  Severe Storms, Flash Floods, Hail, Tornadoes (...      Severe Storm   \n",
       "\n",
       "   Begin Date    End Date  Total CPI-Adjusted Cost (Millions of Dollars)  \\\n",
       "0  1980-04-10  1980-04-17                                         2678.6   \n",
       "1  1980-08-07  1980-08-11                                         2177.2   \n",
       "2  1980-06-01  1980-11-30                                        39579.0   \n",
       "3  1981-01-12  1981-01-14                                         2019.2   \n",
       "4  1981-05-05  1981-05-10                                         1372.9   \n",
       "\n",
       "   Deaths  year_only  number_of_days  Drought  Flooding  Freeze  Severe Storm  \\\n",
       "0       7       1980               7        0         1       0             0   \n",
       "1      13       1980               4        0         0       0             0   \n",
       "2    1260       1980             182        1         0       0             0   \n",
       "3       0       1981               2        0         0       1             0   \n",
       "4      20       1981               5        0         0       0             1   \n",
       "\n",
       "   Tropical Cyclone  Wildfire  Winter Storm  \n",
       "0                 0         0             0  \n",
       "1                 1         0             0  \n",
       "2                 0         0             0  \n",
       "3                 0         0             0  \n",
       "4                 0         0             0  "
      ]
     },
     "execution_count": 10,
     "metadata": {},
     "output_type": "execute_result"
    }
   ],
   "source": [
    "df1d = pd.concat([df1, dummy], axis=1)\n",
    "df1d.head()"
   ]
  },
  {
   "cell_type": "code",
   "execution_count": 11,
   "id": "9b328778",
   "metadata": {},
   "outputs": [
    {
     "data": {
      "text/html": [
       "<div>\n",
       "<style scoped>\n",
       "    .dataframe tbody tr th:only-of-type {\n",
       "        vertical-align: middle;\n",
       "    }\n",
       "\n",
       "    .dataframe tbody tr th {\n",
       "        vertical-align: top;\n",
       "    }\n",
       "\n",
       "    .dataframe thead th {\n",
       "        text-align: right;\n",
       "    }\n",
       "</style>\n",
       "<table border=\"1\" class=\"dataframe\">\n",
       "  <thead>\n",
       "    <tr style=\"text-align: right;\">\n",
       "      <th></th>\n",
       "      <th>Total CPI-Adjusted Cost (Millions of Dollars)</th>\n",
       "      <th>Deaths</th>\n",
       "      <th>year_only</th>\n",
       "      <th>number_of_days</th>\n",
       "      <th>Drought</th>\n",
       "      <th>Flooding</th>\n",
       "      <th>Freeze</th>\n",
       "      <th>Severe Storm</th>\n",
       "      <th>Tropical Cyclone</th>\n",
       "      <th>Wildfire</th>\n",
       "      <th>Winter Storm</th>\n",
       "    </tr>\n",
       "  </thead>\n",
       "  <tbody>\n",
       "    <tr>\n",
       "      <th>Total CPI-Adjusted Cost (Millions of Dollars)</th>\n",
       "      <td>1.000000</td>\n",
       "      <td>0.595083</td>\n",
       "      <td>0.006823</td>\n",
       "      <td>0.062359</td>\n",
       "      <td>0.072709</td>\n",
       "      <td>-0.053666</td>\n",
       "      <td>-0.026863</td>\n",
       "      <td>-0.258683</td>\n",
       "      <td>0.380812</td>\n",
       "      <td>-0.008441</td>\n",
       "      <td>-0.036810</td>\n",
       "    </tr>\n",
       "    <tr>\n",
       "      <th>Deaths</th>\n",
       "      <td>0.595083</td>\n",
       "      <td>1.000000</td>\n",
       "      <td>-0.079572</td>\n",
       "      <td>0.060037</td>\n",
       "      <td>0.152398</td>\n",
       "      <td>-0.048285</td>\n",
       "      <td>-0.019816</td>\n",
       "      <td>-0.158325</td>\n",
       "      <td>0.149504</td>\n",
       "      <td>-0.023725</td>\n",
       "      <td>0.025058</td>\n",
       "    </tr>\n",
       "    <tr>\n",
       "      <th>year_only</th>\n",
       "      <td>0.006823</td>\n",
       "      <td>-0.079572</td>\n",
       "      <td>1.000000</td>\n",
       "      <td>-0.024409</td>\n",
       "      <td>-0.113583</td>\n",
       "      <td>-0.068194</td>\n",
       "      <td>-0.181677</td>\n",
       "      <td>0.271660</td>\n",
       "      <td>-0.078007</td>\n",
       "      <td>-0.001454</td>\n",
       "      <td>-0.109087</td>\n",
       "    </tr>\n",
       "    <tr>\n",
       "      <th>number_of_days</th>\n",
       "      <td>0.062359</td>\n",
       "      <td>0.060037</td>\n",
       "      <td>-0.024409</td>\n",
       "      <td>1.000000</td>\n",
       "      <td>0.747294</td>\n",
       "      <td>-0.043173</td>\n",
       "      <td>-0.056401</td>\n",
       "      <td>-0.385071</td>\n",
       "      <td>-0.169737</td>\n",
       "      <td>0.398853</td>\n",
       "      <td>-0.090079</td>\n",
       "    </tr>\n",
       "    <tr>\n",
       "      <th>Drought</th>\n",
       "      <td>0.072709</td>\n",
       "      <td>0.152398</td>\n",
       "      <td>-0.113583</td>\n",
       "      <td>0.747294</td>\n",
       "      <td>1.000000</td>\n",
       "      <td>-0.109126</td>\n",
       "      <td>-0.046942</td>\n",
       "      <td>-0.296586</td>\n",
       "      <td>-0.133199</td>\n",
       "      <td>-0.074728</td>\n",
       "      <td>-0.074728</td>\n",
       "    </tr>\n",
       "    <tr>\n",
       "      <th>Flooding</th>\n",
       "      <td>-0.053666</td>\n",
       "      <td>-0.048285</td>\n",
       "      <td>-0.068194</td>\n",
       "      <td>-0.043173</td>\n",
       "      <td>-0.109126</td>\n",
       "      <td>1.000000</td>\n",
       "      <td>-0.057009</td>\n",
       "      <td>-0.360194</td>\n",
       "      <td>-0.161766</td>\n",
       "      <td>-0.090754</td>\n",
       "      <td>-0.090754</td>\n",
       "    </tr>\n",
       "    <tr>\n",
       "      <th>Freeze</th>\n",
       "      <td>-0.026863</td>\n",
       "      <td>-0.019816</td>\n",
       "      <td>-0.181677</td>\n",
       "      <td>-0.056401</td>\n",
       "      <td>-0.046942</td>\n",
       "      <td>-0.057009</td>\n",
       "      <td>1.000000</td>\n",
       "      <td>-0.154942</td>\n",
       "      <td>-0.069586</td>\n",
       "      <td>-0.039039</td>\n",
       "      <td>-0.039039</td>\n",
       "    </tr>\n",
       "    <tr>\n",
       "      <th>Severe Storm</th>\n",
       "      <td>-0.258683</td>\n",
       "      <td>-0.158325</td>\n",
       "      <td>0.271660</td>\n",
       "      <td>-0.385071</td>\n",
       "      <td>-0.296586</td>\n",
       "      <td>-0.360194</td>\n",
       "      <td>-0.154942</td>\n",
       "      <td>1.000000</td>\n",
       "      <td>-0.439654</td>\n",
       "      <td>-0.246655</td>\n",
       "      <td>-0.246655</td>\n",
       "    </tr>\n",
       "    <tr>\n",
       "      <th>Tropical Cyclone</th>\n",
       "      <td>0.380812</td>\n",
       "      <td>0.149504</td>\n",
       "      <td>-0.078007</td>\n",
       "      <td>-0.169737</td>\n",
       "      <td>-0.133199</td>\n",
       "      <td>-0.161766</td>\n",
       "      <td>-0.069586</td>\n",
       "      <td>-0.439654</td>\n",
       "      <td>1.000000</td>\n",
       "      <td>-0.110775</td>\n",
       "      <td>-0.110775</td>\n",
       "    </tr>\n",
       "    <tr>\n",
       "      <th>Wildfire</th>\n",
       "      <td>-0.008441</td>\n",
       "      <td>-0.023725</td>\n",
       "      <td>-0.001454</td>\n",
       "      <td>0.398853</td>\n",
       "      <td>-0.074728</td>\n",
       "      <td>-0.090754</td>\n",
       "      <td>-0.039039</td>\n",
       "      <td>-0.246655</td>\n",
       "      <td>-0.110775</td>\n",
       "      <td>1.000000</td>\n",
       "      <td>-0.062147</td>\n",
       "    </tr>\n",
       "    <tr>\n",
       "      <th>Winter Storm</th>\n",
       "      <td>-0.036810</td>\n",
       "      <td>0.025058</td>\n",
       "      <td>-0.109087</td>\n",
       "      <td>-0.090079</td>\n",
       "      <td>-0.074728</td>\n",
       "      <td>-0.090754</td>\n",
       "      <td>-0.039039</td>\n",
       "      <td>-0.246655</td>\n",
       "      <td>-0.110775</td>\n",
       "      <td>-0.062147</td>\n",
       "      <td>1.000000</td>\n",
       "    </tr>\n",
       "  </tbody>\n",
       "</table>\n",
       "</div>"
      ],
      "text/plain": [
       "                                               Total CPI-Adjusted Cost (Millions of Dollars)  \\\n",
       "Total CPI-Adjusted Cost (Millions of Dollars)                                       1.000000   \n",
       "Deaths                                                                              0.595083   \n",
       "year_only                                                                           0.006823   \n",
       "number_of_days                                                                      0.062359   \n",
       "Drought                                                                             0.072709   \n",
       "Flooding                                                                           -0.053666   \n",
       "Freeze                                                                             -0.026863   \n",
       "Severe Storm                                                                       -0.258683   \n",
       "Tropical Cyclone                                                                    0.380812   \n",
       "Wildfire                                                                           -0.008441   \n",
       "Winter Storm                                                                       -0.036810   \n",
       "\n",
       "                                                 Deaths  year_only  \\\n",
       "Total CPI-Adjusted Cost (Millions of Dollars)  0.595083   0.006823   \n",
       "Deaths                                         1.000000  -0.079572   \n",
       "year_only                                     -0.079572   1.000000   \n",
       "number_of_days                                 0.060037  -0.024409   \n",
       "Drought                                        0.152398  -0.113583   \n",
       "Flooding                                      -0.048285  -0.068194   \n",
       "Freeze                                        -0.019816  -0.181677   \n",
       "Severe Storm                                  -0.158325   0.271660   \n",
       "Tropical Cyclone                               0.149504  -0.078007   \n",
       "Wildfire                                      -0.023725  -0.001454   \n",
       "Winter Storm                                   0.025058  -0.109087   \n",
       "\n",
       "                                               number_of_days   Drought  \\\n",
       "Total CPI-Adjusted Cost (Millions of Dollars)        0.062359  0.072709   \n",
       "Deaths                                               0.060037  0.152398   \n",
       "year_only                                           -0.024409 -0.113583   \n",
       "number_of_days                                       1.000000  0.747294   \n",
       "Drought                                              0.747294  1.000000   \n",
       "Flooding                                            -0.043173 -0.109126   \n",
       "Freeze                                              -0.056401 -0.046942   \n",
       "Severe Storm                                        -0.385071 -0.296586   \n",
       "Tropical Cyclone                                    -0.169737 -0.133199   \n",
       "Wildfire                                             0.398853 -0.074728   \n",
       "Winter Storm                                        -0.090079 -0.074728   \n",
       "\n",
       "                                               Flooding    Freeze  \\\n",
       "Total CPI-Adjusted Cost (Millions of Dollars) -0.053666 -0.026863   \n",
       "Deaths                                        -0.048285 -0.019816   \n",
       "year_only                                     -0.068194 -0.181677   \n",
       "number_of_days                                -0.043173 -0.056401   \n",
       "Drought                                       -0.109126 -0.046942   \n",
       "Flooding                                       1.000000 -0.057009   \n",
       "Freeze                                        -0.057009  1.000000   \n",
       "Severe Storm                                  -0.360194 -0.154942   \n",
       "Tropical Cyclone                              -0.161766 -0.069586   \n",
       "Wildfire                                      -0.090754 -0.039039   \n",
       "Winter Storm                                  -0.090754 -0.039039   \n",
       "\n",
       "                                               Severe Storm  Tropical Cyclone  \\\n",
       "Total CPI-Adjusted Cost (Millions of Dollars)     -0.258683          0.380812   \n",
       "Deaths                                            -0.158325          0.149504   \n",
       "year_only                                          0.271660         -0.078007   \n",
       "number_of_days                                    -0.385071         -0.169737   \n",
       "Drought                                           -0.296586         -0.133199   \n",
       "Flooding                                          -0.360194         -0.161766   \n",
       "Freeze                                            -0.154942         -0.069586   \n",
       "Severe Storm                                       1.000000         -0.439654   \n",
       "Tropical Cyclone                                  -0.439654          1.000000   \n",
       "Wildfire                                          -0.246655         -0.110775   \n",
       "Winter Storm                                      -0.246655         -0.110775   \n",
       "\n",
       "                                               Wildfire  Winter Storm  \n",
       "Total CPI-Adjusted Cost (Millions of Dollars) -0.008441     -0.036810  \n",
       "Deaths                                        -0.023725      0.025058  \n",
       "year_only                                     -0.001454     -0.109087  \n",
       "number_of_days                                 0.398853     -0.090079  \n",
       "Drought                                       -0.074728     -0.074728  \n",
       "Flooding                                      -0.090754     -0.090754  \n",
       "Freeze                                        -0.039039     -0.039039  \n",
       "Severe Storm                                  -0.246655     -0.246655  \n",
       "Tropical Cyclone                              -0.110775     -0.110775  \n",
       "Wildfire                                       1.000000     -0.062147  \n",
       "Winter Storm                                  -0.062147      1.000000  "
      ]
     },
     "execution_count": 11,
     "metadata": {},
     "output_type": "execute_result"
    }
   ],
   "source": [
    "df1d.corr()"
   ]
  },
  {
   "cell_type": "markdown",
   "id": "cd7f8e6e",
   "metadata": {},
   "source": [
    "#  Regression Plots"
   ]
  },
  {
   "cell_type": "code",
   "execution_count": 12,
   "id": "55347eb3",
   "metadata": {},
   "outputs": [
    {
     "data": {
      "image/png": "[encoded data removed]",
      "text/plain": [
       "<Figure size 432x288 with 1 Axes>"
      ]
     },
     "metadata": {
      "needs_background": "light"
     },
     "output_type": "display_data"
    }
   ],
   "source": [
    "_ = sns.regplot(x='number_of_days', y='Total CPI-Adjusted Cost (Millions of Dollars)', data=df1d)"
   ]
  },
  {
   "cell_type": "code",
   "execution_count": 13,
   "id": "0439c1ac",
   "metadata": {},
   "outputs": [
    {
     "data": {
      "image/png": "[encoded data removed]",
      "text/plain": [
       "<Figure size 432x288 with 1 Axes>"
      ]
     },
     "metadata": {
      "needs_background": "light"
     },
     "output_type": "display_data"
    }
   ],
   "source": [
    "_ = sns.regplot(x='number_of_days', y='Deaths', data=df1d)"
   ]
  },
  {
   "cell_type": "code",
   "execution_count": 14,
   "id": "c57499d6",
   "metadata": {},
   "outputs": [
    {
     "data": {
      "image/png": "[encoded data removed]",
      "text/plain": [
       "<Figure size 432x288 with 1 Axes>"
      ]
     },
     "metadata": {
      "needs_background": "light"
     },
     "output_type": "display_data"
    }
   ],
   "source": [
    "_ = sns.regplot(x='Drought', y='Total CPI-Adjusted Cost (Millions of Dollars)', data=df1d)"
   ]
  },
  {
   "cell_type": "code",
   "execution_count": 15,
   "id": "2842ace0",
   "metadata": {},
   "outputs": [
    {
     "data": {
      "image/png": "[encoded data removed]",
      "text/plain": [
       "<Figure size 432x288 with 1 Axes>"
      ]
     },
     "metadata": {
      "needs_background": "light"
     },
     "output_type": "display_data"
    }
   ],
   "source": [
    "_ = sns.regplot(x='Flooding', y='Total CPI-Adjusted Cost (Millions of Dollars)', data=df1d)"
   ]
  },
  {
   "cell_type": "code",
   "execution_count": 16,
   "id": "93f65c30",
   "metadata": {},
   "outputs": [
    {
     "data": {
      "image/png": "[encoded data removed]",
      "text/plain": [
       "<Figure size 432x288 with 1 Axes>"
      ]
     },
     "metadata": {
      "needs_background": "light"
     },
     "output_type": "display_data"
    }
   ],
   "source": [
    "_ = sns.regplot(x='Freeze', y='Total CPI-Adjusted Cost (Millions of Dollars)', data=df1d)"
   ]
  },
  {
   "cell_type": "code",
   "execution_count": 17,
   "id": "ef981385",
   "metadata": {},
   "outputs": [
    {
     "data": {
      "image/png": "[encoded data removed]",
      "text/plain": [
       "<Figure size 432x288 with 1 Axes>"
      ]
     },
     "metadata": {
      "needs_background": "light"
     },
     "output_type": "display_data"
    }
   ],
   "source": [
    "_ = sns.regplot(x='Severe Storm', y='Total CPI-Adjusted Cost (Millions of Dollars)', data=df1d)"
   ]
  },
  {
   "cell_type": "code",
   "execution_count": 18,
   "id": "1b9930ed",
   "metadata": {},
   "outputs": [
    {
     "data": {
      "image/png": "[encoded data removed]",
      "text/plain": [
       "<Figure size 432x288 with 1 Axes>"
      ]
     },
     "metadata": {
      "needs_background": "light"
     },
     "output_type": "display_data"
    }
   ],
   "source": [
    "_ = sns.regplot(x='Tropical Cyclone', y='Total CPI-Adjusted Cost (Millions of Dollars)', data=df1d)"
   ]
  },
  {
   "cell_type": "code",
   "execution_count": 19,
   "id": "f51ee42a",
   "metadata": {},
   "outputs": [
    {
     "data": {
      "image/png": "[encoded data removed]",
      "text/plain": [
       "<Figure size 432x288 with 1 Axes>"
      ]
     },
     "metadata": {
      "needs_background": "light"
     },
     "output_type": "display_data"
    }
   ],
   "source": [
    "_ = sns.regplot(x='Wildfire', y='Total CPI-Adjusted Cost (Millions of Dollars)', data=df1d)"
   ]
  },
  {
   "cell_type": "code",
   "execution_count": 20,
   "id": "4ea9d023",
   "metadata": {},
   "outputs": [
    {
     "data": {
      "image/png": "[encoded data removed]",
      "text/plain": [
       "<Figure size 432x288 with 1 Axes>"
      ]
     },
     "metadata": {
      "needs_background": "light"
     },
     "output_type": "display_data"
    }
   ],
   "source": [
    "_ = sns.regplot(x='Winter Storm', y='Total CPI-Adjusted Cost (Millions of Dollars)', data=df1d)"
   ]
  },
  {
   "cell_type": "markdown",
   "id": "a8a324fb",
   "metadata": {},
   "source": [
    "# Scaling, Split into testing and training datasets"
   ]
  },
  {
   "cell_type": "markdown",
   "id": "81e8cbf5",
   "metadata": {},
   "source": [
    "Cost vs Number of Days"
   ]
  },
  {
   "cell_type": "code",
   "execution_count": 21,
   "id": "9530dae5",
   "metadata": {},
   "outputs": [],
   "source": [
    "y = df1d[['Total CPI-Adjusted Cost (Millions of Dollars)']]\n",
    "X = df1d[['number_of_days']]\n"
   ]
  },
  {
   "cell_type": "code",
   "execution_count": 22,
   "id": "426ed1a1",
   "metadata": {},
   "outputs": [],
   "source": [
    "X_train, X_test, y_train, y_test = train_test_split(X, y, test_size=80, random_state=42)"
   ]
  },
  {
   "cell_type": "code",
   "execution_count": 23,
   "id": "c8ed0ecb",
   "metadata": {},
   "outputs": [
    {
     "name": "stdout",
     "output_type": "stream",
     "text": [
      "(296, 1)\n",
      "(80, 1)\n",
      "(296, 1)\n",
      "(80, 1)\n"
     ]
    }
   ],
   "source": [
    "for i in [X_train, X_test, y_train, y_test]:\n",
    "    print(i.shape)"
   ]
  },
  {
   "cell_type": "code",
   "execution_count": 24,
   "id": "a1e18195",
   "metadata": {},
   "outputs": [],
   "source": [
    "rModel = linear_model.LinearRegression()\n"
   ]
  },
  {
   "cell_type": "code",
   "execution_count": 25,
   "id": "1e695224",
   "metadata": {},
   "outputs": [
    {
     "data": {
      "text/plain": [
       "LinearRegression()"
      ]
     },
     "execution_count": 25,
     "metadata": {},
     "output_type": "execute_result"
    }
   ],
   "source": [
    "rModel.fit(X_train, y_train)"
   ]
  },
  {
   "cell_type": "code",
   "execution_count": 26,
   "id": "8c72f6a9",
   "metadata": {},
   "outputs": [
    {
     "data": {
      "text/plain": [
       "0.003324896257169696"
      ]
     },
     "execution_count": 26,
     "metadata": {},
     "output_type": "execute_result"
    }
   ],
   "source": [
    "rModel.score(X_train, y_train)"
   ]
  },
  {
   "cell_type": "code",
   "execution_count": 27,
   "id": "1eae18db",
   "metadata": {},
   "outputs": [],
   "source": [
    "y_pred = rModel.predict(X_test)"
   ]
  },
  {
   "cell_type": "code",
   "execution_count": 28,
   "id": "b5d5386f",
   "metadata": {},
   "outputs": [
    {
     "data": {
      "image/png": "[encoded data removed]",
      "text/plain": [
       "<Figure size 432x288 with 1 Axes>"
      ]
     },
     "metadata": {
      "needs_background": "light"
     },
     "output_type": "display_data"
    }
   ],
   "source": [
    "_ = plt.scatter(y_test, y_pred)\n",
    "_ = plt.xlabel('Number of Days')\n",
    "_ = plt.ylabel('Cost')"
   ]
  },
  {
   "cell_type": "markdown",
   "id": "f5fa9e7f",
   "metadata": {},
   "source": [
    "# Number of Days testing"
   ]
  },
  {
   "cell_type": "code",
   "execution_count": 29,
   "id": "5f5c376b",
   "metadata": {},
   "outputs": [],
   "source": [
    "X = df1d[['number_of_days']]\n",
    "X = sm.add_constant(X)"
   ]
  },
  {
   "cell_type": "code",
   "execution_count": 30,
   "id": "068f991a",
   "metadata": {},
   "outputs": [],
   "source": [
    "X_train, X_test, y_train, y_test = train_test_split(X, y, test_size=.25, random_state=42)"
   ]
  },
  {
   "cell_type": "code",
   "execution_count": 31,
   "id": "b135f110",
   "metadata": {},
   "outputs": [],
   "source": [
    "# Create the model\n",
    "model2 = sm.OLS(y_train, X_train)\n",
    "\n",
    "# Fit the model with fit() \n",
    "rModel2 = model2.fit()"
   ]
  },
  {
   "cell_type": "code",
   "execution_count": 32,
   "id": "ed7ffbf4",
   "metadata": {},
   "outputs": [
    {
     "data": {
      "text/html": [
       "<table class=\"simpletable\">\n",
       "<caption>OLS Regression Results</caption>\n",
       "<tr>\n",
       "  <th>Dep. Variable:</th>    <td>Total CPI-Adjusted Cost (Millions of Dollars)</td> <th>  R-squared:         </th> <td>   0.003</td>\n",
       "</tr>\n",
       "<tr>\n",
       "  <th>Model:</th>                                 <td>OLS</td>                      <th>  Adj. R-squared:    </th> <td>  -0.000</td>\n",
       "</tr>\n",
       "<tr>\n",
       "  <th>Method:</th>                           <td>Least Squares</td>                 <th>  F-statistic:       </th> <td>  0.8617</td>\n",
       "</tr>\n",
       "<tr>\n",
       "  <th>Date:</th>                           <td>Sun, 16 Jun 2024</td>                <th>  Prob (F-statistic):</th>  <td> 0.354</td> \n",
       "</tr>\n",
       "<tr>\n",
       "  <th>Time:</th>                               <td>13:59:17</td>                    <th>  Log-Likelihood:    </th> <td> -3194.0</td>\n",
       "</tr>\n",
       "<tr>\n",
       "  <th>No. Observations:</th>                    <td>   282</td>                     <th>  AIC:               </th> <td>   6392.</td>\n",
       "</tr>\n",
       "<tr>\n",
       "  <th>Df Residuals:</th>                        <td>   280</td>                     <th>  BIC:               </th> <td>   6399.</td>\n",
       "</tr>\n",
       "<tr>\n",
       "  <th>Df Model:</th>                            <td>     1</td>                     <th>                     </th>     <td> </td>   \n",
       "</tr>\n",
       "<tr>\n",
       "  <th>Covariance Type:</th>                    <td>nonrobust</td>                   <th>                     </th>     <td> </td>   \n",
       "</tr>\n",
       "</table>\n",
       "<table class=\"simpletable\">\n",
       "<tr>\n",
       "         <td></td>           <th>coef</th>     <th>std err</th>      <th>t</th>      <th>P>|t|</th>  <th>[0.025</th>    <th>0.975]</th>  \n",
       "</tr>\n",
       "<tr>\n",
       "  <th>const</th>          <td> 7608.4818</td> <td> 1303.536</td> <td>    5.837</td> <td> 0.000</td> <td> 5042.507</td> <td> 1.02e+04</td>\n",
       "</tr>\n",
       "<tr>\n",
       "  <th>number_of_days</th> <td>   14.0628</td> <td>   15.149</td> <td>    0.928</td> <td> 0.354</td> <td>  -15.758</td> <td>   43.883</td>\n",
       "</tr>\n",
       "</table>\n",
       "<table class=\"simpletable\">\n",
       "<tr>\n",
       "  <th>Omnibus:</th>       <td>362.067</td> <th>  Durbin-Watson:     </th> <td>   1.938</td> \n",
       "</tr>\n",
       "<tr>\n",
       "  <th>Prob(Omnibus):</th> <td> 0.000</td>  <th>  Jarque-Bera (JB):  </th> <td>22247.874</td>\n",
       "</tr>\n",
       "<tr>\n",
       "  <th>Skew:</th>          <td> 5.965</td>  <th>  Prob(JB):          </th> <td>    0.00</td> \n",
       "</tr>\n",
       "<tr>\n",
       "  <th>Kurtosis:</th>      <td>44.846</td>  <th>  Cond. No.          </th> <td>    93.5</td> \n",
       "</tr>\n",
       "</table><br/><br/>Notes:<br/>[1] Standard Errors assume that the covariance matrix of the errors is correctly specified."
      ],
      "text/plain": [
       "<class 'statsmodels.iolib.summary.Summary'>\n",
       "\"\"\"\n",
       "                                          OLS Regression Results                                         \n",
       "=========================================================================================================\n",
       "Dep. Variable:     Total CPI-Adjusted Cost (Millions of Dollars)   R-squared:                       0.003\n",
       "Model:                                                       OLS   Adj. R-squared:                 -0.000\n",
       "Method:                                            Least Squares   F-statistic:                    0.8617\n",
       "Date:                                           Sun, 16 Jun 2024   Prob (F-statistic):              0.354\n",
       "Time:                                                   13:59:17   Log-Likelihood:                -3194.0\n",
       "No. Observations:                                            282   AIC:                             6392.\n",
       "Df Residuals:                                                280   BIC:                             6399.\n",
       "Df Model:                                                      1                                         \n",
       "Covariance Type:                                       nonrobust                                         \n",
       "==================================================================================\n",
       "                     coef    std err          t      P>|t|      [0.025      0.975]\n",
       "----------------------------------------------------------------------------------\n",
       "const           7608.4818   1303.536      5.837      0.000    5042.507    1.02e+04\n",
       "number_of_days    14.0628     15.149      0.928      0.354     -15.758      43.883\n",
       "==============================================================================\n",
       "Omnibus:                      362.067   Durbin-Watson:                   1.938\n",
       "Prob(Omnibus):                  0.000   Jarque-Bera (JB):            22247.874\n",
       "Skew:                           5.965   Prob(JB):                         0.00\n",
       "Kurtosis:                      44.846   Cond. No.                         93.5\n",
       "==============================================================================\n",
       "\n",
       "Notes:\n",
       "[1] Standard Errors assume that the covariance matrix of the errors is correctly specified.\n",
       "\"\"\""
      ]
     },
     "execution_count": 32,
     "metadata": {},
     "output_type": "execute_result"
    }
   ],
   "source": [
    "rModel2.summary()"
   ]
  },
  {
   "cell_type": "code",
   "execution_count": 33,
   "id": "c860c395",
   "metadata": {},
   "outputs": [],
   "source": [
    "y_pred = rModel2.predict(X_test)"
   ]
  },
  {
   "cell_type": "code",
   "execution_count": 34,
   "id": "b833e21b",
   "metadata": {},
   "outputs": [
    {
     "data": {
      "image/png": "[encoded data removed]",
      "text/plain": [
       "<Figure size 432x288 with 1 Axes>"
      ]
     },
     "metadata": {
      "needs_background": "light"
     },
     "output_type": "display_data"
    }
   ],
   "source": [
    "# Build a scatterplot\n",
    "_ = plt.plot(y_test, y_pred, marker='.', linestyle='none')\n",
    "\n",
    "# Add a line for perfect correlation. Can you see what this line is doing? Use plot()\n",
    "test_range = [min(y_test), max(y_test)]\n",
    "_ = plt.plot(test_range, test_range)\n",
    "\n",
    "# Label it nicely\n",
    "_ = plt.xlabel('Number of days')\n",
    "_ = plt.ylabel('Cost')"
   ]
  },
  {
   "cell_type": "markdown",
   "id": "cd634da2",
   "metadata": {},
   "source": [
    "# Inflation rate and year linear regression"
   ]
  },
  {
   "cell_type": "code",
   "execution_count": 35,
   "id": "2a76bf89",
   "metadata": {},
   "outputs": [],
   "source": [
    "\n",
    "y = Inflation_rate_vs_total_cost[['Inflation rate value']]\n",
    "X = Inflation_rate_vs_total_cost[['year_only']]"
   ]
  },
  {
   "cell_type": "code",
   "execution_count": 36,
   "id": "25cdf878",
   "metadata": {},
   "outputs": [],
   "source": [
    "X_train, X_test, y_train, y_test = train_test_split(X, y, test_size=40, random_state=42)"
   ]
  },
  {
   "cell_type": "code",
   "execution_count": 37,
   "id": "e0694243",
   "metadata": {},
   "outputs": [
    {
     "name": "stdout",
     "output_type": "stream",
     "text": [
      "(3, 1)\n",
      "(40, 1)\n",
      "(3, 1)\n",
      "(40, 1)\n"
     ]
    }
   ],
   "source": [
    "for i in [X_train, X_test, y_train, y_test]:\n",
    "    print(i.shape)"
   ]
  },
  {
   "cell_type": "code",
   "execution_count": 38,
   "id": "e2c81cb4",
   "metadata": {},
   "outputs": [],
   "source": [
    "\n",
    "rModel = linear_model.LinearRegression()"
   ]
  },
  {
   "cell_type": "code",
   "execution_count": 39,
   "id": "63a192f6",
   "metadata": {},
   "outputs": [
    {
     "data": {
      "text/plain": [
       "LinearRegression()"
      ]
     },
     "execution_count": 39,
     "metadata": {},
     "output_type": "execute_result"
    }
   ],
   "source": [
    "\n",
    "rModel.fit(X_train, y_train)"
   ]
  },
  {
   "cell_type": "code",
   "execution_count": 40,
   "id": "fed106d3",
   "metadata": {},
   "outputs": [
    {
     "data": {
      "text/plain": [
       "0.9995394621644847"
      ]
     },
     "execution_count": 40,
     "metadata": {},
     "output_type": "execute_result"
    }
   ],
   "source": [
    "rModel.score(X_train, y_train)"
   ]
  },
  {
   "cell_type": "code",
   "execution_count": 41,
   "id": "f8d2b622",
   "metadata": {},
   "outputs": [],
   "source": [
    "y_pred = rModel.predict(X_test)"
   ]
  },
  {
   "cell_type": "code",
   "execution_count": 42,
   "id": "7c396677",
   "metadata": {},
   "outputs": [
    {
     "data": {
      "image/png": "[encoded data removed]",
      "text/plain": [
       "<Figure size 432x288 with 1 Axes>"
      ]
     },
     "metadata": {
      "needs_background": "light"
     },
     "output_type": "display_data"
    }
   ],
   "source": [
    "_ = plt.scatter(y_test, y_pred)\n",
    "_ = plt.xlabel('Year')\n",
    "_ = plt.ylabel('Inflation')"
   ]
  },
  {
   "cell_type": "markdown",
   "id": "c8cd9474",
   "metadata": {},
   "source": [
    "# Inflation Rate and Total cost Linear Regression "
   ]
  },
  {
   "cell_type": "code",
   "execution_count": 43,
   "id": "1d3280ec",
   "metadata": {},
   "outputs": [],
   "source": [
    "X = Inflation_rate_vs_total_cost.iloc[:, [1,2]]\n",
    "y = Inflation_rate_vs_total_cost.iloc[:, 0]"
   ]
  },
  {
   "cell_type": "code",
   "execution_count": 44,
   "id": "ab18b8b9",
   "metadata": {},
   "outputs": [
    {
     "data": {
      "text/html": [
       "<div>\n",
       "<style scoped>\n",
       "    .dataframe tbody tr th:only-of-type {\n",
       "        vertical-align: middle;\n",
       "    }\n",
       "\n",
       "    .dataframe tbody tr th {\n",
       "        vertical-align: top;\n",
       "    }\n",
       "\n",
       "    .dataframe thead th {\n",
       "        text-align: right;\n",
       "    }\n",
       "</style>\n",
       "<table border=\"1\" class=\"dataframe\">\n",
       "  <thead>\n",
       "    <tr style=\"text-align: right;\">\n",
       "      <th></th>\n",
       "      <th>Inflation rate value</th>\n",
       "      <th>Total CPI-Adjusted Cost (Millions of Dollars)</th>\n",
       "    </tr>\n",
       "  </thead>\n",
       "  <tbody>\n",
       "    <tr>\n",
       "      <th>0</th>\n",
       "      <td>82383.333333</td>\n",
       "      <td>44434.8</td>\n",
       "    </tr>\n",
       "    <tr>\n",
       "      <th>1</th>\n",
       "      <td>90933.333333</td>\n",
       "      <td>3392.1</td>\n",
       "    </tr>\n",
       "    <tr>\n",
       "      <th>2</th>\n",
       "      <td>96533.333333</td>\n",
       "      <td>14765.9</td>\n",
       "    </tr>\n",
       "    <tr>\n",
       "      <th>3</th>\n",
       "      <td>99583.333333</td>\n",
       "      <td>26005.6</td>\n",
       "    </tr>\n",
       "    <tr>\n",
       "      <th>4</th>\n",
       "      <td>103933.333333</td>\n",
       "      <td>3124.5</td>\n",
       "    </tr>\n",
       "  </tbody>\n",
       "</table>\n",
       "</div>"
      ],
      "text/plain": [
       "   Inflation rate value  Total CPI-Adjusted Cost (Millions of Dollars)\n",
       "0          82383.333333                                        44434.8\n",
       "1          90933.333333                                         3392.1\n",
       "2          96533.333333                                        14765.9\n",
       "3          99583.333333                                        26005.6\n",
       "4         103933.333333                                         3124.5"
      ]
     },
     "execution_count": 44,
     "metadata": {},
     "output_type": "execute_result"
    }
   ],
   "source": [
    "X.head()"
   ]
  },
  {
   "cell_type": "code",
   "execution_count": 45,
   "id": "60bb0de9",
   "metadata": {},
   "outputs": [],
   "source": [
    "X_train, X_test, y_train, y_test = train_test_split(X, y, random_state = 40)"
   ]
  },
  {
   "cell_type": "code",
   "execution_count": 46,
   "id": "5685d98c",
   "metadata": {},
   "outputs": [
    {
     "data": {
      "text/html": [
       "<div>\n",
       "<style scoped>\n",
       "    .dataframe tbody tr th:only-of-type {\n",
       "        vertical-align: middle;\n",
       "    }\n",
       "\n",
       "    .dataframe tbody tr th {\n",
       "        vertical-align: top;\n",
       "    }\n",
       "\n",
       "    .dataframe thead th {\n",
       "        text-align: right;\n",
       "    }\n",
       "</style>\n",
       "<table border=\"1\" class=\"dataframe\">\n",
       "  <thead>\n",
       "    <tr style=\"text-align: right;\">\n",
       "      <th></th>\n",
       "      <th>Inflation rate value</th>\n",
       "      <th>Total CPI-Adjusted Cost (Millions of Dollars)</th>\n",
       "    </tr>\n",
       "  </thead>\n",
       "  <tbody>\n",
       "    <tr>\n",
       "      <th>5</th>\n",
       "      <td>107600.000000</td>\n",
       "      <td>21922.7</td>\n",
       "    </tr>\n",
       "    <tr>\n",
       "      <th>16</th>\n",
       "      <td>160525.000000</td>\n",
       "      <td>16667.1</td>\n",
       "    </tr>\n",
       "    <tr>\n",
       "      <th>38</th>\n",
       "      <td>255651.666667</td>\n",
       "      <td>54126.9</td>\n",
       "    </tr>\n",
       "    <tr>\n",
       "      <th>22</th>\n",
       "      <td>184000.000000</td>\n",
       "      <td>37403.4</td>\n",
       "    </tr>\n",
       "    <tr>\n",
       "      <th>36</th>\n",
       "      <td>245121.000000</td>\n",
       "      <td>383626.4</td>\n",
       "    </tr>\n",
       "  </tbody>\n",
       "</table>\n",
       "</div>"
      ],
      "text/plain": [
       "    Inflation rate value  Total CPI-Adjusted Cost (Millions of Dollars)\n",
       "5          107600.000000                                        21922.7\n",
       "16         160525.000000                                        16667.1\n",
       "38         255651.666667                                        54126.9\n",
       "22         184000.000000                                        37403.4\n",
       "36         245121.000000                                       383626.4"
      ]
     },
     "execution_count": 46,
     "metadata": {},
     "output_type": "execute_result"
    }
   ],
   "source": [
    "X_train.head()"
   ]
  },
  {
   "cell_type": "code",
   "execution_count": 47,
   "id": "c40e34f4",
   "metadata": {},
   "outputs": [],
   "source": [
    "scaler = StandardScaler().fit(X_train)"
   ]
  },
  {
   "cell_type": "code",
   "execution_count": 48,
   "id": "bc99cb65",
   "metadata": {},
   "outputs": [
    {
     "name": "stdout",
     "output_type": "stream",
     "text": [
      "StandardScaler()\n"
     ]
    }
   ],
   "source": [
    "print(scaler)"
   ]
  },
  {
   "cell_type": "code",
   "execution_count": 49,
   "id": "1c09830e",
   "metadata": {},
   "outputs": [
    {
     "data": {
      "text/plain": [
       "array([180961.75260417,  69512.03125   ])"
      ]
     },
     "execution_count": 49,
     "metadata": {},
     "output_type": "execute_result"
    }
   ],
   "source": [
    "scaler.mean_"
   ]
  },
  {
   "cell_type": "code",
   "execution_count": 50,
   "id": "7a9a99c4",
   "metadata": {},
   "outputs": [
    {
     "data": {
      "text/plain": [
       "array([56521.95656663, 80733.52581137])"
      ]
     },
     "execution_count": 50,
     "metadata": {},
     "output_type": "execute_result"
    }
   ],
   "source": [
    "scaler.scale_"
   ]
  },
  {
   "cell_type": "code",
   "execution_count": 51,
   "id": "4e050985",
   "metadata": {},
   "outputs": [
    {
     "data": {
      "text/plain": [
       "array([[-1.29793371, -0.58946182],\n",
       "       [-0.36157192, -0.65455993],\n",
       "       [ 1.32143186, -0.19056682],\n",
       "       [ 0.0537534 , -0.39771125],\n",
       "       [ 1.13512078,  3.89075499],\n",
       "       [ 0.77777292,  0.32173708],\n",
       "       [-1.43976649, -0.53888928],\n",
       "       [ 0.98639981, -0.55346562],\n",
       "       [ 0.25308597,  2.36520413],\n",
       "       [ 0.14059281,  0.2527744 ],\n",
       "       [-0.50561624, -0.43245146],\n",
       "       [-0.42644347, -0.58070462],\n",
       "       [-0.0693551 , -0.59722564],\n",
       "       [-1.00881302, -0.37405565],\n",
       "       [ 0.65663711, -0.61791592],\n",
       "       [-0.01937452, -0.53326336],\n",
       "       [-0.3176362 , -0.40019101],\n",
       "       [-1.74407302, -0.31061732],\n",
       "       [-0.88998015, -0.68532287],\n",
       "       [ 0.99147306, -0.48803184],\n",
       "       [ 1.97535178,  1.40889881],\n",
       "       [ 1.04461465, -0.12313511],\n",
       "       [-0.79252539, -0.6248709 ],\n",
       "       [ 0.86027331,  1.05698182],\n",
       "       [-0.15516246, -0.6736821 ],\n",
       "       [ 1.59247255,  1.11920751],\n",
       "       [-0.64553237, -0.06910055],\n",
       "       [-1.59280437, -0.81898976],\n",
       "       [ 1.24089383,  0.53826051],\n",
       "       [-1.10906905, -0.20439627],\n",
       "       [ 0.60671108,  0.2709775 ],\n",
       "       [-1.26092744, -0.76618766]])"
      ]
     },
     "execution_count": 51,
     "metadata": {},
     "output_type": "execute_result"
    }
   ],
   "source": [
    "scaler.transform(X_train)"
   ]
  },
  {
   "cell_type": "code",
   "execution_count": 52,
   "id": "8335a964",
   "metadata": {},
   "outputs": [],
   "source": [
    "X_train_scaled = scaler.transform(X_train)"
   ]
  },
  {
   "cell_type": "code",
   "execution_count": 53,
   "id": "cf8abe58",
   "metadata": {},
   "outputs": [
    {
     "name": "stdout",
     "output_type": "stream",
     "text": [
      "[8.32667268e-17 2.77555756e-17]\n"
     ]
    }
   ],
   "source": [
    "print(X_train_scaled.mean(axis=0))"
   ]
  },
  {
   "cell_type": "code",
   "execution_count": 54,
   "id": "c3e9bd5d",
   "metadata": {},
   "outputs": [
    {
     "name": "stdout",
     "output_type": "stream",
     "text": [
      "[1. 1.]\n"
     ]
    }
   ],
   "source": [
    "print(X_train_scaled.std(axis=0))"
   ]
  },
  {
   "cell_type": "code",
   "execution_count": 55,
   "id": "70e950d7",
   "metadata": {},
   "outputs": [],
   "source": [
    "scaler = StandardScaler().fit(X_test)"
   ]
  },
  {
   "cell_type": "code",
   "execution_count": 56,
   "id": "514b5819",
   "metadata": {},
   "outputs": [
    {
     "data": {
      "text/plain": [
       "array([188472.15151515,  39560.37272727])"
      ]
     },
     "execution_count": 56,
     "metadata": {},
     "output_type": "execute_result"
    }
   ],
   "source": [
    "scaler.mean_"
   ]
  },
  {
   "cell_type": "code",
   "execution_count": 57,
   "id": "f4e72a78",
   "metadata": {},
   "outputs": [
    {
     "data": {
      "text/plain": [
       "array([61143.73566333, 35441.47201047])"
      ]
     },
     "execution_count": 57,
     "metadata": {},
     "output_type": "execute_result"
    }
   ],
   "source": [
    "scaler.scale_"
   ]
  },
  {
   "cell_type": "code",
   "execution_count": 58,
   "id": "f042f444",
   "metadata": {},
   "outputs": [
    {
     "data": {
      "text/plain": [
       "array([[-0.78771468,  1.08110993],\n",
       "       [ 0.42674061, -0.57231462],\n",
       "       [ 0.21402326, -0.42403354],\n",
       "       [ 0.72745962, -0.22966238],\n",
       "       [-0.65823835, -0.66149828],\n",
       "       [ 0.30865002, -0.59763242],\n",
       "       [-1.38262436, -1.02805755],\n",
       "       [ 1.8623115 ,  1.37273721],\n",
       "       [ 1.15103258,  2.20209892],\n",
       "       [-0.35798955, -0.44315802],\n",
       "       [-1.50365066, -0.69958925]])"
      ]
     },
     "execution_count": 58,
     "metadata": {},
     "output_type": "execute_result"
    }
   ],
   "source": [
    "scaler.transform(X_test)"
   ]
  },
  {
   "cell_type": "code",
   "execution_count": 59,
   "id": "ccbc1394",
   "metadata": {},
   "outputs": [],
   "source": [
    "X_test_scaled = scaler.transform(X_test)"
   ]
  },
  {
   "cell_type": "code",
   "execution_count": 60,
   "id": "088e7255",
   "metadata": {},
   "outputs": [
    {
     "name": "stdout",
     "output_type": "stream",
     "text": [
      "[[-0.78771468  1.08110993]\n",
      " [ 0.42674061 -0.57231462]\n",
      " [ 0.21402326 -0.42403354]\n",
      " [ 0.72745962 -0.22966238]\n",
      " [-0.65823835 -0.66149828]\n",
      " [ 0.30865002 -0.59763242]\n",
      " [-1.38262436 -1.02805755]\n",
      " [ 1.8623115   1.37273721]\n",
      " [ 1.15103258  2.20209892]\n",
      " [-0.35798955 -0.44315802]\n",
      " [-1.50365066 -0.69958925]]\n"
     ]
    }
   ],
   "source": [
    "print(X_test_scaled)"
   ]
  },
  {
   "cell_type": "code",
   "execution_count": 61,
   "id": "31a1bda4",
   "metadata": {},
   "outputs": [],
   "source": [
    "rModel = linear_model.LinearRegression()"
   ]
  },
  {
   "cell_type": "code",
   "execution_count": 62,
   "id": "fed83678",
   "metadata": {},
   "outputs": [
    {
     "data": {
      "text/plain": [
       "LinearRegression()"
      ]
     },
     "execution_count": 62,
     "metadata": {},
     "output_type": "execute_result"
    }
   ],
   "source": [
    "rModel.fit(X_train, y_train)"
   ]
  },
  {
   "cell_type": "code",
   "execution_count": 63,
   "id": "6d0924ef",
   "metadata": {},
   "outputs": [
    {
     "data": {
      "text/plain": [
       "0.9939898379458569"
      ]
     },
     "execution_count": 63,
     "metadata": {},
     "output_type": "execute_result"
    }
   ],
   "source": [
    "rModel.score(X_train, y_train)"
   ]
  },
  {
   "cell_type": "code",
   "execution_count": 64,
   "id": "e93551ba",
   "metadata": {},
   "outputs": [],
   "source": [
    "y_pred = rModel.predict(X_test)"
   ]
  },
  {
   "cell_type": "code",
   "execution_count": 65,
   "id": "a536234c",
   "metadata": {},
   "outputs": [
    {
     "data": {
      "image/png": "[encoded data removed]",
      "text/plain": [
       "<Figure size 432x288 with 1 Axes>"
      ]
     },
     "metadata": {
      "needs_background": "light"
     },
     "output_type": "display_data"
    }
   ],
   "source": [
    "_ = plt.scatter(y_test, y_pred)\n",
    "_ = plt.xlabel('Cost')\n",
    "_ = plt.ylabel('Year')"
   ]
  },
  {
   "cell_type": "markdown",
   "id": "fc6ff983",
   "metadata": {},
   "source": [
    "# Dummies and Cost and Days Linear Regression "
   ]
  },
  {
   "cell_type": "code",
   "execution_count": 66,
   "id": "278632b3",
   "metadata": {},
   "outputs": [
    {
     "data": {
      "text/html": [
       "<div>\n",
       "<style scoped>\n",
       "    .dataframe tbody tr th:only-of-type {\n",
       "        vertical-align: middle;\n",
       "    }\n",
       "\n",
       "    .dataframe tbody tr th {\n",
       "        vertical-align: top;\n",
       "    }\n",
       "\n",
       "    .dataframe thead th {\n",
       "        text-align: right;\n",
       "    }\n",
       "</style>\n",
       "<table border=\"1\" class=\"dataframe\">\n",
       "  <thead>\n",
       "    <tr style=\"text-align: right;\">\n",
       "      <th></th>\n",
       "      <th>1038.2</th>\n",
       "      <th>1050.6</th>\n",
       "      <th>1088.6</th>\n",
       "      <th>1100.4</th>\n",
       "      <th>1111.0</th>\n",
       "      <th>1116.0</th>\n",
       "      <th>1125.2</th>\n",
       "      <th>1125.9</th>\n",
       "      <th>1137.9</th>\n",
       "      <th>1146.2</th>\n",
       "      <th>...</th>\n",
       "      <th>45065.9</th>\n",
       "      <th>53010.4</th>\n",
       "      <th>58860.0</th>\n",
       "      <th>62000.0</th>\n",
       "      <th>82400.7</th>\n",
       "      <th>86502.7</th>\n",
       "      <th>111600.0</th>\n",
       "      <th>116272.0</th>\n",
       "      <th>155000.0</th>\n",
       "      <th>195046.1</th>\n",
       "    </tr>\n",
       "  </thead>\n",
       "  <tbody>\n",
       "    <tr>\n",
       "      <th>0</th>\n",
       "      <td>0</td>\n",
       "      <td>0</td>\n",
       "      <td>0</td>\n",
       "      <td>0</td>\n",
       "      <td>0</td>\n",
       "      <td>0</td>\n",
       "      <td>0</td>\n",
       "      <td>0</td>\n",
       "      <td>0</td>\n",
       "      <td>0</td>\n",
       "      <td>...</td>\n",
       "      <td>0</td>\n",
       "      <td>0</td>\n",
       "      <td>0</td>\n",
       "      <td>0</td>\n",
       "      <td>0</td>\n",
       "      <td>0</td>\n",
       "      <td>0</td>\n",
       "      <td>0</td>\n",
       "      <td>0</td>\n",
       "      <td>0</td>\n",
       "    </tr>\n",
       "    <tr>\n",
       "      <th>1</th>\n",
       "      <td>0</td>\n",
       "      <td>0</td>\n",
       "      <td>0</td>\n",
       "      <td>0</td>\n",
       "      <td>0</td>\n",
       "      <td>0</td>\n",
       "      <td>0</td>\n",
       "      <td>0</td>\n",
       "      <td>0</td>\n",
       "      <td>0</td>\n",
       "      <td>...</td>\n",
       "      <td>0</td>\n",
       "      <td>0</td>\n",
       "      <td>0</td>\n",
       "      <td>0</td>\n",
       "      <td>0</td>\n",
       "      <td>0</td>\n",
       "      <td>0</td>\n",
       "      <td>0</td>\n",
       "      <td>0</td>\n",
       "      <td>0</td>\n",
       "    </tr>\n",
       "    <tr>\n",
       "      <th>2</th>\n",
       "      <td>0</td>\n",
       "      <td>0</td>\n",
       "      <td>0</td>\n",
       "      <td>0</td>\n",
       "      <td>0</td>\n",
       "      <td>0</td>\n",
       "      <td>0</td>\n",
       "      <td>0</td>\n",
       "      <td>0</td>\n",
       "      <td>0</td>\n",
       "      <td>...</td>\n",
       "      <td>0</td>\n",
       "      <td>0</td>\n",
       "      <td>0</td>\n",
       "      <td>0</td>\n",
       "      <td>0</td>\n",
       "      <td>0</td>\n",
       "      <td>0</td>\n",
       "      <td>0</td>\n",
       "      <td>0</td>\n",
       "      <td>0</td>\n",
       "    </tr>\n",
       "    <tr>\n",
       "      <th>3</th>\n",
       "      <td>0</td>\n",
       "      <td>0</td>\n",
       "      <td>0</td>\n",
       "      <td>0</td>\n",
       "      <td>0</td>\n",
       "      <td>0</td>\n",
       "      <td>0</td>\n",
       "      <td>0</td>\n",
       "      <td>0</td>\n",
       "      <td>0</td>\n",
       "      <td>...</td>\n",
       "      <td>0</td>\n",
       "      <td>0</td>\n",
       "      <td>0</td>\n",
       "      <td>0</td>\n",
       "      <td>0</td>\n",
       "      <td>0</td>\n",
       "      <td>0</td>\n",
       "      <td>0</td>\n",
       "      <td>0</td>\n",
       "      <td>0</td>\n",
       "    </tr>\n",
       "    <tr>\n",
       "      <th>4</th>\n",
       "      <td>0</td>\n",
       "      <td>0</td>\n",
       "      <td>0</td>\n",
       "      <td>0</td>\n",
       "      <td>0</td>\n",
       "      <td>0</td>\n",
       "      <td>0</td>\n",
       "      <td>0</td>\n",
       "      <td>0</td>\n",
       "      <td>0</td>\n",
       "      <td>...</td>\n",
       "      <td>0</td>\n",
       "      <td>0</td>\n",
       "      <td>0</td>\n",
       "      <td>0</td>\n",
       "      <td>0</td>\n",
       "      <td>0</td>\n",
       "      <td>0</td>\n",
       "      <td>0</td>\n",
       "      <td>0</td>\n",
       "      <td>0</td>\n",
       "    </tr>\n",
       "  </tbody>\n",
       "</table>\n",
       "<p>5 rows × 371 columns</p>\n",
       "</div>"
      ],
      "text/plain": [
       "   1038.2    1050.6    1088.6    1100.4    1111.0    1116.0    1125.2    \\\n",
       "0         0         0         0         0         0         0         0   \n",
       "1         0         0         0         0         0         0         0   \n",
       "2         0         0         0         0         0         0         0   \n",
       "3         0         0         0         0         0         0         0   \n",
       "4         0         0         0         0         0         0         0   \n",
       "\n",
       "   1125.9    1137.9    1146.2    ...  45065.9   53010.4   58860.0   62000.0   \\\n",
       "0         0         0         0  ...         0         0         0         0   \n",
       "1         0         0         0  ...         0         0         0         0   \n",
       "2         0         0         0  ...         0         0         0         0   \n",
       "3         0         0         0  ...         0         0         0         0   \n",
       "4         0         0         0  ...         0         0         0         0   \n",
       "\n",
       "   82400.7   86502.7   111600.0  116272.0  155000.0  195046.1  \n",
       "0         0         0         0         0         0         0  \n",
       "1         0         0         0         0         0         0  \n",
       "2         0         0         0         0         0         0  \n",
       "3         0         0         0         0         0         0  \n",
       "4         0         0         0         0         0         0  \n",
       "\n",
       "[5 rows x 371 columns]"
      ]
     },
     "execution_count": 66,
     "metadata": {},
     "output_type": "execute_result"
    }
   ],
   "source": [
    "dummy4 = pd.get_dummies(df1['Total CPI-Adjusted Cost (Millions of Dollars)'])\n",
    "dummy4.head()"
   ]
  },
  {
   "cell_type": "code",
   "execution_count": 67,
   "id": "ccca6862",
   "metadata": {},
   "outputs": [
    {
     "data": {
      "text/html": [
       "<div>\n",
       "<style scoped>\n",
       "    .dataframe tbody tr th:only-of-type {\n",
       "        vertical-align: middle;\n",
       "    }\n",
       "\n",
       "    .dataframe tbody tr th {\n",
       "        vertical-align: top;\n",
       "    }\n",
       "\n",
       "    .dataframe thead th {\n",
       "        text-align: right;\n",
       "    }\n",
       "</style>\n",
       "<table border=\"1\" class=\"dataframe\">\n",
       "  <thead>\n",
       "    <tr style=\"text-align: right;\">\n",
       "      <th></th>\n",
       "      <th>Name</th>\n",
       "      <th>Disaster</th>\n",
       "      <th>Begin Date</th>\n",
       "      <th>End Date</th>\n",
       "      <th>Total CPI-Adjusted Cost (Millions of Dollars)</th>\n",
       "      <th>Deaths</th>\n",
       "      <th>year_only</th>\n",
       "      <th>number_of_days</th>\n",
       "      <th>1038.2</th>\n",
       "      <th>1050.6</th>\n",
       "      <th>...</th>\n",
       "      <th>45065.9</th>\n",
       "      <th>53010.4</th>\n",
       "      <th>58860.0</th>\n",
       "      <th>62000.0</th>\n",
       "      <th>82400.7</th>\n",
       "      <th>86502.7</th>\n",
       "      <th>111600.0</th>\n",
       "      <th>116272.0</th>\n",
       "      <th>155000.0</th>\n",
       "      <th>195046.1</th>\n",
       "    </tr>\n",
       "  </thead>\n",
       "  <tbody>\n",
       "    <tr>\n",
       "      <th>0</th>\n",
       "      <td>Southern Severe Storms and Flooding (April 1980)</td>\n",
       "      <td>Flooding</td>\n",
       "      <td>1980-04-10</td>\n",
       "      <td>1980-04-17</td>\n",
       "      <td>2678.6</td>\n",
       "      <td>7</td>\n",
       "      <td>1980</td>\n",
       "      <td>7</td>\n",
       "      <td>0</td>\n",
       "      <td>0</td>\n",
       "      <td>...</td>\n",
       "      <td>0</td>\n",
       "      <td>0</td>\n",
       "      <td>0</td>\n",
       "      <td>0</td>\n",
       "      <td>0</td>\n",
       "      <td>0</td>\n",
       "      <td>0</td>\n",
       "      <td>0</td>\n",
       "      <td>0</td>\n",
       "      <td>0</td>\n",
       "    </tr>\n",
       "    <tr>\n",
       "      <th>1</th>\n",
       "      <td>Hurricane Allen (August 1980)</td>\n",
       "      <td>Tropical Cyclone</td>\n",
       "      <td>1980-08-07</td>\n",
       "      <td>1980-08-11</td>\n",
       "      <td>2177.2</td>\n",
       "      <td>13</td>\n",
       "      <td>1980</td>\n",
       "      <td>4</td>\n",
       "      <td>0</td>\n",
       "      <td>0</td>\n",
       "      <td>...</td>\n",
       "      <td>0</td>\n",
       "      <td>0</td>\n",
       "      <td>0</td>\n",
       "      <td>0</td>\n",
       "      <td>0</td>\n",
       "      <td>0</td>\n",
       "      <td>0</td>\n",
       "      <td>0</td>\n",
       "      <td>0</td>\n",
       "      <td>0</td>\n",
       "    </tr>\n",
       "    <tr>\n",
       "      <th>2</th>\n",
       "      <td>Central/Eastern Drought/Heat Wave (Summer-Fall...</td>\n",
       "      <td>Drought</td>\n",
       "      <td>1980-06-01</td>\n",
       "      <td>1980-11-30</td>\n",
       "      <td>39579.0</td>\n",
       "      <td>1260</td>\n",
       "      <td>1980</td>\n",
       "      <td>182</td>\n",
       "      <td>0</td>\n",
       "      <td>0</td>\n",
       "      <td>...</td>\n",
       "      <td>0</td>\n",
       "      <td>0</td>\n",
       "      <td>0</td>\n",
       "      <td>0</td>\n",
       "      <td>0</td>\n",
       "      <td>0</td>\n",
       "      <td>0</td>\n",
       "      <td>0</td>\n",
       "      <td>0</td>\n",
       "      <td>0</td>\n",
       "    </tr>\n",
       "    <tr>\n",
       "      <th>3</th>\n",
       "      <td>Florida Freeze (January 1981)</td>\n",
       "      <td>Freeze</td>\n",
       "      <td>1981-01-12</td>\n",
       "      <td>1981-01-14</td>\n",
       "      <td>2019.2</td>\n",
       "      <td>0</td>\n",
       "      <td>1981</td>\n",
       "      <td>2</td>\n",
       "      <td>0</td>\n",
       "      <td>0</td>\n",
       "      <td>...</td>\n",
       "      <td>0</td>\n",
       "      <td>0</td>\n",
       "      <td>0</td>\n",
       "      <td>0</td>\n",
       "      <td>0</td>\n",
       "      <td>0</td>\n",
       "      <td>0</td>\n",
       "      <td>0</td>\n",
       "      <td>0</td>\n",
       "      <td>0</td>\n",
       "    </tr>\n",
       "    <tr>\n",
       "      <th>4</th>\n",
       "      <td>Severe Storms, Flash Floods, Hail, Tornadoes (...</td>\n",
       "      <td>Severe Storm</td>\n",
       "      <td>1981-05-05</td>\n",
       "      <td>1981-05-10</td>\n",
       "      <td>1372.9</td>\n",
       "      <td>20</td>\n",
       "      <td>1981</td>\n",
       "      <td>5</td>\n",
       "      <td>0</td>\n",
       "      <td>0</td>\n",
       "      <td>...</td>\n",
       "      <td>0</td>\n",
       "      <td>0</td>\n",
       "      <td>0</td>\n",
       "      <td>0</td>\n",
       "      <td>0</td>\n",
       "      <td>0</td>\n",
       "      <td>0</td>\n",
       "      <td>0</td>\n",
       "      <td>0</td>\n",
       "      <td>0</td>\n",
       "    </tr>\n",
       "  </tbody>\n",
       "</table>\n",
       "<p>5 rows × 379 columns</p>\n",
       "</div>"
      ],
      "text/plain": [
       "                                                Name          Disaster  \\\n",
       "0   Southern Severe Storms and Flooding (April 1980)          Flooding   \n",
       "1                      Hurricane Allen (August 1980)  Tropical Cyclone   \n",
       "2  Central/Eastern Drought/Heat Wave (Summer-Fall...           Drought   \n",
       "3                      Florida Freeze (January 1981)            Freeze   \n",
       "4  Severe Storms, Flash Floods, Hail, Tornadoes (...      Severe Storm   \n",
       "\n",
       "   Begin Date    End Date  Total CPI-Adjusted Cost (Millions of Dollars)  \\\n",
       "0  1980-04-10  1980-04-17                                         2678.6   \n",
       "1  1980-08-07  1980-08-11                                         2177.2   \n",
       "2  1980-06-01  1980-11-30                                        39579.0   \n",
       "3  1981-01-12  1981-01-14                                         2019.2   \n",
       "4  1981-05-05  1981-05-10                                         1372.9   \n",
       "\n",
       "   Deaths  year_only  number_of_days  1038.2  1050.6  ...  45065.9  53010.4  \\\n",
       "0       7       1980               7       0       0  ...        0        0   \n",
       "1      13       1980               4       0       0  ...        0        0   \n",
       "2    1260       1980             182       0       0  ...        0        0   \n",
       "3       0       1981               2       0       0  ...        0        0   \n",
       "4      20       1981               5       0       0  ...        0        0   \n",
       "\n",
       "   58860.0  62000.0  82400.7  86502.7  111600.0  116272.0  155000.0  195046.1  \n",
       "0        0        0        0        0         0         0         0         0  \n",
       "1        0        0        0        0         0         0         0         0  \n",
       "2        0        0        0        0         0         0         0         0  \n",
       "3        0        0        0        0         0         0         0         0  \n",
       "4        0        0        0        0         0         0         0         0  \n",
       "\n",
       "[5 rows x 379 columns]"
      ]
     },
     "execution_count": 67,
     "metadata": {},
     "output_type": "execute_result"
    }
   ],
   "source": [
    "df1dummy4 = pd.concat([df1, dummy4], axis=1)\n",
    "df1dummy4.head()"
   ]
  },
  {
   "cell_type": "code",
   "execution_count": 68,
   "id": "b91c8fb8",
   "metadata": {},
   "outputs": [
    {
     "name": "stdout",
     "output_type": "stream",
     "text": [
      "StandardScaler()\n",
      "[7073.26888298]\n"
     ]
    }
   ],
   "source": [
    "data = df1dummy4[['Total CPI-Adjusted Cost (Millions of Dollars)']]\n",
    "scaler = StandardScaler()\n",
    "print(scaler.fit(data))\n",
    "StandardScaler()\n",
    "print(scaler.mean_)"
   ]
  },
  {
   "cell_type": "code",
   "execution_count": 69,
   "id": "ea6ff321",
   "metadata": {},
   "outputs": [
    {
     "name": "stdout",
     "output_type": "stream",
     "text": [
      "[[-2.48246733e-01]\n",
      " [-2.76569894e-01]\n",
      " [ 1.83618875e+00]\n",
      " [-2.85495022e-01]\n",
      " [-3.22003316e-01]\n",
      " [-2.77648818e-01]\n",
      " [-3.11118049e-01]\n",
      " [-3.12535902e-01]\n",
      " [-1.27966507e-01]\n",
      " [-1.34411805e-01]\n",
      " [ 1.19005352e-01]\n",
      " [ 1.26196294e-01]\n",
      " [-3.30640355e-01]\n",
      " [-4.37765617e-02]\n",
      " [-2.97668220e-01]\n",
      " [-3.24946349e-01]\n",
      " [-2.61962057e-01]\n",
      " [-2.02299269e-01]\n",
      " [-3.02955511e-01]\n",
      " [-1.91419650e-01]\n",
      " [-2.62204956e-01]\n",
      " [-1.61136351e-01]\n",
      " [-1.76540671e-01]\n",
      " [-3.15456339e-01]\n",
      " [-1.14279427e-01]\n",
      " [-3.36515123e-01]\n",
      " [ 2.59490375e+00]\n",
      " [-3.22302704e-01]\n",
      " [-3.17930520e-01]\n",
      " [ 8.51080533e-01]\n",
      " [ 3.13413857e-02]\n",
      " [-1.12596080e-01]\n",
      " [-3.06197931e-01]\n",
      " [-2.64193339e-01]\n",
      " [-2.90697581e-01]\n",
      " [-3.05440990e-01]\n",
      " [ 6.33080321e-02]\n",
      " [-3.16857245e-01]\n",
      " [-2.08535561e-01]\n",
      " [-1.20810584e-02]\n",
      " [ 1.61404234e-02]\n",
      " [-2.99600114e-01]\n",
      " [-2.80947726e-01]\n",
      " [-3.07022658e-01]\n",
      " [ 2.92533685e+00]\n",
      " [-1.95600900e-02]\n",
      " [-3.19404861e-01]\n",
      " [-9.65929859e-02]\n",
      " [ 2.71709779e-01]\n",
      " [-3.22071102e-01]\n",
      " [ 2.14613360e+00]\n",
      " [-2.46766744e-01]\n",
      " [-2.35310946e-01]\n",
      " [-2.76157530e-01]\n",
      " [-4.56745637e-02]\n",
      " [-2.83817324e-01]\n",
      " [-2.82800537e-01]\n",
      " [-2.83755187e-01]\n",
      " [-3.14772833e-01]\n",
      " [-1.11466317e-01]\n",
      " [-3.33944912e-01]\n",
      " [ 2.26485363e-01]\n",
      " [-3.03045892e-01]\n",
      " [-1.62305656e-01]\n",
      " [-2.88387216e-01]\n",
      " [ 1.30190007e-01]\n",
      " [-6.19770450e-02]\n",
      " [-2.86212422e-01]\n",
      " [-1.98175634e-01]\n",
      " [ 1.51983137e-01]\n",
      " [-3.25087570e-01]\n",
      " [-7.06366791e-02]\n",
      " [-2.93527638e-01]\n",
      " [-8.17320492e-04]\n",
      " [-2.49105353e-01]\n",
      " [-2.91748261e-01]\n",
      " [-2.25397275e-01]\n",
      " [-2.78010342e-01]\n",
      " [-3.04616262e-01]\n",
      " [-3.25217492e-01]\n",
      " [-2.95482128e-01]\n",
      " [-2.08988593e-02]\n",
      " [ 2.35986671e-01]\n",
      " [-3.00040722e-01]\n",
      " [-1.31237171e-01]\n",
      " [-2.90499873e-01]\n",
      " [-3.06384342e-01]\n",
      " [-1.89273100e-01]\n",
      " [-1.35581110e-01]\n",
      " [ 2.71438636e-01]\n",
      " [-3.26974274e-01]\n",
      " [-3.29787384e-01]\n",
      " [-2.90850099e-01]\n",
      " [-3.10078667e-01]\n",
      " [ 1.14198210e-01]\n",
      " [-9.53558953e-02]\n",
      " [-3.33600334e-01]\n",
      " [ 4.33254603e-01]\n",
      " [-1.97311365e-01]\n",
      " [-2.93488096e-01]\n",
      " [-2.89121562e-01]\n",
      " [-3.30815468e-01]\n",
      " [-2.72525342e-01]\n",
      " [ 4.80591676e-01]\n",
      " [-2.10292343e-01]\n",
      " [-1.01039730e-02]\n",
      " [-3.18608378e-01]\n",
      " [-3.04441149e-01]\n",
      " [ 1.14684008e-01]\n",
      " [ 7.94692930e-02]\n",
      " [-3.47497547e-02]\n",
      " [-3.06762812e-01]\n",
      " [-3.35955890e-01]\n",
      " [ 1.06457186e+00]\n",
      " [ 4.97250033e-01]\n",
      " [ 1.47647219e+00]\n",
      " [ 2.86470134e-01]\n",
      " [-3.21862096e-01]\n",
      " [-1.78286154e-01]\n",
      " [ 1.06182383e+01]\n",
      " [-2.65419132e-01]\n",
      " [ 1.20979726e+00]\n",
      " [ 1.25328749e+00]\n",
      " [-2.83195954e-01]\n",
      " [-2.61849081e-01]\n",
      " [-1.91464841e-01]\n",
      " [-2.69763071e-01]\n",
      " [-3.34809181e-01]\n",
      " [ 1.25597520e-01]\n",
      " [-3.24082080e-01]\n",
      " [-2.71113138e-01]\n",
      " [-2.79349111e-01]\n",
      " [-2.24047208e-01]\n",
      " [-1.88476617e-01]\n",
      " [-1.71925588e-01]\n",
      " [-9.57626100e-02]\n",
      " [-3.19105474e-01]\n",
      " [-3.00311865e-01]\n",
      " [-3.07559295e-01]\n",
      " [-3.15574964e-01]\n",
      " [-1.56549513e-01]\n",
      " [-2.70181084e-01]\n",
      " [ 4.16121746e-01]\n",
      " [-2.99334620e-01]\n",
      " [ 7.47073416e-02]\n",
      " [ 1.97285054e+00]\n",
      " [-3.01961319e-01]\n",
      " [ 1.74623589e-01]\n",
      " [-2.57013695e-01]\n",
      " [-2.66113937e-01]\n",
      " [-2.83229847e-01]\n",
      " [-3.29521890e-01]\n",
      " [-2.93030542e-01]\n",
      " [-3.18777843e-01]\n",
      " [-3.27482667e-01]\n",
      " [-3.18393723e-01]\n",
      " [-1.13533783e-01]\n",
      " [-3.34018347e-01]\n",
      " [-2.51619076e-01]\n",
      " [-2.17777023e-01]\n",
      " [-1.34022037e-01]\n",
      " [-3.27787703e-01]\n",
      " [-3.24019943e-01]\n",
      " [-9.90389230e-02]\n",
      " [-2.58680096e-01]\n",
      " [-1.84782292e-01]\n",
      " [-2.30904870e-01]\n",
      " [-2.40197171e-01]\n",
      " [-3.19263641e-01]\n",
      " [ 3.91509857e-01]\n",
      " [ 2.99298594e-01]\n",
      " [-1.65101819e-01]\n",
      " [-2.81461768e-01]\n",
      " [-2.42332424e-01]\n",
      " [-3.31335159e-01]\n",
      " [-3.04678399e-01]\n",
      " [-3.11095454e-01]\n",
      " [ 6.37109053e-01]\n",
      " [ 5.39904238e-01]\n",
      " [-2.07942435e-01]\n",
      " [-3.28488156e-01]\n",
      " [-2.59679936e-01]\n",
      " [-1.62718019e-01]\n",
      " [-3.23279949e-01]\n",
      " [-3.15140006e-01]\n",
      " [-1.53414420e-01]\n",
      " [-2.25176971e-01]\n",
      " [-2.02920639e-01]\n",
      " [-1.80912854e-01]\n",
      " [-1.91939341e-01]\n",
      " [ 4.48682195e+00]\n",
      " [-2.67961099e-01]\n",
      " [ 1.88848548e+00]\n",
      " [-3.30809820e-01]\n",
      " [-2.48930240e-01]\n",
      " [-2.91883833e-01]\n",
      " [-3.19252343e-01]\n",
      " [-2.20578836e-01]\n",
      " [-2.64334560e-01]\n",
      " [-3.22449573e-01]\n",
      " [-2.87929662e-01]\n",
      " [-3.18229908e-01]\n",
      " [ 3.83742736e-01]\n",
      " [-2.38768021e-01]\n",
      " [-2.94979383e-01]\n",
      " [-3.32142940e-01]\n",
      " [-2.72050842e-01]\n",
      " [-3.37396338e-01]\n",
      " [-1.28971996e-01]\n",
      " [-2.59702531e-01]\n",
      " [-3.24375819e-01]\n",
      " [-2.97510053e-01]\n",
      " [-1.07128027e-01]\n",
      " [-1.80370567e-01]\n",
      " [-2.85331207e-01]\n",
      " [-3.05271525e-01]\n",
      " [-3.30233640e-01]\n",
      " [-3.06864491e-01]\n",
      " [-2.14534603e-01]\n",
      " [-3.14157112e-01]\n",
      " [-2.53946388e-01]\n",
      " [-1.78907524e-01]\n",
      " [-2.55488515e-01]\n",
      " [-6.90663084e-02]\n",
      " [-3.23771396e-01]\n",
      " [-2.32334020e-01]\n",
      " [-3.11360948e-01]\n",
      " [-2.49094056e-01]\n",
      " [-1.46590651e-01]\n",
      " [-2.03044912e-01]\n",
      " [-2.26425359e-01]\n",
      " [-2.75225476e-01]\n",
      " [-3.16676483e-01]\n",
      " [-3.28403424e-01]\n",
      " [-2.93584126e-01]\n",
      " [ 3.34790101e-01]\n",
      " [ 3.17843655e-01]\n",
      " [-1.46681032e-01]\n",
      " [-2.27730236e-01]\n",
      " [-3.20907446e-01]\n",
      " [-2.92793292e-01]\n",
      " [-2.71005811e-01]\n",
      " [-2.44676682e-01]\n",
      " [-3.28380829e-01]\n",
      " [-2.07739078e-01]\n",
      " [-3.30086771e-01]\n",
      " [-3.35995432e-01]\n",
      " [-2.81478715e-01]\n",
      " [-1.63011758e-01]\n",
      " [-3.33097590e-01]\n",
      " [-2.33621950e-01]\n",
      " [-2.92991000e-01]\n",
      " [-2.98933554e-01]\n",
      " [ 8.35610799e+00]\n",
      " [ 3.10270966e+00]\n",
      " [ 5.90452210e+00]\n",
      " [-2.21618218e-01]\n",
      " [ 8.71783441e-01]\n",
      " [-3.26494125e-01]\n",
      " [-2.47111322e-01]\n",
      " [-2.98662411e-01]\n",
      " [-3.07966010e-01]\n",
      " [-3.02961160e-01]\n",
      " [-3.04367715e-01]\n",
      " [-3.09965691e-01]\n",
      " [-3.33741555e-01]\n",
      " [-2.46354380e-01]\n",
      " [-2.90324759e-01]\n",
      " [-3.40909902e-01]\n",
      " [-3.28917466e-01]\n",
      " [ 1.25441725e+00]\n",
      " [ 1.30750482e+00]\n",
      " [-1.90120423e-01]\n",
      " [ 1.25441725e+00]\n",
      " [-3.14970541e-01]\n",
      " [-2.94634806e-01]\n",
      " [ 3.39704571e-01]\n",
      " [-3.14688100e-01]\n",
      " [-2.96928225e-01]\n",
      " [-3.33600334e-01]\n",
      " [-8.78768637e-02]\n",
      " [-1.94503904e-01]\n",
      " [-3.31227832e-01]\n",
      " [ 2.21112213e-02]\n",
      " [-2.90420789e-01]\n",
      " [-6.06269781e-02]\n",
      " [-2.84071521e-01]\n",
      " [-9.45198706e-02]\n",
      " [-3.22302704e-01]\n",
      " [-3.15106113e-01]\n",
      " [-2.42524483e-01]\n",
      " [-2.27589015e-01]\n",
      " [-2.04265057e-01]\n",
      " [-1.66101660e-01]\n",
      " [-3.08045093e-01]\n",
      " [-3.29939902e-01]\n",
      " [-2.56324539e-01]\n",
      " [-2.92183220e-01]\n",
      " [-3.04655804e-01]\n",
      " [-3.19150665e-01]\n",
      " [-3.27900680e-01]\n",
      " [-8.24822450e-02]\n",
      " [ 3.41692954e-01]\n",
      " [ 1.14786365e+00]\n",
      " [ 8.52932217e-02]\n",
      " [-2.08450829e-01]\n",
      " [-1.09472285e-01]\n",
      " [-3.02238111e-01]\n",
      " [-9.99370846e-02]\n",
      " [ 6.96935658e-01]\n",
      " [-3.27183280e-01]\n",
      " [ 1.09980917e+00]\n",
      " [-2.89663848e-01]\n",
      " [-3.11349650e-01]\n",
      " [-3.02904671e-01]\n",
      " [-1.93215974e-01]\n",
      " [-3.18156473e-01]\n",
      " [-3.13123379e-01]\n",
      " [-2.90578956e-01]\n",
      " [-3.19568677e-01]\n",
      " [-3.22811097e-01]\n",
      " [-3.31227832e-01]\n",
      " [-3.18320289e-01]\n",
      " [-3.18766545e-01]\n",
      " [ 4.25510754e+00]\n",
      " [-3.35278033e-01]\n",
      " [-1.56289667e-01]\n",
      " [-2.88827823e-01]\n",
      " [ 2.64298534e-01]\n",
      " [ 1.57671494e-01]\n",
      " [-3.38062899e-01]\n",
      " [-3.23630175e-01]\n",
      " [-3.14716344e-01]\n",
      " [-2.39383742e-01]\n",
      " [-3.31990422e-01]\n",
      " [-2.70220625e-01]\n",
      " [-2.37530931e-01]\n",
      " [-2.55352943e-01]\n",
      " [-2.87291346e-01]\n",
      " [-2.11851416e-01]\n",
      " [-3.20834012e-01]\n",
      " [-3.13490552e-01]\n",
      " [-2.52099226e-01]\n",
      " [ 6.16843476e+00]\n",
      " [-3.40209448e-01]\n",
      " [-2.16850617e-01]\n",
      " [ 9.18119547e-02]\n",
      " [ 8.91311396e-01]\n",
      " [-2.98662411e-01]\n",
      " [-6.09941511e-02]\n",
      " [-1.37733309e-01]\n",
      " [-2.37367115e-01]\n",
      " [-7.52913030e-02]\n",
      " [-2.37350168e-01]\n",
      " [-3.36797564e-01]\n",
      " [-3.22635984e-01]\n",
      " [-2.29006868e-01]\n",
      " [-3.24240247e-01]\n",
      " [-2.77620574e-01]\n",
      " [-2.04084294e-01]\n",
      " [-3.06841896e-01]\n",
      " [-1.57080501e-01]\n",
      " [-1.69502247e-01]\n",
      " [-1.84573286e-01]\n",
      " [-1.00366395e-01]\n",
      " [-2.90059265e-01]\n",
      " [-2.76010661e-01]\n",
      " [-2.95035872e-01]\n",
      " [-3.15004434e-01]\n",
      " [-8.57642067e-02]\n",
      " [-3.06486020e-01]\n",
      " [-2.98283940e-01]\n",
      " [-2.02378352e-01]\n",
      " [-3.06632890e-01]\n",
      " [ 4.20482631e-01]\n",
      " [-3.27477018e-01]]\n"
     ]
    }
   ],
   "source": [
    "print(scaler.transform(data))"
   ]
  },
  {
   "cell_type": "code",
   "execution_count": 70,
   "id": "58c7bf9b",
   "metadata": {},
   "outputs": [
    {
     "name": "stdout",
     "output_type": "stream",
     "text": [
      "[17702.82662864]\n"
     ]
    }
   ],
   "source": [
    "print(scaler.scale_)"
   ]
  },
  {
   "cell_type": "code",
   "execution_count": 71,
   "id": "c5e6f67e",
   "metadata": {},
   "outputs": [
    {
     "name": "stdout",
     "output_type": "stream",
     "text": [
      "[3.13390071e+08]\n"
     ]
    }
   ],
   "source": [
    "print(scaler.var_)"
   ]
  },
  {
   "cell_type": "code",
   "execution_count": 72,
   "id": "4145eaa2",
   "metadata": {},
   "outputs": [
    {
     "name": "stdout",
     "output_type": "stream",
     "text": [
      "1\n"
     ]
    }
   ],
   "source": [
    "print(scaler.n_features_in_)"
   ]
  },
  {
   "cell_type": "code",
   "execution_count": 73,
   "id": "5ed1548c",
   "metadata": {},
   "outputs": [
    {
     "name": "stdout",
     "output_type": "stream",
     "text": [
      "True\n"
     ]
    }
   ],
   "source": [
    "print(scaler.with_std)"
   ]
  },
  {
   "cell_type": "code",
   "execution_count": 74,
   "id": "963d0205",
   "metadata": {},
   "outputs": [
    {
     "data": {
      "text/html": [
       "<div>\n",
       "<style scoped>\n",
       "    .dataframe tbody tr th:only-of-type {\n",
       "        vertical-align: middle;\n",
       "    }\n",
       "\n",
       "    .dataframe tbody tr th {\n",
       "        vertical-align: top;\n",
       "    }\n",
       "\n",
       "    .dataframe thead th {\n",
       "        text-align: right;\n",
       "    }\n",
       "</style>\n",
       "<table border=\"1\" class=\"dataframe\">\n",
       "  <thead>\n",
       "    <tr style=\"text-align: right;\">\n",
       "      <th></th>\n",
       "      <th>Name</th>\n",
       "      <th>Disaster</th>\n",
       "      <th>Begin Date</th>\n",
       "      <th>End Date</th>\n",
       "      <th>Total CPI-Adjusted Cost (Millions of Dollars)</th>\n",
       "      <th>Deaths</th>\n",
       "      <th>year_only</th>\n",
       "      <th>number_of_days</th>\n",
       "    </tr>\n",
       "  </thead>\n",
       "  <tbody>\n",
       "    <tr>\n",
       "      <th>0</th>\n",
       "      <td>Southern Severe Storms and Flooding (April 1980)</td>\n",
       "      <td>Flooding</td>\n",
       "      <td>1980-04-10</td>\n",
       "      <td>1980-04-17</td>\n",
       "      <td>2678.6</td>\n",
       "      <td>7</td>\n",
       "      <td>1980</td>\n",
       "      <td>7</td>\n",
       "    </tr>\n",
       "    <tr>\n",
       "      <th>1</th>\n",
       "      <td>Hurricane Allen (August 1980)</td>\n",
       "      <td>Tropical Cyclone</td>\n",
       "      <td>1980-08-07</td>\n",
       "      <td>1980-08-11</td>\n",
       "      <td>2177.2</td>\n",
       "      <td>13</td>\n",
       "      <td>1980</td>\n",
       "      <td>4</td>\n",
       "    </tr>\n",
       "    <tr>\n",
       "      <th>2</th>\n",
       "      <td>Central/Eastern Drought/Heat Wave (Summer-Fall...</td>\n",
       "      <td>Drought</td>\n",
       "      <td>1980-06-01</td>\n",
       "      <td>1980-11-30</td>\n",
       "      <td>39579.0</td>\n",
       "      <td>1260</td>\n",
       "      <td>1980</td>\n",
       "      <td>182</td>\n",
       "    </tr>\n",
       "    <tr>\n",
       "      <th>3</th>\n",
       "      <td>Florida Freeze (January 1981)</td>\n",
       "      <td>Freeze</td>\n",
       "      <td>1981-01-12</td>\n",
       "      <td>1981-01-14</td>\n",
       "      <td>2019.2</td>\n",
       "      <td>0</td>\n",
       "      <td>1981</td>\n",
       "      <td>2</td>\n",
       "    </tr>\n",
       "    <tr>\n",
       "      <th>4</th>\n",
       "      <td>Severe Storms, Flash Floods, Hail, Tornadoes (...</td>\n",
       "      <td>Severe Storm</td>\n",
       "      <td>1981-05-05</td>\n",
       "      <td>1981-05-10</td>\n",
       "      <td>1372.9</td>\n",
       "      <td>20</td>\n",
       "      <td>1981</td>\n",
       "      <td>5</td>\n",
       "    </tr>\n",
       "  </tbody>\n",
       "</table>\n",
       "</div>"
      ],
      "text/plain": [
       "                                                Name          Disaster  \\\n",
       "0   Southern Severe Storms and Flooding (April 1980)          Flooding   \n",
       "1                      Hurricane Allen (August 1980)  Tropical Cyclone   \n",
       "2  Central/Eastern Drought/Heat Wave (Summer-Fall...           Drought   \n",
       "3                      Florida Freeze (January 1981)            Freeze   \n",
       "4  Severe Storms, Flash Floods, Hail, Tornadoes (...      Severe Storm   \n",
       "\n",
       "   Begin Date    End Date  Total CPI-Adjusted Cost (Millions of Dollars)  \\\n",
       "0  1980-04-10  1980-04-17                                         2678.6   \n",
       "1  1980-08-07  1980-08-11                                         2177.2   \n",
       "2  1980-06-01  1980-11-30                                        39579.0   \n",
       "3  1981-01-12  1981-01-14                                         2019.2   \n",
       "4  1981-05-05  1981-05-10                                         1372.9   \n",
       "\n",
       "   Deaths  year_only  number_of_days  \n",
       "0       7       1980               7  \n",
       "1      13       1980               4  \n",
       "2    1260       1980             182  \n",
       "3       0       1981               2  \n",
       "4      20       1981               5  "
      ]
     },
     "execution_count": 74,
     "metadata": {},
     "output_type": "execute_result"
    }
   ],
   "source": [
    "df1.head()"
   ]
  },
  {
   "cell_type": "code",
   "execution_count": 75,
   "id": "b70502f7",
   "metadata": {},
   "outputs": [
    {
     "data": {
      "text/html": [
       "<div>\n",
       "<style scoped>\n",
       "    .dataframe tbody tr th:only-of-type {\n",
       "        vertical-align: middle;\n",
       "    }\n",
       "\n",
       "    .dataframe tbody tr th {\n",
       "        vertical-align: top;\n",
       "    }\n",
       "\n",
       "    .dataframe thead th {\n",
       "        text-align: right;\n",
       "    }\n",
       "</style>\n",
       "<table border=\"1\" class=\"dataframe\">\n",
       "  <thead>\n",
       "    <tr style=\"text-align: right;\">\n",
       "      <th></th>\n",
       "      <th>Name</th>\n",
       "      <th>Disaster</th>\n",
       "      <th>Begin Date</th>\n",
       "      <th>End Date</th>\n",
       "      <th>Total CPI-Adjusted Cost (Millions of Dollars)</th>\n",
       "      <th>Deaths</th>\n",
       "      <th>year_only</th>\n",
       "      <th>number_of_days</th>\n",
       "      <th>Drought</th>\n",
       "      <th>Flooding</th>\n",
       "      <th>Freeze</th>\n",
       "      <th>Severe Storm</th>\n",
       "      <th>Tropical Cyclone</th>\n",
       "      <th>Wildfire</th>\n",
       "      <th>Winter Storm</th>\n",
       "    </tr>\n",
       "  </thead>\n",
       "  <tbody>\n",
       "    <tr>\n",
       "      <th>0</th>\n",
       "      <td>Southern Severe Storms and Flooding (April 1980)</td>\n",
       "      <td>Flooding</td>\n",
       "      <td>1980-04-10</td>\n",
       "      <td>1980-04-17</td>\n",
       "      <td>2678.6</td>\n",
       "      <td>7</td>\n",
       "      <td>1980</td>\n",
       "      <td>7</td>\n",
       "      <td>0</td>\n",
       "      <td>1</td>\n",
       "      <td>0</td>\n",
       "      <td>0</td>\n",
       "      <td>0</td>\n",
       "      <td>0</td>\n",
       "      <td>0</td>\n",
       "    </tr>\n",
       "    <tr>\n",
       "      <th>1</th>\n",
       "      <td>Hurricane Allen (August 1980)</td>\n",
       "      <td>Tropical Cyclone</td>\n",
       "      <td>1980-08-07</td>\n",
       "      <td>1980-08-11</td>\n",
       "      <td>2177.2</td>\n",
       "      <td>13</td>\n",
       "      <td>1980</td>\n",
       "      <td>4</td>\n",
       "      <td>0</td>\n",
       "      <td>0</td>\n",
       "      <td>0</td>\n",
       "      <td>0</td>\n",
       "      <td>1</td>\n",
       "      <td>0</td>\n",
       "      <td>0</td>\n",
       "    </tr>\n",
       "    <tr>\n",
       "      <th>2</th>\n",
       "      <td>Central/Eastern Drought/Heat Wave (Summer-Fall...</td>\n",
       "      <td>Drought</td>\n",
       "      <td>1980-06-01</td>\n",
       "      <td>1980-11-30</td>\n",
       "      <td>39579.0</td>\n",
       "      <td>1260</td>\n",
       "      <td>1980</td>\n",
       "      <td>182</td>\n",
       "      <td>1</td>\n",
       "      <td>0</td>\n",
       "      <td>0</td>\n",
       "      <td>0</td>\n",
       "      <td>0</td>\n",
       "      <td>0</td>\n",
       "      <td>0</td>\n",
       "    </tr>\n",
       "    <tr>\n",
       "      <th>3</th>\n",
       "      <td>Florida Freeze (January 1981)</td>\n",
       "      <td>Freeze</td>\n",
       "      <td>1981-01-12</td>\n",
       "      <td>1981-01-14</td>\n",
       "      <td>2019.2</td>\n",
       "      <td>0</td>\n",
       "      <td>1981</td>\n",
       "      <td>2</td>\n",
       "      <td>0</td>\n",
       "      <td>0</td>\n",
       "      <td>1</td>\n",
       "      <td>0</td>\n",
       "      <td>0</td>\n",
       "      <td>0</td>\n",
       "      <td>0</td>\n",
       "    </tr>\n",
       "    <tr>\n",
       "      <th>4</th>\n",
       "      <td>Severe Storms, Flash Floods, Hail, Tornadoes (...</td>\n",
       "      <td>Severe Storm</td>\n",
       "      <td>1981-05-05</td>\n",
       "      <td>1981-05-10</td>\n",
       "      <td>1372.9</td>\n",
       "      <td>20</td>\n",
       "      <td>1981</td>\n",
       "      <td>5</td>\n",
       "      <td>0</td>\n",
       "      <td>0</td>\n",
       "      <td>0</td>\n",
       "      <td>1</td>\n",
       "      <td>0</td>\n",
       "      <td>0</td>\n",
       "      <td>0</td>\n",
       "    </tr>\n",
       "  </tbody>\n",
       "</table>\n",
       "</div>"
      ],
      "text/plain": [
       "                                                Name          Disaster  \\\n",
       "0   Southern Severe Storms and Flooding (April 1980)          Flooding   \n",
       "1                      Hurricane Allen (August 1980)  Tropical Cyclone   \n",
       "2  Central/Eastern Drought/Heat Wave (Summer-Fall...           Drought   \n",
       "3                      Florida Freeze (January 1981)            Freeze   \n",
       "4  Severe Storms, Flash Floods, Hail, Tornadoes (...      Severe Storm   \n",
       "\n",
       "   Begin Date    End Date  Total CPI-Adjusted Cost (Millions of Dollars)  \\\n",
       "0  1980-04-10  1980-04-17                                         2678.6   \n",
       "1  1980-08-07  1980-08-11                                         2177.2   \n",
       "2  1980-06-01  1980-11-30                                        39579.0   \n",
       "3  1981-01-12  1981-01-14                                         2019.2   \n",
       "4  1981-05-05  1981-05-10                                         1372.9   \n",
       "\n",
       "   Deaths  year_only  number_of_days  Drought  Flooding  Freeze  Severe Storm  \\\n",
       "0       7       1980               7        0         1       0             0   \n",
       "1      13       1980               4        0         0       0             0   \n",
       "2    1260       1980             182        1         0       0             0   \n",
       "3       0       1981               2        0         0       1             0   \n",
       "4      20       1981               5        0         0       0             1   \n",
       "\n",
       "   Tropical Cyclone  Wildfire  Winter Storm  \n",
       "0                 0         0             0  \n",
       "1                 1         0             0  \n",
       "2                 0         0             0  \n",
       "3                 0         0             0  \n",
       "4                 0         0             0  "
      ]
     },
     "execution_count": 75,
     "metadata": {},
     "output_type": "execute_result"
    }
   ],
   "source": [
    "df1d.head()"
   ]
  },
  {
   "cell_type": "markdown",
   "id": "be52261d",
   "metadata": {},
   "source": [
    "# Cost vs Days"
   ]
  },
  {
   "cell_type": "code",
   "execution_count": 76,
   "id": "1d96998a",
   "metadata": {},
   "outputs": [],
   "source": [
    "X = df1d.iloc[:, [4,7]]\n",
    "y = df1d.iloc[:, 6]"
   ]
  },
  {
   "cell_type": "code",
   "execution_count": 77,
   "id": "5442bdbd",
   "metadata": {},
   "outputs": [
    {
     "data": {
      "text/html": [
       "<div>\n",
       "<style scoped>\n",
       "    .dataframe tbody tr th:only-of-type {\n",
       "        vertical-align: middle;\n",
       "    }\n",
       "\n",
       "    .dataframe tbody tr th {\n",
       "        vertical-align: top;\n",
       "    }\n",
       "\n",
       "    .dataframe thead th {\n",
       "        text-align: right;\n",
       "    }\n",
       "</style>\n",
       "<table border=\"1\" class=\"dataframe\">\n",
       "  <thead>\n",
       "    <tr style=\"text-align: right;\">\n",
       "      <th></th>\n",
       "      <th>Total CPI-Adjusted Cost (Millions of Dollars)</th>\n",
       "      <th>number_of_days</th>\n",
       "    </tr>\n",
       "  </thead>\n",
       "  <tbody>\n",
       "    <tr>\n",
       "      <th>0</th>\n",
       "      <td>2678.6</td>\n",
       "      <td>7</td>\n",
       "    </tr>\n",
       "    <tr>\n",
       "      <th>1</th>\n",
       "      <td>2177.2</td>\n",
       "      <td>4</td>\n",
       "    </tr>\n",
       "    <tr>\n",
       "      <th>2</th>\n",
       "      <td>39579.0</td>\n",
       "      <td>182</td>\n",
       "    </tr>\n",
       "    <tr>\n",
       "      <th>3</th>\n",
       "      <td>2019.2</td>\n",
       "      <td>2</td>\n",
       "    </tr>\n",
       "    <tr>\n",
       "      <th>4</th>\n",
       "      <td>1372.9</td>\n",
       "      <td>5</td>\n",
       "    </tr>\n",
       "  </tbody>\n",
       "</table>\n",
       "</div>"
      ],
      "text/plain": [
       "   Total CPI-Adjusted Cost (Millions of Dollars)  number_of_days\n",
       "0                                         2678.6               7\n",
       "1                                         2177.2               4\n",
       "2                                        39579.0             182\n",
       "3                                         2019.2               2\n",
       "4                                         1372.9               5"
      ]
     },
     "execution_count": 77,
     "metadata": {},
     "output_type": "execute_result"
    }
   ],
   "source": [
    "X.head()"
   ]
  },
  {
   "cell_type": "code",
   "execution_count": 78,
   "id": "5d0b0236",
   "metadata": {},
   "outputs": [],
   "source": [
    "X_train, X_test, y_train, y_test = train_test_split(X, y, random_state = 40)"
   ]
  },
  {
   "cell_type": "code",
   "execution_count": 79,
   "id": "abfb4321",
   "metadata": {},
   "outputs": [
    {
     "data": {
      "text/html": [
       "<div>\n",
       "<style scoped>\n",
       "    .dataframe tbody tr th:only-of-type {\n",
       "        vertical-align: middle;\n",
       "    }\n",
       "\n",
       "    .dataframe tbody tr th {\n",
       "        vertical-align: top;\n",
       "    }\n",
       "\n",
       "    .dataframe thead th {\n",
       "        text-align: right;\n",
       "    }\n",
       "</style>\n",
       "<table border=\"1\" class=\"dataframe\">\n",
       "  <thead>\n",
       "    <tr style=\"text-align: right;\">\n",
       "      <th></th>\n",
       "      <th>Total CPI-Adjusted Cost (Millions of Dollars)</th>\n",
       "      <th>number_of_days</th>\n",
       "    </tr>\n",
       "  </thead>\n",
       "  <tbody>\n",
       "    <tr>\n",
       "      <th>90</th>\n",
       "      <td>1284.9</td>\n",
       "      <td>3</td>\n",
       "    </tr>\n",
       "    <tr>\n",
       "      <th>246</th>\n",
       "      <td>1125.2</td>\n",
       "      <td>2</td>\n",
       "    </tr>\n",
       "    <tr>\n",
       "      <th>102</th>\n",
       "      <td>2248.8</td>\n",
       "      <td>90</td>\n",
       "    </tr>\n",
       "    <tr>\n",
       "      <th>162</th>\n",
       "      <td>1337.2</td>\n",
       "      <td>3</td>\n",
       "    </tr>\n",
       "    <tr>\n",
       "      <th>49</th>\n",
       "      <td>1371.7</td>\n",
       "      <td>2</td>\n",
       "    </tr>\n",
       "  </tbody>\n",
       "</table>\n",
       "</div>"
      ],
      "text/plain": [
       "     Total CPI-Adjusted Cost (Millions of Dollars)  number_of_days\n",
       "90                                          1284.9               3\n",
       "246                                         1125.2               2\n",
       "102                                         2248.8              90\n",
       "162                                         1337.2               3\n",
       "49                                          1371.7               2"
      ]
     },
     "execution_count": 79,
     "metadata": {},
     "output_type": "execute_result"
    }
   ],
   "source": [
    "X_train.head()"
   ]
  },
  {
   "cell_type": "code",
   "execution_count": 80,
   "id": "09091e9a",
   "metadata": {},
   "outputs": [],
   "source": [
    "scaler = StandardScaler().fit(X_train)"
   ]
  },
  {
   "cell_type": "code",
   "execution_count": 81,
   "id": "293d5f21",
   "metadata": {},
   "outputs": [
    {
     "name": "stdout",
     "output_type": "stream",
     "text": [
      "StandardScaler()\n"
     ]
    }
   ],
   "source": [
    "print(scaler)"
   ]
  },
  {
   "cell_type": "code",
   "execution_count": 82,
   "id": "89f0b15d",
   "metadata": {},
   "outputs": [
    {
     "data": {
      "text/plain": [
       "array([6895.01702128,   33.21276596])"
      ]
     },
     "execution_count": 82,
     "metadata": {},
     "output_type": "execute_result"
    }
   ],
   "source": [
    "scaler.mean_"
   ]
  },
  {
   "cell_type": "code",
   "execution_count": 83,
   "id": "6b9db77d",
   "metadata": {},
   "outputs": [
    {
     "data": {
      "text/plain": [
       "array([18023.97293099,    77.21048036])"
      ]
     },
     "execution_count": 83,
     "metadata": {},
     "output_type": "execute_result"
    }
   ],
   "source": [
    "scaler.scale_"
   ]
  },
  {
   "cell_type": "code",
   "execution_count": 84,
   "id": "99a2e745",
   "metadata": {},
   "outputs": [
    {
     "data": {
      "text/plain": [
       "array([[-3.11258624e-01, -3.91303950e-01],\n",
       "       [-3.20119046e-01, -4.04255560e-01],\n",
       "       [-2.57779849e-01,  7.35486087e-01],\n",
       "       [-3.08356933e-01, -3.91303950e-01],\n",
       "       [-3.06442816e-01, -4.04255560e-01],\n",
       "       [-3.49710368e-02, -3.65400731e-01],\n",
       "       [-2.10165485e-01, -3.52449121e-01],\n",
       "       [-3.20080209e-01, -4.17207169e-01],\n",
       "       [-2.55516197e-01, -4.30158779e-01],\n",
       "       [-1.76843198e-01,  2.31558246e+00],\n",
       "       [-1.79883594e-01, -4.17207169e-01],\n",
       "       [ 8.85319959e-01,  4.28422712e+00],\n",
       "       [ 1.26774657e-01, -3.91303950e-01],\n",
       "       [-1.49929043e-01, -4.17207169e-01],\n",
       "       [-2.87673369e-01, -3.91303950e-01],\n",
       "       [-2.26027693e-01, -4.04255560e-01],\n",
       "       [-3.02376010e-01, -4.04255560e-01],\n",
       "       [-8.82667227e-02,  2.31558246e+00],\n",
       "       [-3.17905328e-01, -4.30158779e-01],\n",
       "       [-1.16784298e-01, -3.65400731e-01],\n",
       "       [-3.08573312e-01, -4.04255560e-01],\n",
       "       [-1.97609159e-03,  1.93998578e+00],\n",
       "       [-2.83717527e-01, -4.04255560e-01],\n",
       "       [-2.49735008e-01, -3.78352341e-01],\n",
       "       [-2.55066796e-01, -3.91303950e-01],\n",
       "       [ 1.33837472e-01,  7.48437696e-01],\n",
       "       [-2.77919693e-01, -3.91303950e-01],\n",
       "       [-3.16185396e-01, -4.04255560e-01],\n",
       "       [-2.45185511e-01, -4.04255560e-01],\n",
       "       [-1.94147929e-01, -4.04255560e-01],\n",
       "       [-3.08417963e-01, -3.91303950e-01],\n",
       "       [-8.73845643e-02, -4.17207169e-01],\n",
       "       [-2.92589045e-01, -3.91303950e-01],\n",
       "       [-1.88882719e-01, -4.04255560e-01],\n",
       "       [-3.12662311e-01, -4.04255560e-01],\n",
       "       [-3.15541809e-01, -4.30158779e-01],\n",
       "       [-3.18177188e-01, -4.04255560e-01],\n",
       "       [ 4.81918332e-01,  3.11858226e+00],\n",
       "       [-2.72909699e-01, -3.52449121e-01],\n",
       "       [-3.05227768e-01, -4.04255560e-01],\n",
       "       [-3.01144317e-01, -3.65400731e-01],\n",
       "       [-8.49822083e-02, -3.91303950e-01],\n",
       "       [-9.95905302e-02,  7.22534477e-01],\n",
       "       [-2.47404778e-01, -3.91303950e-01],\n",
       "       [-2.41046579e-01, -3.91303950e-01],\n",
       "       [-9.53295385e-02,  4.28422712e+00],\n",
       "       [-3.06670291e-01, -4.04255560e-01],\n",
       "       [-3.14171412e-01, -3.91303950e-01],\n",
       "       [-2.77686670e-01, -2.48836244e-01],\n",
       "       [-3.03685377e-01, -4.17207169e-01],\n",
       "       [-2.91035558e-01, -3.91303950e-01],\n",
       "       [ 8.45805918e-01, -4.17207169e-01],\n",
       "       [-1.67267063e-01, -3.52449121e-01],\n",
       "       [-2.53296931e-01,  1.92703417e+00],\n",
       "       [-3.03824082e-01, -4.04255560e-01],\n",
       "       [-1.44391973e-01, -4.17207169e-01],\n",
       "       [-1.90735807e-01, -4.17207169e-01],\n",
       "       [ 8.32659361e-02, -3.91303950e-01],\n",
       "       [-2.82474737e-01, -2.87691073e-01],\n",
       "       [-1.89537403e-01, -4.17207169e-01],\n",
       "       [-2.75778101e-01,  1.93998578e+00],\n",
       "       [-2.78463413e-01, -4.04255560e-01],\n",
       "       [-3.07974110e-01, -4.30158779e-01],\n",
       "       [-1.88805045e-01, -4.04255560e-01],\n",
       "       [-2.50800256e-01,  1.93998578e+00],\n",
       "       [-2.72282756e-01, -4.17207169e-01],\n",
       "       [ 2.88310370e+00, -3.78352341e-01],\n",
       "       [-1.34177799e-01,  4.29717873e+00],\n",
       "       [-3.03530029e-01, -3.65400731e-01],\n",
       "       [-1.50217548e-01, -3.91303950e-01],\n",
       "       [-2.89942569e-01, -4.04255560e-01],\n",
       "       [ 2.11778408e+00,  2.04470092e-01],\n",
       "       [-2.90109014e-01,  7.48437696e-01],\n",
       "       [-1.90558266e-01, -4.04255560e-01],\n",
       "       [-2.25228757e-01, -4.04255560e-01],\n",
       "       [-2.99502060e-01, -4.17207169e-01],\n",
       "       [-2.62812036e-01, -3.26545902e-01],\n",
       "       [-2.49596304e-01, -3.26545902e-01],\n",
       "       [ 1.29409776e+00, -4.17207169e-01],\n",
       "       [-1.78163662e-01, -3.91303950e-01],\n",
       "       [-2.75262121e-01, -3.91303950e-01],\n",
       "       [-2.99468771e-01, -4.04255560e-01],\n",
       "       [-2.84372210e-01, -4.17207169e-01],\n",
       "       [-2.03097122e-01,  2.71708236e+00],\n",
       "       [-2.91407285e-01, -3.52449121e-01],\n",
       "       [-3.09405537e-01, -3.91303950e-01],\n",
       "       [ 1.24084646e+00, -4.30158779e-01],\n",
       "       [ 1.05549332e+00, -4.17207169e-01],\n",
       "       [-1.76010973e-01, -3.91303950e-01],\n",
       "       [-2.76793415e-01, -3.78352341e-01],\n",
       "       [-2.95912396e-01, -4.17207169e-01],\n",
       "       [-3.11757959e-01, -3.91303950e-01],\n",
       "       [-3.18953931e-01, -4.17207169e-01],\n",
       "       [-2.68293624e-01, -4.17207169e-01],\n",
       "       [-3.24257978e-01, -4.17207169e-01],\n",
       "       [ 8.21711082e+00, -3.52449121e-01],\n",
       "       [ 9.36631998e-02, -4.04255560e-01],\n",
       "       [-2.07779774e-01,  3.52008215e+00],\n",
       "       [-1.98186994e-01, -4.30158779e-01],\n",
       "       [-2.79495372e-01, -4.04255560e-01],\n",
       "       [-3.09266833e-01, -3.78352341e-01],\n",
       "       [ 3.45494470e-01, -4.30158779e-01],\n",
       "       [-3.02830960e-01,  1.92703417e+00],\n",
       "       [-2.51482680e-01, -3.91303950e-01],\n",
       "       [-2.74612986e-01, -4.17207169e-01],\n",
       "       [-1.01621159e-01,  4.28422712e+00],\n",
       "       [-1.06367793e-02,  7.48437696e-01],\n",
       "       [ 2.41671633e-01, -3.13594292e-01],\n",
       "       [-3.02597937e-01, -4.04255560e-01],\n",
       "       [-2.42544584e-01, -4.17207169e-01],\n",
       "       [-3.10787030e-01, -4.04255560e-01],\n",
       "       [-2.84111447e-01, -4.04255560e-01],\n",
       "       [-2.13782890e-01,  2.32853407e+00],\n",
       "       [-2.89054863e-01, -4.04255560e-01],\n",
       "       [-3.09533145e-01, -3.65400731e-01],\n",
       "       [-2.76660259e-01,  7.22534477e-01],\n",
       "       [-2.89337819e-01, -4.30158779e-01],\n",
       "       [ 1.81336174e+00,  1.92703417e+00],\n",
       "       [-3.17766624e-01, -4.17207169e-01],\n",
       "       [-2.87617888e-01, -3.91303950e-01],\n",
       "       [-2.44181293e-01, -4.04255560e-01],\n",
       "       [ 1.00065784e-01, -3.65400731e-01],\n",
       "       [-2.32075194e-01, -4.17207169e-01],\n",
       "       [-5.94883839e-02, -3.00642683e-01],\n",
       "       [-2.73359100e-01,  7.48437696e-01],\n",
       "       [-2.75356440e-01, -3.13594292e-01],\n",
       "       [ 2.76491925e-01, -4.04255560e-01],\n",
       "       [-2.34777151e-01, -3.78352341e-01],\n",
       "       [-2.94664059e-01, -4.17207169e-01],\n",
       "       [-3.07169626e-01, -4.04255560e-01],\n",
       "       [-1.02353517e-01,  7.48437696e-01],\n",
       "       [-2.83079488e-01, -4.30158779e-01],\n",
       "       [-6.40600730e-02, -4.17207169e-01],\n",
       "       [-1.23275652e-01,  7.48437696e-01],\n",
       "       [-2.99274585e-01,  1.92703417e+00],\n",
       "       [-3.12745533e-01, -4.17207169e-01],\n",
       "       [ 1.09010278e+00, -3.13594292e-01],\n",
       "       [ 8.79430403e-02,  3.11858226e+00],\n",
       "       [ 2.57425475e-02, -4.16104905e-02],\n",
       "       [-2.21228529e-01,  7.35486087e-01],\n",
       "       [ 6.94407555e-01,  1.52553427e+00],\n",
       "       [-2.92666719e-01, -4.04255560e-01],\n",
       "       [ 1.13730103e+00, -4.17207169e-01],\n",
       "       [ 1.19813113e+00, -3.78352341e-01],\n",
       "       [-2.92189577e-01, -4.17207169e-01],\n",
       "       [ 6.06841696e+00, -4.04255560e-01],\n",
       "       [-2.28124900e-01,  3.46937798e-01],\n",
       "       [-3.17766624e-01, -4.04255560e-01],\n",
       "       [ 4.35424698e-01, -2.74739464e-01],\n",
       "       [-2.32818649e-01, -4.04255560e-01],\n",
       "       [-2.71223056e-01, -3.65400731e-01],\n",
       "       [-2.95662729e-01, -4.17207169e-01],\n",
       "       [-1.67799687e-01, -3.91303950e-01],\n",
       "       [-1.94930221e-01, -4.04255560e-01],\n",
       "       [ 1.33249367e-01,  1.93998578e+00],\n",
       "       [-2.62784295e-01, -4.04255560e-01],\n",
       "       [ 2.76758237e-01, -3.91303950e-01],\n",
       "       [-2.91484960e-01, -4.17207169e-01],\n",
       "       [ 5.40174079e-01,  1.93998578e+00],\n",
       "       [-7.64213876e-02, -3.91303950e-01],\n",
       "       [-2.55477360e-01, -3.52449121e-01],\n",
       "       [-2.86963204e-01, -3.78352341e-01],\n",
       "       [ 1.94758853e+00, -4.04255560e-01],\n",
       "       [-3.20629477e-01, -4.04255560e-01],\n",
       "       [-2.30427389e-01, -4.04255560e-01],\n",
       "       [-2.68260335e-01, -3.65400731e-01],\n",
       "       [-2.94553096e-01, -4.30158779e-01],\n",
       "       [-2.56392807e-01,  4.28422712e+00],\n",
       "       [-3.15436394e-01, -3.91303950e-01],\n",
       "       [-2.28313538e-01, -4.04255560e-01],\n",
       "       [-1.58972555e-01,  7.48437696e-01],\n",
       "       [-3.42333668e-05, -3.39497512e-01],\n",
       "       [-2.83451215e-01, -3.91303950e-01],\n",
       "       [-2.77880856e-01, -3.78352341e-01],\n",
       "       [-2.98015151e-01, -4.04255560e-01],\n",
       "       [-1.84754884e-01,  1.93998578e+00],\n",
       "       [-2.60431873e-01, -3.91303950e-01],\n",
       "       [-2.23408959e-01, -4.17207169e-01],\n",
       "       [-3.15031378e-01, -4.04255560e-01],\n",
       "       [-2.89126989e-01, -4.04255560e-01],\n",
       "       [-1.94347663e-01, -3.78352341e-01],\n",
       "       [-2.66573693e-01, -2.74739464e-01],\n",
       "       [ 2.91255596e-01, -2.48836244e-01],\n",
       "       [-3.02758834e-01, -3.91303950e-01],\n",
       "       [-3.03674281e-01, -3.91303950e-01],\n",
       "       [ 2.32339618e-01, -4.04255560e-01],\n",
       "       [-2.91279677e-01, -4.17207169e-01],\n",
       "       [-9.32186383e-03, -4.17207169e-01],\n",
       "       [-2.11491497e-01, -4.30158779e-01],\n",
       "       [-2.47293815e-01, -4.04255560e-01],\n",
       "       [-1.52270370e-01,  3.46937798e-01],\n",
       "       [-2.89298982e-01, -3.78352341e-01],\n",
       "       [-2.12501264e-01, -3.52449121e-01],\n",
       "       [ 3.43541516e-01, -2.09981416e-01],\n",
       "       [-2.90852469e-01, -3.65400731e-01],\n",
       "       [ 4.18918089e+00, -3.91303950e-01],\n",
       "       [ 1.22053167e-01,  3.11858226e+00],\n",
       "       [-2.99191363e-01, -4.17207169e-01],\n",
       "       [-3.17272837e-01, -3.91303950e-01],\n",
       "       [ 3.16069593e-02,  1.35716335e+00],\n",
       "       [ 1.46005451e+00, -3.13594292e-01],\n",
       "       [ 1.04389351e+01, -3.65400731e-01],\n",
       "       [-2.19569627e-01, -4.04255560e-01],\n",
       "       [-3.02670063e-01, -4.30158779e-01],\n",
       "       [-2.00822373e-01, -3.91303950e-01],\n",
       "       [-7.43463734e-02, -4.30158779e-01],\n",
       "       [-1.56592391e-01, -3.91303950e-01],\n",
       "       [-1.19009112e-01, -3.26545902e-01],\n",
       "       [-2.70357542e-01, -4.04255560e-01],\n",
       "       [-3.16335197e-01, -4.17207169e-01],\n",
       "       [-2.99635216e-01, -4.17207169e-01],\n",
       "       [-2.57313803e-01, -3.78352341e-01],\n",
       "       [-3.14315664e-01, -4.04255560e-01],\n",
       "       [-2.23231417e-01, -4.04255560e-01],\n",
       "       [-2.75628300e-01, -4.30158779e-01],\n",
       "       [-2.97654521e-01, -4.17207169e-01],\n",
       "       [-2.78407932e-01, -3.65400731e-01],\n",
       "       [-2.61752336e-01, -3.78352341e-01],\n",
       "       [-5.00176640e-02, -4.17207169e-01],\n",
       "       [-1.49524027e-01, -4.04255560e-01],\n",
       "       [ 3.22070112e-01, -3.78352341e-01],\n",
       "       [ 7.20697364e-02, -3.39497512e-01],\n",
       "       [-2.84804967e-01, -3.26545902e-01],\n",
       "       [-2.75511789e-01, -4.17207169e-01],\n",
       "       [-2.68809604e-01, -3.13594292e-01],\n",
       "       [-1.83906014e-01, -4.17207169e-01],\n",
       "       [-1.25389504e-01,  6.44824819e-01],\n",
       "       [-2.82319389e-01, -3.91303950e-01],\n",
       "       [-3.03208235e-01, -4.30158779e-01],\n",
       "       [-2.42408831e-02,  7.35486087e-01],\n",
       "       [-3.06237534e-01, -3.91303950e-01],\n",
       "       [-3.05299894e-01, -4.04255560e-01],\n",
       "       [-3.14459916e-01, -4.17207169e-01],\n",
       "       [ 3.38714611e-01, -3.91303950e-01],\n",
       "       [-8.37671598e-02, -3.65400731e-01],\n",
       "       [-2.78369094e-01, -3.78352341e-01],\n",
       "       [-2.77087468e-01, -3.91303950e-01],\n",
       "       [-2.39531930e-01, -3.78352341e-01],\n",
       "       [-2.91135425e-01, -3.91303950e-01],\n",
       "       [-2.80327597e-01, -4.04255560e-01],\n",
       "       [ 1.22530309e-01, -4.17207169e-01],\n",
       "       [-2.37717680e-01, -4.17207169e-01],\n",
       "       [-1.00700164e-01, -4.04255560e-01],\n",
       "       [-2.95923493e-01, -4.17207169e-01],\n",
       "       [-3.12168524e-01, -4.17207169e-01],\n",
       "       [-3.18105062e-01, -4.30158779e-01],\n",
       "       [ 4.06726631e-02,  1.92703417e+00],\n",
       "       [-3.20906886e-01, -4.17207169e-01],\n",
       "       [-3.08706468e-01, -4.04255560e-01],\n",
       "       [-2.56287392e-01, -4.17207169e-01],\n",
       "       [-1.71394899e-01, -3.91303950e-01],\n",
       "       [-3.06814543e-01, -4.17207169e-01],\n",
       "       [ 4.22880294e-01,  1.92703417e+00],\n",
       "       [-2.64482034e-01, -3.52449121e-01],\n",
       "       [-1.63505407e-01, -3.65400731e-01],\n",
       "       [ 3.86795020e-01,  3.11858226e+00],\n",
       "       [-2.11275119e-01, -3.65400731e-01],\n",
       "       [-1.96655700e-01, -3.91303950e-01],\n",
       "       [-2.83451215e-01, -3.91303950e-01],\n",
       "       [ 1.24195609e+00, -3.91303950e-01],\n",
       "       [-3.21494991e-01, -3.78352341e-01],\n",
       "       [-2.37246085e-01, -4.16104905e-02],\n",
       "       [-1.15796724e-01,  1.52663654e-01],\n",
       "       [ 1.64751855e-01,  4.28422712e+00],\n",
       "       [-2.45163319e-01,  1.92703417e+00],\n",
       "       [-1.94846998e-01, -4.04255560e-01],\n",
       "       [-3.08112814e-01, -4.04255560e-01],\n",
       "       [ 9.08695210e-03,  9.94518279e-01],\n",
       "       [-3.14021611e-01, -4.17207169e-01],\n",
       "       [-2.68870634e-01, -4.04255560e-01],\n",
       "       [-3.22149675e-01, -4.17207169e-01],\n",
       "       [-2.04007021e-01, -4.04255560e-01],\n",
       "       [-1.78119277e-01, -3.78352341e-01],\n",
       "       [ 4.98279875e-01, -3.52449121e-01],\n",
       "       [-2.73791857e-01, -4.30158779e-01],\n",
       "       [-3.24945951e-01, -3.91303950e-01],\n",
       "       [-3.15025829e-01, -4.17207169e-01],\n",
       "       [-9.76320275e-02, -4.17207169e-01],\n",
       "       [-1.71600181e-01, -4.17207169e-01],\n",
       "       [-2.97077511e-01, -3.00642683e-01],\n",
       "       [-2.98669835e-01, -3.78352341e-01],\n",
       "       [-1.43615230e-01, -4.30158779e-01]])"
      ]
     },
     "execution_count": 84,
     "metadata": {},
     "output_type": "execute_result"
    }
   ],
   "source": [
    "scaler.transform(X_train)"
   ]
  },
  {
   "cell_type": "code",
   "execution_count": 85,
   "id": "95d91d33",
   "metadata": {},
   "outputs": [],
   "source": [
    "X_train_scaled = scaler.transform(X_train)"
   ]
  },
  {
   "cell_type": "code",
   "execution_count": 86,
   "id": "2e1742e5",
   "metadata": {},
   "outputs": [
    {
     "name": "stdout",
     "output_type": "stream",
     "text": [
      "[3.77948264e-17 6.29913773e-17]\n"
     ]
    }
   ],
   "source": [
    "print(X_train_scaled.mean(axis=0))"
   ]
  },
  {
   "cell_type": "code",
   "execution_count": 87,
   "id": "c80cd1c9",
   "metadata": {},
   "outputs": [
    {
     "name": "stdout",
     "output_type": "stream",
     "text": [
      "[1. 1.]\n"
     ]
    }
   ],
   "source": [
    "print(X_train_scaled.std(axis=0))"
   ]
  },
  {
   "cell_type": "code",
   "execution_count": 88,
   "id": "0e33b02a",
   "metadata": {},
   "outputs": [],
   "source": [
    "scaler = StandardScaler().fit(X_test)"
   ]
  },
  {
   "cell_type": "code",
   "execution_count": 89,
   "id": "20aa5731",
   "metadata": {},
   "outputs": [
    {
     "data": {
      "text/plain": [
       "array([7608.02446809,   32.18085106])"
      ]
     },
     "execution_count": 89,
     "metadata": {},
     "output_type": "execute_result"
    }
   ],
   "source": [
    "scaler.mean_"
   ]
  },
  {
   "cell_type": "code",
   "execution_count": 90,
   "id": "f03772f1",
   "metadata": {},
   "outputs": [
    {
     "data": {
      "text/plain": [
       "array([16690.96154237,    78.81677686])"
      ]
     },
     "execution_count": 90,
     "metadata": {},
     "output_type": "execute_result"
    }
   ],
   "source": [
    "scaler.scale_"
   ]
  },
  {
   "cell_type": "code",
   "execution_count": 91,
   "id": "60bd1211",
   "metadata": {},
   "outputs": [
    {
     "data": {
      "text/plain": [
       "array([[ 0.40930988,  0.73358936],\n",
       "       [-0.28379578, -0.3829242 ],\n",
       "       [-0.24726104, -0.33217358],\n",
       "       [-0.37905692, -0.34486124],\n",
       "       [-0.38334667, -0.39561185],\n",
       "       [-0.3300184 , -0.39561185],\n",
       "       [ 3.25876825, -0.33217358],\n",
       "       [ 0.8925954 ,  2.29417081],\n",
       "       [-0.36583419, -0.3829242 ],\n",
       "       [-0.37491695, -0.39561185],\n",
       "       [-0.18751613, -0.3829242 ],\n",
       "       [-0.32478204, -0.33217358],\n",
       "       [-0.26598974, -0.35754889],\n",
       "       [-0.35055646, -0.39561185],\n",
       "       [-0.17459896,  0.96196713],\n",
       "       [-0.35336038, -0.40829951],\n",
       "       [ 0.24828261,  2.29417081],\n",
       "       [-0.28528162, -0.37023654],\n",
       "       [-0.30390247, -0.3829242 ],\n",
       "       [-0.35767409, -0.39561185],\n",
       "       [ 1.97093352,  4.22269423],\n",
       "       [-0.33868777, -0.3829242 ],\n",
       "       [-0.38032707, -0.3829242 ],\n",
       "       [ 2.72017735,  0.74627701],\n",
       "       [ 0.38320594, -0.37023654],\n",
       "       [-0.37969799, -0.34486124],\n",
       "       [-0.2734249 , -0.39561185],\n",
       "       [-0.37053734, -0.39561185],\n",
       "       [-0.22179216,  1.90085354],\n",
       "       [-0.27694177, -0.37023654],\n",
       "       [-0.33484137, -0.3829242 ],\n",
       "       [-0.29376525,  0.74627701],\n",
       "       [ 1.29842583,  2.29417081],\n",
       "       [-0.34014963, -0.37023654],\n",
       "       [-0.33333157, -0.40829951],\n",
       "       [-0.38272357, -0.35754889],\n",
       "       [-0.35345624, -0.33217358],\n",
       "       [ 0.15317126,  4.22269423],\n",
       "       [-0.20820996, -0.39561185],\n",
       "       [-0.38089624, -0.39561185],\n",
       "       [-0.13848959, -0.34486124],\n",
       "       [-0.07846908, -0.28142297],\n",
       "       [-0.27492871, -0.39561185],\n",
       "       [ 0.10604395, -0.3829242 ],\n",
       "       [ 0.12915826, -0.37023654],\n",
       "       [-0.36201776, -0.3829242 ],\n",
       "       [-0.37423395, -0.40829951],\n",
       "       [-0.36996218, -0.34486124],\n",
       "       [-0.3815373 , -0.3829242 ],\n",
       "       [-0.34496062, -0.3829242 ],\n",
       "       [-0.36661905, -0.3829242 ],\n",
       "       [-0.33056361, -0.35754889],\n",
       "       [-0.3469677 , -0.33217358],\n",
       "       [-0.09777295, -0.02766988],\n",
       "       [ 0.2854045 , -0.34486124],\n",
       "       [-0.33198354, -0.37023654],\n",
       "       [-0.27845756, -0.35754889],\n",
       "       [-0.13360671,  1.90085354],\n",
       "       [-0.17418556, -0.3829242 ],\n",
       "       [-0.37012993, -0.3829242 ],\n",
       "       [-0.35750633, -0.35754889],\n",
       "       [-0.37356293, -0.34486124],\n",
       "       [-0.2960599 , -0.40829951],\n",
       "       [-0.23561402, -0.34486124],\n",
       "       [-0.29533496, -0.31948593],\n",
       "       [-0.10529198,  4.21000658],\n",
       "       [-0.3876424 , -0.35754889],\n",
       "       [-0.11952124, -0.39561185],\n",
       "       [-0.31013938, -0.3829242 ],\n",
       "       [-0.37388047, -0.34486124],\n",
       "       [ 6.23043647, -0.3829242 ],\n",
       "       [-0.37936847, -0.3829242 ],\n",
       "       [-0.35230591,  0.73358936],\n",
       "       [ 4.72679032, -0.39561185],\n",
       "       [-0.36674487, -0.3829242 ],\n",
       "       [-0.23833405, -0.09110815],\n",
       "       [-0.32690294, -0.37023654],\n",
       "       [-0.33968232, -0.35754889],\n",
       "       [-0.37098069, -0.3829242 ],\n",
       "       [-0.23194137, -0.35754889],\n",
       "       [-0.35518771, -0.39561185],\n",
       "       [-0.30287197, -0.40829951],\n",
       "       [-0.19475358, -0.37023654],\n",
       "       [-0.13228863,  1.90085354],\n",
       "       [-0.32493781, -0.37023654],\n",
       "       [-0.36624759, -0.3829242 ],\n",
       "       [-0.09634103, -0.35754889],\n",
       "       [-0.36810488, -0.37023654],\n",
       "       [-0.34490071, -0.39561185],\n",
       "       [-0.20294364, -0.35754889],\n",
       "       [-0.22113312, -0.3829242 ],\n",
       "       [-0.19807873, -0.34486124],\n",
       "       [ 0.64369422, -0.3829242 ],\n",
       "       [-0.29623365, -0.39561185]])"
      ]
     },
     "execution_count": 91,
     "metadata": {},
     "output_type": "execute_result"
    }
   ],
   "source": [
    "scaler.transform(X_test)"
   ]
  },
  {
   "cell_type": "code",
   "execution_count": 92,
   "id": "b80eebb6",
   "metadata": {},
   "outputs": [],
   "source": [
    "X_test_scaled = scaler.transform(X_test)"
   ]
  },
  {
   "cell_type": "code",
   "execution_count": 93,
   "id": "54631d3f",
   "metadata": {},
   "outputs": [
    {
     "name": "stdout",
     "output_type": "stream",
     "text": [
      "[[ 0.40930988  0.73358936]\n",
      " [-0.28379578 -0.3829242 ]\n",
      " [-0.24726104 -0.33217358]\n",
      " [-0.37905692 -0.34486124]\n",
      " [-0.38334667 -0.39561185]\n",
      " [-0.3300184  -0.39561185]\n",
      " [ 3.25876825 -0.33217358]\n",
      " [ 0.8925954   2.29417081]\n",
      " [-0.36583419 -0.3829242 ]\n",
      " [-0.37491695 -0.39561185]\n",
      " [-0.18751613 -0.3829242 ]\n",
      " [-0.32478204 -0.33217358]\n",
      " [-0.26598974 -0.35754889]\n",
      " [-0.35055646 -0.39561185]\n",
      " [-0.17459896  0.96196713]\n",
      " [-0.35336038 -0.40829951]\n",
      " [ 0.24828261  2.29417081]\n",
      " [-0.28528162 -0.37023654]\n",
      " [-0.30390247 -0.3829242 ]\n",
      " [-0.35767409 -0.39561185]\n",
      " [ 1.97093352  4.22269423]\n",
      " [-0.33868777 -0.3829242 ]\n",
      " [-0.38032707 -0.3829242 ]\n",
      " [ 2.72017735  0.74627701]\n",
      " [ 0.38320594 -0.37023654]\n",
      " [-0.37969799 -0.34486124]\n",
      " [-0.2734249  -0.39561185]\n",
      " [-0.37053734 -0.39561185]\n",
      " [-0.22179216  1.90085354]\n",
      " [-0.27694177 -0.37023654]\n",
      " [-0.33484137 -0.3829242 ]\n",
      " [-0.29376525  0.74627701]\n",
      " [ 1.29842583  2.29417081]\n",
      " [-0.34014963 -0.37023654]\n",
      " [-0.33333157 -0.40829951]\n",
      " [-0.38272357 -0.35754889]\n",
      " [-0.35345624 -0.33217358]\n",
      " [ 0.15317126  4.22269423]\n",
      " [-0.20820996 -0.39561185]\n",
      " [-0.38089624 -0.39561185]\n",
      " [-0.13848959 -0.34486124]\n",
      " [-0.07846908 -0.28142297]\n",
      " [-0.27492871 -0.39561185]\n",
      " [ 0.10604395 -0.3829242 ]\n",
      " [ 0.12915826 -0.37023654]\n",
      " [-0.36201776 -0.3829242 ]\n",
      " [-0.37423395 -0.40829951]\n",
      " [-0.36996218 -0.34486124]\n",
      " [-0.3815373  -0.3829242 ]\n",
      " [-0.34496062 -0.3829242 ]\n",
      " [-0.36661905 -0.3829242 ]\n",
      " [-0.33056361 -0.35754889]\n",
      " [-0.3469677  -0.33217358]\n",
      " [-0.09777295 -0.02766988]\n",
      " [ 0.2854045  -0.34486124]\n",
      " [-0.33198354 -0.37023654]\n",
      " [-0.27845756 -0.35754889]\n",
      " [-0.13360671  1.90085354]\n",
      " [-0.17418556 -0.3829242 ]\n",
      " [-0.37012993 -0.3829242 ]\n",
      " [-0.35750633 -0.35754889]\n",
      " [-0.37356293 -0.34486124]\n",
      " [-0.2960599  -0.40829951]\n",
      " [-0.23561402 -0.34486124]\n",
      " [-0.29533496 -0.31948593]\n",
      " [-0.10529198  4.21000658]\n",
      " [-0.3876424  -0.35754889]\n",
      " [-0.11952124 -0.39561185]\n",
      " [-0.31013938 -0.3829242 ]\n",
      " [-0.37388047 -0.34486124]\n",
      " [ 6.23043647 -0.3829242 ]\n",
      " [-0.37936847 -0.3829242 ]\n",
      " [-0.35230591  0.73358936]\n",
      " [ 4.72679032 -0.39561185]\n",
      " [-0.36674487 -0.3829242 ]\n",
      " [-0.23833405 -0.09110815]\n",
      " [-0.32690294 -0.37023654]\n",
      " [-0.33968232 -0.35754889]\n",
      " [-0.37098069 -0.3829242 ]\n",
      " [-0.23194137 -0.35754889]\n",
      " [-0.35518771 -0.39561185]\n",
      " [-0.30287197 -0.40829951]\n",
      " [-0.19475358 -0.37023654]\n",
      " [-0.13228863  1.90085354]\n",
      " [-0.32493781 -0.37023654]\n",
      " [-0.36624759 -0.3829242 ]\n",
      " [-0.09634103 -0.35754889]\n",
      " [-0.36810488 -0.37023654]\n",
      " [-0.34490071 -0.39561185]\n",
      " [-0.20294364 -0.35754889]\n",
      " [-0.22113312 -0.3829242 ]\n",
      " [-0.19807873 -0.34486124]\n",
      " [ 0.64369422 -0.3829242 ]\n",
      " [-0.29623365 -0.39561185]]\n"
     ]
    }
   ],
   "source": [
    "print(X_test_scaled)"
   ]
  },
  {
   "cell_type": "code",
   "execution_count": 94,
   "id": "8e3abce4",
   "metadata": {},
   "outputs": [
    {
     "name": "stdout",
     "output_type": "stream",
     "text": [
      "[-6.49598578e-18  3.66137380e-17]\n"
     ]
    }
   ],
   "source": [
    "print(X_test_scaled.mean(axis=0))"
   ]
  },
  {
   "cell_type": "markdown",
   "id": "443ea86d",
   "metadata": {},
   "source": [
    "# Death vs number of days disaster lasts"
   ]
  },
  {
   "cell_type": "code",
   "execution_count": 95,
   "id": "b77f167c",
   "metadata": {},
   "outputs": [
    {
     "data": {
      "text/html": [
       "<div>\n",
       "<style scoped>\n",
       "    .dataframe tbody tr th:only-of-type {\n",
       "        vertical-align: middle;\n",
       "    }\n",
       "\n",
       "    .dataframe tbody tr th {\n",
       "        vertical-align: top;\n",
       "    }\n",
       "\n",
       "    .dataframe thead th {\n",
       "        text-align: right;\n",
       "    }\n",
       "</style>\n",
       "<table border=\"1\" class=\"dataframe\">\n",
       "  <thead>\n",
       "    <tr style=\"text-align: right;\">\n",
       "      <th></th>\n",
       "      <th>Deaths</th>\n",
       "      <th>number_of_days</th>\n",
       "    </tr>\n",
       "  </thead>\n",
       "  <tbody>\n",
       "    <tr>\n",
       "      <th>0</th>\n",
       "      <td>7</td>\n",
       "      <td>7</td>\n",
       "    </tr>\n",
       "    <tr>\n",
       "      <th>1</th>\n",
       "      <td>13</td>\n",
       "      <td>4</td>\n",
       "    </tr>\n",
       "    <tr>\n",
       "      <th>2</th>\n",
       "      <td>1260</td>\n",
       "      <td>182</td>\n",
       "    </tr>\n",
       "    <tr>\n",
       "      <th>3</th>\n",
       "      <td>0</td>\n",
       "      <td>2</td>\n",
       "    </tr>\n",
       "    <tr>\n",
       "      <th>4</th>\n",
       "      <td>20</td>\n",
       "      <td>5</td>\n",
       "    </tr>\n",
       "  </tbody>\n",
       "</table>\n",
       "</div>"
      ],
      "text/plain": [
       "   Deaths  number_of_days\n",
       "0       7               7\n",
       "1      13               4\n",
       "2    1260             182\n",
       "3       0               2\n",
       "4      20               5"
      ]
     },
     "execution_count": 95,
     "metadata": {},
     "output_type": "execute_result"
    }
   ],
   "source": [
    "X = df1d.iloc[:, [5,7]]\n",
    "y = df1d.iloc[:, 6]\n",
    "X.head()"
   ]
  },
  {
   "cell_type": "code",
   "execution_count": 96,
   "id": "332eca59",
   "metadata": {},
   "outputs": [],
   "source": [
    "X_train, X_test, y_train, y_test = train_test_split(X, y, random_state = 40)"
   ]
  },
  {
   "cell_type": "code",
   "execution_count": 97,
   "id": "79403a2c",
   "metadata": {},
   "outputs": [
    {
     "data": {
      "text/html": [
       "<div>\n",
       "<style scoped>\n",
       "    .dataframe tbody tr th:only-of-type {\n",
       "        vertical-align: middle;\n",
       "    }\n",
       "\n",
       "    .dataframe tbody tr th {\n",
       "        vertical-align: top;\n",
       "    }\n",
       "\n",
       "    .dataframe thead th {\n",
       "        text-align: right;\n",
       "    }\n",
       "</style>\n",
       "<table border=\"1\" class=\"dataframe\">\n",
       "  <thead>\n",
       "    <tr style=\"text-align: right;\">\n",
       "      <th></th>\n",
       "      <th>Deaths</th>\n",
       "      <th>number_of_days</th>\n",
       "    </tr>\n",
       "  </thead>\n",
       "  <tbody>\n",
       "    <tr>\n",
       "      <th>90</th>\n",
       "      <td>4</td>\n",
       "      <td>3</td>\n",
       "    </tr>\n",
       "    <tr>\n",
       "      <th>246</th>\n",
       "      <td>0</td>\n",
       "      <td>2</td>\n",
       "    </tr>\n",
       "    <tr>\n",
       "      <th>102</th>\n",
       "      <td>21</td>\n",
       "      <td>90</td>\n",
       "    </tr>\n",
       "    <tr>\n",
       "      <th>162</th>\n",
       "      <td>0</td>\n",
       "      <td>3</td>\n",
       "    </tr>\n",
       "    <tr>\n",
       "      <th>49</th>\n",
       "      <td>1</td>\n",
       "      <td>2</td>\n",
       "    </tr>\n",
       "  </tbody>\n",
       "</table>\n",
       "</div>"
      ],
      "text/plain": [
       "     Deaths  number_of_days\n",
       "90        4               3\n",
       "246       0               2\n",
       "102      21              90\n",
       "162       0               3\n",
       "49        1               2"
      ]
     },
     "execution_count": 97,
     "metadata": {},
     "output_type": "execute_result"
    }
   ],
   "source": [
    "X_train.head()"
   ]
  },
  {
   "cell_type": "code",
   "execution_count": 98,
   "id": "240c3be0",
   "metadata": {},
   "outputs": [],
   "source": [
    "scaler = StandardScaler().fit(X_train)"
   ]
  },
  {
   "cell_type": "code",
   "execution_count": 99,
   "id": "8cffea2c",
   "metadata": {},
   "outputs": [
    {
     "name": "stdout",
     "output_type": "stream",
     "text": [
      "StandardScaler()\n"
     ]
    }
   ],
   "source": [
    "print(scaler)"
   ]
  },
  {
   "cell_type": "code",
   "execution_count": 100,
   "id": "4d4bb8d7",
   "metadata": {},
   "outputs": [
    {
     "data": {
      "text/plain": [
       "array([37.39007092, 33.21276596])"
      ]
     },
     "execution_count": 100,
     "metadata": {},
     "output_type": "execute_result"
    }
   ],
   "source": [
    "scaler.mean_"
   ]
  },
  {
   "cell_type": "code",
   "execution_count": 101,
   "id": "cb22b4e3",
   "metadata": {},
   "outputs": [
    {
     "data": {
      "text/plain": [
       "array([148.0491711 ,  77.21048036])"
      ]
     },
     "execution_count": 101,
     "metadata": {},
     "output_type": "execute_result"
    }
   ],
   "source": [
    "scaler.scale_"
   ]
  },
  {
   "cell_type": "code",
   "execution_count": 102,
   "id": "f4e21b01",
   "metadata": {},
   "outputs": [
    {
     "data": {
      "text/plain": [
       "array([[-2.25533657e-01, -3.91303950e-01],\n",
       "       [-2.52551707e-01, -4.04255560e-01],\n",
       "       [-1.10706941e-01,  7.35486087e-01],\n",
       "       [-2.52551707e-01, -3.91303950e-01],\n",
       "       [-2.45797195e-01, -4.04255560e-01],\n",
       "       [-1.91761093e-01, -3.65400731e-01],\n",
       "       [-2.52551707e-01, -3.52449121e-01],\n",
       "       [-2.52551707e-01, -4.17207169e-01],\n",
       "       [-2.52551707e-01, -4.30158779e-01],\n",
       "       [-2.52551707e-01,  2.31558246e+00],\n",
       "       [-2.52551707e-01, -4.17207169e-01],\n",
       "       [ 6.66062014e-01,  4.28422712e+00],\n",
       "       [-1.10706941e-01, -3.91303950e-01],\n",
       "       [ 3.11378243e-02, -4.17207169e-01],\n",
       "       [-2.52551707e-01, -3.91303950e-01],\n",
       "       [ 4.11977368e-03, -4.04255560e-01],\n",
       "       [-1.78252068e-01, -4.04255560e-01],\n",
       "       [ 5.14013623e-02,  2.31558246e+00],\n",
       "       [-2.52551707e-01, -4.30158779e-01],\n",
       "       [-2.52551707e-01, -3.65400731e-01],\n",
       "       [-2.52551707e-01, -4.04255560e-01],\n",
       "       [-2.52551707e-01,  1.93998578e+00],\n",
       "       [-2.52551707e-01, -4.04255560e-01],\n",
       "       [-1.85006581e-01, -3.78352341e-01],\n",
       "       [-1.17461454e-01, -3.91303950e-01],\n",
       "       [-2.52551707e-01,  7.48437696e-01],\n",
       "       [-2.52551707e-01, -3.91303950e-01],\n",
       "       [-2.45797195e-01, -4.04255560e-01],\n",
       "       [-2.39042682e-01, -4.04255560e-01],\n",
       "       [-2.52551707e-01, -4.04255560e-01],\n",
       "       [-2.45797195e-01, -3.91303950e-01],\n",
       "       [-2.52551707e-01, -4.17207169e-01],\n",
       "       [-2.32288169e-01, -3.91303950e-01],\n",
       "       [-2.18779144e-01, -4.04255560e-01],\n",
       "       [-9.71979162e-02, -4.04255560e-01],\n",
       "       [-2.52551707e-01, -4.30158779e-01],\n",
       "       [-2.32288169e-01, -4.04255560e-01],\n",
       "       [-2.52551707e-01,  3.11858226e+00],\n",
       "       [-1.91761093e-01, -3.52449121e-01],\n",
       "       [-2.45797195e-01, -4.04255560e-01],\n",
       "       [-2.52551707e-01, -3.65400731e-01],\n",
       "       [-1.24215967e-01, -3.91303950e-01],\n",
       "       [-7.01798655e-02,  7.22534477e-01],\n",
       "       [ 7.60625191e-01, -3.91303950e-01],\n",
       "       [ 8.51739256e-02, -3.91303950e-01],\n",
       "       [-2.52551707e-01,  4.28422712e+00],\n",
       "       [-1.85006581e-01, -4.04255560e-01],\n",
       "       [-2.45797195e-01, -3.91303950e-01],\n",
       "       [-2.18779144e-01, -2.48836244e-01],\n",
       "       [-2.52551707e-01, -4.17207169e-01],\n",
       "       [-2.52551707e-01, -3.91303950e-01],\n",
       "       [ 3.28336381e-01, -4.17207169e-01],\n",
       "       [-4.99163276e-02, -3.52449121e-01],\n",
       "       [-1.98515606e-01,  1.92703417e+00],\n",
       "       [-7.69343782e-02, -4.04255560e-01],\n",
       "       [-2.39042682e-01, -4.17207169e-01],\n",
       "       [-2.52551707e-01, -4.17207169e-01],\n",
       "       [ 1.05437464e-01, -3.91303950e-01],\n",
       "       [ 2.87809305e-01, -2.87691073e-01],\n",
       "       [-1.98515606e-01, -4.17207169e-01],\n",
       "       [-2.52551707e-01,  1.93998578e+00],\n",
       "       [-2.52551707e-01, -4.04255560e-01],\n",
       "       [-2.39042682e-01, -4.30158779e-01],\n",
       "       [-2.52551707e-01, -4.04255560e-01],\n",
       "       [-2.52551707e-01,  1.93998578e+00],\n",
       "       [-2.52551707e-01, -4.17207169e-01],\n",
       "       [ 1.59473565e-01, -3.78352341e-01],\n",
       "       [-2.52551707e-01,  4.29717873e+00],\n",
       "       [-1.71497555e-01, -3.65400731e-01],\n",
       "       [-2.52551707e-01, -3.91303950e-01],\n",
       "       [-2.52551707e-01, -4.04255560e-01],\n",
       "       [ 7.16649002e-02,  2.04470092e-01],\n",
       "       [-1.37724992e-01,  7.48437696e-01],\n",
       "       [-2.45797195e-01, -4.04255560e-01],\n",
       "       [-2.45797195e-01, -4.04255560e-01],\n",
       "       [-2.39042682e-01, -4.17207169e-01],\n",
       "       [ 3.21581869e-01, -3.26545902e-01],\n",
       "       [-1.64743043e-01, -3.26545902e-01],\n",
       "       [ 7.84194129e-02, -4.17207169e-01],\n",
       "       [-7.01798655e-02, -3.91303950e-01],\n",
       "       [-2.52551707e-01, -3.91303950e-01],\n",
       "       [-2.39042682e-01, -4.04255560e-01],\n",
       "       [-2.52551707e-01, -4.17207169e-01],\n",
       "       [-1.37724992e-01,  2.71708236e+00],\n",
       "       [-2.25533657e-01, -3.52449121e-01],\n",
       "       [-2.45797195e-01, -3.91303950e-01],\n",
       "       [-1.61437643e-02, -4.30158779e-01],\n",
       "       [-1.61437643e-02, -4.17207169e-01],\n",
       "       [ 1.18946489e-01, -3.91303950e-01],\n",
       "       [-2.45797195e-01, -3.78352341e-01],\n",
       "       [-1.98515606e-01, -4.17207169e-01],\n",
       "       [-1.85006581e-01, -3.91303950e-01],\n",
       "       [-2.45797195e-01, -4.17207169e-01],\n",
       "       [-2.12024631e-01, -4.17207169e-01],\n",
       "       [-2.18779144e-01, -4.17207169e-01],\n",
       "       [ 3.48599919e-01, -3.52449121e-01],\n",
       "       [-2.18779144e-01, -4.04255560e-01],\n",
       "       [-2.52551707e-01,  3.52008215e+00],\n",
       "       [-2.45797195e-01, -4.30158779e-01],\n",
       "       [-2.52551707e-01, -4.04255560e-01],\n",
       "       [-2.45797195e-01, -3.78352341e-01],\n",
       "       [-2.25533657e-01, -4.30158779e-01],\n",
       "       [-1.85006581e-01,  1.92703417e+00],\n",
       "       [-2.52551707e-01, -3.91303950e-01],\n",
       "       [-2.12024631e-01, -4.17207169e-01],\n",
       "       [-2.52551707e-01,  4.28422712e+00],\n",
       "       [ 1.09835082e+00,  7.48437696e-01],\n",
       "       [-1.44479505e-01, -3.13594292e-01],\n",
       "       [-2.25533657e-01, -4.04255560e-01],\n",
       "       [-1.85006581e-01, -4.17207169e-01],\n",
       "       [-1.03952429e-01, -4.04255560e-01],\n",
       "       [-2.32288169e-01, -4.04255560e-01],\n",
       "       [-1.10706941e-01,  2.32853407e+00],\n",
       "       [-2.18779144e-01, -4.04255560e-01],\n",
       "       [-2.39042682e-01, -3.65400731e-01],\n",
       "       [ 6.39043963e-01,  7.22534477e-01],\n",
       "       [-2.52551707e-01, -4.30158779e-01],\n",
       "       [ 8.25813424e+00,  1.92703417e+00],\n",
       "       [-2.52551707e-01, -4.17207169e-01],\n",
       "       [-2.52551707e-01, -3.91303950e-01],\n",
       "       [-9.38925164e-03, -4.04255560e-01],\n",
       "       [ 3.35090894e-01, -3.65400731e-01],\n",
       "       [-2.52551707e-01, -4.17207169e-01],\n",
       "       [-9.38925164e-03, -3.00642683e-01],\n",
       "       [ 5.63738333e+00,  7.48437696e-01],\n",
       "       [-1.85006581e-01, -3.13594292e-01],\n",
       "       [ 2.67545767e-01, -4.04255560e-01],\n",
       "       [-1.44479505e-01, -3.78352341e-01],\n",
       "       [-2.32288169e-01, -4.17207169e-01],\n",
       "       [-2.45797195e-01, -4.04255560e-01],\n",
       "       [ 4.22899558e-01,  7.48437696e-01],\n",
       "       [-2.52551707e-01, -4.30158779e-01],\n",
       "       [-2.96527896e-02, -4.17207169e-01],\n",
       "       [ 3.13821365e+00,  7.48437696e-01],\n",
       "       [-2.52551707e-01,  1.92703417e+00],\n",
       "       [-2.45797195e-01, -4.17207169e-01],\n",
       "       [ 1.51713061e+00, -3.13594292e-01],\n",
       "       [-1.61437643e-02,  3.11858226e+00],\n",
       "       [-8.36888909e-02, -4.16104905e-02],\n",
       "       [-2.25533657e-01,  7.35486087e-01],\n",
       "       [ 5.81558749e-02,  1.52553427e+00],\n",
       "       [-2.32288169e-01, -4.04255560e-01],\n",
       "       [ 3.11378243e-02, -4.17207169e-01],\n",
       "       [ 5.51235299e-01, -3.78352341e-01],\n",
       "       [-2.18779144e-01, -4.17207169e-01],\n",
       "       [ 7.74134217e-01, -4.04255560e-01],\n",
       "       [-2.18779144e-01,  3.46937798e-01],\n",
       "       [-2.52551707e-01, -4.04255560e-01],\n",
       "       [ 3.78923370e-02, -2.74739464e-01],\n",
       "       [-1.91761093e-01, -4.04255560e-01],\n",
       "       [-1.91761093e-01, -3.65400731e-01],\n",
       "       [-2.52551707e-01, -4.17207169e-01],\n",
       "       [-6.34253529e-02, -3.91303950e-01],\n",
       "       [-1.30970479e-01, -4.04255560e-01],\n",
       "       [-2.52551707e-01,  1.93998578e+00],\n",
       "       [-2.45797195e-01, -4.04255560e-01],\n",
       "       [ 1.57116671e+00, -3.91303950e-01],\n",
       "       [-2.52551707e-01, -4.17207169e-01],\n",
       "       [ 3.89126995e-01,  1.93998578e+00],\n",
       "       [-2.32288169e-01, -3.91303950e-01],\n",
       "       [-1.30970479e-01, -3.52449121e-01],\n",
       "       [-1.71497555e-01, -3.78352341e-01],\n",
       "       [ 5.03953710e-01, -4.04255560e-01],\n",
       "       [-1.85006581e-01, -4.04255560e-01],\n",
       "       [-2.39042682e-01, -4.04255560e-01],\n",
       "       [-1.85006581e-01, -3.65400731e-01],\n",
       "       [-2.52551707e-01, -4.30158779e-01],\n",
       "       [-6.34253529e-02,  4.28422712e+00],\n",
       "       [-2.52551707e-01, -3.91303950e-01],\n",
       "       [-8.36888909e-02, -4.04255560e-01],\n",
       "       [-1.71497555e-01,  7.48437696e-01],\n",
       "       [ 9.19284382e-02, -3.39497512e-01],\n",
       "       [-2.52551707e-01, -3.91303950e-01],\n",
       "       [-2.52551707e-01, -3.78352341e-01],\n",
       "       [ 3.11378243e-02, -4.04255560e-01],\n",
       "       [-2.52551707e-01,  1.93998578e+00],\n",
       "       [-2.39042682e-01, -3.91303950e-01],\n",
       "       [-2.45797195e-01, -4.17207169e-01],\n",
       "       [-6.34253529e-02, -4.04255560e-01],\n",
       "       [-2.05270119e-01, -4.04255560e-01],\n",
       "       [-1.10706941e-01, -3.78352341e-01],\n",
       "       [-1.17461454e-01, -2.74739464e-01],\n",
       "       [-6.34253529e-02, -2.48836244e-01],\n",
       "       [-2.39042682e-01, -3.91303950e-01],\n",
       "       [-2.25533657e-01, -3.91303950e-01],\n",
       "       [-3.64073023e-02, -4.04255560e-01],\n",
       "       [-2.52551707e-01, -4.17207169e-01],\n",
       "       [-2.05270119e-01, -4.17207169e-01],\n",
       "       [-2.45797195e-01, -4.30158779e-01],\n",
       "       [-1.85006581e-01, -4.04255560e-01],\n",
       "       [-2.05270119e-01,  3.46937798e-01],\n",
       "       [-1.71497555e-01, -3.78352341e-01],\n",
       "       [-2.12024631e-01, -3.52449121e-01],\n",
       "       [-2.32288169e-01, -2.09981416e-01],\n",
       "       [ 4.22899558e-01, -3.65400731e-01],\n",
       "       [ 3.95881508e-01, -3.91303950e-01],\n",
       "       [ 6.93080065e-01,  3.11858226e+00],\n",
       "       [-2.05270119e-01, -4.17207169e-01],\n",
       "       [-2.45797195e-01, -3.91303950e-01],\n",
       "       [-2.25533657e-01,  1.35716335e+00],\n",
       "       [ 1.32455514e-01, -3.13594292e-01],\n",
       "       [ 1.21284700e+01, -3.65400731e-01],\n",
       "       [-2.52551707e-01, -4.04255560e-01],\n",
       "       [-1.98515606e-01, -4.30158779e-01],\n",
       "       [-4.31618149e-02, -3.91303950e-01],\n",
       "       [ 4.22899558e-01, -4.30158779e-01],\n",
       "       [-2.52551707e-01, -3.91303950e-01],\n",
       "       [-2.52551707e-01, -3.26545902e-01],\n",
       "       [-2.39042682e-01, -4.04255560e-01],\n",
       "       [-2.52551707e-01, -4.17207169e-01],\n",
       "       [-2.12024631e-01, -4.17207169e-01],\n",
       "       [-2.96527896e-02, -3.78352341e-01],\n",
       "       [-2.45797195e-01, -4.04255560e-01],\n",
       "       [-2.18779144e-01, -4.04255560e-01],\n",
       "       [-2.52551707e-01, -4.30158779e-01],\n",
       "       [-2.18779144e-01, -4.17207169e-01],\n",
       "       [ 2.00000641e-01, -3.65400731e-01],\n",
       "       [-1.64743043e-01, -3.78352341e-01],\n",
       "       [-1.64743043e-01, -4.17207169e-01],\n",
       "       [-1.64743043e-01, -4.04255560e-01],\n",
       "       [ 7.84194129e-02, -3.78352341e-01],\n",
       "       [-2.52551707e-01, -3.39497512e-01],\n",
       "       [-4.31618149e-02, -3.26545902e-01],\n",
       "       [-2.52551707e-01, -4.17207169e-01],\n",
       "       [-1.24215967e-01, -3.13594292e-01],\n",
       "       [-2.05270119e-01, -4.17207169e-01],\n",
       "       [-1.03952429e-01,  6.44824819e-01],\n",
       "       [-2.52551707e-01, -3.91303950e-01],\n",
       "       [-2.52551707e-01, -4.30158779e-01],\n",
       "       [-1.03952429e-01,  7.35486087e-01],\n",
       "       [-2.52551707e-01, -3.91303950e-01],\n",
       "       [-9.04434035e-02, -4.04255560e-01],\n",
       "       [-2.32288169e-01, -4.17207169e-01],\n",
       "       [-1.64743043e-01, -3.91303950e-01],\n",
       "       [-2.32288169e-01, -3.65400731e-01],\n",
       "       [-2.39042682e-01, -3.78352341e-01],\n",
       "       [-2.39042682e-01, -3.91303950e-01],\n",
       "       [-8.36888909e-02, -3.78352341e-01],\n",
       "       [-2.25533657e-01, -3.91303950e-01],\n",
       "       [-2.32288169e-01, -4.04255560e-01],\n",
       "       [ 1.18946489e-01, -4.17207169e-01],\n",
       "       [-8.36888909e-02, -4.17207169e-01],\n",
       "       [-1.85006581e-01, -4.04255560e-01],\n",
       "       [-2.45797195e-01, -4.17207169e-01],\n",
       "       [-2.52551707e-01, -4.17207169e-01],\n",
       "       [-2.52551707e-01, -4.30158779e-01],\n",
       "       [-2.52551707e-01,  1.92703417e+00],\n",
       "       [-2.52551707e-01, -4.17207169e-01],\n",
       "       [-2.39042682e-01, -4.04255560e-01],\n",
       "       [-2.12024631e-01, -4.17207169e-01],\n",
       "       [-2.18779144e-01, -3.91303950e-01],\n",
       "       [-2.52551707e-01, -4.17207169e-01],\n",
       "       [ 1.41581292e+00,  1.92703417e+00],\n",
       "       [-2.45797195e-01, -3.52449121e-01],\n",
       "       [ 1.66228077e-01, -3.65400731e-01],\n",
       "       [ 1.05437464e-01,  3.11858226e+00],\n",
       "       [-2.45797195e-01, -3.65400731e-01],\n",
       "       [-2.32288169e-01, -3.91303950e-01],\n",
       "       [-2.45797195e-01, -3.91303950e-01],\n",
       "       [ 1.05437464e-01, -3.91303950e-01],\n",
       "       [-2.52551707e-01, -3.78352341e-01],\n",
       "       [-1.78252068e-01, -4.16104905e-02],\n",
       "       [ 5.14013623e-02,  1.52663654e-01],\n",
       "       [ 1.29423169e+00,  4.28422712e+00],\n",
       "       [-2.18779144e-01,  1.92703417e+00],\n",
       "       [-2.18779144e-01, -4.04255560e-01],\n",
       "       [-1.85006581e-01, -4.04255560e-01],\n",
       "       [-1.78252068e-01,  9.94518279e-01],\n",
       "       [-2.52551707e-01, -4.17207169e-01],\n",
       "       [-2.32288169e-01, -4.04255560e-01],\n",
       "       [-2.52551707e-01, -4.17207169e-01],\n",
       "       [-3.64073023e-02, -4.04255560e-01],\n",
       "       [-2.25533657e-01, -3.78352341e-01],\n",
       "       [ 7.16649002e-02, -3.52449121e-01],\n",
       "       [-2.45797195e-01, -4.30158779e-01],\n",
       "       [-2.52551707e-01, -3.91303950e-01],\n",
       "       [-2.45797195e-01, -4.17207169e-01],\n",
       "       [-2.12024631e-01, -4.17207169e-01],\n",
       "       [-1.91761093e-01, -4.17207169e-01],\n",
       "       [-4.99163276e-02, -3.00642683e-01],\n",
       "       [-2.45797195e-01, -3.78352341e-01],\n",
       "       [ 3.75617970e-01, -4.30158779e-01]])"
      ]
     },
     "execution_count": 102,
     "metadata": {},
     "output_type": "execute_result"
    }
   ],
   "source": [
    "scaler.transform(X_train)"
   ]
  },
  {
   "cell_type": "code",
   "execution_count": 103,
   "id": "1dad026b",
   "metadata": {},
   "outputs": [],
   "source": [
    "X_train_scaled = scaler.transform(X_train)"
   ]
  },
  {
   "cell_type": "code",
   "execution_count": 104,
   "id": "1b6b1eb3",
   "metadata": {},
   "outputs": [
    {
     "name": "stdout",
     "output_type": "stream",
     "text": [
      "[-6.29913773e-18  6.29913773e-17]\n"
     ]
    }
   ],
   "source": [
    "print(X_train_scaled.mean(axis=0))"
   ]
  },
  {
   "cell_type": "code",
   "execution_count": 105,
   "id": "982d394e",
   "metadata": {},
   "outputs": [
    {
     "name": "stdout",
     "output_type": "stream",
     "text": [
      "[1. 1.]\n"
     ]
    }
   ],
   "source": [
    "print(X_train_scaled.std(axis=0))"
   ]
  },
  {
   "cell_type": "code",
   "execution_count": 106,
   "id": "a543b987",
   "metadata": {},
   "outputs": [],
   "source": [
    "scaler = StandardScaler().fit(X_test)"
   ]
  },
  {
   "cell_type": "code",
   "execution_count": 107,
   "id": "5f2bf86d",
   "metadata": {},
   "outputs": [
    {
     "data": {
      "text/plain": [
       "array([61.76595745, 32.18085106])"
      ]
     },
     "execution_count": 107,
     "metadata": {},
     "output_type": "execute_result"
    }
   ],
   "source": [
    "scaler.mean_"
   ]
  },
  {
   "cell_type": "code",
   "execution_count": 108,
   "id": "dd732ca3",
   "metadata": {},
   "outputs": [
    {
     "data": {
      "text/plain": [
       "array([309.8866102 ,  78.81677686])"
      ]
     },
     "execution_count": 108,
     "metadata": {},
     "output_type": "execute_result"
    }
   ],
   "source": [
    "scaler.scale_"
   ]
  },
  {
   "cell_type": "code",
   "execution_count": 109,
   "id": "94518a41",
   "metadata": {},
   "outputs": [
    {
     "data": {
      "text/plain": [
       "array([[-1.21870246e-01,  7.33589361e-01],\n",
       "       [-1.25097233e-01, -3.82924198e-01],\n",
       "       [-1.99317929e-01, -3.32173582e-01],\n",
       "       [-1.92863956e-01, -3.44861236e-01],\n",
       "       [-1.99317929e-01, -3.95611852e-01],\n",
       "       [-1.99317929e-01, -3.95611852e-01],\n",
       "       [ 1.13699790e-01, -3.32173582e-01],\n",
       "       [-2.50606422e-02,  2.29417081e+00],\n",
       "       [-1.89636969e-01, -3.82924198e-01],\n",
       "       [-1.99317929e-01, -3.95611852e-01],\n",
       "       [-1.99317929e-01, -3.82924198e-01],\n",
       "       [-1.67048061e-01, -3.32173582e-01],\n",
       "       [-1.12189286e-01, -3.57548890e-01],\n",
       "       [-1.53796818e-02, -3.95611852e-01],\n",
       "       [-3.79685893e-02,  9.61967134e-01],\n",
       "       [ 8.78838958e-02, -4.08299506e-01],\n",
       "       [-1.73502035e-01,  2.29417081e+00],\n",
       "       [-1.47686140e-01, -3.70236544e-01],\n",
       "       [-1.92863956e-01, -3.82924198e-01],\n",
       "       [-1.99317929e-01, -3.95611852e-01],\n",
       "       [ 1.97601447e-01,  4.22269423e+00],\n",
       "       [-1.83182995e-01, -3.82924198e-01],\n",
       "       [-1.99317929e-01, -3.82924198e-01],\n",
       "       [ 1.26573408e+00,  7.46277015e-01],\n",
       "       [ 8.36544833e-01, -3.70236544e-01],\n",
       "       [-1.92863956e-01, -3.44861236e-01],\n",
       "       [-1.99317929e-01, -3.95611852e-01],\n",
       "       [-1.99317929e-01, -3.95611852e-01],\n",
       "       [-1.60594088e-01,  1.90085354e+00],\n",
       "       [-1.99317929e-01, -3.70236544e-01],\n",
       "       [-1.99317929e-01, -3.82924198e-01],\n",
       "       [-1.47686140e-01,  7.46277015e-01],\n",
       "       [ 1.42742671e-01,  2.29417081e+00],\n",
       "       [-1.18643259e-01, -3.70236544e-01],\n",
       "       [-1.92863956e-01, -4.08299506e-01],\n",
       "       [-1.54140114e-01, -3.57548890e-01],\n",
       "       [-1.79956008e-01, -3.32173582e-01],\n",
       "       [-1.99317929e-01,  4.22269423e+00],\n",
       "       [-8.63733913e-02, -3.95611852e-01],\n",
       "       [-1.99317929e-01, -3.95611852e-01],\n",
       "       [-1.73502035e-01, -3.44861236e-01],\n",
       "       [ 2.87957077e-01, -2.81422965e-01],\n",
       "       [-1.96090942e-01, -3.95611852e-01],\n",
       "       [-1.12189286e-01, -3.82924198e-01],\n",
       "       [-7.99194177e-02, -3.70236544e-01],\n",
       "       [-9.28273649e-02, -3.82924198e-01],\n",
       "       [-1.99317929e-01, -4.08299506e-01],\n",
       "       [-1.76729022e-01, -3.44861236e-01],\n",
       "       [-1.76729022e-01, -3.82924198e-01],\n",
       "       [-1.96090942e-01, -3.82924198e-01],\n",
       "       [-1.57367101e-01, -3.82924198e-01],\n",
       "       [-1.89636969e-01, -3.57548890e-01],\n",
       "       [-1.99317929e-01, -3.32173582e-01],\n",
       "       [ 4.04128602e-01, -2.76698839e-02],\n",
       "       [ 3.71858734e-01, -3.44861236e-01],\n",
       "       [-9.60543517e-02, -3.70236544e-01],\n",
       "       [-1.83182995e-01, -3.57548890e-01],\n",
       "       [-1.50913127e-01,  1.90085354e+00],\n",
       "       [-1.89636969e-01, -3.82924198e-01],\n",
       "       [-1.76729022e-01, -3.82924198e-01],\n",
       "       [-1.86409982e-01, -3.57548890e-01],\n",
       "       [-1.34778193e-01, -3.44861236e-01],\n",
       "       [-1.96090942e-01, -4.08299506e-01],\n",
       "       [-1.70275048e-01, -3.44861236e-01],\n",
       "       [-1.76729022e-01, -3.19485928e-01],\n",
       "       [-1.99317929e-01,  4.21000658e+00],\n",
       "       [-1.99317929e-01, -3.57548890e-01],\n",
       "       [-1.47686140e-01, -3.95611852e-01],\n",
       "       [-1.63821074e-01, -3.82924198e-01],\n",
       "       [-1.31551206e-01, -3.44861236e-01],\n",
       "       [ 9.42032972e+00, -3.82924198e-01],\n",
       "       [-1.83182995e-01, -3.82924198e-01],\n",
       "       [-1.47686140e-01,  7.33589361e-01],\n",
       "       [ 3.13772972e-01, -3.95611852e-01],\n",
       "       [-1.92863956e-01, -3.82924198e-01],\n",
       "       [-1.83182995e-01, -9.11081543e-02],\n",
       "       [-1.34778193e-01, -3.70236544e-01],\n",
       "       [-1.89636969e-01, -3.57548890e-01],\n",
       "       [-1.99317929e-01, -3.82924198e-01],\n",
       "       [-1.70275048e-01, -3.57548890e-01],\n",
       "       [-1.92863956e-01, -3.95611852e-01],\n",
       "       [-1.99317929e-01, -4.08299506e-01],\n",
       "       [-1.96090942e-01, -3.70236544e-01],\n",
       "       [-1.89636969e-01,  1.90085354e+00],\n",
       "       [ 2.65711466e-02, -3.70236544e-01],\n",
       "       [-1.89636969e-01, -3.82924198e-01],\n",
       "       [-1.83182995e-01, -3.57548890e-01],\n",
       "       [-1.99317929e-01, -3.70236544e-01],\n",
       "       [-1.99317929e-01, -3.95611852e-01],\n",
       "       [ 3.98223903e-03, -3.57548890e-01],\n",
       "       [-1.50913127e-01, -3.82924198e-01],\n",
       "       [-1.57367101e-01, -3.44861236e-01],\n",
       "       [-5.41035233e-02, -3.82924198e-01],\n",
       "       [-1.99317929e-01, -3.95611852e-01]])"
      ]
     },
     "execution_count": 109,
     "metadata": {},
     "output_type": "execute_result"
    }
   ],
   "source": [
    "scaler.transform(X_test)"
   ]
  },
  {
   "cell_type": "code",
   "execution_count": 110,
   "id": "f003b93d",
   "metadata": {},
   "outputs": [],
   "source": [
    "X_test_scaled = scaler.transform(X_test)"
   ]
  },
  {
   "cell_type": "code",
   "execution_count": 111,
   "id": "822529ad",
   "metadata": {},
   "outputs": [
    {
     "name": "stdout",
     "output_type": "stream",
     "text": [
      "[[-1.21870246e-01  7.33589361e-01]\n",
      " [-1.25097233e-01 -3.82924198e-01]\n",
      " [-1.99317929e-01 -3.32173582e-01]\n",
      " [-1.92863956e-01 -3.44861236e-01]\n",
      " [-1.99317929e-01 -3.95611852e-01]\n",
      " [-1.99317929e-01 -3.95611852e-01]\n",
      " [ 1.13699790e-01 -3.32173582e-01]\n",
      " [-2.50606422e-02  2.29417081e+00]\n",
      " [-1.89636969e-01 -3.82924198e-01]\n",
      " [-1.99317929e-01 -3.95611852e-01]\n",
      " [-1.99317929e-01 -3.82924198e-01]\n",
      " [-1.67048061e-01 -3.32173582e-01]\n",
      " [-1.12189286e-01 -3.57548890e-01]\n",
      " [-1.53796818e-02 -3.95611852e-01]\n",
      " [-3.79685893e-02  9.61967134e-01]\n",
      " [ 8.78838958e-02 -4.08299506e-01]\n",
      " [-1.73502035e-01  2.29417081e+00]\n",
      " [-1.47686140e-01 -3.70236544e-01]\n",
      " [-1.92863956e-01 -3.82924198e-01]\n",
      " [-1.99317929e-01 -3.95611852e-01]\n",
      " [ 1.97601447e-01  4.22269423e+00]\n",
      " [-1.83182995e-01 -3.82924198e-01]\n",
      " [-1.99317929e-01 -3.82924198e-01]\n",
      " [ 1.26573408e+00  7.46277015e-01]\n",
      " [ 8.36544833e-01 -3.70236544e-01]\n",
      " [-1.92863956e-01 -3.44861236e-01]\n",
      " [-1.99317929e-01 -3.95611852e-01]\n",
      " [-1.99317929e-01 -3.95611852e-01]\n",
      " [-1.60594088e-01  1.90085354e+00]\n",
      " [-1.99317929e-01 -3.70236544e-01]\n",
      " [-1.99317929e-01 -3.82924198e-01]\n",
      " [-1.47686140e-01  7.46277015e-01]\n",
      " [ 1.42742671e-01  2.29417081e+00]\n",
      " [-1.18643259e-01 -3.70236544e-01]\n",
      " [-1.92863956e-01 -4.08299506e-01]\n",
      " [-1.54140114e-01 -3.57548890e-01]\n",
      " [-1.79956008e-01 -3.32173582e-01]\n",
      " [-1.99317929e-01  4.22269423e+00]\n",
      " [-8.63733913e-02 -3.95611852e-01]\n",
      " [-1.99317929e-01 -3.95611852e-01]\n",
      " [-1.73502035e-01 -3.44861236e-01]\n",
      " [ 2.87957077e-01 -2.81422965e-01]\n",
      " [-1.96090942e-01 -3.95611852e-01]\n",
      " [-1.12189286e-01 -3.82924198e-01]\n",
      " [-7.99194177e-02 -3.70236544e-01]\n",
      " [-9.28273649e-02 -3.82924198e-01]\n",
      " [-1.99317929e-01 -4.08299506e-01]\n",
      " [-1.76729022e-01 -3.44861236e-01]\n",
      " [-1.76729022e-01 -3.82924198e-01]\n",
      " [-1.96090942e-01 -3.82924198e-01]\n",
      " [-1.57367101e-01 -3.82924198e-01]\n",
      " [-1.89636969e-01 -3.57548890e-01]\n",
      " [-1.99317929e-01 -3.32173582e-01]\n",
      " [ 4.04128602e-01 -2.76698839e-02]\n",
      " [ 3.71858734e-01 -3.44861236e-01]\n",
      " [-9.60543517e-02 -3.70236544e-01]\n",
      " [-1.83182995e-01 -3.57548890e-01]\n",
      " [-1.50913127e-01  1.90085354e+00]\n",
      " [-1.89636969e-01 -3.82924198e-01]\n",
      " [-1.76729022e-01 -3.82924198e-01]\n",
      " [-1.86409982e-01 -3.57548890e-01]\n",
      " [-1.34778193e-01 -3.44861236e-01]\n",
      " [-1.96090942e-01 -4.08299506e-01]\n",
      " [-1.70275048e-01 -3.44861236e-01]\n",
      " [-1.76729022e-01 -3.19485928e-01]\n",
      " [-1.99317929e-01  4.21000658e+00]\n",
      " [-1.99317929e-01 -3.57548890e-01]\n",
      " [-1.47686140e-01 -3.95611852e-01]\n",
      " [-1.63821074e-01 -3.82924198e-01]\n",
      " [-1.31551206e-01 -3.44861236e-01]\n",
      " [ 9.42032972e+00 -3.82924198e-01]\n",
      " [-1.83182995e-01 -3.82924198e-01]\n",
      " [-1.47686140e-01  7.33589361e-01]\n",
      " [ 3.13772972e-01 -3.95611852e-01]\n",
      " [-1.92863956e-01 -3.82924198e-01]\n",
      " [-1.83182995e-01 -9.11081543e-02]\n",
      " [-1.34778193e-01 -3.70236544e-01]\n",
      " [-1.89636969e-01 -3.57548890e-01]\n",
      " [-1.99317929e-01 -3.82924198e-01]\n",
      " [-1.70275048e-01 -3.57548890e-01]\n",
      " [-1.92863956e-01 -3.95611852e-01]\n",
      " [-1.99317929e-01 -4.08299506e-01]\n",
      " [-1.96090942e-01 -3.70236544e-01]\n",
      " [-1.89636969e-01  1.90085354e+00]\n",
      " [ 2.65711466e-02 -3.70236544e-01]\n",
      " [-1.89636969e-01 -3.82924198e-01]\n",
      " [-1.83182995e-01 -3.57548890e-01]\n",
      " [-1.99317929e-01 -3.70236544e-01]\n",
      " [-1.99317929e-01 -3.95611852e-01]\n",
      " [ 3.98223903e-03 -3.57548890e-01]\n",
      " [-1.50913127e-01 -3.82924198e-01]\n",
      " [-1.57367101e-01 -3.44861236e-01]\n",
      " [-5.41035233e-02 -3.82924198e-01]\n",
      " [-1.99317929e-01 -3.95611852e-01]]\n"
     ]
    }
   ],
   "source": [
    "print(X_test_scaled)"
   ]
  },
  {
   "cell_type": "code",
   "execution_count": 112,
   "id": "21e892b8",
   "metadata": {},
   "outputs": [],
   "source": [
    "rModel = linear_model.LinearRegression()"
   ]
  },
  {
   "cell_type": "code",
   "execution_count": 113,
   "id": "49a4870c",
   "metadata": {},
   "outputs": [
    {
     "data": {
      "text/plain": [
       "LinearRegression()"
      ]
     },
     "execution_count": 113,
     "metadata": {},
     "output_type": "execute_result"
    }
   ],
   "source": [
    "rModel.fit(X_train, y_train)"
   ]
  },
  {
   "cell_type": "code",
   "execution_count": 114,
   "id": "e941fd3b",
   "metadata": {},
   "outputs": [
    {
     "data": {
      "text/plain": [
       "0.027113533876789053"
      ]
     },
     "execution_count": 114,
     "metadata": {},
     "output_type": "execute_result"
    }
   ],
   "source": [
    "rModel.score(X_train, y_train)"
   ]
  },
  {
   "cell_type": "code",
   "execution_count": 115,
   "id": "0e8d582d",
   "metadata": {},
   "outputs": [],
   "source": [
    "y_pred = rModel.predict(X_test)"
   ]
  },
  {
   "cell_type": "code",
   "execution_count": 116,
   "id": "f920bda3",
   "metadata": {},
   "outputs": [
    {
     "data": {
      "image/png": "[encoded data removed]",
      "text/plain": [
       "<Figure size 432x288 with 1 Axes>"
      ]
     },
     "metadata": {
      "needs_background": "light"
     },
     "output_type": "display_data"
    }
   ],
   "source": [
    "_ = plt.scatter(y_test, y_pred)\n",
    "_ = plt.xlabel('Cost')\n",
    "_ = plt.ylabel('Year')"
   ]
  },
  {
   "cell_type": "code",
   "execution_count": null,
   "id": "1c2d5efc",
   "metadata": {},
   "outputs": [],
   "source": []
  }
 ],
 "metadata": {
  "kernelspec": {
   "display_name": "PythonData",
   "language": "python",
   "name": "pythondata"
  },
  "language_info": {
   "codemirror_mode": {
    "name": "ipython",
    "version": 3
   },
   "file_extension": ".py",
   "mimetype": "text/x-python",
   "name": "python",
   "nbconvert_exporter": "python",
   "pygments_lexer": "ipython3",
   "version": "3.7.10"
  }
 },
 "nbformat": 4,
 "nbformat_minor": 5
}
