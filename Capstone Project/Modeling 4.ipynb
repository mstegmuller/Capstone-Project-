{
 "cells": [
  {
   "cell_type": "markdown",
   "id": "dcd14000",
   "metadata": {},
   "source": [
    "# Predicting the Cost of Natural Disasters \n",
    "\n",
    "By Mike Stegmuller"
   ]
  },
  {
   "cell_type": "markdown",
   "id": "05175431",
   "metadata": {},
   "source": [
    "## The main problem I am exploring is how much natural disasters cost.  I am trying to predict the cost of the next natural disaster.  The metrics I am using to make my predictions are type of disaster, number of days a disaster lasts, number of deaths, and inflation rate.  "
   ]
  },
  {
   "cell_type": "markdown",
   "id": "a32d284b",
   "metadata": {},
   "source": [
    "### Importing libraries and data "
   ]
  },
  {
   "cell_type": "code",
   "execution_count": 1,
   "id": "28981bf8",
   "metadata": {},
   "outputs": [],
   "source": [
    "import os\n",
    "import pandas as pd\n",
    "from datetime import datetime\n",
    "import matplotlib.pyplot as plt \n",
    "import seaborn as sns\n",
    "import numpy as np\n",
    "import plotly.express as px\n",
    "\n",
    "import statsmodels.api as sm \n",
    "from statsmodels.graphics.api import abline_plot \n",
    "from sklearn.metrics import mean_squared_error as MSE\n",
    "from sklearn.model_selection import train_test_split \n",
    "from sklearn import linear_model, preprocessing \n",
    "from sklearn.preprocessing import StandardScaler\n",
    "import warnings \n",
    "from sklearn.linear_model import LinearRegression\n",
    "from sklearn.tree import DecisionTreeRegressor \n",
    "from sklearn.tree import DecisionTreeClassifier\n",
    "from sklearn import tree, metrics\n",
    "from sklearn.linear_model import LogisticRegression\n",
    "from sklearn.metrics import accuracy_score, precision_score, recall_score, f1_score, r2_score, mean_squared_error\n",
    "from sklearn.preprocessing import OneHotEncoder\n",
    "from sklearn.metrics import classification_report\n",
    "\n",
    "from sklearn.model_selection import cross_val_score, KFold\n",
    "from sklearn.linear_model  import LogisticRegression\n",
    "from sklearn.svm import SVC\n",
    "from sklearn.datasets import load_iris\n",
    "\n",
    "import graphviz\n",
    "from graphviz import Digraph\n",
    "\n",
    "import graphviz as gr\n",
    "\n",
    "from sklearn import datasets\n",
    "from sklearn import svm"
   ]
  },
  {
   "cell_type": "code",
   "execution_count": 2,
   "id": "a6be72aa",
   "metadata": {},
   "outputs": [
    {
     "data": {
      "text/html": [
       "<div>\n",
       "<style scoped>\n",
       "    .dataframe tbody tr th:only-of-type {\n",
       "        vertical-align: middle;\n",
       "    }\n",
       "\n",
       "    .dataframe tbody tr th {\n",
       "        vertical-align: top;\n",
       "    }\n",
       "\n",
       "    .dataframe thead th {\n",
       "        text-align: right;\n",
       "    }\n",
       "</style>\n",
       "<table border=\"1\" class=\"dataframe\">\n",
       "  <thead>\n",
       "    <tr style=\"text-align: right;\">\n",
       "      <th></th>\n",
       "      <th>Total CPI-Adjusted Cost (Millions of Dollars)_x</th>\n",
       "      <th>Deaths</th>\n",
       "      <th>number_of_days</th>\n",
       "      <th>Inflation rate value</th>\n",
       "      <th>Drought</th>\n",
       "      <th>Flooding</th>\n",
       "      <th>Freeze</th>\n",
       "      <th>Severe Storm</th>\n",
       "      <th>Tropical Cyclone</th>\n",
       "      <th>Wildfire</th>\n",
       "      <th>Winter Storm</th>\n",
       "    </tr>\n",
       "  </thead>\n",
       "  <tbody>\n",
       "    <tr>\n",
       "      <th>0</th>\n",
       "      <td>2678.6</td>\n",
       "      <td>7</td>\n",
       "      <td>7</td>\n",
       "      <td>82383.333333</td>\n",
       "      <td>0</td>\n",
       "      <td>1</td>\n",
       "      <td>0</td>\n",
       "      <td>0</td>\n",
       "      <td>0</td>\n",
       "      <td>0</td>\n",
       "      <td>0</td>\n",
       "    </tr>\n",
       "    <tr>\n",
       "      <th>1</th>\n",
       "      <td>2177.2</td>\n",
       "      <td>13</td>\n",
       "      <td>4</td>\n",
       "      <td>82383.333333</td>\n",
       "      <td>0</td>\n",
       "      <td>0</td>\n",
       "      <td>0</td>\n",
       "      <td>0</td>\n",
       "      <td>1</td>\n",
       "      <td>0</td>\n",
       "      <td>0</td>\n",
       "    </tr>\n",
       "    <tr>\n",
       "      <th>2</th>\n",
       "      <td>39579.0</td>\n",
       "      <td>1260</td>\n",
       "      <td>182</td>\n",
       "      <td>82383.333333</td>\n",
       "      <td>1</td>\n",
       "      <td>0</td>\n",
       "      <td>0</td>\n",
       "      <td>0</td>\n",
       "      <td>0</td>\n",
       "      <td>0</td>\n",
       "      <td>0</td>\n",
       "    </tr>\n",
       "    <tr>\n",
       "      <th>3</th>\n",
       "      <td>2019.2</td>\n",
       "      <td>0</td>\n",
       "      <td>2</td>\n",
       "      <td>90933.333333</td>\n",
       "      <td>0</td>\n",
       "      <td>0</td>\n",
       "      <td>1</td>\n",
       "      <td>0</td>\n",
       "      <td>0</td>\n",
       "      <td>0</td>\n",
       "      <td>0</td>\n",
       "    </tr>\n",
       "    <tr>\n",
       "      <th>4</th>\n",
       "      <td>1372.9</td>\n",
       "      <td>20</td>\n",
       "      <td>5</td>\n",
       "      <td>90933.333333</td>\n",
       "      <td>0</td>\n",
       "      <td>0</td>\n",
       "      <td>0</td>\n",
       "      <td>1</td>\n",
       "      <td>0</td>\n",
       "      <td>0</td>\n",
       "      <td>0</td>\n",
       "    </tr>\n",
       "  </tbody>\n",
       "</table>\n",
       "</div>"
      ],
      "text/plain": [
       "   Total CPI-Adjusted Cost (Millions of Dollars)_x  Deaths  number_of_days  \\\n",
       "0                                           2678.6       7               7   \n",
       "1                                           2177.2      13               4   \n",
       "2                                          39579.0    1260             182   \n",
       "3                                           2019.2       0               2   \n",
       "4                                           1372.9      20               5   \n",
       "\n",
       "   Inflation rate value  Drought  Flooding  Freeze  Severe Storm  \\\n",
       "0          82383.333333        0         1       0             0   \n",
       "1          82383.333333        0         0       0             0   \n",
       "2          82383.333333        1         0       0             0   \n",
       "3          90933.333333        0         0       1             0   \n",
       "4          90933.333333        0         0       0             1   \n",
       "\n",
       "   Tropical Cyclone  Wildfire  Winter Storm  \n",
       "0                 0         0             0  \n",
       "1                 1         0             0  \n",
       "2                 0         0             0  \n",
       "3                 0         0             0  \n",
       "4                 0         0             0  "
      ]
     },
     "execution_count": 2,
     "metadata": {},
     "output_type": "execute_result"
    }
   ],
   "source": [
    "df = pd.read_csv('df' , index_col=0)\n",
    "df.head()"
   ]
  },
  {
   "cell_type": "code",
   "execution_count": null,
   "id": "3ac88a43",
   "metadata": {},
   "outputs": [],
   "source": []
  },
  {
   "cell_type": "code",
   "execution_count": null,
   "id": "5558f0a8",
   "metadata": {},
   "outputs": [],
   "source": []
  },
  {
   "cell_type": "markdown",
   "id": "aec8aaa7",
   "metadata": {},
   "source": [
    "# Linear regression model "
   ]
  },
  {
   "cell_type": "code",
   "execution_count": null,
   "id": "1a7a8cac",
   "metadata": {},
   "outputs": [],
   "source": []
  },
  {
   "cell_type": "code",
   "execution_count": 3,
   "id": "1836779d",
   "metadata": {},
   "outputs": [],
   "source": [
    "X = df.drop('Total CPI-Adjusted Cost (Millions of Dollars)_x', axis = 'columns')"
   ]
  },
  {
   "cell_type": "code",
   "execution_count": 4,
   "id": "019125cb",
   "metadata": {},
   "outputs": [],
   "source": [
    "y = df[['Total CPI-Adjusted Cost (Millions of Dollars)_x']]"
   ]
  },
  {
   "cell_type": "code",
   "execution_count": 5,
   "id": "94d76f33",
   "metadata": {},
   "outputs": [],
   "source": [
    "X_train, X_test, y_train, y_test = train_test_split(X, y, test_size=0.25, random_state=42)"
   ]
  },
  {
   "cell_type": "code",
   "execution_count": 6,
   "id": "3bdf61d5",
   "metadata": {},
   "outputs": [],
   "source": [
    "scaleStandard = StandardScaler()"
   ]
  },
  {
   "cell_type": "code",
   "execution_count": 7,
   "id": "ef29d0cf",
   "metadata": {},
   "outputs": [
    {
     "data": {
      "text/plain": [
       "array([[ 1.43351327e-01, -3.75024675e-01,  7.65556902e-01,\n",
       "        -2.61116484e-01, -4.35744670e-01, -1.81568260e-01,\n",
       "         1.04349839e+00, -3.82546028e-01, -2.10818511e-01,\n",
       "        -3.25395687e-01],\n",
       "       [-5.88986972e-01, -3.75024675e-01,  1.47223498e+00,\n",
       "        -2.61116484e-01, -4.35744670e-01, -1.81568260e-01,\n",
       "         1.04349839e+00, -3.82546028e-01, -2.10818511e-01,\n",
       "        -3.25395687e-01],\n",
       "       [-5.01106376e-01, -3.61189385e-01,  6.39608657e-01,\n",
       "        -2.61116484e-01, -4.35744670e-01, -1.81568260e-01,\n",
       "         1.04349839e+00, -3.82546028e-01, -2.10818511e-01,\n",
       "        -3.25395687e-01],\n",
       "       [-5.01106376e-01, -3.75024675e-01,  1.03008715e-01,\n",
       "        -2.61116484e-01, -4.35744670e-01, -1.81568260e-01,\n",
       "        -9.58314847e-01, -3.82546028e-01, -2.10818511e-01,\n",
       "         3.07318149e+00],\n",
       "       [ 2.69188861e+00, -3.75024675e-01,  5.71550665e-02,\n",
       "        -2.61116484e-01, -4.35744670e-01, -1.81568260e-01,\n",
       "        -9.58314847e-01,  2.61406452e+00, -2.10818511e-01,\n",
       "        -3.25395687e-01],\n",
       "       [-4.71812844e-01, -3.61189385e-01, -6.42573804e-01,\n",
       "        -2.61116484e-01, -4.35744670e-01, -1.81568260e-01,\n",
       "        -9.58314847e-01, -3.82546028e-01, -2.10818511e-01,\n",
       "         3.07318149e+00],\n",
       "       [-5.88986972e-01, -3.19683514e-01, -7.13767875e-02,\n",
       "        -2.61116484e-01, -4.35744670e-01,  5.50757055e+00,\n",
       "        -9.58314847e-01, -3.82546028e-01, -2.10818511e-01,\n",
       "        -3.25395687e-01],\n",
       "       [-3.24098651e-02, -2.78177644e-01, -1.03201093e+00,\n",
       "        -2.61116484e-01,  2.29492193e+00, -1.81568260e-01,\n",
       "        -9.58314847e-01, -3.82546028e-01, -2.10818511e-01,\n",
       "        -3.25395687e-01],\n",
       "       [-5.59693440e-01, -4.02695256e-01, -7.91794843e-01,\n",
       "        -2.61116484e-01, -4.35744670e-01, -1.81568260e-01,\n",
       "         1.04349839e+00, -3.82546028e-01, -2.10818511e-01,\n",
       "        -3.25395687e-01],\n",
       "       [-4.42519312e-01, -3.61189385e-01,  1.47223498e+00,\n",
       "        -2.61116484e-01, -4.35744670e-01, -1.81568260e-01,\n",
       "         1.04349839e+00, -3.82546028e-01, -2.10818511e-01,\n",
       "        -3.25395687e-01],\n",
       "       [-4.42519312e-01, -3.47354095e-01,  4.59339621e-01,\n",
       "        -2.61116484e-01,  2.29492193e+00, -1.81568260e-01,\n",
       "        -9.58314847e-01, -3.82546028e-01, -2.10818511e-01,\n",
       "        -3.25395687e-01],\n",
       "       [-5.59693440e-01, -3.88859965e-01,  1.31415817e+00,\n",
       "        -2.61116484e-01, -4.35744670e-01, -1.81568260e-01,\n",
       "         1.04349839e+00, -3.82546028e-01, -2.10818511e-01,\n",
       "        -3.25395687e-01],\n",
       "       [-2.08171057e-01, -2.92012934e-01, -1.31745371e+00,\n",
       "        -2.61116484e-01,  2.29492193e+00, -1.81568260e-01,\n",
       "        -9.58314847e-01, -3.82546028e-01, -2.10818511e-01,\n",
       "        -3.25395687e-01],\n",
       "       [-3.54638717e-01, -3.33518805e-01,  1.47223498e+00,\n",
       "        -2.61116484e-01, -4.35744670e-01, -1.81568260e-01,\n",
       "         1.04349839e+00, -3.82546028e-01, -2.10818511e-01,\n",
       "        -3.25395687e-01],\n",
       "       [-2.96051653e-01, -3.75024675e-01,  7.65556902e-01,\n",
       "        -2.61116484e-01, -4.35744670e-01, -1.81568260e-01,\n",
       "         1.04349839e+00, -3.82546028e-01, -2.10818511e-01,\n",
       "        -3.25395687e-01],\n",
       "       [ 8.47642626e-02, -3.75024675e-01,  4.59339621e-01,\n",
       "        -2.61116484e-01,  2.29492193e+00, -1.81568260e-01,\n",
       "        -9.58314847e-01, -3.82546028e-01, -2.10818511e-01,\n",
       "        -3.25395687e-01],\n",
       "       [-5.88986972e-01, -3.47354095e-01,  9.62509717e-01,\n",
       "        -2.61116484e-01, -4.35744670e-01, -1.81568260e-01,\n",
       "        -9.58314847e-01,  2.61406452e+00, -2.10818511e-01,\n",
       "        -3.25395687e-01],\n",
       "       [ 5.54707307e-02,  8.42480864e-01, -4.50698837e-01,\n",
       "        -2.61116484e-01, -4.35744670e-01, -1.81568260e-01,\n",
       "        -9.58314847e-01, -3.82546028e-01,  4.74341649e+00,\n",
       "        -3.25395687e-01],\n",
       "       [-5.30399908e-01, -3.75024675e-01,  4.05873262e-01,\n",
       "        -2.61116484e-01,  2.29492193e+00, -1.81568260e-01,\n",
       "        -9.58314847e-01, -3.82546028e-01, -2.10818511e-01,\n",
       "        -3.25395687e-01],\n",
       "       [-5.88986972e-01, -3.33518805e-01,  4.59339621e-01,\n",
       "        -2.61116484e-01, -4.35744670e-01, -1.81568260e-01,\n",
       "         1.04349839e+00, -3.82546028e-01, -2.10818511e-01,\n",
       "        -3.25395687e-01],\n",
       "       [-5.59693440e-01, -3.47354095e-01, -1.75171131e+00,\n",
       "        -2.61116484e-01, -4.35744670e-01, -1.81568260e-01,\n",
       "         1.04349839e+00, -3.82546028e-01, -2.10818511e-01,\n",
       "        -3.25395687e-01],\n",
       "       [-5.30399908e-01, -3.75024675e-01,  5.71550665e-02,\n",
       "        -2.61116484e-01, -4.35744670e-01, -1.81568260e-01,\n",
       "         1.04349839e+00, -3.82546028e-01, -2.10818511e-01,\n",
       "        -3.25395687e-01],\n",
       "       [-2.96051653e-01, -3.75024675e-01, -1.65391459e-01,\n",
       "        -2.61116484e-01, -4.35744670e-01, -1.81568260e-01,\n",
       "         1.04349839e+00, -3.82546028e-01, -2.10818511e-01,\n",
       "        -3.25395687e-01],\n",
       "       [-3.83932248e-01, -3.05848224e-01, -2.10187974e+00,\n",
       "        -2.61116484e-01,  2.29492193e+00, -1.81568260e-01,\n",
       "        -9.58314847e-01, -3.82546028e-01, -2.10818511e-01,\n",
       "        -3.25395687e-01],\n",
       "       [-2.66758121e-01,  1.11918667e+00, -8.32146812e-01,\n",
       "        -2.61116484e-01,  2.29492193e+00, -1.81568260e-01,\n",
       "        -9.58314847e-01, -3.82546028e-01, -2.10818511e-01,\n",
       "        -3.25395687e-01],\n",
       "       [-5.88986972e-01, -2.92012934e-01, -7.91794843e-01,\n",
       "        -2.61116484e-01, -4.35744670e-01,  5.50757055e+00,\n",
       "        -9.58314847e-01, -3.82546028e-01, -2.10818511e-01,\n",
       "        -3.25395687e-01],\n",
       "       [-2.96051653e-01, -3.75024675e-01, -1.65814349e+00,\n",
       "        -2.61116484e-01,  2.29492193e+00, -1.81568260e-01,\n",
       "        -9.58314847e-01, -3.82546028e-01, -2.10818511e-01,\n",
       "        -3.25395687e-01],\n",
       "       [-5.88986972e-01, -3.88859965e-01,  1.47223498e+00,\n",
       "        -2.61116484e-01,  2.29492193e+00, -1.81568260e-01,\n",
       "        -9.58314847e-01, -3.82546028e-01, -2.10818511e-01,\n",
       "        -3.25395687e-01],\n",
       "       [ 8.75689625e-01,  1.09151609e+00, -1.87195476e+00,\n",
       "        -2.61116484e-01,  2.29492193e+00, -1.81568260e-01,\n",
       "        -9.58314847e-01, -3.82546028e-01, -2.10818511e-01,\n",
       "        -3.25395687e-01],\n",
       "       [-4.42519312e-01, -3.75024675e-01,  1.47223498e+00,\n",
       "        -2.61116484e-01, -4.35744670e-01, -1.81568260e-01,\n",
       "         1.04349839e+00, -3.82546028e-01, -2.10818511e-01,\n",
       "        -3.25395687e-01],\n",
       "       [-5.88986972e-01, -3.75024675e-01,  5.42463323e-01,\n",
       "        -2.61116484e-01, -4.35744670e-01, -1.81568260e-01,\n",
       "         1.04349839e+00, -3.82546028e-01, -2.10818511e-01,\n",
       "        -3.25395687e-01],\n",
       "       [-2.66758121e-01,  1.23634508e-02,  1.03008715e-01,\n",
       "        -2.61116484e-01,  2.29492193e+00, -1.81568260e-01,\n",
       "        -9.58314847e-01, -3.82546028e-01, -2.10818511e-01,\n",
       "        -3.25395687e-01],\n",
       "       [-2.37464589e-01, -3.47354095e-01, -7.91794843e-01,\n",
       "        -2.61116484e-01, -4.35744670e-01, -1.81568260e-01,\n",
       "         1.04349839e+00, -3.82546028e-01, -2.10818511e-01,\n",
       "        -3.25395687e-01],\n",
       "       [-5.88986972e-01, -3.88859965e-01, -1.16064975e+00,\n",
       "        -2.61116484e-01, -4.35744670e-01, -1.81568260e-01,\n",
       "         1.04349839e+00, -3.82546028e-01, -2.10818511e-01,\n",
       "        -3.25395687e-01],\n",
       "       [-4.42519312e-01, -3.88859965e-01,  9.62509717e-01,\n",
       "        -2.61116484e-01,  2.29492193e+00, -1.81568260e-01,\n",
       "        -9.58314847e-01, -3.82546028e-01, -2.10818511e-01,\n",
       "        -3.25395687e-01],\n",
       "       [-5.88986972e-01,  2.12916285e+00, -1.22794817e+00,\n",
       "         3.82970843e+00, -4.35744670e-01, -1.81568260e-01,\n",
       "        -9.58314847e-01, -3.82546028e-01, -2.10818511e-01,\n",
       "        -3.25395687e-01],\n",
       "       [ 1.72644858e-01, -3.75024675e-01, -1.16064975e+00,\n",
       "        -2.61116484e-01, -4.35744670e-01, -1.81568260e-01,\n",
       "         1.04349839e+00, -3.82546028e-01, -2.10818511e-01,\n",
       "        -3.25395687e-01],\n",
       "       [ 1.02215728e+00, -3.88859965e-01, -4.50698837e-01,\n",
       "        -2.61116484e-01, -4.35744670e-01, -1.81568260e-01,\n",
       "        -9.58314847e-01,  2.61406452e+00, -2.10818511e-01,\n",
       "        -3.25395687e-01],\n",
       "       [ 2.31231922e-01, -3.75024675e-01, -5.17861846e-01,\n",
       "        -2.61116484e-01, -4.35744670e-01, -1.81568260e-01,\n",
       "         1.04349839e+00, -3.82546028e-01, -2.10818511e-01,\n",
       "        -3.25395687e-01],\n",
       "       [-5.88986972e-01, -4.02695256e-01,  7.65556902e-01,\n",
       "        -2.61116484e-01, -4.35744670e-01, -1.81568260e-01,\n",
       "         1.04349839e+00, -3.82546028e-01, -2.10818511e-01,\n",
       "        -3.25395687e-01],\n",
       "       [-5.88986972e-01, -3.75024675e-01,  5.42463323e-01,\n",
       "        -2.61116484e-01, -4.35744670e-01, -1.81568260e-01,\n",
       "         1.04349839e+00, -3.82546028e-01, -2.10818511e-01,\n",
       "        -3.25395687e-01],\n",
       "       [ 1.22721201e+00, -3.33518805e-01, -1.69213123e+00,\n",
       "        -2.61116484e-01,  2.29492193e+00, -1.81568260e-01,\n",
       "        -9.58314847e-01, -3.82546028e-01, -2.10818511e-01,\n",
       "        -3.25395687e-01],\n",
       "       [-1.20290461e-01, -3.61189385e-01,  4.05873262e-01,\n",
       "        -2.61116484e-01, -4.35744670e-01, -1.81568260e-01,\n",
       "        -9.58314847e-01, -3.82546028e-01, -2.10818511e-01,\n",
       "         3.07318149e+00],\n",
       "       [-5.88986972e-01, -3.75024675e-01,  4.59339621e-01,\n",
       "        -2.61116484e-01, -4.35744670e-01, -1.81568260e-01,\n",
       "         1.04349839e+00, -3.82546028e-01, -2.10818511e-01,\n",
       "        -3.25395687e-01],\n",
       "       [-1.20290461e-01, -2.78177644e-01, -7.91794843e-01,\n",
       "        -2.61116484e-01, -4.35744670e-01, -1.81568260e-01,\n",
       "        -9.58314847e-01,  2.61406452e+00, -2.10818511e-01,\n",
       "        -3.25395687e-01],\n",
       "       [-5.88986972e-01, -3.88859965e-01,  1.31415817e+00,\n",
       "        -2.61116484e-01, -4.35744670e-01, -1.81568260e-01,\n",
       "         1.04349839e+00, -3.82546028e-01, -2.10818511e-01,\n",
       "        -3.25395687e-01],\n",
       "       [-5.88986972e-01,  2.11532756e+00, -1.42659360e+00,\n",
       "         3.82970843e+00, -4.35744670e-01, -1.81568260e-01,\n",
       "        -9.58314847e-01, -3.82546028e-01, -2.10818511e-01,\n",
       "        -3.25395687e-01],\n",
       "       [-5.01106376e-01, -3.75024675e-01, -1.03201093e+00,\n",
       "        -2.61116484e-01, -4.35744670e-01, -1.81568260e-01,\n",
       "         1.04349839e+00, -3.82546028e-01, -2.10818511e-01,\n",
       "        -3.25395687e-01],\n",
       "       [ 3.48406050e-01, -3.61189385e-01, -1.03201093e+00,\n",
       "        -2.61116484e-01, -4.35744670e-01, -1.81568260e-01,\n",
       "        -9.58314847e-01,  2.61406452e+00, -2.10818511e-01,\n",
       "        -3.25395687e-01],\n",
       "       [ 4.36286646e-01, -3.88859965e-01, -3.70942764e-01,\n",
       "        -2.61116484e-01, -4.35744670e-01, -1.81568260e-01,\n",
       "        -9.58314847e-01,  2.61406452e+00, -2.10818511e-01,\n",
       "        -3.25395687e-01],\n",
       "       [-5.88986972e-01, -3.88859965e-01,  2.90034675e-01,\n",
       "        -2.61116484e-01, -4.35744670e-01, -1.81568260e-01,\n",
       "         1.04349839e+00, -3.82546028e-01, -2.10818511e-01,\n",
       "        -3.25395687e-01],\n",
       "       [ 3.51210750e+00,  3.38817426e+00, -6.42573804e-01,\n",
       "         3.82970843e+00, -4.35744670e-01, -1.81568260e-01,\n",
       "        -9.58314847e-01, -3.82546028e-01, -2.10818511e-01,\n",
       "        -3.25395687e-01],\n",
       "       [-5.59693440e-01, -3.61189385e-01,  1.47223498e+00,\n",
       "        -2.61116484e-01, -4.35744670e-01, -1.81568260e-01,\n",
       "        -9.58314847e-01, -3.82546028e-01, -2.10818511e-01,\n",
       "         3.07318149e+00],\n",
       "       [ 1.90096324e+00, -2.92012934e-01, -1.87195476e+00,\n",
       "        -2.61116484e-01, -4.35744670e-01, -1.81568260e-01,\n",
       "        -9.58314847e-01, -3.82546028e-01, -2.10818511e-01,\n",
       "         3.07318149e+00],\n",
       "       [-3.54638717e-01, -3.88859965e-01,  4.59339621e-01,\n",
       "        -2.61116484e-01,  2.29492193e+00, -1.81568260e-01,\n",
       "        -9.58314847e-01, -3.82546028e-01, -2.10818511e-01,\n",
       "        -3.25395687e-01],\n",
       "       [-3.83932248e-01, -3.88859965e-01, -1.16064975e+00,\n",
       "        -2.61116484e-01, -4.35744670e-01, -1.81568260e-01,\n",
       "        -9.58314847e-01,  2.61406452e+00, -2.10818511e-01,\n",
       "        -3.25395687e-01],\n",
       "       [ 2.61771988e-02,  2.54422156e+00,  4.59339621e-01,\n",
       "        -2.61116484e-01, -4.35744670e-01, -1.81568260e-01,\n",
       "        -9.58314847e-01, -3.82546028e-01,  4.74341649e+00,\n",
       "        -3.25395687e-01],\n",
       "       [ 9.63570221e-01,  3.38817426e+00,  3.44723780e-01,\n",
       "         3.82970843e+00, -4.35744670e-01, -1.81568260e-01,\n",
       "        -9.58314847e-01, -3.82546028e-01, -2.10818511e-01,\n",
       "        -3.25395687e-01],\n",
       "       [-5.59693440e-01, -3.75024675e-01,  1.47223498e+00,\n",
       "        -2.61116484e-01, -4.35744670e-01, -1.81568260e-01,\n",
       "         1.04349839e+00, -3.82546028e-01, -2.10818511e-01,\n",
       "        -3.25395687e-01],\n",
       "       [-5.59693440e-01, -3.75024675e-01,  5.42463323e-01,\n",
       "        -2.61116484e-01, -4.35744670e-01, -1.81568260e-01,\n",
       "         1.04349839e+00, -3.82546028e-01, -2.10818511e-01,\n",
       "        -3.25395687e-01],\n",
       "       [ 8.75689625e-01, -3.61189385e-01,  4.10532696e-01,\n",
       "        -2.61116484e-01, -4.35744670e-01, -1.81568260e-01,\n",
       "         1.04349839e+00, -3.82546028e-01, -2.10818511e-01,\n",
       "        -3.25395687e-01],\n",
       "       [ 1.95955031e+00, -3.33518805e-01,  1.31415817e+00,\n",
       "        -2.61116484e-01, -4.35744670e-01, -1.81568260e-01,\n",
       "        -9.58314847e-01, -3.82546028e-01, -2.10818511e-01,\n",
       "         3.07318149e+00],\n",
       "       [ 5.24167242e-01, -3.75024675e-01,  2.14263697e-01,\n",
       "        -2.61116484e-01, -4.35744670e-01, -1.81568260e-01,\n",
       "         1.04349839e+00, -3.82546028e-01, -2.10818511e-01,\n",
       "        -3.25395687e-01],\n",
       "       [-5.88986972e-01, -3.75024675e-01, -1.96294981e+00,\n",
       "        -2.61116484e-01, -4.35744670e-01,  5.50757055e+00,\n",
       "        -9.58314847e-01, -3.82546028e-01, -2.10818511e-01,\n",
       "        -3.25395687e-01],\n",
       "       [-5.59693440e-01, -3.75024675e-01,  1.47223498e+00,\n",
       "        -2.61116484e-01, -4.35744670e-01, -1.81568260e-01,\n",
       "         1.04349839e+00, -3.82546028e-01, -2.10818511e-01,\n",
       "        -3.25395687e-01],\n",
       "       [-4.42519312e-01,  2.11532756e+00,  2.14263697e-01,\n",
       "        -2.61116484e-01, -4.35744670e-01, -1.81568260e-01,\n",
       "        -9.58314847e-01, -3.82546028e-01,  4.74341649e+00,\n",
       "        -3.25395687e-01],\n",
       "       [-2.96051653e-01, -3.88859965e-01,  4.59499476e-02,\n",
       "        -2.61116484e-01, -4.35744670e-01, -1.81568260e-01,\n",
       "         1.04349839e+00, -3.82546028e-01, -2.10818511e-01,\n",
       "        -3.25395687e-01],\n",
       "       [-2.08171057e-01, -3.75024675e-01, -9.64441690e-01,\n",
       "        -2.61116484e-01, -4.35744670e-01, -1.81568260e-01,\n",
       "        -9.58314847e-01,  2.61406452e+00, -2.10818511e-01,\n",
       "        -3.25395687e-01],\n",
       "       [-5.88986972e-01,  4.63335038e+00,  4.10532696e-01,\n",
       "         3.82970843e+00, -4.35744670e-01, -1.81568260e-01,\n",
       "        -9.58314847e-01, -3.82546028e-01, -2.10818511e-01,\n",
       "        -3.25395687e-01],\n",
       "       [-3.11633319e-03, -3.61189385e-01, -7.91794843e-01,\n",
       "        -2.61116484e-01, -4.35744670e-01, -1.81568260e-01,\n",
       "         1.04349839e+00, -3.82546028e-01, -2.10818511e-01,\n",
       "        -3.25395687e-01],\n",
       "       [-4.42519312e-01, -3.47354095e-01,  7.13577337e-01,\n",
       "        -2.61116484e-01, -4.35744670e-01, -1.81568260e-01,\n",
       "        -9.58314847e-01,  2.61406452e+00, -2.10818511e-01,\n",
       "        -3.25395687e-01],\n",
       "       [ 1.37367967e+00, -3.33518805e-01, -8.32146812e-01,\n",
       "        -2.61116484e-01, -4.35744670e-01, -1.81568260e-01,\n",
       "         1.04349839e+00, -3.82546028e-01, -2.10818511e-01,\n",
       "        -3.25395687e-01],\n",
       "       [-5.88986972e-01, -3.61189385e-01,  4.05873262e-01,\n",
       "        -2.61116484e-01, -4.35744670e-01, -1.81568260e-01,\n",
       "         1.04349839e+00, -3.82546028e-01, -2.10818511e-01,\n",
       "        -3.25395687e-01],\n",
       "       [-5.59693440e-01, -3.75024675e-01,  1.31415817e+00,\n",
       "        -2.61116484e-01, -4.35744670e-01, -1.81568260e-01,\n",
       "         1.04349839e+00, -3.82546028e-01, -2.10818511e-01,\n",
       "        -3.25395687e-01],\n",
       "       [-2.96051653e-01,  2.11532756e+00,  4.59499476e-02,\n",
       "        -2.61116484e-01, -4.35744670e-01, -1.81568260e-01,\n",
       "        -9.58314847e-01, -3.82546028e-01,  4.74341649e+00,\n",
       "        -3.25395687e-01],\n",
       "       [-2.96051653e-01, -3.47354095e-01,  3.44723780e-01,\n",
       "        -2.61116484e-01, -4.35744670e-01, -1.81568260e-01,\n",
       "         1.04349839e+00, -3.82546028e-01, -2.10818511e-01,\n",
       "        -3.25395687e-01],\n",
       "       [ 4.36286646e-01,  3.38817426e+00, -4.50698837e-01,\n",
       "         3.82970843e+00, -4.35744670e-01, -1.81568260e-01,\n",
       "        -9.58314847e-01, -3.82546028e-01, -2.10818511e-01,\n",
       "        -3.25395687e-01],\n",
       "       [-5.59693440e-01, -3.47354095e-01,  4.10532696e-01,\n",
       "        -2.61116484e-01, -4.35744670e-01, -1.81568260e-01,\n",
       "         1.04349839e+00, -3.82546028e-01, -2.10818511e-01,\n",
       "        -3.25395687e-01],\n",
       "       [-2.08171057e-01, -3.88859965e-01,  1.47223498e+00,\n",
       "        -2.61116484e-01, -4.35744670e-01, -1.81568260e-01,\n",
       "         1.04349839e+00, -3.82546028e-01, -2.10818511e-01,\n",
       "        -3.25395687e-01],\n",
       "       [-5.59693440e-01, -3.47354095e-01,  3.44723780e-01,\n",
       "        -2.61116484e-01, -4.35744670e-01, -1.81568260e-01,\n",
       "         1.04349839e+00, -3.82546028e-01, -2.10818511e-01,\n",
       "        -3.25395687e-01],\n",
       "       [-1.20290461e-01, -3.47354095e-01, -7.91794843e-01,\n",
       "        -2.61116484e-01, -4.35744670e-01, -1.81568260e-01,\n",
       "        -9.58314847e-01, -3.82546028e-01, -2.10818511e-01,\n",
       "         3.07318149e+00],\n",
       "       [-5.88986972e-01, -3.61189385e-01,  9.62509717e-01,\n",
       "        -2.61116484e-01, -4.35744670e-01, -1.81568260e-01,\n",
       "         1.04349839e+00, -3.82546028e-01, -2.10818511e-01,\n",
       "        -3.25395687e-01],\n",
       "       [-4.42519312e-01, -3.75024675e-01,  7.65556902e-01,\n",
       "        -2.61116484e-01, -4.35744670e-01, -1.81568260e-01,\n",
       "        -9.58314847e-01,  2.61406452e+00, -2.10818511e-01,\n",
       "        -3.25395687e-01],\n",
       "       [ 3.80504282e+00, -3.61189385e-01, -1.69213123e+00,\n",
       "        -2.61116484e-01, -4.35744670e-01, -1.81568260e-01,\n",
       "        -9.58314847e-01, -3.82546028e-01, -2.10818511e-01,\n",
       "         3.07318149e+00],\n",
       "       [ 4.88890350e+00,  1.23634508e-02, -8.91726901e-01,\n",
       "        -2.61116484e-01, -4.35744670e-01, -1.81568260e-01,\n",
       "        -9.58314847e-01, -3.82546028e-01, -2.10818511e-01,\n",
       "         3.07318149e+00],\n",
       "       [-2.37464589e-01, -3.47354095e-01,  7.65556902e-01,\n",
       "        -2.61116484e-01, -4.35744670e-01, -1.81568260e-01,\n",
       "        -9.58314847e-01,  2.61406452e+00, -2.10818511e-01,\n",
       "        -3.25395687e-01],\n",
       "       [ 2.89818986e-01, -2.64342354e-01, -1.87195476e+00,\n",
       "        -2.61116484e-01, -4.35744670e-01, -1.81568260e-01,\n",
       "         1.04349839e+00, -3.82546028e-01, -2.10818511e-01,\n",
       "        -3.25395687e-01],\n",
       "       [-5.59693440e-01, -4.02695256e-01,  3.44723780e-01,\n",
       "        -2.61116484e-01, -4.35744670e-01, -1.81568260e-01,\n",
       "         1.04349839e+00, -3.82546028e-01, -2.10818511e-01,\n",
       "        -3.25395687e-01],\n",
       "       [-5.30399908e-01, -3.75024675e-01,  4.05873262e-01,\n",
       "        -2.61116484e-01, -4.35744670e-01, -1.81568260e-01,\n",
       "         1.04349839e+00, -3.82546028e-01, -2.10818511e-01,\n",
       "        -3.25395687e-01],\n",
       "       [-5.01106376e-01, -3.75024675e-01,  1.31415817e+00,\n",
       "        -2.61116484e-01, -4.35744670e-01, -1.81568260e-01,\n",
       "         1.04349839e+00, -3.82546028e-01, -2.10818511e-01,\n",
       "        -3.25395687e-01],\n",
       "       [ 2.13531150e+00, -4.02695256e-01,  9.62509717e-01,\n",
       "        -2.61116484e-01, -4.35744670e-01, -1.81568260e-01,\n",
       "         1.04349839e+00, -3.82546028e-01, -2.10818511e-01,\n",
       "        -3.25395687e-01],\n",
       "       [-5.01106376e-01, -3.88859965e-01, -6.42573804e-01,\n",
       "        -2.61116484e-01,  2.29492193e+00, -1.81568260e-01,\n",
       "        -9.58314847e-01, -3.82546028e-01, -2.10818511e-01,\n",
       "        -3.25395687e-01],\n",
       "       [-5.01106376e-01, -3.47354095e-01,  1.47223498e+00,\n",
       "        -2.61116484e-01, -4.35744670e-01, -1.81568260e-01,\n",
       "         1.04349839e+00, -3.82546028e-01, -2.10818511e-01,\n",
       "        -3.25395687e-01],\n",
       "       [ 8.17102561e-01, -3.19683514e-01, -3.70942764e-01,\n",
       "        -2.61116484e-01, -4.35744670e-01, -1.81568260e-01,\n",
       "        -9.58314847e-01,  2.61406452e+00, -2.10818511e-01,\n",
       "        -3.25395687e-01]])"
      ]
     },
     "execution_count": 7,
     "metadata": {},
     "output_type": "execute_result"
    }
   ],
   "source": [
    "scaleStandard.fit_transform(X_test)"
   ]
  },
  {
   "cell_type": "code",
   "execution_count": 8,
   "id": "e96c49bc",
   "metadata": {},
   "outputs": [],
   "source": [
    "rModel = linear_model.LinearRegression()"
   ]
  },
  {
   "cell_type": "code",
   "execution_count": 9,
   "id": "062bae3d",
   "metadata": {},
   "outputs": [
    {
     "data": {
      "text/plain": [
       "LinearRegression()"
      ]
     },
     "execution_count": 9,
     "metadata": {},
     "output_type": "execute_result"
    }
   ],
   "source": [
    "rModel.fit(X_train, y_train)"
   ]
  },
  {
   "cell_type": "code",
   "execution_count": 10,
   "id": "cfd7d35a",
   "metadata": {},
   "outputs": [],
   "source": [
    "y_pred = rModel.predict(X_test)"
   ]
  },
  {
   "cell_type": "code",
   "execution_count": 11,
   "id": "eaf7fdb1",
   "metadata": {},
   "outputs": [
    {
     "data": {
      "image/png": "[encoded data removed]",
      "text/plain": [
       "<Figure size 432x288 with 1 Axes>"
      ]
     },
     "metadata": {
      "needs_background": "light"
     },
     "output_type": "display_data"
    }
   ],
   "source": [
    "# Let's plot the predictions against the actual result. Use scatter()\n",
    "_ = plt.scatter(y_test, y_pred)\n",
    "_ = plt.xlabel('X')\n",
    "_ = plt.ylabel('Cost')"
   ]
  },
  {
   "cell_type": "code",
   "execution_count": 12,
   "id": "b5e26bfa",
   "metadata": {},
   "outputs": [],
   "source": [
    "X = sm.add_constant(X)"
   ]
  },
  {
   "cell_type": "code",
   "execution_count": 13,
   "id": "5c6f347e",
   "metadata": {},
   "outputs": [],
   "source": [
    "model3 = sm.OLS(y_train, X_train)"
   ]
  },
  {
   "cell_type": "code",
   "execution_count": 14,
   "id": "7709cc27",
   "metadata": {},
   "outputs": [],
   "source": [
    "rModel3 = model3.fit()"
   ]
  },
  {
   "cell_type": "code",
   "execution_count": 15,
   "id": "fa02a523",
   "metadata": {},
   "outputs": [],
   "source": [
    "y_pred = rModel3.predict(X_test)"
   ]
  },
  {
   "cell_type": "code",
   "execution_count": 16,
   "id": "122f05fc",
   "metadata": {},
   "outputs": [
    {
     "data": {
      "text/plain": [
       "Text(0, 0.5, 'Predicted cost')"
      ]
     },
     "execution_count": 16,
     "metadata": {},
     "output_type": "execute_result"
    },
    {
     "data": {
      "image/png": "[encoded data removed]",
      "text/plain": [
       "<Figure size 432x288 with 1 Axes>"
      ]
     },
     "metadata": {
      "needs_background": "light"
     },
     "output_type": "display_data"
    }
   ],
   "source": [
    "plt.plot(y_test, y_pred, marker='.', linestyle='none')\n",
    "\n",
    "# Add a line for perfect correlation\n",
    "test_range = [min(y_test), max(y_test)]\n",
    "plt.plot(test_range, test_range)\n",
    "\n",
    "# Label it nicely\n",
    "plt.xlabel('Actual x')\n",
    "plt.ylabel('Predicted cost')"
   ]
  },
  {
   "cell_type": "code",
   "execution_count": 17,
   "id": "dfe578f2",
   "metadata": {},
   "outputs": [
    {
     "data": {
      "text/html": [
       "<table class=\"simpletable\">\n",
       "<caption>OLS Regression Results</caption>\n",
       "<tr>\n",
       "  <th>Dep. Variable:</th>    <td>Total CPI-Adjusted Cost (Millions of Dollars)_x</td> <th>  R-squared:         </th> <td>   0.460</td>\n",
       "</tr>\n",
       "<tr>\n",
       "  <th>Model:</th>                                  <td>OLS</td>                       <th>  Adj. R-squared:    </th> <td>   0.442</td>\n",
       "</tr>\n",
       "<tr>\n",
       "  <th>Method:</th>                            <td>Least Squares</td>                  <th>  F-statistic:       </th> <td>   25.71</td>\n",
       "</tr>\n",
       "<tr>\n",
       "  <th>Date:</th>                            <td>Fri, 12 Jul 2024</td>                 <th>  Prob (F-statistic):</th> <td>7.88e-32</td>\n",
       "</tr>\n",
       "<tr>\n",
       "  <th>Time:</th>                                <td>09:16:05</td>                     <th>  Log-Likelihood:    </th> <td> -3107.6</td>\n",
       "</tr>\n",
       "<tr>\n",
       "  <th>No. Observations:</th>                     <td>   282</td>                      <th>  AIC:               </th> <td>   6235.</td>\n",
       "</tr>\n",
       "<tr>\n",
       "  <th>Df Residuals:</th>                         <td>   272</td>                      <th>  BIC:               </th> <td>   6272.</td>\n",
       "</tr>\n",
       "<tr>\n",
       "  <th>Df Model:</th>                             <td>     9</td>                      <th>                     </th>     <td> </td>   \n",
       "</tr>\n",
       "<tr>\n",
       "  <th>Covariance Type:</th>                     <td>nonrobust</td>                    <th>                     </th>     <td> </td>   \n",
       "</tr>\n",
       "</table>\n",
       "<table class=\"simpletable\">\n",
       "<tr>\n",
       "            <td></td>              <th>coef</th>     <th>std err</th>      <th>t</th>      <th>P>|t|</th>  <th>[0.025</th>    <th>0.975]</th>  \n",
       "</tr>\n",
       "<tr>\n",
       "  <th>Deaths</th>               <td>   48.2928</td> <td>    4.027</td> <td>   11.993</td> <td> 0.000</td> <td>   40.366</td> <td>   56.220</td>\n",
       "</tr>\n",
       "<tr>\n",
       "  <th>number_of_days</th>       <td>   34.8117</td> <td>   22.880</td> <td>    1.521</td> <td> 0.129</td> <td>  -10.234</td> <td>   79.857</td>\n",
       "</tr>\n",
       "<tr>\n",
       "  <th>Inflation rate value</th> <td>    0.0298</td> <td>    0.018</td> <td>    1.694</td> <td> 0.091</td> <td>   -0.005</td> <td>    0.064</td>\n",
       "</tr>\n",
       "<tr>\n",
       "  <th>Drought</th>              <td>-9798.6143</td> <td> 6409.898</td> <td>   -1.529</td> <td> 0.128</td> <td>-2.24e+04</td> <td> 2820.705</td>\n",
       "</tr>\n",
       "<tr>\n",
       "  <th>Flooding</th>             <td>-2856.5351</td> <td> 4698.865</td> <td>   -0.608</td> <td> 0.544</td> <td>-1.21e+04</td> <td> 6394.232</td>\n",
       "</tr>\n",
       "<tr>\n",
       "  <th>Freeze</th>               <td>-1605.0466</td> <td> 6697.174</td> <td>   -0.240</td> <td> 0.811</td> <td>-1.48e+04</td> <td> 1.16e+04</td>\n",
       "</tr>\n",
       "<tr>\n",
       "  <th>Severe Storm</th>         <td>-5019.8644</td> <td> 4248.460</td> <td>   -1.182</td> <td> 0.238</td> <td>-1.34e+04</td> <td> 3344.181</td>\n",
       "</tr>\n",
       "<tr>\n",
       "  <th>Tropical Cyclone</th>     <td> 1.228e+04</td> <td> 4249.151</td> <td>    2.890</td> <td> 0.004</td> <td> 3912.782</td> <td> 2.06e+04</td>\n",
       "</tr>\n",
       "<tr>\n",
       "  <th>Wildfire</th>             <td>-5931.2485</td> <td> 5887.695</td> <td>   -1.007</td> <td> 0.315</td> <td>-1.75e+04</td> <td> 5659.998</td>\n",
       "</tr>\n",
       "<tr>\n",
       "  <th>Winter Storm</th>         <td>-3707.6077</td> <td> 5373.070</td> <td>   -0.690</td> <td> 0.491</td> <td>-1.43e+04</td> <td> 6870.482</td>\n",
       "</tr>\n",
       "</table>\n",
       "<table class=\"simpletable\">\n",
       "<tr>\n",
       "  <th>Omnibus:</th>       <td>294.893</td> <th>  Durbin-Watson:     </th> <td>   1.944</td> \n",
       "</tr>\n",
       "<tr>\n",
       "  <th>Prob(Omnibus):</th> <td> 0.000</td>  <th>  Jarque-Bera (JB):  </th> <td>12206.127</td>\n",
       "</tr>\n",
       "<tr>\n",
       "  <th>Skew:</th>          <td> 4.305</td>  <th>  Prob(JB):          </th> <td>    0.00</td> \n",
       "</tr>\n",
       "<tr>\n",
       "  <th>Kurtosis:</th>      <td>34.059</td>  <th>  Cond. No.          </th> <td>2.56e+06</td> \n",
       "</tr>\n",
       "</table><br/><br/>Notes:<br/>[1] Standard Errors assume that the covariance matrix of the errors is correctly specified.<br/>[2] The condition number is large, 2.56e+06. This might indicate that there are<br/>strong multicollinearity or other numerical problems."
      ],
      "text/plain": [
       "<class 'statsmodels.iolib.summary.Summary'>\n",
       "\"\"\"\n",
       "                                           OLS Regression Results                                          \n",
       "===========================================================================================================\n",
       "Dep. Variable:     Total CPI-Adjusted Cost (Millions of Dollars)_x   R-squared:                       0.460\n",
       "Model:                                                         OLS   Adj. R-squared:                  0.442\n",
       "Method:                                              Least Squares   F-statistic:                     25.71\n",
       "Date:                                             Fri, 12 Jul 2024   Prob (F-statistic):           7.88e-32\n",
       "Time:                                                     09:16:05   Log-Likelihood:                -3107.6\n",
       "No. Observations:                                              282   AIC:                             6235.\n",
       "Df Residuals:                                                  272   BIC:                             6272.\n",
       "Df Model:                                                        9                                         \n",
       "Covariance Type:                                         nonrobust                                         \n",
       "========================================================================================\n",
       "                           coef    std err          t      P>|t|      [0.025      0.975]\n",
       "----------------------------------------------------------------------------------------\n",
       "Deaths                  48.2928      4.027     11.993      0.000      40.366      56.220\n",
       "number_of_days          34.8117     22.880      1.521      0.129     -10.234      79.857\n",
       "Inflation rate value     0.0298      0.018      1.694      0.091      -0.005       0.064\n",
       "Drought              -9798.6143   6409.898     -1.529      0.128   -2.24e+04    2820.705\n",
       "Flooding             -2856.5351   4698.865     -0.608      0.544   -1.21e+04    6394.232\n",
       "Freeze               -1605.0466   6697.174     -0.240      0.811   -1.48e+04    1.16e+04\n",
       "Severe Storm         -5019.8644   4248.460     -1.182      0.238   -1.34e+04    3344.181\n",
       "Tropical Cyclone      1.228e+04   4249.151      2.890      0.004    3912.782    2.06e+04\n",
       "Wildfire             -5931.2485   5887.695     -1.007      0.315   -1.75e+04    5659.998\n",
       "Winter Storm         -3707.6077   5373.070     -0.690      0.491   -1.43e+04    6870.482\n",
       "==============================================================================\n",
       "Omnibus:                      294.893   Durbin-Watson:                   1.944\n",
       "Prob(Omnibus):                  0.000   Jarque-Bera (JB):            12206.127\n",
       "Skew:                           4.305   Prob(JB):                         0.00\n",
       "Kurtosis:                      34.059   Cond. No.                     2.56e+06\n",
       "==============================================================================\n",
       "\n",
       "Notes:\n",
       "[1] Standard Errors assume that the covariance matrix of the errors is correctly specified.\n",
       "[2] The condition number is large, 2.56e+06. This might indicate that there are\n",
       "strong multicollinearity or other numerical problems.\n",
       "\"\"\""
      ]
     },
     "execution_count": 17,
     "metadata": {},
     "output_type": "execute_result"
    }
   ],
   "source": [
    "model4 = sm.OLS(y_train, X_train)\n",
    "# Fit the model\n",
    "rModel4 = model4.fit()\n",
    "# Evaluate the model\n",
    "rModel4.summary()"
   ]
  },
  {
   "cell_type": "markdown",
   "id": "5601f713",
   "metadata": {},
   "source": [
    "# Scoring the Linear Regression Model "
   ]
  },
  {
   "cell_type": "markdown",
   "id": "964dac2b",
   "metadata": {},
   "source": [
    "Model Scoring"
   ]
  },
  {
   "cell_type": "code",
   "execution_count": 18,
   "id": "7ec77b26",
   "metadata": {},
   "outputs": [
    {
     "data": {
      "text/plain": [
       "-0.0050538791323864185"
      ]
     },
     "execution_count": 18,
     "metadata": {},
     "output_type": "execute_result"
    }
   ],
   "source": [
    "rModel.score(X_test, y_test)"
   ]
  },
  {
   "cell_type": "code",
   "execution_count": 19,
   "id": "b33ba0db",
   "metadata": {},
   "outputs": [
    {
     "data": {
      "text/plain": [
       "0.459703896647058"
      ]
     },
     "execution_count": 19,
     "metadata": {},
     "output_type": "execute_result"
    }
   ],
   "source": [
    "rModel.score(X_train, y_train)"
   ]
  },
  {
   "cell_type": "markdown",
   "id": "4d55452b",
   "metadata": {},
   "source": [
    "The models predictive accuracy is only at 45%, a high chance of a wrong prediction.  "
   ]
  },
  {
   "cell_type": "markdown",
   "id": "05bcaa6e",
   "metadata": {},
   "source": [
    "The cross validation score, which evaluates and scores on 20 versions of the data.  There is one instance where .599 or .6 rounded up.  Better but not good. "
   ]
  },
  {
   "cell_type": "code",
   "execution_count": 20,
   "id": "4ef42bc5",
   "metadata": {},
   "outputs": [
    {
     "data": {
      "text/plain": [
       "array([  0.23164305,   0.15246049,   0.07411878, -13.3960242 ,\n",
       "        -3.99577765,  -0.04915003,   0.59935819,   0.48071245,\n",
       "         0.5207187 ,  -0.39956171,   0.39568882,  -1.86920539,\n",
       "        -0.20781033,  -0.04042896,   0.55934587,  -0.21373955,\n",
       "        -0.96256584,   0.28572733,   0.26404407,  -3.13456518])"
      ]
     },
     "execution_count": 20,
     "metadata": {},
     "output_type": "execute_result"
    }
   ],
   "source": [
    "cross_val_score(rModel, X, y, cv = 20)"
   ]
  },
  {
   "cell_type": "code",
   "execution_count": 21,
   "id": "c96bc812",
   "metadata": {},
   "outputs": [],
   "source": [
    "rModel_score = rModel.score(X_test, y_test)"
   ]
  },
  {
   "cell_type": "code",
   "execution_count": 22,
   "id": "c1bce7c8",
   "metadata": {},
   "outputs": [],
   "source": [
    "rModel_cross_val_score = (cross_val_score(rModel, X, y, cv = 20))"
   ]
  },
  {
   "cell_type": "code",
   "execution_count": 23,
   "id": "d890c2a9",
   "metadata": {},
   "outputs": [
    {
     "data": {
      "text/plain": [
       "(-0.0050538791323864185,\n",
       " array([  0.23164305,   0.15246049,   0.07411878, -13.3960242 ,\n",
       "         -3.99577765,  -0.04915003,   0.59935819,   0.48071245,\n",
       "          0.5207187 ,  -0.39956171,   0.39568882,  -1.86920539,\n",
       "         -0.20781033,  -0.04042896,   0.55934587,  -0.21373955,\n",
       "         -0.96256584,   0.28572733,   0.26404407,  -3.13456518]))"
      ]
     },
     "execution_count": 23,
     "metadata": {},
     "output_type": "execute_result"
    }
   ],
   "source": [
    "rModel_score, rModel_cross_val_score"
   ]
  },
  {
   "cell_type": "code",
   "execution_count": 24,
   "id": "24abf24f",
   "metadata": {},
   "outputs": [
    {
     "data": {
      "text/plain": [
       "-13.396024201928782"
      ]
     },
     "execution_count": 24,
     "metadata": {},
     "output_type": "execute_result"
    }
   ],
   "source": [
    "cross_val_score(rModel, X, y, cv = 20).min()"
   ]
  },
  {
   "cell_type": "code",
   "execution_count": 25,
   "id": "c4bfa8e7",
   "metadata": {},
   "outputs": [],
   "source": [
    "rModel_cross_val_score_min = (cross_val_score(rModel, X, y, cv = 20)).min()"
   ]
  },
  {
   "cell_type": "code",
   "execution_count": 26,
   "id": "e2e6e49a",
   "metadata": {},
   "outputs": [
    {
     "data": {
      "text/plain": [
       "0.5993581888771102"
      ]
     },
     "execution_count": 26,
     "metadata": {},
     "output_type": "execute_result"
    }
   ],
   "source": [
    "cross_val_score(rModel, X, y, cv = 20).max()"
   ]
  },
  {
   "cell_type": "code",
   "execution_count": 27,
   "id": "77ace93e",
   "metadata": {},
   "outputs": [],
   "source": [
    "rModel_cross_val_score_max = (cross_val_score(rModel, X, y, cv = 20)).max()"
   ]
  },
  {
   "cell_type": "code",
   "execution_count": 28,
   "id": "1b236885",
   "metadata": {},
   "outputs": [],
   "source": [
    "rModel_cross_val_score_mean = (cross_val_score(rModel, X, y, cv = 20)).mean()"
   ]
  },
  {
   "cell_type": "markdown",
   "id": "ce165a96",
   "metadata": {},
   "source": [
    "The cross validation score shows that we can get better a prediction than just the model score, however 60% is still low."
   ]
  },
  {
   "cell_type": "code",
   "execution_count": null,
   "id": "089f4114",
   "metadata": {},
   "outputs": [],
   "source": []
  },
  {
   "cell_type": "markdown",
   "id": "f685a72f",
   "metadata": {},
   "source": [
    "I had an idea that maybe the linear regression model would be better suited if I removed the highest and lowest cross validation scores.  I tried a MinMax scaler to see if it made any difference. "
   ]
  },
  {
   "cell_type": "markdown",
   "id": "80519fe9",
   "metadata": {},
   "source": [
    "MaxMin scaler"
   ]
  },
  {
   "cell_type": "code",
   "execution_count": 29,
   "id": "80e3b536",
   "metadata": {},
   "outputs": [],
   "source": [
    "from sklearn.preprocessing import MinMaxScaler\n"
   ]
  },
  {
   "cell_type": "code",
   "execution_count": 30,
   "id": "63e04c78",
   "metadata": {},
   "outputs": [],
   "source": [
    "Mmscaler = MinMaxScaler()"
   ]
  },
  {
   "cell_type": "code",
   "execution_count": 31,
   "id": "961d3c8c",
   "metadata": {},
   "outputs": [
    {
     "data": {
      "text/plain": [
       "array([[0.        , 0.00234821, 0.01917808, ..., 0.        , 0.        ,\n",
       "        0.        ],\n",
       "       [0.        , 0.00436095, 0.0109589 , ..., 1.        , 0.        ,\n",
       "        0.        ],\n",
       "       [0.        , 0.42267695, 0.49863014, ..., 0.        , 0.        ,\n",
       "        0.        ],\n",
       "       ...,\n",
       "       [0.        , 0.        , 0.00273973, ..., 0.        , 0.        ,\n",
       "        0.        ],\n",
       "       [0.        , 0.0828581 , 0.49863014, ..., 0.        , 0.        ,\n",
       "        0.        ],\n",
       "       [0.        , 0.00167729, 0.00547945, ..., 0.        , 0.        ,\n",
       "        0.        ]])"
      ]
     },
     "execution_count": 31,
     "metadata": {},
     "output_type": "execute_result"
    }
   ],
   "source": [
    "Mmscaler.fit_transform(X,y)"
   ]
  },
  {
   "cell_type": "code",
   "execution_count": 32,
   "id": "a9ad4e08",
   "metadata": {},
   "outputs": [
    {
     "name": "stdout",
     "output_type": "stream",
     "text": [
      "     const  Deaths  number_of_days  Inflation rate value  Drought  Flooding  \\\n",
      "0      1.0       7               7          82383.333333        0         1   \n",
      "1      1.0      13               4          82383.333333        0         0   \n",
      "2      1.0    1260             182          82383.333333        1         0   \n",
      "3      1.0       0               2          90933.333333        0         0   \n",
      "4      1.0      20               5          90933.333333        0         0   \n",
      "..     ...     ...             ...                   ...      ...       ...   \n",
      "371    1.0       0               0         302340.833333        0         0   \n",
      "372    1.0       5               2         302340.833333        0         0   \n",
      "373    1.0       0               1         302340.833333        0         0   \n",
      "374    1.0     247             182         302340.833333        1         0   \n",
      "375    1.0       5               2         302340.833333        0         1   \n",
      "\n",
      "     Freeze  Severe Storm  Tropical Cyclone  Wildfire  Winter Storm  \n",
      "0         0             0                 0         0             0  \n",
      "1         0             0                 1         0             0  \n",
      "2         0             0                 0         0             0  \n",
      "3         1             0                 0         0             0  \n",
      "4         0             1                 0         0             0  \n",
      "..      ...           ...               ...       ...           ...  \n",
      "371       0             1                 0         0             0  \n",
      "372       0             0                 1         0             0  \n",
      "373       0             1                 0         0             0  \n",
      "374       0             0                 0         0             0  \n",
      "375       0             0                 0         0             0  \n",
      "\n",
      "[376 rows x 11 columns]\n"
     ]
    }
   ],
   "source": [
    "print(X)"
   ]
  },
  {
   "cell_type": "code",
   "execution_count": 33,
   "id": "5a39d5f4",
   "metadata": {},
   "outputs": [
    {
     "name": "stdout",
     "output_type": "stream",
     "text": [
      "     Deaths  number_of_days  Inflation rate value  Drought  Flooding  Freeze  \\\n",
      "278       0               6         255651.666667        0         0       0   \n",
      "60        0               0         152383.333333        0         0       0   \n",
      "119    1833               5         195266.666667        0         0       0   \n",
      "266       0               1         251099.500000        0         0       0   \n",
      "352      33               1         302340.833333        0         0       0   \n",
      "..      ...             ...                   ...      ...       ...     ...   \n",
      "71       36              10         160525.000000        0         1       0   \n",
      "106       7               5         184000.000000        0         0       0   \n",
      "270      53               3         251099.500000        0         0       0   \n",
      "348      22              83         292612.500000        0         1       0   \n",
      "102      21              90         179866.666667        0         0       0   \n",
      "\n",
      "     Severe Storm  Tropical Cyclone  Wildfire  Winter Storm  \n",
      "278             1                 0         0             0  \n",
      "60              1                 0         0             0  \n",
      "119             0                 1         0             0  \n",
      "266             1                 0         0             0  \n",
      "352             1                 0         0             0  \n",
      "..            ...               ...       ...           ...  \n",
      "71              0                 0         0             0  \n",
      "106             1                 0         0             0  \n",
      "270             0                 1         0             0  \n",
      "348             0                 0         0             0  \n",
      "102             0                 0         1             0  \n",
      "\n",
      "[282 rows x 10 columns]\n"
     ]
    }
   ],
   "source": [
    "print(X_train)"
   ]
  },
  {
   "cell_type": "code",
   "execution_count": 34,
   "id": "e8dd3cc6",
   "metadata": {},
   "outputs": [],
   "source": [
    "rModel2 = linear_model.LinearRegression()"
   ]
  },
  {
   "cell_type": "code",
   "execution_count": 35,
   "id": "4c27bdfa",
   "metadata": {},
   "outputs": [],
   "source": [
    "X_train, X_test, y_train, y_test = train_test_split(X, y, test_size=0.25, random_state=42)"
   ]
  },
  {
   "cell_type": "code",
   "execution_count": 36,
   "id": "168db468",
   "metadata": {},
   "outputs": [
    {
     "data": {
      "text/plain": [
       "LinearRegression()"
      ]
     },
     "execution_count": 36,
     "metadata": {},
     "output_type": "execute_result"
    }
   ],
   "source": [
    "rModel2.fit(X_train, y_train)"
   ]
  },
  {
   "cell_type": "code",
   "execution_count": 37,
   "id": "44921715",
   "metadata": {},
   "outputs": [],
   "source": [
    "y_pred = rModel2.predict(X_test)"
   ]
  },
  {
   "cell_type": "code",
   "execution_count": 38,
   "id": "32e6677a",
   "metadata": {},
   "outputs": [
    {
     "data": {
      "image/png": "[encoded data removed]",
      "text/plain": [
       "<Figure size 432x288 with 1 Axes>"
      ]
     },
     "metadata": {
      "needs_background": "light"
     },
     "output_type": "display_data"
    }
   ],
   "source": [
    "# Let's plot the predictions against the actual result. Use scatter()\n",
    "_ = plt.scatter(y_test, y_pred)\n",
    "_ = plt.xlabel('X')\n",
    "_ = plt.ylabel('Cost')"
   ]
  },
  {
   "cell_type": "code",
   "execution_count": 39,
   "id": "1f48242f",
   "metadata": {},
   "outputs": [
    {
     "data": {
      "text/plain": [
       "0.45970389664705813"
      ]
     },
     "execution_count": 39,
     "metadata": {},
     "output_type": "execute_result"
    }
   ],
   "source": [
    "rModel2.score(X_train, y_train)"
   ]
  },
  {
   "cell_type": "code",
   "execution_count": 40,
   "id": "d57ae653",
   "metadata": {},
   "outputs": [
    {
     "data": {
      "text/plain": [
       "array([  0.23164305,   0.15246049,   0.07411878, -13.3960242 ,\n",
       "        -3.99577765,  -0.04915003,   0.59935819,   0.48071245,\n",
       "         0.5207187 ,  -0.39956171,   0.39568882,  -1.86920539,\n",
       "        -0.20781033,  -0.04042896,   0.55934587,  -0.21373955,\n",
       "        -0.96256584,   0.28572733,   0.26404407,  -3.13456518])"
      ]
     },
     "execution_count": 40,
     "metadata": {},
     "output_type": "execute_result"
    }
   ],
   "source": [
    "cross_val_score(rModel2, X, y, cv = 20)"
   ]
  },
  {
   "cell_type": "markdown",
   "id": "50ccbb25",
   "metadata": {},
   "source": [
    "\n",
    "Unfortunately, there was little to no difference.\n"
   ]
  },
  {
   "cell_type": "markdown",
   "id": "94ac0912",
   "metadata": {},
   "source": [
    "## The next machine learning model I decided to try was a Decision tree model"
   ]
  },
  {
   "cell_type": "markdown",
   "id": "d50b3c9f",
   "metadata": {},
   "source": [
    "# Decision Tree Regressor"
   ]
  },
  {
   "cell_type": "code",
   "execution_count": 41,
   "id": "46a18316",
   "metadata": {},
   "outputs": [],
   "source": [
    "X = df.drop('Total CPI-Adjusted Cost (Millions of Dollars)_x', axis = 'columns')\n",
    "y = df[['Total CPI-Adjusted Cost (Millions of Dollars)_x']]"
   ]
  },
  {
   "cell_type": "code",
   "execution_count": 42,
   "id": "5fbf0d8c",
   "metadata": {},
   "outputs": [],
   "source": [
    "X_train, X_test, y_train, y_test = train_test_split(X, y, test_size=0.25, random_state=42)"
   ]
  },
  {
   "cell_type": "code",
   "execution_count": 43,
   "id": "036441ea",
   "metadata": {},
   "outputs": [],
   "source": [
    "rg = DecisionTreeRegressor(max_depth =4, min_samples_leaf= 0.1, random_state=3)"
   ]
  },
  {
   "cell_type": "code",
   "execution_count": 44,
   "id": "eed0dd58",
   "metadata": {},
   "outputs": [
    {
     "data": {
      "text/plain": [
       "DecisionTreeRegressor(max_depth=4, min_samples_leaf=0.1, random_state=3)"
      ]
     },
     "execution_count": 44,
     "metadata": {},
     "output_type": "execute_result"
    }
   ],
   "source": [
    "rg.fit(X_train, y_train)"
   ]
  },
  {
   "cell_type": "code",
   "execution_count": 45,
   "id": "9db4d9a4",
   "metadata": {},
   "outputs": [],
   "source": [
    "y_predict = rg.predict(X_test)"
   ]
  },
  {
   "cell_type": "code",
   "execution_count": 46,
   "id": "6ae25b62",
   "metadata": {},
   "outputs": [
    {
     "data": {
      "text/plain": [
       "array([ 3820.91290323,  2259.38627451,  2259.38627451,  2259.38627451,\n",
       "       39533.71666667,  2259.38627451,  2259.38627451,  3820.91290323,\n",
       "        2259.38627451,  2259.38627451,  2259.38627451,  2259.38627451,\n",
       "        3820.91290323,  2259.38627451,  2259.38627451,  3820.91290323,\n",
       "        2259.38627451,  5446.8       ,  2259.38627451,  2259.38627451,\n",
       "        2259.38627451,  2259.38627451,  2259.38627451,  2259.38627451,\n",
       "        5446.8       ,  2259.38627451,  2259.38627451,  2259.38627451,\n",
       "       13853.69677419,  2259.38627451,  2259.38627451,  5446.8       ,\n",
       "        2259.38627451,  2259.38627451,  2259.38627451,  5446.8       ,\n",
       "        3820.91290323, 13853.69677419,  3820.91290323,  2259.38627451,\n",
       "        2259.38627451, 13853.69677419,  3820.91290323,  2259.38627451,\n",
       "        3820.91290323,  2259.38627451,  5446.8       ,  2259.38627451,\n",
       "        3820.91290323, 13853.69677419,  2259.38627451, 39533.71666667,\n",
       "        2259.38627451, 39533.71666667,  2259.38627451,  2259.38627451,\n",
       "        5446.8       , 13853.69677419,  2259.38627451,  2259.38627451,\n",
       "       13853.69677419, 39533.71666667, 13853.69677419,  2259.38627451,\n",
       "        2259.38627451,  5446.8       ,  2259.38627451,  3820.91290323,\n",
       "        5446.8       ,  3820.91290323,  2259.38627451, 13853.69677419,\n",
       "        2259.38627451,  2259.38627451,  5446.8       ,  2259.38627451,\n",
       "       13853.69677419,  2259.38627451,  3820.91290323,  2259.38627451,\n",
       "        3820.91290323,  2259.38627451,  2259.38627451, 39533.71666667,\n",
       "       39533.71666667,  2259.38627451,  3820.91290323,  2259.38627451,\n",
       "        2259.38627451,  2259.38627451, 39533.71666667,  2259.38627451,\n",
       "        2259.38627451, 13853.69677419])"
      ]
     },
     "execution_count": 46,
     "metadata": {},
     "output_type": "execute_result"
    }
   ],
   "source": [
    "y_predict"
   ]
  },
  {
   "cell_type": "code",
   "execution_count": 47,
   "id": "2fd2518f",
   "metadata": {},
   "outputs": [
    {
     "data": {
      "text/plain": [
       "4107.151638809265"
      ]
     },
     "execution_count": 47,
     "metadata": {},
     "output_type": "execute_result"
    }
   ],
   "source": [
    "from sklearn.metrics import mean_absolute_error\n",
    "mean_absolute_error(y_test, y_predict)"
   ]
  },
  {
   "cell_type": "code",
   "execution_count": 48,
   "id": "7a0f7349",
   "metadata": {},
   "outputs": [
    {
     "data": {
      "text/plain": [
       "6289.154405372307"
      ]
     },
     "execution_count": 48,
     "metadata": {},
     "output_type": "execute_result"
    }
   ],
   "source": [
    "y_predict_train = rg.predict(X_train)\n",
    "mean_absolute_error(y_train, y_predict_train)"
   ]
  },
  {
   "cell_type": "code",
   "execution_count": 49,
   "id": "88e8a848",
   "metadata": {},
   "outputs": [
    {
     "data": {
      "text/plain": [
       "array([ 2259.38627451,  2259.38627451, 39533.71666667,  2259.38627451,\n",
       "       13853.69677419,  2259.38627451,  2259.38627451,  2259.38627451,\n",
       "        2259.38627451, 39533.71666667,  2259.38627451,  2259.38627451,\n",
       "        3820.91290323,  3820.91290323,  3820.91290323,  2259.38627451,\n",
       "        5446.8       ,  2259.38627451,  2259.38627451,  5446.8       ,\n",
       "       39533.71666667,  2259.38627451,  5446.8       ,  2259.38627451,\n",
       "        2259.38627451,  2259.38627451,  3820.91290323, 39533.71666667,\n",
       "       13853.69677419,  2259.38627451,  5446.8       ,  3820.91290323,\n",
       "        2259.38627451,  2259.38627451,  2259.38627451,  5446.8       ,\n",
       "        3820.91290323, 13853.69677419, 39533.71666667,  5446.8       ,\n",
       "        2259.38627451,  2259.38627451, 13853.69677419,  2259.38627451,\n",
       "        2259.38627451,  3820.91290323,  5446.8       ,  5446.8       ,\n",
       "       39533.71666667,  2259.38627451,  2259.38627451,  2259.38627451,\n",
       "       39533.71666667,  2259.38627451,  2259.38627451, 13853.69677419,\n",
       "        2259.38627451,  5446.8       ,  3820.91290323,  5446.8       ,\n",
       "       13853.69677419, 39533.71666667,  2259.38627451,  2259.38627451,\n",
       "        5446.8       , 13853.69677419,  2259.38627451,  5446.8       ,\n",
       "        3820.91290323,  2259.38627451, 13853.69677419, 13853.69677419,\n",
       "        2259.38627451,  2259.38627451,  2259.38627451,  2259.38627451,\n",
       "        2259.38627451,  3820.91290323,  5446.8       ,  2259.38627451,\n",
       "        2259.38627451,  2259.38627451,  2259.38627451,  2259.38627451,\n",
       "        2259.38627451,  2259.38627451, 13853.69677419, 39533.71666667,\n",
       "       39533.71666667,  2259.38627451,  2259.38627451,  3820.91290323,\n",
       "        5446.8       ,  2259.38627451,  2259.38627451,  2259.38627451,\n",
       "        2259.38627451,  3820.91290323,  3820.91290323, 39533.71666667,\n",
       "        2259.38627451,  5446.8       ,  2259.38627451,  2259.38627451,\n",
       "        2259.38627451, 13853.69677419,  2259.38627451,  2259.38627451,\n",
       "        2259.38627451,  2259.38627451,  3820.91290323,  2259.38627451,\n",
       "       39533.71666667,  3820.91290323, 13853.69677419,  2259.38627451,\n",
       "        2259.38627451, 39533.71666667,  5446.8       ,  2259.38627451,\n",
       "        3820.91290323,  2259.38627451,  2259.38627451, 39533.71666667,\n",
       "        3820.91290323, 39533.71666667,  3820.91290323,  2259.38627451,\n",
       "        2259.38627451,  2259.38627451,  2259.38627451,  2259.38627451,\n",
       "        2259.38627451, 13853.69677419, 13853.69677419, 39533.71666667,\n",
       "        3820.91290323,  2259.38627451,  3820.91290323,  2259.38627451,\n",
       "        2259.38627451,  3820.91290323,  3820.91290323,  5446.8       ,\n",
       "        2259.38627451, 39533.71666667,  5446.8       ,  2259.38627451,\n",
       "        2259.38627451,  2259.38627451,  2259.38627451,  5446.8       ,\n",
       "        2259.38627451,  2259.38627451,  5446.8       ,  5446.8       ,\n",
       "        2259.38627451,  2259.38627451,  2259.38627451, 39533.71666667,\n",
       "        2259.38627451,  2259.38627451,  2259.38627451,  2259.38627451,\n",
       "       13853.69677419, 39533.71666667,  2259.38627451,  3820.91290323,\n",
       "        5446.8       ,  2259.38627451,  2259.38627451,  2259.38627451,\n",
       "        2259.38627451,  3820.91290323,  5446.8       ,  2259.38627451,\n",
       "        2259.38627451,  3820.91290323,  3820.91290323, 39533.71666667,\n",
       "        2259.38627451,  2259.38627451,  2259.38627451,  3820.91290323,\n",
       "        2259.38627451,  2259.38627451,  2259.38627451,  2259.38627451,\n",
       "        2259.38627451,  2259.38627451,  2259.38627451,  5446.8       ,\n",
       "        5446.8       , 13853.69677419, 39533.71666667, 13853.69677419,\n",
       "        5446.8       ,  5446.8       ,  2259.38627451,  2259.38627451,\n",
       "        2259.38627451,  2259.38627451,  2259.38627451, 13853.69677419,\n",
       "        2259.38627451,  5446.8       ,  2259.38627451, 13853.69677419,\n",
       "        2259.38627451,  2259.38627451,  3820.91290323, 13853.69677419,\n",
       "        2259.38627451,  2259.38627451,  2259.38627451,  2259.38627451,\n",
       "        2259.38627451, 39533.71666667, 13853.69677419,  2259.38627451,\n",
       "       13853.69677419, 13853.69677419,  3820.91290323,  2259.38627451,\n",
       "        2259.38627451,  2259.38627451,  2259.38627451,  2259.38627451,\n",
       "        2259.38627451,  5446.8       ,  2259.38627451,  2259.38627451,\n",
       "       39533.71666667,  2259.38627451, 39533.71666667, 39533.71666667,\n",
       "        2259.38627451,  5446.8       , 39533.71666667,  5446.8       ,\n",
       "        2259.38627451,  2259.38627451,  2259.38627451,  2259.38627451,\n",
       "        2259.38627451, 13853.69677419,  2259.38627451,  2259.38627451,\n",
       "        2259.38627451,  2259.38627451, 39533.71666667,  5446.8       ,\n",
       "       39533.71666667,  2259.38627451,  3820.91290323,  2259.38627451,\n",
       "       13853.69677419,  2259.38627451,  2259.38627451,  5446.8       ,\n",
       "        5446.8       , 13853.69677419, 39533.71666667, 13853.69677419,\n",
       "       13853.69677419,  2259.38627451,  5446.8       ,  2259.38627451,\n",
       "        2259.38627451,  2259.38627451, 13853.69677419,  2259.38627451,\n",
       "        2259.38627451, 39533.71666667,  2259.38627451,  2259.38627451,\n",
       "        3820.91290323, 13853.69677419,  2259.38627451, 13853.69677419,\n",
       "        5446.8       ,  5446.8       ])"
      ]
     },
     "execution_count": 49,
     "metadata": {},
     "output_type": "execute_result"
    }
   ],
   "source": [
    "y_predict_train"
   ]
  },
  {
   "cell_type": "code",
   "execution_count": 50,
   "id": "e3a6dd2e",
   "metadata": {},
   "outputs": [
    {
     "data": {
      "text/html": [
       "<div>\n",
       "<style scoped>\n",
       "    .dataframe tbody tr th:only-of-type {\n",
       "        vertical-align: middle;\n",
       "    }\n",
       "\n",
       "    .dataframe tbody tr th {\n",
       "        vertical-align: top;\n",
       "    }\n",
       "\n",
       "    .dataframe thead th {\n",
       "        text-align: right;\n",
       "    }\n",
       "</style>\n",
       "<table border=\"1\" class=\"dataframe\">\n",
       "  <thead>\n",
       "    <tr style=\"text-align: right;\">\n",
       "      <th></th>\n",
       "      <th>Total CPI-Adjusted Cost (Millions of Dollars)_x</th>\n",
       "    </tr>\n",
       "  </thead>\n",
       "  <tbody>\n",
       "    <tr>\n",
       "      <th>278</th>\n",
       "      <td>1816.8</td>\n",
       "    </tr>\n",
       "    <tr>\n",
       "      <th>60</th>\n",
       "      <td>1161.5</td>\n",
       "    </tr>\n",
       "    <tr>\n",
       "      <th>119</th>\n",
       "      <td>195046.1</td>\n",
       "    </tr>\n",
       "    <tr>\n",
       "      <th>266</th>\n",
       "      <td>2712.1</td>\n",
       "    </tr>\n",
       "    <tr>\n",
       "      <th>352</th>\n",
       "      <td>5740.4</td>\n",
       "    </tr>\n",
       "    <tr>\n",
       "      <th>...</th>\n",
       "      <td>...</td>\n",
       "    </tr>\n",
       "    <tr>\n",
       "      <th>71</th>\n",
       "      <td>5822.8</td>\n",
       "    </tr>\n",
       "    <tr>\n",
       "      <th>106</th>\n",
       "      <td>1433.0</td>\n",
       "    </tr>\n",
       "    <tr>\n",
       "      <th>270</th>\n",
       "      <td>29280.0</td>\n",
       "    </tr>\n",
       "    <tr>\n",
       "      <th>348</th>\n",
       "      <td>4635.0</td>\n",
       "    </tr>\n",
       "    <tr>\n",
       "      <th>102</th>\n",
       "      <td>2248.8</td>\n",
       "    </tr>\n",
       "  </tbody>\n",
       "</table>\n",
       "<p>282 rows × 1 columns</p>\n",
       "</div>"
      ],
      "text/plain": [
       "     Total CPI-Adjusted Cost (Millions of Dollars)_x\n",
       "278                                           1816.8\n",
       "60                                            1161.5\n",
       "119                                         195046.1\n",
       "266                                           2712.1\n",
       "352                                           5740.4\n",
       "..                                               ...\n",
       "71                                            5822.8\n",
       "106                                           1433.0\n",
       "270                                          29280.0\n",
       "348                                           4635.0\n",
       "102                                           2248.8\n",
       "\n",
       "[282 rows x 1 columns]"
      ]
     },
     "execution_count": 50,
     "metadata": {},
     "output_type": "execute_result"
    }
   ],
   "source": [
    "y_train"
   ]
  },
  {
   "cell_type": "code",
   "execution_count": 51,
   "id": "dfe38f0b",
   "metadata": {},
   "outputs": [],
   "source": [
    "mse_rg = MSE(y_test, y_pred)"
   ]
  },
  {
   "cell_type": "code",
   "execution_count": 52,
   "id": "fe2b3b18",
   "metadata": {},
   "outputs": [],
   "source": [
    "rmse_rg = mse_rg**(1/2)"
   ]
  },
  {
   "cell_type": "code",
   "execution_count": 53,
   "id": "2a780a7e",
   "metadata": {},
   "outputs": [
    {
     "name": "stdout",
     "output_type": "stream",
     "text": [
      "5364.951206518638\n"
     ]
    }
   ],
   "source": [
    "print(rmse_rg)"
   ]
  },
  {
   "cell_type": "code",
   "execution_count": 54,
   "id": "e6956a95",
   "metadata": {},
   "outputs": [
    {
     "data": {
      "text/plain": [
       "28782701.448325787"
      ]
     },
     "execution_count": 54,
     "metadata": {},
     "output_type": "execute_result"
    }
   ],
   "source": [
    "mse_rg"
   ]
  },
  {
   "cell_type": "code",
   "execution_count": 55,
   "id": "0fba0ce0",
   "metadata": {},
   "outputs": [
    {
     "data": {
      "text/plain": [
       "0.32213003694857156"
      ]
     },
     "execution_count": 55,
     "metadata": {},
     "output_type": "execute_result"
    }
   ],
   "source": [
    "rg.score(X_train, y_train)"
   ]
  },
  {
   "cell_type": "code",
   "execution_count": 56,
   "id": "0d10d289",
   "metadata": {},
   "outputs": [],
   "source": [
    "rg_score = rg.score(X_train, y_train)"
   ]
  },
  {
   "cell_type": "code",
   "execution_count": 57,
   "id": "45bbdc57",
   "metadata": {},
   "outputs": [
    {
     "data": {
      "text/plain": [
       "-1.9959332405320507"
      ]
     },
     "execution_count": 57,
     "metadata": {},
     "output_type": "execute_result"
    }
   ],
   "source": [
    "rg.score(X_test, y_test)"
   ]
  },
  {
   "cell_type": "code",
   "execution_count": 58,
   "id": "15bba4a7",
   "metadata": {},
   "outputs": [
    {
     "data": {
      "text/plain": [
       "array([ -2.82965081,  -0.51413979,   0.02817844, -18.04456289,\n",
       "       -13.39678556,   0.48540444,   0.18258358,   0.75741558,\n",
       "        -4.04311441,  -0.12218434,   0.59832959,  -3.09917789,\n",
       "         0.36718933,   0.18325334,   0.62109513,   0.37509722,\n",
       "         0.73222519,   0.36677276,   0.34704186,  -6.85437392])"
      ]
     },
     "execution_count": 58,
     "metadata": {},
     "output_type": "execute_result"
    }
   ],
   "source": [
    "cross_val_score(rg, X, y, cv = 20)"
   ]
  },
  {
   "cell_type": "code",
   "execution_count": 59,
   "id": "aafef553",
   "metadata": {},
   "outputs": [],
   "source": [
    "rg_cross_val_score = cross_val_score(rg, X, y, cv = 20)"
   ]
  },
  {
   "cell_type": "code",
   "execution_count": 60,
   "id": "fa51760c",
   "metadata": {},
   "outputs": [
    {
     "data": {
      "text/plain": [
       "-2.1929701573469"
      ]
     },
     "execution_count": 60,
     "metadata": {},
     "output_type": "execute_result"
    }
   ],
   "source": [
    "cross_val_score(rg, X, y, cv = 20).mean()"
   ]
  },
  {
   "cell_type": "code",
   "execution_count": 61,
   "id": "ecef68e5",
   "metadata": {},
   "outputs": [],
   "source": [
    "rg_cross_val_score_mean = cross_val_score(rg, X, y, cv = 20).mean()"
   ]
  },
  {
   "cell_type": "code",
   "execution_count": 62,
   "id": "78abf962",
   "metadata": {},
   "outputs": [
    {
     "data": {
      "text/plain": [
       "0.7574155777983903"
      ]
     },
     "execution_count": 62,
     "metadata": {},
     "output_type": "execute_result"
    }
   ],
   "source": [
    "cross_val_score(rg, X, y, cv = 20).max()"
   ]
  },
  {
   "cell_type": "code",
   "execution_count": 63,
   "id": "89352c7d",
   "metadata": {},
   "outputs": [],
   "source": [
    "rg_cross_val_score_max = cross_val_score(rg, X, y, cv = 20).max()"
   ]
  },
  {
   "cell_type": "code",
   "execution_count": 64,
   "id": "e25808e7",
   "metadata": {},
   "outputs": [],
   "source": [
    "rg_cross_val_score_min = cross_val_score(rg, X, y, cv = 20).min()"
   ]
  },
  {
   "cell_type": "markdown",
   "id": "7a7a6760",
   "metadata": {},
   "source": [
    "The decision tree regressor had better scores than the linear regression in the cross value scores.  In this model you get more scores over 60%.  Much better than the linear regression.   "
   ]
  },
  {
   "cell_type": "markdown",
   "id": "da0b6062",
   "metadata": {},
   "source": [
    "## The next model I tried was Random Forest "
   ]
  },
  {
   "cell_type": "markdown",
   "id": "fb34f8b0",
   "metadata": {},
   "source": [
    "# Random Forest "
   ]
  },
  {
   "cell_type": "code",
   "execution_count": 65,
   "id": "47312141",
   "metadata": {},
   "outputs": [],
   "source": [
    "X = df.drop('Total CPI-Adjusted Cost (Millions of Dollars)_x', axis = 'columns')\n",
    "y = df[['Total CPI-Adjusted Cost (Millions of Dollars)_x']]"
   ]
  },
  {
   "cell_type": "code",
   "execution_count": 66,
   "id": "4801a868",
   "metadata": {},
   "outputs": [],
   "source": [
    "X_train, X_test, y_train, y_test = train_test_split(X, y, test_size=0.25, random_state=42)"
   ]
  },
  {
   "cell_type": "code",
   "execution_count": 67,
   "id": "7f38a63c",
   "metadata": {},
   "outputs": [],
   "source": [
    "from sklearn.ensemble import RandomForestRegressor"
   ]
  },
  {
   "cell_type": "code",
   "execution_count": 68,
   "id": "a04c74b0",
   "metadata": {},
   "outputs": [
    {
     "data": {
      "text/plain": [
       "RandomForestRegressor()"
      ]
     },
     "execution_count": 68,
     "metadata": {},
     "output_type": "execute_result"
    }
   ],
   "source": [
    "\n",
    "rfr = RandomForestRegressor(n_estimators=100)\n",
    "rfr.fit(X_train, np.ravel(y_train))"
   ]
  },
  {
   "cell_type": "code",
   "execution_count": 69,
   "id": "7c1afa51",
   "metadata": {},
   "outputs": [
    {
     "data": {
      "text/plain": [
       "array([ 2237.345     ,  2439.65985   ,  3399.35409524,  3002.616     ,\n",
       "       61228.726     ,  2967.312     ,  2607.695     ,  3697.475     ,\n",
       "        1347.23      ,  1910.594     ,  2519.468     ,  2332.80033333,\n",
       "        4713.143     ,  2095.444     ,  2006.09016667,  3493.582     ,\n",
       "        1675.85171429,  2968.158     ,  1792.01975   ,  3903.887     ,\n",
       "        2746.056     ,  2301.97391667,  2007.33      ,  4228.86      ,\n",
       "        4086.41      ,  4294.906     ,  2563.036     ,  2131.95046667,\n",
       "       25366.7       ,  1823.555     ,  2593.75096667,  5286.284     ,\n",
       "        2152.899     ,  1713.6949    ,  1791.80233333,  4839.236     ,\n",
       "        5389.388     , 23581.889     ,  4269.169     ,  3216.46525   ,\n",
       "        2593.75096667, 13187.485     ,  3894.187     ,  3593.95675   ,\n",
       "        3815.641     ,  1599.74896667,  5511.214     ,  3102.36      ,\n",
       "        8669.397     , 16848.368     ,  2022.1634    , 18345.417     ,\n",
       "        2924.94933333,  5877.187     ,  2771.322     ,  3128.454     ,\n",
       "        4871.36      , 20638.189     ,  3008.89233333,  2028.6613    ,\n",
       "        7349.215     , 12191.556     ,  4063.93      ,  3605.94      ,\n",
       "        3008.89233333,  3144.527     ,  2682.464     ,  4105.037     ,\n",
       "        4927.478     ,  2641.036     ,  3432.11333333,  2423.754     ,\n",
       "        2426.5557    ,  2058.45273333,  3312.714     ,  2154.061     ,\n",
       "       11349.148     ,  1847.283     ,  4557.759     ,  2289.064     ,\n",
       "        3308.307     ,  1459.86711429,  3203.358     ,  9371.87      ,\n",
       "        8099.053     ,  3435.269     ,  4710.203     ,  1418.22205   ,\n",
       "        1916.13225   ,  1694.0525    , 11475.924     ,  2391.968     ,\n",
       "        2603.37033333, 23080.506     ])"
      ]
     },
     "execution_count": 69,
     "metadata": {},
     "output_type": "execute_result"
    }
   ],
   "source": [
    "rfr.predict(X_test)"
   ]
  },
  {
   "cell_type": "code",
   "execution_count": 70,
   "id": "e53288b0",
   "metadata": {},
   "outputs": [],
   "source": [
    "y_preds = rfr.predict(X_test)"
   ]
  },
  {
   "cell_type": "code",
   "execution_count": null,
   "id": "0ef2bfc6",
   "metadata": {},
   "outputs": [],
   "source": []
  },
  {
   "cell_type": "code",
   "execution_count": 71,
   "id": "774425e6",
   "metadata": {},
   "outputs": [
    {
     "name": "stdout",
     "output_type": "stream",
     "text": [
      "Regression model metrics of test set\n",
      "R^2: 0.3184588198995012\n",
      "MAE: 2589.6936948074976\n",
      "MSE: 19517954.92646294\n"
     ]
    }
   ],
   "source": [
    "print(\"Regression model metrics of test set\")\n",
    "print(f\"R^2: {r2_score(y_test, y_preds)}\")\n",
    "print(f\"MAE: {mean_absolute_error(y_test, y_preds)}\")\n",
    "print(f\"MSE: {mean_squared_error(y_test, y_preds)}\")"
   ]
  },
  {
   "cell_type": "code",
   "execution_count": 72,
   "id": "6c28a7f9",
   "metadata": {},
   "outputs": [
    {
     "data": {
      "text/plain": [
       "0.9303378570432113"
      ]
     },
     "execution_count": 72,
     "metadata": {},
     "output_type": "execute_result"
    }
   ],
   "source": [
    "rfr.score(X_train, y_train)"
   ]
  },
  {
   "cell_type": "code",
   "execution_count": 73,
   "id": "6a4de2ed",
   "metadata": {},
   "outputs": [],
   "source": [
    "rfr_score = rfr.score(X_train, y_train)"
   ]
  },
  {
   "cell_type": "code",
   "execution_count": 74,
   "id": "f2a2171a",
   "metadata": {},
   "outputs": [
    {
     "data": {
      "text/plain": [
       "array([-0.36004558, -0.62868271,  0.05718315, -2.82438722, -2.15445716,\n",
       "        0.51793274,  0.52289172,  0.42873085,  0.58190894,  0.93144523,\n",
       "        0.80997654,  0.32042333, -1.09135326,  0.49731427,  0.83523481,\n",
       "        0.74957358,  0.50803745,  0.91546891,  0.87406661, -0.46601576])"
      ]
     },
     "execution_count": 74,
     "metadata": {},
     "output_type": "execute_result"
    }
   ],
   "source": [
    "cross_val_score(rfr, X, np.ravel(y), cv = 20)"
   ]
  },
  {
   "cell_type": "code",
   "execution_count": 75,
   "id": "0cb59797",
   "metadata": {},
   "outputs": [],
   "source": [
    "rfr_cross_val_score = cross_val_score(rfr, X, np.ravel(y), cv = 20)"
   ]
  },
  {
   "cell_type": "code",
   "execution_count": 76,
   "id": "aeb6dc56",
   "metadata": {},
   "outputs": [
    {
     "data": {
      "text/plain": [
       "0.09705735237856063"
      ]
     },
     "execution_count": 76,
     "metadata": {},
     "output_type": "execute_result"
    }
   ],
   "source": [
    "cross_val_score(rfr, X, np.ravel(y), cv = 20).mean()"
   ]
  },
  {
   "cell_type": "code",
   "execution_count": 77,
   "id": "860f3a34",
   "metadata": {},
   "outputs": [],
   "source": [
    "rfr_cross_val_score_mean = cross_val_score(rfr, X, np.ravel(y), cv = 20).mean()"
   ]
  },
  {
   "cell_type": "code",
   "execution_count": 78,
   "id": "2662d4f2",
   "metadata": {},
   "outputs": [
    {
     "data": {
      "text/plain": [
       "-2.683762195121924"
      ]
     },
     "execution_count": 78,
     "metadata": {},
     "output_type": "execute_result"
    }
   ],
   "source": [
    "cross_val_score(rfr, X, np.ravel(y), cv = 20).min()"
   ]
  },
  {
   "cell_type": "code",
   "execution_count": 79,
   "id": "5cc824d1",
   "metadata": {},
   "outputs": [],
   "source": [
    "rfr_cross_val_score_min = cross_val_score(rfr, X, np.ravel(y), cv = 20).min()"
   ]
  },
  {
   "cell_type": "code",
   "execution_count": 80,
   "id": "842ce95b",
   "metadata": {},
   "outputs": [
    {
     "data": {
      "text/plain": [
       "0.9183221762880142"
      ]
     },
     "execution_count": 80,
     "metadata": {},
     "output_type": "execute_result"
    }
   ],
   "source": [
    "cross_val_score(rfr, X, np.ravel(y), cv = 20).max()"
   ]
  },
  {
   "cell_type": "code",
   "execution_count": 81,
   "id": "18320f89",
   "metadata": {},
   "outputs": [],
   "source": [
    "rfr_cross_val_score_max = cross_val_score(rfr, X, np.ravel(y), cv = 20).max()"
   ]
  },
  {
   "cell_type": "markdown",
   "id": "b0aec409",
   "metadata": {},
   "source": [
    "I believe that the random forest regressor is the best preforming model for predicting the future costs of natural disaster based on the parameters provided.  The score is at 93% predictive accuracy and the cross validation scores have multiple scores above 70%.  "
   ]
  },
  {
   "cell_type": "markdown",
   "id": "fff942ed",
   "metadata": {},
   "source": [
    "# Comparing the models"
   ]
  },
  {
   "cell_type": "code",
   "execution_count": 82,
   "id": "a5136835",
   "metadata": {},
   "outputs": [
    {
     "data": {
      "image/png": "[encoded data removed]",
      "text/plain": [
       "<Figure size 432x288 with 1 Axes>"
      ]
     },
     "metadata": {
      "needs_background": "light"
     },
     "output_type": "display_data"
    }
   ],
   "source": [
    "fig, ax = plt.subplots()\n",
    "\n",
    "model_scores = ['model score', 'CV Mean', 'CV Min', 'CV Max']\n",
    "counts = [rModel_score, rModel_cross_val_score_mean, rModel_cross_val_score_min, rModel_cross_val_score_max]\n",
    "bar_labels = ['score', 'mean', 'Min', 'Max']\n",
    "bar_colors = ['tab:red', 'tab:blue', 'tab:green', 'tab:orange']\n",
    "\n",
    "\n",
    "ax.bar(model_scores, counts, label=bar_labels, color=bar_colors)\n",
    "\n",
    "ax.set_ylabel('model score')\n",
    "ax.set_title('Linear regression')\n",
    "ax.legend(title='model score type')\n",
    "\n",
    "plt.show()"
   ]
  },
  {
   "cell_type": "code",
   "execution_count": 83,
   "id": "201337af",
   "metadata": {},
   "outputs": [
    {
     "data": {
      "image/png": "[encoded data removed]",
      "text/plain": [
       "<Figure size 432x288 with 1 Axes>"
      ]
     },
     "metadata": {
      "needs_background": "light"
     },
     "output_type": "display_data"
    }
   ],
   "source": [
    "fig, ax = plt.subplots()\n",
    "\n",
    "fruits = ['model score', 'CV Mean', 'CV Min', 'CV Max']\n",
    "counts = [rg_score, rg_cross_val_score_mean, rg_cross_val_score_min, rg_cross_val_score_max]\n",
    "bar_labels = ['score', 'mean', 'Min', 'Max']\n",
    "bar_colors = ['tab:red', 'tab:blue', 'tab:green', 'tab:orange']\n",
    "\n",
    "ax.bar(fruits, counts, label=bar_labels, color=bar_colors)\n",
    "\n",
    "ax.set_ylabel('model score')\n",
    "ax.set_title('Linear regression')\n",
    "ax.legend(title='model score type')\n",
    "\n",
    "plt.show()"
   ]
  },
  {
   "cell_type": "code",
   "execution_count": 84,
   "id": "f097e618",
   "metadata": {},
   "outputs": [
    {
     "data": {
      "image/png": "[encoded data removed]",
      "text/plain": [
       "<Figure size 432x288 with 1 Axes>"
      ]
     },
     "metadata": {
      "needs_background": "light"
     },
     "output_type": "display_data"
    }
   ],
   "source": [
    "fig, ax = plt.subplots()\n",
    "\n",
    "fruits = ['model score', 'CV Mean', 'CV Min', 'CV Max']\n",
    "counts = [rfr_score, rfr_cross_val_score_mean, rfr_cross_val_score_min, rfr_cross_val_score_max]\n",
    "bar_labels = ['score', 'mean', 'Min', 'Max']\n",
    "bar_colors = ['tab:red', 'tab:blue', 'tab:green', 'tab:orange']\n",
    "\n",
    "ax.bar(fruits, counts, label=bar_labels, color=bar_colors)\n",
    "\n",
    "ax.set_ylabel('model score')\n",
    "ax.set_title('Linear regression')\n",
    "ax.legend(title='model score type')\n",
    "\n",
    "plt.show()"
   ]
  },
  {
   "cell_type": "code",
   "execution_count": 85,
   "id": "2f731b93",
   "metadata": {},
   "outputs": [
    {
     "name": "stdout",
     "output_type": "stream",
     "text": [
      "            ML Model  Model accuracy score\n",
      "0  Linear Regression             -0.005054\n",
      "1      Decision Tree              0.322130\n",
      "2      Random Forest              0.930338\n"
     ]
    },
    {
     "data": {
      "text/html": [
       "<div>\n",
       "<style scoped>\n",
       "    .dataframe tbody tr th:only-of-type {\n",
       "        vertical-align: middle;\n",
       "    }\n",
       "\n",
       "    .dataframe tbody tr th {\n",
       "        vertical-align: top;\n",
       "    }\n",
       "\n",
       "    .dataframe thead th {\n",
       "        text-align: right;\n",
       "    }\n",
       "</style>\n",
       "<table border=\"1\" class=\"dataframe\">\n",
       "  <thead>\n",
       "    <tr style=\"text-align: right;\">\n",
       "      <th></th>\n",
       "      <th>ML Model</th>\n",
       "      <th>Mean</th>\n",
       "      <th>Min</th>\n",
       "      <th>Max</th>\n",
       "    </tr>\n",
       "  </thead>\n",
       "  <tbody>\n",
       "    <tr>\n",
       "      <th>0</th>\n",
       "      <td>Linear Regression</td>\n",
       "      <td>-1.035251</td>\n",
       "      <td>-13.396024</td>\n",
       "      <td>0.599358</td>\n",
       "    </tr>\n",
       "    <tr>\n",
       "      <th>1</th>\n",
       "      <td>Decision Tree</td>\n",
       "      <td>-2.192970</td>\n",
       "      <td>-18.044563</td>\n",
       "      <td>-2.192970</td>\n",
       "    </tr>\n",
       "    <tr>\n",
       "      <th>2</th>\n",
       "      <td>Random Forest</td>\n",
       "      <td>0.010800</td>\n",
       "      <td>-3.218166</td>\n",
       "      <td>0.933306</td>\n",
       "    </tr>\n",
       "  </tbody>\n",
       "</table>\n",
       "</div>"
      ],
      "text/plain": [
       "            ML Model      Mean        Min       Max\n",
       "0  Linear Regression -1.035251 -13.396024  0.599358\n",
       "1      Decision Tree -2.192970 -18.044563 -2.192970\n",
       "2      Random Forest  0.010800  -3.218166  0.933306"
      ]
     },
     "execution_count": 85,
     "metadata": {},
     "output_type": "execute_result"
    }
   ],
   "source": [
    "myLabels = [ 'Linear Regression','Decision Tree','Random Forest']\n",
    "model_score= [  rModel_score,rg_score, rfr_score]\n",
    "cross_val_score_mean = [ rModel_cross_val_score_mean, rg_cross_val_score_mean, rfr_cross_val_score_mean]\n",
    "cross_val_score_min = [ rModel_cross_val_score_min, rg_cross_val_score_min, rfr_cross_val_score_min]\n",
    "cross_val_score_max = [ rModel_cross_val_score_max, rg_cross_val_score_mean, rfr_cross_val_score_max]\n",
    "\n",
    "\n",
    "score_tab_acc = pd.DataFrame(list(zip(myLabels, model_score)), \n",
    "               columns =['ML Model', 'Model accuracy score']) \n",
    "\n",
    "score_tab = pd.DataFrame(list(zip(myLabels, cross_val_score_mean, cross_val_score_min, cross_val_score_max)), \n",
    "               columns =['ML Model', 'Mean', 'Min', 'Max' ]) \n",
    "print(score_tab_acc)\n",
    "\n",
    "score_tab\n",
    "\n"
   ]
  },
  {
   "cell_type": "markdown",
   "id": "ef0f2430",
   "metadata": {},
   "source": [
    "###  In conclusion, the Random Forest Model is the best model to predict the cost of the next disaster because it combines multiple decision trees into a single model. It uses 100 decision tree models to make final predictions based on the average of the individual trees. In this model the overall score is .92 which is great for predictive accuracy. In the cross value score, there were multiple scores over 70%, another good sign. In the bar graph the mean, min and max bars are all very close to 1. The random forest algorithm is great for predicting future behavior"
   ]
  },
  {
   "cell_type": "code",
   "execution_count": null,
   "id": "09f65400",
   "metadata": {},
   "outputs": [],
   "source": []
  }
 ],
 "metadata": {
  "kernelspec": {
   "display_name": "PythonData",
   "language": "python",
   "name": "pythondata"
  },
  "language_info": {
   "codemirror_mode": {
    "name": "ipython",
    "version": 3
   },
   "file_extension": ".py",
   "mimetype": "text/x-python",
   "name": "python",
   "nbconvert_exporter": "python",
   "pygments_lexer": "ipython3",
   "version": "3.7.10"
  }
 },
 "nbformat": 4,
 "nbformat_minor": 5
}
