{
 "cells": [
  {
   "cell_type": "code",
   "execution_count": 1,
   "id": "4a931977",
   "metadata": {},
   "outputs": [],
   "source": [
    "import os\n",
    "import pandas as pd\n",
    "\n",
    "df1= pd.read_csv('Events_US.csv', skiprows=1)"
   ]
  },
  {
   "cell_type": "code",
   "execution_count": 2,
   "id": "89a2aa1e",
   "metadata": {},
   "outputs": [
    {
     "data": {
      "text/html": [
       "<div>\n",
       "<style scoped>\n",
       "    .dataframe tbody tr th:only-of-type {\n",
       "        vertical-align: middle;\n",
       "    }\n",
       "\n",
       "    .dataframe tbody tr th {\n",
       "        vertical-align: top;\n",
       "    }\n",
       "\n",
       "    .dataframe thead th {\n",
       "        text-align: right;\n",
       "    }\n",
       "</style>\n",
       "<table border=\"1\" class=\"dataframe\">\n",
       "  <thead>\n",
       "    <tr style=\"text-align: right;\">\n",
       "      <th></th>\n",
       "      <th>Name</th>\n",
       "      <th>Disaster</th>\n",
       "      <th>Begin Date</th>\n",
       "      <th>End Date</th>\n",
       "      <th>Total CPI-Adjusted Cost (Millions of Dollars)</th>\n",
       "      <th>Deaths</th>\n",
       "    </tr>\n",
       "  </thead>\n",
       "  <tbody>\n",
       "    <tr>\n",
       "      <th>0</th>\n",
       "      <td>Southern Severe Storms and Flooding (April 1980)</td>\n",
       "      <td>Flooding</td>\n",
       "      <td>19800410</td>\n",
       "      <td>19800417</td>\n",
       "      <td>2678.6</td>\n",
       "      <td>7</td>\n",
       "    </tr>\n",
       "    <tr>\n",
       "      <th>1</th>\n",
       "      <td>Hurricane Allen (August 1980)</td>\n",
       "      <td>Tropical Cyclone</td>\n",
       "      <td>19800807</td>\n",
       "      <td>19800811</td>\n",
       "      <td>2177.2</td>\n",
       "      <td>13</td>\n",
       "    </tr>\n",
       "    <tr>\n",
       "      <th>2</th>\n",
       "      <td>Central/Eastern Drought/Heat Wave (Summer-Fall...</td>\n",
       "      <td>Drought</td>\n",
       "      <td>19800601</td>\n",
       "      <td>19801130</td>\n",
       "      <td>39579.0</td>\n",
       "      <td>1260</td>\n",
       "    </tr>\n",
       "    <tr>\n",
       "      <th>3</th>\n",
       "      <td>Florida Freeze (January 1981)</td>\n",
       "      <td>Freeze</td>\n",
       "      <td>19810112</td>\n",
       "      <td>19810114</td>\n",
       "      <td>2019.2</td>\n",
       "      <td>0</td>\n",
       "    </tr>\n",
       "    <tr>\n",
       "      <th>4</th>\n",
       "      <td>Severe Storms, Flash Floods, Hail, Tornadoes (...</td>\n",
       "      <td>Severe Storm</td>\n",
       "      <td>19810505</td>\n",
       "      <td>19810510</td>\n",
       "      <td>1372.9</td>\n",
       "      <td>20</td>\n",
       "    </tr>\n",
       "  </tbody>\n",
       "</table>\n",
       "</div>"
      ],
      "text/plain": [
       "                                                Name          Disaster  \\\n",
       "0   Southern Severe Storms and Flooding (April 1980)          Flooding   \n",
       "1                      Hurricane Allen (August 1980)  Tropical Cyclone   \n",
       "2  Central/Eastern Drought/Heat Wave (Summer-Fall...           Drought   \n",
       "3                      Florida Freeze (January 1981)            Freeze   \n",
       "4  Severe Storms, Flash Floods, Hail, Tornadoes (...      Severe Storm   \n",
       "\n",
       "   Begin Date  End Date  Total CPI-Adjusted Cost (Millions of Dollars)  Deaths  \n",
       "0    19800410  19800417                                         2678.6       7  \n",
       "1    19800807  19800811                                         2177.2      13  \n",
       "2    19800601  19801130                                        39579.0    1260  \n",
       "3    19810112  19810114                                         2019.2       0  \n",
       "4    19810505  19810510                                         1372.9      20  "
      ]
     },
     "execution_count": 2,
     "metadata": {},
     "output_type": "execute_result"
    }
   ],
   "source": [
    "df1.head()"
   ]
  },
  {
   "cell_type": "code",
   "execution_count": 3,
   "id": "361b924b",
   "metadata": {},
   "outputs": [],
   "source": [
    "df2= pd.read_csv('state_cost_data.csv', skiprows=1)"
   ]
  },
  {
   "cell_type": "code",
   "execution_count": 4,
   "id": "0aca1a06",
   "metadata": {},
   "outputs": [
    {
     "data": {
      "text/html": [
       "<div>\n",
       "<style scoped>\n",
       "    .dataframe tbody tr th:only-of-type {\n",
       "        vertical-align: middle;\n",
       "    }\n",
       "\n",
       "    .dataframe tbody tr th {\n",
       "        vertical-align: top;\n",
       "    }\n",
       "\n",
       "    .dataframe thead th {\n",
       "        text-align: right;\n",
       "    }\n",
       "</style>\n",
       "<table border=\"1\" class=\"dataframe\">\n",
       "  <thead>\n",
       "    <tr style=\"text-align: right;\">\n",
       "      <th></th>\n",
       "      <th>state</th>\n",
       "      <th>drought</th>\n",
       "      <th>flooding</th>\n",
       "      <th>freeze</th>\n",
       "      <th>severe storm</th>\n",
       "      <th>tropical cyclone</th>\n",
       "      <th>wildfire</th>\n",
       "      <th>winter storm</th>\n",
       "    </tr>\n",
       "  </thead>\n",
       "  <tbody>\n",
       "    <tr>\n",
       "      <th>0</th>\n",
       "      <td>AK</td>\n",
       "      <td>0.0</td>\n",
       "      <td>0.0</td>\n",
       "      <td>0.0</td>\n",
       "      <td>0.0</td>\n",
       "      <td>0.0</td>\n",
       "      <td>2292.8</td>\n",
       "      <td>0.0</td>\n",
       "    </tr>\n",
       "    <tr>\n",
       "      <th>1</th>\n",
       "      <td>AL</td>\n",
       "      <td>6780.6</td>\n",
       "      <td>134.7</td>\n",
       "      <td>148.7</td>\n",
       "      <td>13894.8</td>\n",
       "      <td>26457.6</td>\n",
       "      <td>716.4</td>\n",
       "      <td>2377.1</td>\n",
       "    </tr>\n",
       "    <tr>\n",
       "      <th>2</th>\n",
       "      <td>AR</td>\n",
       "      <td>6651.0</td>\n",
       "      <td>4597.8</td>\n",
       "      <td>291.0</td>\n",
       "      <td>10216.5</td>\n",
       "      <td>706.4</td>\n",
       "      <td>0.0</td>\n",
       "      <td>1135.5</td>\n",
       "    </tr>\n",
       "    <tr>\n",
       "      <th>3</th>\n",
       "      <td>AZ</td>\n",
       "      <td>1486.5</td>\n",
       "      <td>1879.5</td>\n",
       "      <td>0.0</td>\n",
       "      <td>5358.0</td>\n",
       "      <td>0.0</td>\n",
       "      <td>1327.8</td>\n",
       "      <td>0.0</td>\n",
       "    </tr>\n",
       "    <tr>\n",
       "      <th>4</th>\n",
       "      <td>CA</td>\n",
       "      <td>16199.3</td>\n",
       "      <td>18798.3</td>\n",
       "      <td>15131.0</td>\n",
       "      <td>3445.4</td>\n",
       "      <td>0.0</td>\n",
       "      <td>98106.3</td>\n",
       "      <td>0.0</td>\n",
       "    </tr>\n",
       "  </tbody>\n",
       "</table>\n",
       "</div>"
      ],
      "text/plain": [
       "  state  drought  flooding   freeze  severe storm  tropical cyclone  wildfire  \\\n",
       "0    AK      0.0       0.0      0.0           0.0               0.0    2292.8   \n",
       "1    AL   6780.6     134.7    148.7       13894.8           26457.6     716.4   \n",
       "2    AR   6651.0    4597.8    291.0       10216.5             706.4       0.0   \n",
       "3    AZ   1486.5    1879.5      0.0        5358.0               0.0    1327.8   \n",
       "4    CA  16199.3   18798.3  15131.0        3445.4               0.0   98106.3   \n",
       "\n",
       "   winter storm  \n",
       "0           0.0  \n",
       "1        2377.1  \n",
       "2        1135.5  \n",
       "3           0.0  \n",
       "4           0.0  "
      ]
     },
     "execution_count": 4,
     "metadata": {},
     "output_type": "execute_result"
    }
   ],
   "source": [
    "df2.head()"
   ]
  },
  {
   "cell_type": "code",
   "execution_count": 5,
   "id": "508bc94f",
   "metadata": {},
   "outputs": [],
   "source": [
    "df3= pd.read_csv('state_freq_data.csv', skiprows=1)"
   ]
  },
  {
   "cell_type": "code",
   "execution_count": 6,
   "id": "66b5070c",
   "metadata": {},
   "outputs": [
    {
     "data": {
      "text/html": [
       "<div>\n",
       "<style scoped>\n",
       "    .dataframe tbody tr th:only-of-type {\n",
       "        vertical-align: middle;\n",
       "    }\n",
       "\n",
       "    .dataframe tbody tr th {\n",
       "        vertical-align: top;\n",
       "    }\n",
       "\n",
       "    .dataframe thead th {\n",
       "        text-align: right;\n",
       "    }\n",
       "</style>\n",
       "<table border=\"1\" class=\"dataframe\">\n",
       "  <thead>\n",
       "    <tr style=\"text-align: right;\">\n",
       "      <th></th>\n",
       "      <th>year</th>\n",
       "      <th>state</th>\n",
       "      <th>drought</th>\n",
       "      <th>flooding</th>\n",
       "      <th>freeze</th>\n",
       "      <th>severe storm</th>\n",
       "      <th>tropical cyclone</th>\n",
       "      <th>wildfire</th>\n",
       "      <th>winter storm</th>\n",
       "    </tr>\n",
       "  </thead>\n",
       "  <tbody>\n",
       "    <tr>\n",
       "      <th>0</th>\n",
       "      <td>1980</td>\n",
       "      <td>AK</td>\n",
       "      <td>0</td>\n",
       "      <td>0</td>\n",
       "      <td>0</td>\n",
       "      <td>0</td>\n",
       "      <td>0</td>\n",
       "      <td>0</td>\n",
       "      <td>0</td>\n",
       "    </tr>\n",
       "    <tr>\n",
       "      <th>1</th>\n",
       "      <td>1980</td>\n",
       "      <td>AL</td>\n",
       "      <td>1</td>\n",
       "      <td>0</td>\n",
       "      <td>0</td>\n",
       "      <td>0</td>\n",
       "      <td>0</td>\n",
       "      <td>0</td>\n",
       "      <td>0</td>\n",
       "    </tr>\n",
       "    <tr>\n",
       "      <th>2</th>\n",
       "      <td>1980</td>\n",
       "      <td>AR</td>\n",
       "      <td>1</td>\n",
       "      <td>1</td>\n",
       "      <td>0</td>\n",
       "      <td>0</td>\n",
       "      <td>0</td>\n",
       "      <td>0</td>\n",
       "      <td>0</td>\n",
       "    </tr>\n",
       "    <tr>\n",
       "      <th>3</th>\n",
       "      <td>1980</td>\n",
       "      <td>AZ</td>\n",
       "      <td>0</td>\n",
       "      <td>0</td>\n",
       "      <td>0</td>\n",
       "      <td>0</td>\n",
       "      <td>0</td>\n",
       "      <td>0</td>\n",
       "      <td>0</td>\n",
       "    </tr>\n",
       "    <tr>\n",
       "      <th>4</th>\n",
       "      <td>1980</td>\n",
       "      <td>CA</td>\n",
       "      <td>0</td>\n",
       "      <td>0</td>\n",
       "      <td>0</td>\n",
       "      <td>0</td>\n",
       "      <td>0</td>\n",
       "      <td>0</td>\n",
       "      <td>0</td>\n",
       "    </tr>\n",
       "  </tbody>\n",
       "</table>\n",
       "</div>"
      ],
      "text/plain": [
       "   year state  drought  flooding  freeze  severe storm  tropical cyclone  \\\n",
       "0  1980    AK        0         0       0             0                 0   \n",
       "1  1980    AL        1         0       0             0                 0   \n",
       "2  1980    AR        1         1       0             0                 0   \n",
       "3  1980    AZ        0         0       0             0                 0   \n",
       "4  1980    CA        0         0       0             0                 0   \n",
       "\n",
       "   wildfire  winter storm  \n",
       "0         0             0  \n",
       "1         0             0  \n",
       "2         0             0  \n",
       "3         0             0  \n",
       "4         0             0  "
      ]
     },
     "execution_count": 6,
     "metadata": {},
     "output_type": "execute_result"
    }
   ],
   "source": [
    "df3.head()"
   ]
  },
  {
   "cell_type": "code",
   "execution_count": 7,
   "id": "d690b152",
   "metadata": {},
   "outputs": [
    {
     "data": {
      "text/plain": [
       "0    AK\n",
       "1    AL\n",
       "2    AR\n",
       "3    AZ\n",
       "4    CA\n",
       "Name: state, dtype: object"
      ]
     },
     "execution_count": 7,
     "metadata": {},
     "output_type": "execute_result"
    }
   ],
   "source": [
    "df3['state'].head()"
   ]
  },
  {
   "cell_type": "code",
   "execution_count": 8,
   "id": "d774f3eb",
   "metadata": {},
   "outputs": [],
   "source": [
    "state_by_flooding = df3.loc[:,['state','flooding']]"
   ]
  },
  {
   "cell_type": "code",
   "execution_count": 9,
   "id": "78b39394",
   "metadata": {},
   "outputs": [],
   "source": [
    "cost_per_flood = df2.loc[:,['state','flooding']]"
   ]
  },
  {
   "cell_type": "code",
   "execution_count": null,
   "id": "6cb3e694",
   "metadata": {},
   "outputs": [],
   "source": []
  },
  {
   "cell_type": "code",
   "execution_count": 10,
   "id": "18b2c3ea",
   "metadata": {},
   "outputs": [],
   "source": [
    "df4= df3.groupby(by= 'state',as_index= False)['flooding'].sum()"
   ]
  },
  {
   "cell_type": "code",
   "execution_count": 11,
   "id": "9ec81dd7",
   "metadata": {},
   "outputs": [
    {
     "data": {
      "text/html": [
       "<div>\n",
       "<style scoped>\n",
       "    .dataframe tbody tr th:only-of-type {\n",
       "        vertical-align: middle;\n",
       "    }\n",
       "\n",
       "    .dataframe tbody tr th {\n",
       "        vertical-align: top;\n",
       "    }\n",
       "\n",
       "    .dataframe thead th {\n",
       "        text-align: right;\n",
       "    }\n",
       "</style>\n",
       "<table border=\"1\" class=\"dataframe\">\n",
       "  <thead>\n",
       "    <tr style=\"text-align: right;\">\n",
       "      <th></th>\n",
       "      <th>state</th>\n",
       "      <th>flooding</th>\n",
       "    </tr>\n",
       "  </thead>\n",
       "  <tbody>\n",
       "    <tr>\n",
       "      <th>0</th>\n",
       "      <td>AK</td>\n",
       "      <td>0</td>\n",
       "    </tr>\n",
       "    <tr>\n",
       "      <th>1</th>\n",
       "      <td>AL</td>\n",
       "      <td>2</td>\n",
       "    </tr>\n",
       "    <tr>\n",
       "      <th>2</th>\n",
       "      <td>AR</td>\n",
       "      <td>9</td>\n",
       "    </tr>\n",
       "    <tr>\n",
       "      <th>3</th>\n",
       "      <td>AZ</td>\n",
       "      <td>3</td>\n",
       "    </tr>\n",
       "    <tr>\n",
       "      <th>4</th>\n",
       "      <td>CA</td>\n",
       "      <td>6</td>\n",
       "    </tr>\n",
       "  </tbody>\n",
       "</table>\n",
       "</div>"
      ],
      "text/plain": [
       "  state  flooding\n",
       "0    AK         0\n",
       "1    AL         2\n",
       "2    AR         9\n",
       "3    AZ         3\n",
       "4    CA         6"
      ]
     },
     "execution_count": 11,
     "metadata": {},
     "output_type": "execute_result"
    }
   ],
   "source": [
    "df4.head()"
   ]
  },
  {
   "cell_type": "code",
   "execution_count": 12,
   "id": "5fbed749",
   "metadata": {},
   "outputs": [
    {
     "data": {
      "text/plain": [
       "Index(['state', 'flooding'], dtype='object')"
      ]
     },
     "execution_count": 12,
     "metadata": {},
     "output_type": "execute_result"
    }
   ],
   "source": [
    "df4.columns"
   ]
  },
  {
   "cell_type": "code",
   "execution_count": 13,
   "id": "0d855e32",
   "metadata": {},
   "outputs": [
    {
     "data": {
      "text/plain": [
       "0      0\n",
       "1      2\n",
       "2      9\n",
       "3      3\n",
       "4      6\n",
       "5      2\n",
       "6      3\n",
       "7      0\n",
       "8      2\n",
       "9      4\n",
       "10     4\n",
       "11     0\n",
       "12     0\n",
       "13     7\n",
       "14     3\n",
       "15     7\n",
       "16     6\n",
       "17     6\n",
       "18     4\n",
       "19    10\n",
       "20     4\n",
       "21     5\n",
       "22     2\n",
       "23     4\n",
       "24     5\n",
       "25     9\n",
       "26     5\n",
       "27     4\n",
       "28     2\n",
       "29     4\n",
       "30     5\n",
       "31     2\n",
       "32     4\n",
       "33     0\n",
       "34     1\n",
       "35     5\n",
       "36     5\n",
       "37     6\n",
       "38     3\n",
       "39     5\n",
       "40     0\n",
       "41     2\n",
       "42     3\n",
       "43     4\n",
       "44     4\n",
       "45     9\n",
       "46     1\n",
       "47     5\n",
       "48     0\n",
       "49     1\n",
       "50     3\n",
       "51     4\n",
       "52     2\n",
       "53     0\n",
       "Name: flooding, dtype: int64"
      ]
     },
     "execution_count": 13,
     "metadata": {},
     "output_type": "execute_result"
    }
   ],
   "source": [
    "df4['flooding']"
   ]
  },
  {
   "cell_type": "code",
   "execution_count": 14,
   "id": "ab199798",
   "metadata": {},
   "outputs": [
    {
     "data": {
      "text/plain": [
       "0     AK\n",
       "1     AL\n",
       "2     AR\n",
       "3     AZ\n",
       "4     CA\n",
       "5     CO\n",
       "6     CT\n",
       "7     DC\n",
       "8     DE\n",
       "9     FL\n",
       "10    GA\n",
       "11    GU\n",
       "12    HI\n",
       "13    IA\n",
       "14    ID\n",
       "15    IL\n",
       "16    IN\n",
       "17    KS\n",
       "18    KY\n",
       "19    LA\n",
       "20    MA\n",
       "21    MD\n",
       "22    ME\n",
       "23    MI\n",
       "24    MN\n",
       "25    MO\n",
       "26    MS\n",
       "27    MT\n",
       "28    NC\n",
       "29    ND\n",
       "30    NE\n",
       "31    NH\n",
       "32    NJ\n",
       "33    NM\n",
       "34    NV\n",
       "35    NY\n",
       "36    OH\n",
       "37    OK\n",
       "38    OR\n",
       "39    PA\n",
       "40    PR\n",
       "41    RI\n",
       "42    SC\n",
       "43    SD\n",
       "44    TN\n",
       "45    TX\n",
       "46    UT\n",
       "47    VA\n",
       "48    VI\n",
       "49    VT\n",
       "50    WA\n",
       "51    WI\n",
       "52    WV\n",
       "53    WY\n",
       "Name: state, dtype: object"
      ]
     },
     "execution_count": 14,
     "metadata": {},
     "output_type": "execute_result"
    }
   ],
   "source": [
    "df4['state']"
   ]
  },
  {
   "cell_type": "code",
   "execution_count": 15,
   "id": "7de22f3f",
   "metadata": {},
   "outputs": [],
   "source": [
    "flooding_cost_per_state= pd.merge(df4, cost_per_flood, left_on = 'state', right_on='state')"
   ]
  },
  {
   "cell_type": "code",
   "execution_count": 16,
   "id": "1213735c",
   "metadata": {},
   "outputs": [
    {
     "data": {
      "text/html": [
       "<div>\n",
       "<style scoped>\n",
       "    .dataframe tbody tr th:only-of-type {\n",
       "        vertical-align: middle;\n",
       "    }\n",
       "\n",
       "    .dataframe tbody tr th {\n",
       "        vertical-align: top;\n",
       "    }\n",
       "\n",
       "    .dataframe thead th {\n",
       "        text-align: right;\n",
       "    }\n",
       "</style>\n",
       "<table border=\"1\" class=\"dataframe\">\n",
       "  <thead>\n",
       "    <tr style=\"text-align: right;\">\n",
       "      <th></th>\n",
       "      <th>state</th>\n",
       "      <th>flooding_x</th>\n",
       "      <th>flooding_y</th>\n",
       "    </tr>\n",
       "  </thead>\n",
       "  <tbody>\n",
       "    <tr>\n",
       "      <th>0</th>\n",
       "      <td>AK</td>\n",
       "      <td>0</td>\n",
       "      <td>0.0</td>\n",
       "    </tr>\n",
       "    <tr>\n",
       "      <th>1</th>\n",
       "      <td>AL</td>\n",
       "      <td>2</td>\n",
       "      <td>134.7</td>\n",
       "    </tr>\n",
       "    <tr>\n",
       "      <th>2</th>\n",
       "      <td>AR</td>\n",
       "      <td>9</td>\n",
       "      <td>4597.8</td>\n",
       "    </tr>\n",
       "    <tr>\n",
       "      <th>3</th>\n",
       "      <td>AZ</td>\n",
       "      <td>3</td>\n",
       "      <td>1879.5</td>\n",
       "    </tr>\n",
       "    <tr>\n",
       "      <th>4</th>\n",
       "      <td>CA</td>\n",
       "      <td>6</td>\n",
       "      <td>18798.3</td>\n",
       "    </tr>\n",
       "  </tbody>\n",
       "</table>\n",
       "</div>"
      ],
      "text/plain": [
       "  state  flooding_x  flooding_y\n",
       "0    AK           0         0.0\n",
       "1    AL           2       134.7\n",
       "2    AR           9      4597.8\n",
       "3    AZ           3      1879.5\n",
       "4    CA           6     18798.3"
      ]
     },
     "execution_count": 16,
     "metadata": {},
     "output_type": "execute_result"
    }
   ],
   "source": [
    "flooding_cost_per_state.head()"
   ]
  },
  {
   "cell_type": "code",
   "execution_count": 17,
   "id": "2f43cd8c",
   "metadata": {},
   "outputs": [],
   "source": [
    "flooding_cost_per_state.rename(columns={'flooding_x': 'Total number of Floods', 'flooding_y': 'State Flooding Cost(Millions)'}, inplace= True)"
   ]
  },
  {
   "cell_type": "code",
   "execution_count": 18,
   "id": "31bc8172",
   "metadata": {},
   "outputs": [
    {
     "data": {
      "text/html": [
       "<div>\n",
       "<style scoped>\n",
       "    .dataframe tbody tr th:only-of-type {\n",
       "        vertical-align: middle;\n",
       "    }\n",
       "\n",
       "    .dataframe tbody tr th {\n",
       "        vertical-align: top;\n",
       "    }\n",
       "\n",
       "    .dataframe thead th {\n",
       "        text-align: right;\n",
       "    }\n",
       "</style>\n",
       "<table border=\"1\" class=\"dataframe\">\n",
       "  <thead>\n",
       "    <tr style=\"text-align: right;\">\n",
       "      <th></th>\n",
       "      <th>state</th>\n",
       "      <th>Total number of Floods</th>\n",
       "      <th>State Flooding Cost(Millions)</th>\n",
       "    </tr>\n",
       "  </thead>\n",
       "  <tbody>\n",
       "    <tr>\n",
       "      <th>0</th>\n",
       "      <td>AK</td>\n",
       "      <td>0</td>\n",
       "      <td>0.0</td>\n",
       "    </tr>\n",
       "    <tr>\n",
       "      <th>1</th>\n",
       "      <td>AL</td>\n",
       "      <td>2</td>\n",
       "      <td>134.7</td>\n",
       "    </tr>\n",
       "    <tr>\n",
       "      <th>2</th>\n",
       "      <td>AR</td>\n",
       "      <td>9</td>\n",
       "      <td>4597.8</td>\n",
       "    </tr>\n",
       "    <tr>\n",
       "      <th>3</th>\n",
       "      <td>AZ</td>\n",
       "      <td>3</td>\n",
       "      <td>1879.5</td>\n",
       "    </tr>\n",
       "    <tr>\n",
       "      <th>4</th>\n",
       "      <td>CA</td>\n",
       "      <td>6</td>\n",
       "      <td>18798.3</td>\n",
       "    </tr>\n",
       "  </tbody>\n",
       "</table>\n",
       "</div>"
      ],
      "text/plain": [
       "  state  Total number of Floods  State Flooding Cost(Millions)\n",
       "0    AK                       0                            0.0\n",
       "1    AL                       2                          134.7\n",
       "2    AR                       9                         4597.8\n",
       "3    AZ                       3                         1879.5\n",
       "4    CA                       6                        18798.3"
      ]
     },
     "execution_count": 18,
     "metadata": {},
     "output_type": "execute_result"
    }
   ],
   "source": [
    "flooding_cost_per_state.head()"
   ]
  },
  {
   "cell_type": "code",
   "execution_count": 19,
   "id": "b8747aa3",
   "metadata": {},
   "outputs": [],
   "source": [
    "flooding_cost_per_state.index = flooding_cost_per_state.index + 1\n"
   ]
  },
  {
   "cell_type": "code",
   "execution_count": 20,
   "id": "32e5dc50",
   "metadata": {},
   "outputs": [
    {
     "data": {
      "text/html": [
       "<div>\n",
       "<style scoped>\n",
       "    .dataframe tbody tr th:only-of-type {\n",
       "        vertical-align: middle;\n",
       "    }\n",
       "\n",
       "    .dataframe tbody tr th {\n",
       "        vertical-align: top;\n",
       "    }\n",
       "\n",
       "    .dataframe thead th {\n",
       "        text-align: right;\n",
       "    }\n",
       "</style>\n",
       "<table border=\"1\" class=\"dataframe\">\n",
       "  <thead>\n",
       "    <tr style=\"text-align: right;\">\n",
       "      <th></th>\n",
       "      <th>state</th>\n",
       "      <th>Total number of Floods</th>\n",
       "      <th>State Flooding Cost(Millions)</th>\n",
       "    </tr>\n",
       "  </thead>\n",
       "  <tbody>\n",
       "    <tr>\n",
       "      <th>1</th>\n",
       "      <td>AK</td>\n",
       "      <td>0</td>\n",
       "      <td>0.0</td>\n",
       "    </tr>\n",
       "    <tr>\n",
       "      <th>2</th>\n",
       "      <td>AL</td>\n",
       "      <td>2</td>\n",
       "      <td>134.7</td>\n",
       "    </tr>\n",
       "    <tr>\n",
       "      <th>3</th>\n",
       "      <td>AR</td>\n",
       "      <td>9</td>\n",
       "      <td>4597.8</td>\n",
       "    </tr>\n",
       "    <tr>\n",
       "      <th>4</th>\n",
       "      <td>AZ</td>\n",
       "      <td>3</td>\n",
       "      <td>1879.5</td>\n",
       "    </tr>\n",
       "    <tr>\n",
       "      <th>5</th>\n",
       "      <td>CA</td>\n",
       "      <td>6</td>\n",
       "      <td>18798.3</td>\n",
       "    </tr>\n",
       "  </tbody>\n",
       "</table>\n",
       "</div>"
      ],
      "text/plain": [
       "  state  Total number of Floods  State Flooding Cost(Millions)\n",
       "1    AK                       0                            0.0\n",
       "2    AL                       2                          134.7\n",
       "3    AR                       9                         4597.8\n",
       "4    AZ                       3                         1879.5\n",
       "5    CA                       6                        18798.3"
      ]
     },
     "execution_count": 20,
     "metadata": {},
     "output_type": "execute_result"
    }
   ],
   "source": [
    "flooding_cost_per_state.head()"
   ]
  },
  {
   "cell_type": "code",
   "execution_count": 21,
   "id": "5df850bf",
   "metadata": {},
   "outputs": [],
   "source": [
    "df_drought= df3.groupby(by= 'state',as_index= False)['drought'].sum()"
   ]
  },
  {
   "cell_type": "code",
   "execution_count": 22,
   "id": "5cb7b98c",
   "metadata": {},
   "outputs": [],
   "source": [
    "state_by_drought = df3.loc[:,['state','drought']]"
   ]
  },
  {
   "cell_type": "code",
   "execution_count": 23,
   "id": "3b44e793",
   "metadata": {},
   "outputs": [],
   "source": [
    "cost_per_drought = df2.loc[:,['state','drought']]"
   ]
  },
  {
   "cell_type": "code",
   "execution_count": 24,
   "id": "b613e3f8",
   "metadata": {},
   "outputs": [],
   "source": [
    "drought_cost_per_state= pd.merge(df_drought, cost_per_drought, left_on = 'state', right_on='state')\n",
    "drought_cost_per_state.index = drought_cost_per_state.index + 1"
   ]
  },
  {
   "cell_type": "code",
   "execution_count": 25,
   "id": "d58bcddc",
   "metadata": {},
   "outputs": [
    {
     "data": {
      "text/html": [
       "<div>\n",
       "<style scoped>\n",
       "    .dataframe tbody tr th:only-of-type {\n",
       "        vertical-align: middle;\n",
       "    }\n",
       "\n",
       "    .dataframe tbody tr th {\n",
       "        vertical-align: top;\n",
       "    }\n",
       "\n",
       "    .dataframe thead th {\n",
       "        text-align: right;\n",
       "    }\n",
       "</style>\n",
       "<table border=\"1\" class=\"dataframe\">\n",
       "  <thead>\n",
       "    <tr style=\"text-align: right;\">\n",
       "      <th></th>\n",
       "      <th>state</th>\n",
       "      <th>drought_x</th>\n",
       "      <th>drought_y</th>\n",
       "    </tr>\n",
       "  </thead>\n",
       "  <tbody>\n",
       "    <tr>\n",
       "      <th>1</th>\n",
       "      <td>AK</td>\n",
       "      <td>0</td>\n",
       "      <td>0.0</td>\n",
       "    </tr>\n",
       "    <tr>\n",
       "      <th>2</th>\n",
       "      <td>AL</td>\n",
       "      <td>16</td>\n",
       "      <td>6780.6</td>\n",
       "    </tr>\n",
       "    <tr>\n",
       "      <th>3</th>\n",
       "      <td>AR</td>\n",
       "      <td>16</td>\n",
       "      <td>6651.0</td>\n",
       "    </tr>\n",
       "    <tr>\n",
       "      <th>4</th>\n",
       "      <td>AZ</td>\n",
       "      <td>15</td>\n",
       "      <td>1486.5</td>\n",
       "    </tr>\n",
       "    <tr>\n",
       "      <th>5</th>\n",
       "      <td>CA</td>\n",
       "      <td>14</td>\n",
       "      <td>16199.3</td>\n",
       "    </tr>\n",
       "  </tbody>\n",
       "</table>\n",
       "</div>"
      ],
      "text/plain": [
       "  state  drought_x  drought_y\n",
       "1    AK          0        0.0\n",
       "2    AL         16     6780.6\n",
       "3    AR         16     6651.0\n",
       "4    AZ         15     1486.5\n",
       "5    CA         14    16199.3"
      ]
     },
     "execution_count": 25,
     "metadata": {},
     "output_type": "execute_result"
    }
   ],
   "source": [
    "drought_cost_per_state.head()"
   ]
  },
  {
   "cell_type": "code",
   "execution_count": 26,
   "id": "d179361b",
   "metadata": {},
   "outputs": [],
   "source": [
    "drought_cost_per_state.rename(columns={'drought_x': 'Total number of Droughts', 'drought_y': 'State Droughts Cost(Millions)'}, inplace= True)\n",
    "drought_cost_per_state.index = drought_cost_per_state.index + 1"
   ]
  },
  {
   "cell_type": "code",
   "execution_count": 27,
   "id": "382fd73b",
   "metadata": {},
   "outputs": [
    {
     "data": {
      "text/html": [
       "<div>\n",
       "<style scoped>\n",
       "    .dataframe tbody tr th:only-of-type {\n",
       "        vertical-align: middle;\n",
       "    }\n",
       "\n",
       "    .dataframe tbody tr th {\n",
       "        vertical-align: top;\n",
       "    }\n",
       "\n",
       "    .dataframe thead th {\n",
       "        text-align: right;\n",
       "    }\n",
       "</style>\n",
       "<table border=\"1\" class=\"dataframe\">\n",
       "  <thead>\n",
       "    <tr style=\"text-align: right;\">\n",
       "      <th></th>\n",
       "      <th>state</th>\n",
       "      <th>Total number of Droughts</th>\n",
       "      <th>State Droughts Cost(Millions)</th>\n",
       "    </tr>\n",
       "  </thead>\n",
       "  <tbody>\n",
       "    <tr>\n",
       "      <th>2</th>\n",
       "      <td>AK</td>\n",
       "      <td>0</td>\n",
       "      <td>0.0</td>\n",
       "    </tr>\n",
       "    <tr>\n",
       "      <th>3</th>\n",
       "      <td>AL</td>\n",
       "      <td>16</td>\n",
       "      <td>6780.6</td>\n",
       "    </tr>\n",
       "    <tr>\n",
       "      <th>4</th>\n",
       "      <td>AR</td>\n",
       "      <td>16</td>\n",
       "      <td>6651.0</td>\n",
       "    </tr>\n",
       "    <tr>\n",
       "      <th>5</th>\n",
       "      <td>AZ</td>\n",
       "      <td>15</td>\n",
       "      <td>1486.5</td>\n",
       "    </tr>\n",
       "    <tr>\n",
       "      <th>6</th>\n",
       "      <td>CA</td>\n",
       "      <td>14</td>\n",
       "      <td>16199.3</td>\n",
       "    </tr>\n",
       "  </tbody>\n",
       "</table>\n",
       "</div>"
      ],
      "text/plain": [
       "  state  Total number of Droughts  State Droughts Cost(Millions)\n",
       "2    AK                         0                            0.0\n",
       "3    AL                        16                         6780.6\n",
       "4    AR                        16                         6651.0\n",
       "5    AZ                        15                         1486.5\n",
       "6    CA                        14                        16199.3"
      ]
     },
     "execution_count": 27,
     "metadata": {},
     "output_type": "execute_result"
    }
   ],
   "source": [
    "drought_cost_per_state.head()"
   ]
  },
  {
   "cell_type": "code",
   "execution_count": 28,
   "id": "31400413",
   "metadata": {},
   "outputs": [],
   "source": [
    "df_freeze= df3.groupby(by= 'state',as_index= False)['freeze'].sum()"
   ]
  },
  {
   "cell_type": "code",
   "execution_count": 29,
   "id": "33b27e90",
   "metadata": {},
   "outputs": [],
   "source": [
    "cost_per_freeze = df2.loc[:,['state','freeze']]"
   ]
  },
  {
   "cell_type": "code",
   "execution_count": 30,
   "id": "bcfd2c64",
   "metadata": {},
   "outputs": [],
   "source": [
    "freeze_cost_per_state= pd.merge(df_freeze, cost_per_freeze, left_on = 'state', right_on='state')"
   ]
  },
  {
   "cell_type": "code",
   "execution_count": 31,
   "id": "aa804176",
   "metadata": {},
   "outputs": [
    {
     "data": {
      "text/html": [
       "<div>\n",
       "<style scoped>\n",
       "    .dataframe tbody tr th:only-of-type {\n",
       "        vertical-align: middle;\n",
       "    }\n",
       "\n",
       "    .dataframe tbody tr th {\n",
       "        vertical-align: top;\n",
       "    }\n",
       "\n",
       "    .dataframe thead th {\n",
       "        text-align: right;\n",
       "    }\n",
       "</style>\n",
       "<table border=\"1\" class=\"dataframe\">\n",
       "  <thead>\n",
       "    <tr style=\"text-align: right;\">\n",
       "      <th></th>\n",
       "      <th>state</th>\n",
       "      <th>Total number of Droughts</th>\n",
       "      <th>State Freeze Cost(Millions)</th>\n",
       "    </tr>\n",
       "  </thead>\n",
       "  <tbody>\n",
       "    <tr>\n",
       "      <th>1</th>\n",
       "      <td>AK</td>\n",
       "      <td>0</td>\n",
       "      <td>0.0</td>\n",
       "    </tr>\n",
       "    <tr>\n",
       "      <th>2</th>\n",
       "      <td>AL</td>\n",
       "      <td>3</td>\n",
       "      <td>148.7</td>\n",
       "    </tr>\n",
       "    <tr>\n",
       "      <th>3</th>\n",
       "      <td>AR</td>\n",
       "      <td>2</td>\n",
       "      <td>291.0</td>\n",
       "    </tr>\n",
       "    <tr>\n",
       "      <th>4</th>\n",
       "      <td>AZ</td>\n",
       "      <td>0</td>\n",
       "      <td>0.0</td>\n",
       "    </tr>\n",
       "    <tr>\n",
       "      <th>5</th>\n",
       "      <td>CA</td>\n",
       "      <td>3</td>\n",
       "      <td>15131.0</td>\n",
       "    </tr>\n",
       "  </tbody>\n",
       "</table>\n",
       "</div>"
      ],
      "text/plain": [
       "  state  Total number of Droughts  State Freeze Cost(Millions)\n",
       "1    AK                         0                          0.0\n",
       "2    AL                         3                        148.7\n",
       "3    AR                         2                        291.0\n",
       "4    AZ                         0                          0.0\n",
       "5    CA                         3                      15131.0"
      ]
     },
     "execution_count": 31,
     "metadata": {},
     "output_type": "execute_result"
    }
   ],
   "source": [
    "freeze_cost_per_state.rename(columns={'freeze_x': 'Total number of Droughts', 'freeze_y': 'State Freeze Cost(Millions)'}, inplace= True)\n",
    "freeze_cost_per_state.index = freeze_cost_per_state.index + 1\n",
    "\n",
    "\n",
    "freeze_cost_per_state.head()"
   ]
  },
  {
   "cell_type": "code",
   "execution_count": 32,
   "id": "83dc9f7c",
   "metadata": {},
   "outputs": [],
   "source": [
    "df_severe_storm= df3.groupby(by= 'state',as_index= False)['severe storm'].sum()"
   ]
  },
  {
   "cell_type": "code",
   "execution_count": 33,
   "id": "b6434b07",
   "metadata": {},
   "outputs": [],
   "source": [
    "cost_per_severe_storm = df2.loc[:,['state','severe storm']]"
   ]
  },
  {
   "cell_type": "code",
   "execution_count": 34,
   "id": "243a310e",
   "metadata": {},
   "outputs": [],
   "source": [
    "severe_storm_cost_per_state= pd.merge(df_severe_storm, cost_per_severe_storm, left_on = 'state', right_on='state')"
   ]
  },
  {
   "cell_type": "code",
   "execution_count": 35,
   "id": "94fb511f",
   "metadata": {},
   "outputs": [
    {
     "data": {
      "text/html": [
       "<div>\n",
       "<style scoped>\n",
       "    .dataframe tbody tr th:only-of-type {\n",
       "        vertical-align: middle;\n",
       "    }\n",
       "\n",
       "    .dataframe tbody tr th {\n",
       "        vertical-align: top;\n",
       "    }\n",
       "\n",
       "    .dataframe thead th {\n",
       "        text-align: right;\n",
       "    }\n",
       "</style>\n",
       "<table border=\"1\" class=\"dataframe\">\n",
       "  <thead>\n",
       "    <tr style=\"text-align: right;\">\n",
       "      <th></th>\n",
       "      <th>state</th>\n",
       "      <th>Total number of Severe Stormes</th>\n",
       "      <th>State Severe Storm Cost(Millions)</th>\n",
       "    </tr>\n",
       "  </thead>\n",
       "  <tbody>\n",
       "    <tr>\n",
       "      <th>1</th>\n",
       "      <td>AK</td>\n",
       "      <td>0</td>\n",
       "      <td>0.0</td>\n",
       "    </tr>\n",
       "    <tr>\n",
       "      <th>2</th>\n",
       "      <td>AL</td>\n",
       "      <td>54</td>\n",
       "      <td>13894.8</td>\n",
       "    </tr>\n",
       "    <tr>\n",
       "      <th>3</th>\n",
       "      <td>AR</td>\n",
       "      <td>51</td>\n",
       "      <td>10216.5</td>\n",
       "    </tr>\n",
       "    <tr>\n",
       "      <th>4</th>\n",
       "      <td>AZ</td>\n",
       "      <td>1</td>\n",
       "      <td>5358.0</td>\n",
       "    </tr>\n",
       "    <tr>\n",
       "      <th>5</th>\n",
       "      <td>CA</td>\n",
       "      <td>4</td>\n",
       "      <td>3445.4</td>\n",
       "    </tr>\n",
       "  </tbody>\n",
       "</table>\n",
       "</div>"
      ],
      "text/plain": [
       "  state  Total number of Severe Stormes  State Severe Storm Cost(Millions)\n",
       "1    AK                               0                                0.0\n",
       "2    AL                              54                            13894.8\n",
       "3    AR                              51                            10216.5\n",
       "4    AZ                               1                             5358.0\n",
       "5    CA                               4                             3445.4"
      ]
     },
     "execution_count": 35,
     "metadata": {},
     "output_type": "execute_result"
    }
   ],
   "source": [
    "severe_storm_cost_per_state.rename(columns={'severe storm_x': 'Total number of Severe Stormes', 'severe storm_y': 'State Severe Storm Cost(Millions)'}, inplace= True)\n",
    "severe_storm_cost_per_state.index = severe_storm_cost_per_state.index + 1\n",
    "\n",
    "\n",
    "\n",
    "severe_storm_cost_per_state.head()"
   ]
  },
  {
   "cell_type": "code",
   "execution_count": 36,
   "id": "4cc1b503",
   "metadata": {},
   "outputs": [],
   "source": [
    "df_tropical_cyclone= df3.groupby(by= 'state',as_index= False)['tropical cyclone'].sum()"
   ]
  },
  {
   "cell_type": "code",
   "execution_count": 37,
   "id": "ecbcf0d8",
   "metadata": {},
   "outputs": [],
   "source": [
    "cost_per_tropical_cyclone = df2.loc[:,['state','tropical cyclone']]"
   ]
  },
  {
   "cell_type": "code",
   "execution_count": 38,
   "id": "935e01a6",
   "metadata": {},
   "outputs": [],
   "source": [
    "tropical_cyclone_cost_per_state= pd.merge(df_tropical_cyclone, cost_per_tropical_cyclone, left_on = 'state', right_on='state')"
   ]
  },
  {
   "cell_type": "code",
   "execution_count": 39,
   "id": "b8d971dc",
   "metadata": {},
   "outputs": [
    {
     "data": {
      "text/html": [
       "<div>\n",
       "<style scoped>\n",
       "    .dataframe tbody tr th:only-of-type {\n",
       "        vertical-align: middle;\n",
       "    }\n",
       "\n",
       "    .dataframe tbody tr th {\n",
       "        vertical-align: top;\n",
       "    }\n",
       "\n",
       "    .dataframe thead th {\n",
       "        text-align: right;\n",
       "    }\n",
       "</style>\n",
       "<table border=\"1\" class=\"dataframe\">\n",
       "  <thead>\n",
       "    <tr style=\"text-align: right;\">\n",
       "      <th></th>\n",
       "      <th>state</th>\n",
       "      <th>Total number of Tropical cyclones</th>\n",
       "      <th>State Tropical cyclone Cost(Millions)</th>\n",
       "    </tr>\n",
       "  </thead>\n",
       "  <tbody>\n",
       "    <tr>\n",
       "      <th>1</th>\n",
       "      <td>AK</td>\n",
       "      <td>0</td>\n",
       "      <td>0.0</td>\n",
       "    </tr>\n",
       "    <tr>\n",
       "      <th>2</th>\n",
       "      <td>AL</td>\n",
       "      <td>24</td>\n",
       "      <td>26457.6</td>\n",
       "    </tr>\n",
       "    <tr>\n",
       "      <th>3</th>\n",
       "      <td>AR</td>\n",
       "      <td>5</td>\n",
       "      <td>706.4</td>\n",
       "    </tr>\n",
       "    <tr>\n",
       "      <th>4</th>\n",
       "      <td>AZ</td>\n",
       "      <td>0</td>\n",
       "      <td>0.0</td>\n",
       "    </tr>\n",
       "    <tr>\n",
       "      <th>5</th>\n",
       "      <td>CA</td>\n",
       "      <td>0</td>\n",
       "      <td>0.0</td>\n",
       "    </tr>\n",
       "  </tbody>\n",
       "</table>\n",
       "</div>"
      ],
      "text/plain": [
       "  state  Total number of Tropical cyclones  \\\n",
       "1    AK                                  0   \n",
       "2    AL                                 24   \n",
       "3    AR                                  5   \n",
       "4    AZ                                  0   \n",
       "5    CA                                  0   \n",
       "\n",
       "   State Tropical cyclone Cost(Millions)  \n",
       "1                                    0.0  \n",
       "2                                26457.6  \n",
       "3                                  706.4  \n",
       "4                                    0.0  \n",
       "5                                    0.0  "
      ]
     },
     "execution_count": 39,
     "metadata": {},
     "output_type": "execute_result"
    }
   ],
   "source": [
    "tropical_cyclone_cost_per_state.rename(columns={'tropical cyclone_x': 'Total number of Tropical cyclones', 'tropical cyclone_y': 'State Tropical cyclone Cost(Millions)'}, inplace= True)\n",
    "tropical_cyclone_cost_per_state.index = tropical_cyclone_cost_per_state.index + 1\n",
    "\n",
    "tropical_cyclone_cost_per_state.head()"
   ]
  },
  {
   "cell_type": "code",
   "execution_count": 40,
   "id": "cc5519ad",
   "metadata": {},
   "outputs": [],
   "source": [
    "df_wildfire= df3.groupby(by= 'state',as_index= False)['wildfire'].sum()"
   ]
  },
  {
   "cell_type": "code",
   "execution_count": 41,
   "id": "a1968a70",
   "metadata": {},
   "outputs": [],
   "source": [
    "cost_per_wildfire = df2.loc[:,['state','wildfire']]"
   ]
  },
  {
   "cell_type": "code",
   "execution_count": 42,
   "id": "cdb59fed",
   "metadata": {},
   "outputs": [],
   "source": [
    "wildfire_cost_per_state= pd.merge(df_wildfire, cost_per_wildfire, left_on = 'state', right_on='state')"
   ]
  },
  {
   "cell_type": "code",
   "execution_count": 43,
   "id": "929fa00a",
   "metadata": {},
   "outputs": [
    {
     "data": {
      "text/html": [
       "<div>\n",
       "<style scoped>\n",
       "    .dataframe tbody tr th:only-of-type {\n",
       "        vertical-align: middle;\n",
       "    }\n",
       "\n",
       "    .dataframe tbody tr th {\n",
       "        vertical-align: top;\n",
       "    }\n",
       "\n",
       "    .dataframe thead th {\n",
       "        text-align: right;\n",
       "    }\n",
       "</style>\n",
       "<table border=\"1\" class=\"dataframe\">\n",
       "  <thead>\n",
       "    <tr style=\"text-align: right;\">\n",
       "      <th></th>\n",
       "      <th>state</th>\n",
       "      <th>Total number of wildfires</th>\n",
       "      <th>State wildfire Cost Millions</th>\n",
       "    </tr>\n",
       "  </thead>\n",
       "  <tbody>\n",
       "    <tr>\n",
       "      <th>1</th>\n",
       "      <td>AK</td>\n",
       "      <td>8</td>\n",
       "      <td>2292.8</td>\n",
       "    </tr>\n",
       "    <tr>\n",
       "      <th>2</th>\n",
       "      <td>AL</td>\n",
       "      <td>2</td>\n",
       "      <td>716.4</td>\n",
       "    </tr>\n",
       "    <tr>\n",
       "      <th>3</th>\n",
       "      <td>AR</td>\n",
       "      <td>0</td>\n",
       "      <td>0.0</td>\n",
       "    </tr>\n",
       "    <tr>\n",
       "      <th>4</th>\n",
       "      <td>AZ</td>\n",
       "      <td>14</td>\n",
       "      <td>1327.8</td>\n",
       "    </tr>\n",
       "    <tr>\n",
       "      <th>5</th>\n",
       "      <td>CA</td>\n",
       "      <td>19</td>\n",
       "      <td>98106.3</td>\n",
       "    </tr>\n",
       "  </tbody>\n",
       "</table>\n",
       "</div>"
      ],
      "text/plain": [
       "  state  Total number of wildfires  State wildfire Cost Millions\n",
       "1    AK                          8                        2292.8\n",
       "2    AL                          2                         716.4\n",
       "3    AR                          0                           0.0\n",
       "4    AZ                         14                        1327.8\n",
       "5    CA                         19                       98106.3"
      ]
     },
     "execution_count": 43,
     "metadata": {},
     "output_type": "execute_result"
    }
   ],
   "source": [
    "wildfire_cost_per_state.rename(columns={'wildfire_x': 'Total number of wildfires', 'wildfire_y': 'State wildfire Cost Millions'}, inplace= True)\n",
    "wildfire_cost_per_state.index = wildfire_cost_per_state.index + 1\n",
    "\n",
    "wildfire_cost_per_state.head()"
   ]
  },
  {
   "cell_type": "code",
   "execution_count": 44,
   "id": "e6e744bd",
   "metadata": {},
   "outputs": [],
   "source": [
    "df_winter_storm= df3.groupby(by= 'state',as_index= False)['winter storm'].sum()"
   ]
  },
  {
   "cell_type": "code",
   "execution_count": 45,
   "id": "2665c68b",
   "metadata": {},
   "outputs": [],
   "source": [
    "cost_per_winter_storm = df2.loc[:,['state','winter storm']]"
   ]
  },
  {
   "cell_type": "code",
   "execution_count": 46,
   "id": "201e93a1",
   "metadata": {},
   "outputs": [],
   "source": [
    "winter_storm_cost_per_state= pd.merge(df_winter_storm, cost_per_winter_storm, left_on = 'state', right_on='state')"
   ]
  },
  {
   "cell_type": "code",
   "execution_count": 47,
   "id": "d6ba14e3",
   "metadata": {},
   "outputs": [
    {
     "data": {
      "text/html": [
       "<div>\n",
       "<style scoped>\n",
       "    .dataframe tbody tr th:only-of-type {\n",
       "        vertical-align: middle;\n",
       "    }\n",
       "\n",
       "    .dataframe tbody tr th {\n",
       "        vertical-align: top;\n",
       "    }\n",
       "\n",
       "    .dataframe thead th {\n",
       "        text-align: right;\n",
       "    }\n",
       "</style>\n",
       "<table border=\"1\" class=\"dataframe\">\n",
       "  <thead>\n",
       "    <tr style=\"text-align: right;\">\n",
       "      <th></th>\n",
       "      <th>state</th>\n",
       "      <th>Total number of Winter Stormes</th>\n",
       "      <th>State Winter Storm Cost(Millions)</th>\n",
       "    </tr>\n",
       "  </thead>\n",
       "  <tbody>\n",
       "    <tr>\n",
       "      <th>1</th>\n",
       "      <td>AK</td>\n",
       "      <td>0</td>\n",
       "      <td>0.0</td>\n",
       "    </tr>\n",
       "    <tr>\n",
       "      <th>2</th>\n",
       "      <td>AL</td>\n",
       "      <td>9</td>\n",
       "      <td>2377.1</td>\n",
       "    </tr>\n",
       "    <tr>\n",
       "      <th>3</th>\n",
       "      <td>AR</td>\n",
       "      <td>8</td>\n",
       "      <td>1135.5</td>\n",
       "    </tr>\n",
       "    <tr>\n",
       "      <th>4</th>\n",
       "      <td>AZ</td>\n",
       "      <td>0</td>\n",
       "      <td>0.0</td>\n",
       "    </tr>\n",
       "    <tr>\n",
       "      <th>5</th>\n",
       "      <td>CA</td>\n",
       "      <td>0</td>\n",
       "      <td>0.0</td>\n",
       "    </tr>\n",
       "  </tbody>\n",
       "</table>\n",
       "</div>"
      ],
      "text/plain": [
       "  state  Total number of Winter Stormes  State Winter Storm Cost(Millions)\n",
       "1    AK                               0                                0.0\n",
       "2    AL                               9                             2377.1\n",
       "3    AR                               8                             1135.5\n",
       "4    AZ                               0                                0.0\n",
       "5    CA                               0                                0.0"
      ]
     },
     "execution_count": 47,
     "metadata": {},
     "output_type": "execute_result"
    }
   ],
   "source": [
    "winter_storm_cost_per_state.rename(columns={'winter storm_x': 'Total number of Winter Stormes', 'winter storm_y': 'State Winter Storm Cost(Millions)'}, inplace= True)\n",
    "winter_storm_cost_per_state.index = winter_storm_cost_per_state.index + 1\n",
    "\n",
    "winter_storm_cost_per_state.head()"
   ]
  },
  {
   "cell_type": "code",
   "execution_count": 48,
   "id": "bcf2fc5b",
   "metadata": {},
   "outputs": [],
   "source": [
    "df_deaths_per_event= df1.groupby(by= 'Disaster',as_index= False)['Deaths'].sum()\n",
    "df_deaths_per_event.index = df_deaths_per_event.index + 1"
   ]
  },
  {
   "cell_type": "code",
   "execution_count": 49,
   "id": "08554ac5",
   "metadata": {},
   "outputs": [
    {
     "data": {
      "text/html": [
       "<div>\n",
       "<style scoped>\n",
       "    .dataframe tbody tr th:only-of-type {\n",
       "        vertical-align: middle;\n",
       "    }\n",
       "\n",
       "    .dataframe tbody tr th {\n",
       "        vertical-align: top;\n",
       "    }\n",
       "\n",
       "    .dataframe thead th {\n",
       "        text-align: right;\n",
       "    }\n",
       "</style>\n",
       "<table border=\"1\" class=\"dataframe\">\n",
       "  <thead>\n",
       "    <tr style=\"text-align: right;\">\n",
       "      <th></th>\n",
       "      <th>Disaster</th>\n",
       "      <th>Deaths</th>\n",
       "    </tr>\n",
       "  </thead>\n",
       "  <tbody>\n",
       "    <tr>\n",
       "      <th>1</th>\n",
       "      <td>Drought</td>\n",
       "      <td>4522</td>\n",
       "    </tr>\n",
       "    <tr>\n",
       "      <th>2</th>\n",
       "      <td>Flooding</td>\n",
       "      <td>738</td>\n",
       "    </tr>\n",
       "    <tr>\n",
       "      <th>3</th>\n",
       "      <td>Freeze</td>\n",
       "      <td>162</td>\n",
       "    </tr>\n",
       "    <tr>\n",
       "      <th>4</th>\n",
       "      <td>Severe Storm</td>\n",
       "      <td>2094</td>\n",
       "    </tr>\n",
       "    <tr>\n",
       "      <th>5</th>\n",
       "      <td>Tropical Cyclone</td>\n",
       "      <td>6897</td>\n",
       "    </tr>\n",
       "  </tbody>\n",
       "</table>\n",
       "</div>"
      ],
      "text/plain": [
       "           Disaster  Deaths\n",
       "1           Drought    4522\n",
       "2          Flooding     738\n",
       "3            Freeze     162\n",
       "4      Severe Storm    2094\n",
       "5  Tropical Cyclone    6897"
      ]
     },
     "execution_count": 49,
     "metadata": {},
     "output_type": "execute_result"
    }
   ],
   "source": [
    "df_deaths_per_event.head()"
   ]
  },
  {
   "cell_type": "code",
   "execution_count": 50,
   "id": "6d418018",
   "metadata": {},
   "outputs": [
    {
     "data": {
      "text/plain": [
       "0     1980-04-10\n",
       "1     1980-08-07\n",
       "2     1980-06-01\n",
       "3     1981-01-12\n",
       "4     1981-05-05\n",
       "         ...    \n",
       "371   2023-08-11\n",
       "372   2023-08-29\n",
       "373   2023-09-23\n",
       "374   2023-04-01\n",
       "375   2023-12-16\n",
       "Name: Begin Date, Length: 376, dtype: datetime64[ns]"
      ]
     },
     "execution_count": 50,
     "metadata": {},
     "output_type": "execute_result"
    }
   ],
   "source": [
    "pd.to_datetime(df1['Begin Date'], format='%Y%m%d')"
   ]
  },
  {
   "cell_type": "code",
   "execution_count": 51,
   "id": "8557b5a1",
   "metadata": {},
   "outputs": [
    {
     "data": {
      "text/plain": [
       "0     1980-04-17\n",
       "1     1980-08-11\n",
       "2     1980-11-30\n",
       "3     1981-01-14\n",
       "4     1981-05-10\n",
       "         ...    \n",
       "371   2023-08-11\n",
       "372   2023-08-31\n",
       "373   2023-09-24\n",
       "374   2023-09-30\n",
       "375   2023-12-18\n",
       "Name: End Date, Length: 376, dtype: datetime64[ns]"
      ]
     },
     "execution_count": 51,
     "metadata": {},
     "output_type": "execute_result"
    }
   ],
   "source": [
    "pd.to_datetime(df1['End Date'], format='%Y%m%d')"
   ]
  },
  {
   "cell_type": "code",
   "execution_count": 52,
   "id": "51ee9d5f",
   "metadata": {},
   "outputs": [],
   "source": [
    "df_cost_per_event= df1.groupby(by= 'Disaster',as_index= False)['Total CPI-Adjusted Cost (Millions of Dollars)'].sum()\n",
    "df_cost_per_event.index = df_cost_per_event.index + 1"
   ]
  },
  {
   "cell_type": "code",
   "execution_count": 53,
   "id": "6fe18e0e",
   "metadata": {},
   "outputs": [
    {
     "data": {
      "text/html": [
       "<div>\n",
       "<style scoped>\n",
       "    .dataframe tbody tr th:only-of-type {\n",
       "        vertical-align: middle;\n",
       "    }\n",
       "\n",
       "    .dataframe tbody tr th {\n",
       "        vertical-align: top;\n",
       "    }\n",
       "\n",
       "    .dataframe thead th {\n",
       "        text-align: right;\n",
       "    }\n",
       "</style>\n",
       "<table border=\"1\" class=\"dataframe\">\n",
       "  <thead>\n",
       "    <tr style=\"text-align: right;\">\n",
       "      <th></th>\n",
       "      <th>Disaster</th>\n",
       "      <th>Total CPI-Adjusted Cost (Millions of Dollars)</th>\n",
       "    </tr>\n",
       "  </thead>\n",
       "  <tbody>\n",
       "    <tr>\n",
       "      <th>1</th>\n",
       "      <td>Drought</td>\n",
       "      <td>352383.7</td>\n",
       "    </tr>\n",
       "    <tr>\n",
       "      <th>2</th>\n",
       "      <td>Flooding</td>\n",
       "      <td>196399.1</td>\n",
       "    </tr>\n",
       "    <tr>\n",
       "      <th>3</th>\n",
       "      <td>Freeze</td>\n",
       "      <td>36328.5</td>\n",
       "    </tr>\n",
       "    <tr>\n",
       "      <th>4</th>\n",
       "      <td>Severe Storm</td>\n",
       "      <td>454745.8</td>\n",
       "    </tr>\n",
       "    <tr>\n",
       "      <th>5</th>\n",
       "      <td>Tropical Cyclone</td>\n",
       "      <td>1379161.2</td>\n",
       "    </tr>\n",
       "  </tbody>\n",
       "</table>\n",
       "</div>"
      ],
      "text/plain": [
       "           Disaster  Total CPI-Adjusted Cost (Millions of Dollars)\n",
       "1           Drought                                       352383.7\n",
       "2          Flooding                                       196399.1\n",
       "3            Freeze                                        36328.5\n",
       "4      Severe Storm                                       454745.8\n",
       "5  Tropical Cyclone                                      1379161.2"
      ]
     },
     "execution_count": 53,
     "metadata": {},
     "output_type": "execute_result"
    }
   ],
   "source": [
    "df_cost_per_event.head()"
   ]
  },
  {
   "cell_type": "code",
   "execution_count": 54,
   "id": "3b39e520",
   "metadata": {},
   "outputs": [],
   "source": [
    "df_year_WSto= df3.groupby(by= 'year',as_index= False)['winter storm'].sum()\n",
    "df_year_WSto.index = df_year_WSto.index + 1"
   ]
  },
  {
   "cell_type": "code",
   "execution_count": 55,
   "id": "d48c45c1",
   "metadata": {},
   "outputs": [
    {
     "data": {
      "text/html": [
       "<div>\n",
       "<style scoped>\n",
       "    .dataframe tbody tr th:only-of-type {\n",
       "        vertical-align: middle;\n",
       "    }\n",
       "\n",
       "    .dataframe tbody tr th {\n",
       "        vertical-align: top;\n",
       "    }\n",
       "\n",
       "    .dataframe thead th {\n",
       "        text-align: right;\n",
       "    }\n",
       "</style>\n",
       "<table border=\"1\" class=\"dataframe\">\n",
       "  <thead>\n",
       "    <tr style=\"text-align: right;\">\n",
       "      <th></th>\n",
       "      <th>year</th>\n",
       "      <th>winter storm</th>\n",
       "    </tr>\n",
       "  </thead>\n",
       "  <tbody>\n",
       "    <tr>\n",
       "      <th>1</th>\n",
       "      <td>1980</td>\n",
       "      <td>0</td>\n",
       "    </tr>\n",
       "    <tr>\n",
       "      <th>2</th>\n",
       "      <td>1981</td>\n",
       "      <td>0</td>\n",
       "    </tr>\n",
       "    <tr>\n",
       "      <th>3</th>\n",
       "      <td>1982</td>\n",
       "      <td>35</td>\n",
       "    </tr>\n",
       "    <tr>\n",
       "      <th>4</th>\n",
       "      <td>1983</td>\n",
       "      <td>0</td>\n",
       "    </tr>\n",
       "    <tr>\n",
       "      <th>5</th>\n",
       "      <td>1984</td>\n",
       "      <td>0</td>\n",
       "    </tr>\n",
       "  </tbody>\n",
       "</table>\n",
       "</div>"
      ],
      "text/plain": [
       "   year  winter storm\n",
       "1  1980             0\n",
       "2  1981             0\n",
       "3  1982            35\n",
       "4  1983             0\n",
       "5  1984             0"
      ]
     },
     "execution_count": 55,
     "metadata": {},
     "output_type": "execute_result"
    }
   ],
   "source": [
    "df_year_WSto.head()"
   ]
  },
  {
   "cell_type": "code",
   "execution_count": 56,
   "id": "3e8900f1",
   "metadata": {},
   "outputs": [],
   "source": [
    "df_year_Flo= df3.groupby(by= 'year',as_index= False)['flooding'].sum()\n",
    "df_year_Flo.index = df_year_Flo.index + 1"
   ]
  },
  {
   "cell_type": "code",
   "execution_count": 57,
   "id": "ab6e7bc3",
   "metadata": {},
   "outputs": [
    {
     "data": {
      "text/html": [
       "<div>\n",
       "<style scoped>\n",
       "    .dataframe tbody tr th:only-of-type {\n",
       "        vertical-align: middle;\n",
       "    }\n",
       "\n",
       "    .dataframe tbody tr th {\n",
       "        vertical-align: top;\n",
       "    }\n",
       "\n",
       "    .dataframe thead th {\n",
       "        text-align: right;\n",
       "    }\n",
       "</style>\n",
       "<table border=\"1\" class=\"dataframe\">\n",
       "  <thead>\n",
       "    <tr style=\"text-align: right;\">\n",
       "      <th></th>\n",
       "      <th>year</th>\n",
       "      <th>flooding</th>\n",
       "    </tr>\n",
       "  </thead>\n",
       "  <tbody>\n",
       "    <tr>\n",
       "      <th>1</th>\n",
       "      <td>1980</td>\n",
       "      <td>3</td>\n",
       "    </tr>\n",
       "    <tr>\n",
       "      <th>2</th>\n",
       "      <td>1981</td>\n",
       "      <td>0</td>\n",
       "    </tr>\n",
       "    <tr>\n",
       "      <th>3</th>\n",
       "      <td>1982</td>\n",
       "      <td>0</td>\n",
       "    </tr>\n",
       "    <tr>\n",
       "      <th>4</th>\n",
       "      <td>1983</td>\n",
       "      <td>13</td>\n",
       "    </tr>\n",
       "    <tr>\n",
       "      <th>5</th>\n",
       "      <td>1984</td>\n",
       "      <td>0</td>\n",
       "    </tr>\n",
       "  </tbody>\n",
       "</table>\n",
       "</div>"
      ],
      "text/plain": [
       "   year  flooding\n",
       "1  1980         3\n",
       "2  1981         0\n",
       "3  1982         0\n",
       "4  1983        13\n",
       "5  1984         0"
      ]
     },
     "execution_count": 57,
     "metadata": {},
     "output_type": "execute_result"
    }
   ],
   "source": [
    "df_year_Flo.head()"
   ]
  },
  {
   "cell_type": "code",
   "execution_count": 58,
   "id": "b7155c7f",
   "metadata": {},
   "outputs": [],
   "source": [
    "df_year_Dro= df3.groupby(by= 'year',as_index= False)['drought'].sum()\n",
    "df_year_Dro.index = df_year_Dro.index + 1"
   ]
  },
  {
   "cell_type": "code",
   "execution_count": 59,
   "id": "2c22675f",
   "metadata": {},
   "outputs": [
    {
     "data": {
      "text/html": [
       "<div>\n",
       "<style scoped>\n",
       "    .dataframe tbody tr th:only-of-type {\n",
       "        vertical-align: middle;\n",
       "    }\n",
       "\n",
       "    .dataframe tbody tr th {\n",
       "        vertical-align: top;\n",
       "    }\n",
       "\n",
       "    .dataframe thead th {\n",
       "        text-align: right;\n",
       "    }\n",
       "</style>\n",
       "<table border=\"1\" class=\"dataframe\">\n",
       "  <thead>\n",
       "    <tr style=\"text-align: right;\">\n",
       "      <th></th>\n",
       "      <th>year</th>\n",
       "      <th>drought</th>\n",
       "    </tr>\n",
       "  </thead>\n",
       "  <tbody>\n",
       "    <tr>\n",
       "      <th>1</th>\n",
       "      <td>1980</td>\n",
       "      <td>21</td>\n",
       "    </tr>\n",
       "    <tr>\n",
       "      <th>2</th>\n",
       "      <td>1981</td>\n",
       "      <td>0</td>\n",
       "    </tr>\n",
       "    <tr>\n",
       "      <th>3</th>\n",
       "      <td>1982</td>\n",
       "      <td>0</td>\n",
       "    </tr>\n",
       "    <tr>\n",
       "      <th>4</th>\n",
       "      <td>1983</td>\n",
       "      <td>11</td>\n",
       "    </tr>\n",
       "    <tr>\n",
       "      <th>5</th>\n",
       "      <td>1984</td>\n",
       "      <td>0</td>\n",
       "    </tr>\n",
       "  </tbody>\n",
       "</table>\n",
       "</div>"
      ],
      "text/plain": [
       "   year  drought\n",
       "1  1980       21\n",
       "2  1981        0\n",
       "3  1982        0\n",
       "4  1983       11\n",
       "5  1984        0"
      ]
     },
     "execution_count": 59,
     "metadata": {},
     "output_type": "execute_result"
    }
   ],
   "source": [
    "df_year_Dro.head()"
   ]
  },
  {
   "cell_type": "code",
   "execution_count": 60,
   "id": "5b9d6465",
   "metadata": {},
   "outputs": [],
   "source": [
    "df_year_Fre= df3.groupby(by= 'year',as_index= False)['freeze'].sum()\n",
    "df_year_Fre.index = df_year_Fre.index + 1"
   ]
  },
  {
   "cell_type": "code",
   "execution_count": 61,
   "id": "5a920890",
   "metadata": {},
   "outputs": [],
   "source": [
    "df_year_SeSto= df3.groupby(by= 'year',as_index= False)['severe storm'].sum()\n",
    "df_year_SeSto.index = df_year_SeSto.index + 1"
   ]
  },
  {
   "cell_type": "code",
   "execution_count": 62,
   "id": "d8b74ed3",
   "metadata": {},
   "outputs": [],
   "source": [
    "df_year_TropCy= df3.groupby(by= 'year',as_index= False)['tropical cyclone'].sum()\n",
    "df_year_TropCy.index = df_year_TropCy.index + 1"
   ]
  },
  {
   "cell_type": "code",
   "execution_count": 63,
   "id": "3366eacc",
   "metadata": {},
   "outputs": [],
   "source": [
    "df_year_WFire= df3.groupby(by= 'year',as_index= False)['wildfire'].sum()\n",
    "df_year_WFire.index = df_year_WFire.index + 1"
   ]
  },
  {
   "cell_type": "code",
   "execution_count": 64,
   "id": "1ae33a7b",
   "metadata": {},
   "outputs": [
    {
     "data": {
      "text/html": [
       "<div>\n",
       "<style scoped>\n",
       "    .dataframe tbody tr th:only-of-type {\n",
       "        vertical-align: middle;\n",
       "    }\n",
       "\n",
       "    .dataframe tbody tr th {\n",
       "        vertical-align: top;\n",
       "    }\n",
       "\n",
       "    .dataframe thead th {\n",
       "        text-align: right;\n",
       "    }\n",
       "</style>\n",
       "<table border=\"1\" class=\"dataframe\">\n",
       "  <thead>\n",
       "    <tr style=\"text-align: right;\">\n",
       "      <th></th>\n",
       "      <th>year</th>\n",
       "      <th>wildfire</th>\n",
       "    </tr>\n",
       "  </thead>\n",
       "  <tbody>\n",
       "    <tr>\n",
       "      <th>1</th>\n",
       "      <td>1980</td>\n",
       "      <td>0</td>\n",
       "    </tr>\n",
       "    <tr>\n",
       "      <th>2</th>\n",
       "      <td>1981</td>\n",
       "      <td>0</td>\n",
       "    </tr>\n",
       "    <tr>\n",
       "      <th>3</th>\n",
       "      <td>1982</td>\n",
       "      <td>0</td>\n",
       "    </tr>\n",
       "    <tr>\n",
       "      <th>4</th>\n",
       "      <td>1983</td>\n",
       "      <td>0</td>\n",
       "    </tr>\n",
       "    <tr>\n",
       "      <th>5</th>\n",
       "      <td>1984</td>\n",
       "      <td>0</td>\n",
       "    </tr>\n",
       "  </tbody>\n",
       "</table>\n",
       "</div>"
      ],
      "text/plain": [
       "   year  wildfire\n",
       "1  1980         0\n",
       "2  1981         0\n",
       "3  1982         0\n",
       "4  1983         0\n",
       "5  1984         0"
      ]
     },
     "execution_count": 64,
     "metadata": {},
     "output_type": "execute_result"
    }
   ],
   "source": [
    "df_year_WFire.head()"
   ]
  },
  {
   "cell_type": "code",
   "execution_count": 65,
   "id": "b1352c87",
   "metadata": {},
   "outputs": [
    {
     "name": "stderr",
     "output_type": "stream",
     "text": [
      "C:\\Users\\esteg\\anaconda3\\envs\\PythonData\\lib\\site-packages\\ipykernel_launcher.py:1: FutureWarning: Indexing with multiple keys (implicitly converted to a tuple of keys) will be deprecated, use a list instead.\n",
      "  \"\"\"Entry point for launching an IPython kernel.\n"
     ]
    }
   ],
   "source": [
    "Total_disasters_by_Year= df3.groupby(by= 'year',as_index= False)['flooding', 'drought', 'freeze', 'severe storm', 'tropical cyclone', 'wildfire', 'winter storm'].sum()\n",
    "Total_disasters_by_Year.index = Total_disasters_by_Year.index + 1"
   ]
  },
  {
   "cell_type": "code",
   "execution_count": 66,
   "id": "8d0b6b09",
   "metadata": {},
   "outputs": [
    {
     "data": {
      "text/html": [
       "<div>\n",
       "<style scoped>\n",
       "    .dataframe tbody tr th:only-of-type {\n",
       "        vertical-align: middle;\n",
       "    }\n",
       "\n",
       "    .dataframe tbody tr th {\n",
       "        vertical-align: top;\n",
       "    }\n",
       "\n",
       "    .dataframe thead th {\n",
       "        text-align: right;\n",
       "    }\n",
       "</style>\n",
       "<table border=\"1\" class=\"dataframe\">\n",
       "  <thead>\n",
       "    <tr style=\"text-align: right;\">\n",
       "      <th></th>\n",
       "      <th>year</th>\n",
       "      <th>flooding</th>\n",
       "      <th>drought</th>\n",
       "      <th>freeze</th>\n",
       "      <th>severe storm</th>\n",
       "      <th>tropical cyclone</th>\n",
       "      <th>wildfire</th>\n",
       "      <th>winter storm</th>\n",
       "    </tr>\n",
       "  </thead>\n",
       "  <tbody>\n",
       "    <tr>\n",
       "      <th>1</th>\n",
       "      <td>1980</td>\n",
       "      <td>3</td>\n",
       "      <td>21</td>\n",
       "      <td>0</td>\n",
       "      <td>0</td>\n",
       "      <td>2</td>\n",
       "      <td>0</td>\n",
       "      <td>0</td>\n",
       "    </tr>\n",
       "    <tr>\n",
       "      <th>2</th>\n",
       "      <td>1981</td>\n",
       "      <td>0</td>\n",
       "      <td>0</td>\n",
       "      <td>1</td>\n",
       "      <td>5</td>\n",
       "      <td>0</td>\n",
       "      <td>0</td>\n",
       "      <td>0</td>\n",
       "    </tr>\n",
       "    <tr>\n",
       "      <th>3</th>\n",
       "      <td>1982</td>\n",
       "      <td>0</td>\n",
       "      <td>0</td>\n",
       "      <td>0</td>\n",
       "      <td>33</td>\n",
       "      <td>0</td>\n",
       "      <td>0</td>\n",
       "      <td>35</td>\n",
       "    </tr>\n",
       "    <tr>\n",
       "      <th>4</th>\n",
       "      <td>1983</td>\n",
       "      <td>13</td>\n",
       "      <td>11</td>\n",
       "      <td>41</td>\n",
       "      <td>0</td>\n",
       "      <td>1</td>\n",
       "      <td>0</td>\n",
       "      <td>0</td>\n",
       "    </tr>\n",
       "    <tr>\n",
       "      <th>5</th>\n",
       "      <td>1984</td>\n",
       "      <td>0</td>\n",
       "      <td>0</td>\n",
       "      <td>0</td>\n",
       "      <td>17</td>\n",
       "      <td>0</td>\n",
       "      <td>0</td>\n",
       "      <td>0</td>\n",
       "    </tr>\n",
       "  </tbody>\n",
       "</table>\n",
       "</div>"
      ],
      "text/plain": [
       "   year  flooding  drought  freeze  severe storm  tropical cyclone  wildfire  \\\n",
       "1  1980         3       21       0             0                 2         0   \n",
       "2  1981         0        0       1             5                 0         0   \n",
       "3  1982         0        0       0            33                 0         0   \n",
       "4  1983        13       11      41             0                 1         0   \n",
       "5  1984         0        0       0            17                 0         0   \n",
       "\n",
       "   winter storm  \n",
       "1             0  \n",
       "2             0  \n",
       "3            35  \n",
       "4             0  \n",
       "5             0  "
      ]
     },
     "execution_count": 66,
     "metadata": {},
     "output_type": "execute_result"
    }
   ],
   "source": [
    "Total_disasters_by_Year.head()"
   ]
  },
  {
   "cell_type": "code",
   "execution_count": 67,
   "id": "0b0036c9",
   "metadata": {},
   "outputs": [],
   "source": [
    "df1['Begin Date']= pd.to_datetime(df1['Begin Date'], format='%Y%m%d')\n",
    "df1['End Date']= pd.to_datetime(df1['End Date'], format='%Y%m%d')"
   ]
  },
  {
   "cell_type": "code",
   "execution_count": 68,
   "id": "4c865d3f",
   "metadata": {},
   "outputs": [
    {
     "data": {
      "text/html": [
       "<div>\n",
       "<style scoped>\n",
       "    .dataframe tbody tr th:only-of-type {\n",
       "        vertical-align: middle;\n",
       "    }\n",
       "\n",
       "    .dataframe tbody tr th {\n",
       "        vertical-align: top;\n",
       "    }\n",
       "\n",
       "    .dataframe thead th {\n",
       "        text-align: right;\n",
       "    }\n",
       "</style>\n",
       "<table border=\"1\" class=\"dataframe\">\n",
       "  <thead>\n",
       "    <tr style=\"text-align: right;\">\n",
       "      <th></th>\n",
       "      <th>Begin Date</th>\n",
       "      <th>End Date</th>\n",
       "      <th>Name</th>\n",
       "      <th>Deaths</th>\n",
       "    </tr>\n",
       "  </thead>\n",
       "  <tbody>\n",
       "    <tr>\n",
       "      <th>1</th>\n",
       "      <td>1980-04-10</td>\n",
       "      <td>1980-04-17</td>\n",
       "      <td>Southern Severe Storms and Flooding (April 1980)</td>\n",
       "      <td>7</td>\n",
       "    </tr>\n",
       "    <tr>\n",
       "      <th>2</th>\n",
       "      <td>1980-06-01</td>\n",
       "      <td>1980-11-30</td>\n",
       "      <td>Central/Eastern Drought/Heat Wave (Summer-Fall...</td>\n",
       "      <td>1260</td>\n",
       "    </tr>\n",
       "    <tr>\n",
       "      <th>3</th>\n",
       "      <td>1980-08-07</td>\n",
       "      <td>1980-08-11</td>\n",
       "      <td>Hurricane Allen (August 1980)</td>\n",
       "      <td>13</td>\n",
       "    </tr>\n",
       "    <tr>\n",
       "      <th>4</th>\n",
       "      <td>1981-01-12</td>\n",
       "      <td>1981-01-14</td>\n",
       "      <td>Florida Freeze (January 1981)</td>\n",
       "      <td>0</td>\n",
       "    </tr>\n",
       "    <tr>\n",
       "      <th>5</th>\n",
       "      <td>1981-05-05</td>\n",
       "      <td>1981-05-10</td>\n",
       "      <td>Severe Storms, Flash Floods, Hail, Tornadoes (...</td>\n",
       "      <td>20</td>\n",
       "    </tr>\n",
       "  </tbody>\n",
       "</table>\n",
       "</div>"
      ],
      "text/plain": [
       "  Begin Date   End Date                                               Name  \\\n",
       "1 1980-04-10 1980-04-17   Southern Severe Storms and Flooding (April 1980)   \n",
       "2 1980-06-01 1980-11-30  Central/Eastern Drought/Heat Wave (Summer-Fall...   \n",
       "3 1980-08-07 1980-08-11                      Hurricane Allen (August 1980)   \n",
       "4 1981-01-12 1981-01-14                      Florida Freeze (January 1981)   \n",
       "5 1981-05-05 1981-05-10  Severe Storms, Flash Floods, Hail, Tornadoes (...   \n",
       "\n",
       "   Deaths  \n",
       "1       7  \n",
       "2    1260  \n",
       "3      13  \n",
       "4       0  \n",
       "5      20  "
      ]
     },
     "execution_count": 68,
     "metadata": {},
     "output_type": "execute_result"
    }
   ],
   "source": [
    "df_deaths_per_year= df1.groupby(by= ['Begin Date', 'End Date', 'Name'],as_index= False)['Deaths'].sum()\n",
    "df_deaths_per_year.index = df_deaths_per_year.index + 1\n",
    "\n",
    "df_deaths_per_year.head()"
   ]
  },
  {
   "cell_type": "code",
   "execution_count": 69,
   "id": "2c212a4d",
   "metadata": {},
   "outputs": [],
   "source": [
    "df5= pd.read_csv('US_inflation_rates.csv')\n",
    "df5.rename(columns={'value': 'Inflation rate value'},inplace=True)\n",
    "df5.index = df5.index + 1"
   ]
  },
  {
   "cell_type": "code",
   "execution_count": 70,
   "id": "9ecbd2b4",
   "metadata": {},
   "outputs": [
    {
     "data": {
      "text/html": [
       "<div>\n",
       "<style scoped>\n",
       "    .dataframe tbody tr th:only-of-type {\n",
       "        vertical-align: middle;\n",
       "    }\n",
       "\n",
       "    .dataframe tbody tr th {\n",
       "        vertical-align: top;\n",
       "    }\n",
       "\n",
       "    .dataframe thead th {\n",
       "        text-align: right;\n",
       "    }\n",
       "</style>\n",
       "<table border=\"1\" class=\"dataframe\">\n",
       "  <thead>\n",
       "    <tr style=\"text-align: right;\">\n",
       "      <th></th>\n",
       "      <th>date</th>\n",
       "      <th>Inflation rate value</th>\n",
       "    </tr>\n",
       "  </thead>\n",
       "  <tbody>\n",
       "    <tr>\n",
       "      <th>1</th>\n",
       "      <td>1947-01-01</td>\n",
       "      <td>21.48</td>\n",
       "    </tr>\n",
       "    <tr>\n",
       "      <th>2</th>\n",
       "      <td>1947-02-01</td>\n",
       "      <td>21.62</td>\n",
       "    </tr>\n",
       "    <tr>\n",
       "      <th>3</th>\n",
       "      <td>1947-03-01</td>\n",
       "      <td>22.00</td>\n",
       "    </tr>\n",
       "    <tr>\n",
       "      <th>4</th>\n",
       "      <td>1947-04-01</td>\n",
       "      <td>22.00</td>\n",
       "    </tr>\n",
       "    <tr>\n",
       "      <th>5</th>\n",
       "      <td>1947-05-01</td>\n",
       "      <td>21.95</td>\n",
       "    </tr>\n",
       "  </tbody>\n",
       "</table>\n",
       "</div>"
      ],
      "text/plain": [
       "         date  Inflation rate value\n",
       "1  1947-01-01                 21.48\n",
       "2  1947-02-01                 21.62\n",
       "3  1947-03-01                 22.00\n",
       "4  1947-04-01                 22.00\n",
       "5  1947-05-01                 21.95"
      ]
     },
     "execution_count": 70,
     "metadata": {},
     "output_type": "execute_result"
    }
   ],
   "source": [
    "df5.head()"
   ]
  },
  {
   "cell_type": "code",
   "execution_count": null,
   "id": "005c826b",
   "metadata": {},
   "outputs": [],
   "source": []
  }
 ],
 "metadata": {
  "kernelspec": {
   "display_name": "PythonData",
   "language": "python",
   "name": "pythondata"
  },
  "language_info": {
   "codemirror_mode": {
    "name": "ipython",
    "version": 3
   },
   "file_extension": ".py",
   "mimetype": "text/x-python",
   "name": "python",
   "nbconvert_exporter": "python",
   "pygments_lexer": "ipython3",
   "version": "3.7.10"
  }
 },
 "nbformat": 4,
 "nbformat_minor": 5
}
