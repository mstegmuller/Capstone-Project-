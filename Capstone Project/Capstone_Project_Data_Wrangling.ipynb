{
 "cells": [
  {
   "cell_type": "markdown",
   "id": "8080008b",
   "metadata": {},
   "source": [
    "# Reading and Cleaning datasets"
   ]
  },
  {
   "cell_type": "code",
   "execution_count": 1,
   "id": "656009ca",
   "metadata": {},
   "outputs": [],
   "source": [
    " #pip install dash"
   ]
  },
  {
   "cell_type": "code",
   "execution_count": 2,
   "id": "4a931977",
   "metadata": {},
   "outputs": [],
   "source": [
    "import os\n",
    "import pandas as pd\n",
    "from datetime import datetime\n",
    "import matplotlib.pyplot as plt \n",
    "import seaborn as sns\n",
    "import numpy as np\n",
    "#from dash import Dash, dcc, html, Input, Output\n",
    "import plotly.express as px\n",
    "\n",
    "df1= pd.read_csv('Events_US.csv', skiprows=1)"
   ]
  },
  {
   "cell_type": "code",
   "execution_count": 3,
   "id": "89a2aa1e",
   "metadata": {},
   "outputs": [
    {
     "data": {
      "text/html": [
       "<div>\n",
       "<style scoped>\n",
       "    .dataframe tbody tr th:only-of-type {\n",
       "        vertical-align: middle;\n",
       "    }\n",
       "\n",
       "    .dataframe tbody tr th {\n",
       "        vertical-align: top;\n",
       "    }\n",
       "\n",
       "    .dataframe thead th {\n",
       "        text-align: right;\n",
       "    }\n",
       "</style>\n",
       "<table border=\"1\" class=\"dataframe\">\n",
       "  <thead>\n",
       "    <tr style=\"text-align: right;\">\n",
       "      <th></th>\n",
       "      <th>Name</th>\n",
       "      <th>Disaster</th>\n",
       "      <th>Begin Date</th>\n",
       "      <th>End Date</th>\n",
       "      <th>Total CPI-Adjusted Cost (Millions of Dollars)</th>\n",
       "      <th>Deaths</th>\n",
       "    </tr>\n",
       "  </thead>\n",
       "  <tbody>\n",
       "    <tr>\n",
       "      <th>0</th>\n",
       "      <td>Southern Severe Storms and Flooding (April 1980)</td>\n",
       "      <td>Flooding</td>\n",
       "      <td>19800410</td>\n",
       "      <td>19800417</td>\n",
       "      <td>2678.6</td>\n",
       "      <td>7</td>\n",
       "    </tr>\n",
       "    <tr>\n",
       "      <th>1</th>\n",
       "      <td>Hurricane Allen (August 1980)</td>\n",
       "      <td>Tropical Cyclone</td>\n",
       "      <td>19800807</td>\n",
       "      <td>19800811</td>\n",
       "      <td>2177.2</td>\n",
       "      <td>13</td>\n",
       "    </tr>\n",
       "    <tr>\n",
       "      <th>2</th>\n",
       "      <td>Central/Eastern Drought/Heat Wave (Summer-Fall...</td>\n",
       "      <td>Drought</td>\n",
       "      <td>19800601</td>\n",
       "      <td>19801130</td>\n",
       "      <td>39579.0</td>\n",
       "      <td>1260</td>\n",
       "    </tr>\n",
       "    <tr>\n",
       "      <th>3</th>\n",
       "      <td>Florida Freeze (January 1981)</td>\n",
       "      <td>Freeze</td>\n",
       "      <td>19810112</td>\n",
       "      <td>19810114</td>\n",
       "      <td>2019.2</td>\n",
       "      <td>0</td>\n",
       "    </tr>\n",
       "    <tr>\n",
       "      <th>4</th>\n",
       "      <td>Severe Storms, Flash Floods, Hail, Tornadoes (...</td>\n",
       "      <td>Severe Storm</td>\n",
       "      <td>19810505</td>\n",
       "      <td>19810510</td>\n",
       "      <td>1372.9</td>\n",
       "      <td>20</td>\n",
       "    </tr>\n",
       "  </tbody>\n",
       "</table>\n",
       "</div>"
      ],
      "text/plain": [
       "                                                Name          Disaster  \\\n",
       "0   Southern Severe Storms and Flooding (April 1980)          Flooding   \n",
       "1                      Hurricane Allen (August 1980)  Tropical Cyclone   \n",
       "2  Central/Eastern Drought/Heat Wave (Summer-Fall...           Drought   \n",
       "3                      Florida Freeze (January 1981)            Freeze   \n",
       "4  Severe Storms, Flash Floods, Hail, Tornadoes (...      Severe Storm   \n",
       "\n",
       "   Begin Date  End Date  Total CPI-Adjusted Cost (Millions of Dollars)  Deaths  \n",
       "0    19800410  19800417                                         2678.6       7  \n",
       "1    19800807  19800811                                         2177.2      13  \n",
       "2    19800601  19801130                                        39579.0    1260  \n",
       "3    19810112  19810114                                         2019.2       0  \n",
       "4    19810505  19810510                                         1372.9      20  "
      ]
     },
     "execution_count": 3,
     "metadata": {},
     "output_type": "execute_result"
    }
   ],
   "source": [
    "df1.head()"
   ]
  },
  {
   "cell_type": "code",
   "execution_count": 4,
   "id": "5bf07230",
   "metadata": {},
   "outputs": [
    {
     "name": "stdout",
     "output_type": "stream",
     "text": [
      "      Name  Disaster  Begin Date  End Date  \\\n",
      "0    False     False       False     False   \n",
      "1    False     False       False     False   \n",
      "2    False     False       False     False   \n",
      "3    False     False       False     False   \n",
      "4    False     False       False     False   \n",
      "..     ...       ...         ...       ...   \n",
      "371  False     False       False     False   \n",
      "372  False     False       False     False   \n",
      "373  False     False       False     False   \n",
      "374  False     False       False     False   \n",
      "375  False     False       False     False   \n",
      "\n",
      "     Total CPI-Adjusted Cost (Millions of Dollars)  Deaths  \n",
      "0                                            False   False  \n",
      "1                                            False   False  \n",
      "2                                            False   False  \n",
      "3                                            False   False  \n",
      "4                                            False   False  \n",
      "..                                             ...     ...  \n",
      "371                                          False   False  \n",
      "372                                          False   False  \n",
      "373                                          False   False  \n",
      "374                                          False   False  \n",
      "375                                          False   False  \n",
      "\n",
      "[376 rows x 6 columns]\n"
     ]
    }
   ],
   "source": [
    "print(df1.isna())"
   ]
  },
  {
   "cell_type": "code",
   "execution_count": 5,
   "id": "d272b3bc",
   "metadata": {},
   "outputs": [
    {
     "name": "stdout",
     "output_type": "stream",
     "text": [
      "['Flooding' 'Tropical Cyclone' 'Drought' 'Freeze' 'Severe Storm'\n",
      " 'Winter Storm' 'Wildfire']\n"
     ]
    }
   ],
   "source": [
    "print(df1['Disaster'].unique())"
   ]
  },
  {
   "cell_type": "code",
   "execution_count": 6,
   "id": "3407f358",
   "metadata": {},
   "outputs": [
    {
     "name": "stdout",
     "output_type": "stream",
     "text": [
      "[19800410 19800807 19800601 19810112 19810505 19820108 19820402 19820531\n",
      " 19821201 19821213 19830817 19830601 19830929 19831215 19840327 19840613\n",
      " 19850119 19850120 19850531 19850830 19850926 19851027 19851103 19860214\n",
      " 19860601 19860910 19880601 19890501 19890626 19890921 19890601 19891223\n",
      " 19891221 19900511 19900711 19900601 19901218 19910326 19910818 19910301\n",
      " 19911001 19920324 19920428 19920619 19920823 19920911 19921121 19921210\n",
      " 19930311 19930708 19930627 19930601 19930901 19940117 19940208 19940425\n",
      " 19940707 19941016 19940601 19950101 19950428 19950505 19950801 19950915\n",
      " 19950701 19951004 19960101 19960207 19960301 19960905 19961019 19970101\n",
      " 19970228 19970203 19980105 19971201 19980515 19980530 19980620 19980808\n",
      " 19980827 19980601 19980920 19981016 19981220 19990101 19990113 19990503\n",
      " 19990601 19990914 20000121 20000328 20000301 20001003 20010406 20010430\n",
      " 20010605 20020427 20020801 20020925 20021109 20020901 20020301 20030404\n",
      " 20030503 20030704 20030721 20030918 20030301 20030901 20040521 20040608\n",
      " 20040813 20040903 20040912 20040915 20050324 20050709 20050825 20050301\n",
      " 20050920 20051024 20060308 20060406 20060413 20060625 20060823 20060301\n",
      " 20061002 20060101 20070111 20070404 20070413 20070601 20080104 20080205\n",
      " 20080314 20080409 20080522 20080606 20080401 20080723 20080831 20080912\n",
      " 20080901 20080101 20090210 20090325 20090409 20090507 20090609 20090720\n",
      " 20090919 20090601 20090101 20100209 20100301 20100430 20100510 20100610\n",
      " 20100720 20101005 20110201 20110404 20110408 20110414 20110419 20110425\n",
      " 20110522 20110401 20110618 20110501 20110701 20110710 20110817 20110826\n",
      " 20110301 20110901 20111029 20110601 20120302 20120402 20120413 20120428\n",
      " 20120525 20120606 20120629 20120826 20121030 20120601 20120101 20130224\n",
      " 20130318 20130407 20130416 20130518 20130527 20130806 20130910 20131117\n",
      " 20130301 20140105 20140402 20140412 20140427 20140510 20140518 20140603\n",
      " 20140811 20140929 20140101 20150214 20150407 20150418 20150424 20150506\n",
      " 20150523 20150621 20151001 20150601 20151226 20150101 20160222 20160308\n",
      " 20160317 20160323 20160410 20160417 20160426 20160508 20160521 20160622\n",
      " 20160728 20160812 20161008 20160101 20160601 20170120 20170208 20170228\n",
      " 20170306 20170314 20170326 20170404 20170420 20170425 20170508 20170515\n",
      " 20170609 20170612 20170627 20170825 20170906 20170919 20170301 20170601\n",
      " 20180103 20180301 20180318 20180413 20180501 20180513 20180606 20180613\n",
      " 20180618 20180719 20180726 20180806 20180913 20181010 20180601 20190223\n",
      " 20190322 20190314 20190413 20190507 20190516 20190526 20190520 20190704\n",
      " 20190315 20190828 20190917 20191020 20190601 20200110 20200205 20200302\n",
      " 20200327 20200407 20200412 20200421 20200427 20200503 20200520 20200527\n",
      " 20200710 20200725 20200803 20200810 20200827 20200915 20201009 20201028\n",
      " 20201108 20200601 20200801 20210124 20210210 20210324 20210327 20210412\n",
      " 20210427 20210502 20210517 20210617 20210624 20210707 20210708 20210810\n",
      " 20210816 20210829 20210914 20211210 20211215 20210601 20210101 20220221\n",
      " 20220330 20220404 20220411 20220501 20220509 20220511 20220519 20220607\n",
      " 20220613 20220722 20220726 20220917 20220928 20221110 20220401 20221221\n",
      " 20220101 20230202 20230302 20221226 20230324 20230331 20230404 20230412\n",
      " 20230415 20230419 20230425 20230506 20230510 20230518 20230524 20230611\n",
      " 20230615 20230621 20230628 20230709 20230719 20230728 20230808 20230805\n",
      " 20230811 20230829 20230923 20230401 20231216]\n"
     ]
    }
   ],
   "source": [
    "print(df1['Begin Date'].unique())"
   ]
  },
  {
   "cell_type": "code",
   "execution_count": 7,
   "id": "361b924b",
   "metadata": {},
   "outputs": [],
   "source": [
    "df2= pd.read_csv('state_cost_data.csv', skiprows=1)"
   ]
  },
  {
   "cell_type": "code",
   "execution_count": 8,
   "id": "0aca1a06",
   "metadata": {},
   "outputs": [
    {
     "data": {
      "text/html": [
       "<div>\n",
       "<style scoped>\n",
       "    .dataframe tbody tr th:only-of-type {\n",
       "        vertical-align: middle;\n",
       "    }\n",
       "\n",
       "    .dataframe tbody tr th {\n",
       "        vertical-align: top;\n",
       "    }\n",
       "\n",
       "    .dataframe thead th {\n",
       "        text-align: right;\n",
       "    }\n",
       "</style>\n",
       "<table border=\"1\" class=\"dataframe\">\n",
       "  <thead>\n",
       "    <tr style=\"text-align: right;\">\n",
       "      <th></th>\n",
       "      <th>state</th>\n",
       "      <th>drought</th>\n",
       "      <th>flooding</th>\n",
       "      <th>freeze</th>\n",
       "      <th>severe storm</th>\n",
       "      <th>tropical cyclone</th>\n",
       "      <th>wildfire</th>\n",
       "      <th>winter storm</th>\n",
       "    </tr>\n",
       "  </thead>\n",
       "  <tbody>\n",
       "    <tr>\n",
       "      <th>0</th>\n",
       "      <td>AK</td>\n",
       "      <td>0.0</td>\n",
       "      <td>0.0</td>\n",
       "      <td>0.0</td>\n",
       "      <td>0.0</td>\n",
       "      <td>0.0</td>\n",
       "      <td>2292.8</td>\n",
       "      <td>0.0</td>\n",
       "    </tr>\n",
       "    <tr>\n",
       "      <th>1</th>\n",
       "      <td>AL</td>\n",
       "      <td>6780.6</td>\n",
       "      <td>134.7</td>\n",
       "      <td>148.7</td>\n",
       "      <td>13894.8</td>\n",
       "      <td>26457.6</td>\n",
       "      <td>716.4</td>\n",
       "      <td>2377.1</td>\n",
       "    </tr>\n",
       "    <tr>\n",
       "      <th>2</th>\n",
       "      <td>AR</td>\n",
       "      <td>6651.0</td>\n",
       "      <td>4597.8</td>\n",
       "      <td>291.0</td>\n",
       "      <td>10216.5</td>\n",
       "      <td>706.4</td>\n",
       "      <td>0.0</td>\n",
       "      <td>1135.5</td>\n",
       "    </tr>\n",
       "    <tr>\n",
       "      <th>3</th>\n",
       "      <td>AZ</td>\n",
       "      <td>1486.5</td>\n",
       "      <td>1879.5</td>\n",
       "      <td>0.0</td>\n",
       "      <td>5358.0</td>\n",
       "      <td>0.0</td>\n",
       "      <td>1327.8</td>\n",
       "      <td>0.0</td>\n",
       "    </tr>\n",
       "    <tr>\n",
       "      <th>4</th>\n",
       "      <td>CA</td>\n",
       "      <td>16199.3</td>\n",
       "      <td>18798.3</td>\n",
       "      <td>15131.0</td>\n",
       "      <td>3445.4</td>\n",
       "      <td>0.0</td>\n",
       "      <td>98106.3</td>\n",
       "      <td>0.0</td>\n",
       "    </tr>\n",
       "  </tbody>\n",
       "</table>\n",
       "</div>"
      ],
      "text/plain": [
       "  state  drought  flooding   freeze  severe storm  tropical cyclone  wildfire  \\\n",
       "0    AK      0.0       0.0      0.0           0.0               0.0    2292.8   \n",
       "1    AL   6780.6     134.7    148.7       13894.8           26457.6     716.4   \n",
       "2    AR   6651.0    4597.8    291.0       10216.5             706.4       0.0   \n",
       "3    AZ   1486.5    1879.5      0.0        5358.0               0.0    1327.8   \n",
       "4    CA  16199.3   18798.3  15131.0        3445.4               0.0   98106.3   \n",
       "\n",
       "   winter storm  \n",
       "0           0.0  \n",
       "1        2377.1  \n",
       "2        1135.5  \n",
       "3           0.0  \n",
       "4           0.0  "
      ]
     },
     "execution_count": 8,
     "metadata": {},
     "output_type": "execute_result"
    }
   ],
   "source": [
    "df2.head()"
   ]
  },
  {
   "cell_type": "code",
   "execution_count": 9,
   "id": "34f8c080",
   "metadata": {},
   "outputs": [
    {
     "name": "stdout",
     "output_type": "stream",
     "text": [
      "    state  drought  flooding  freeze  severe storm  tropical cyclone  \\\n",
      "0   False    False     False   False         False             False   \n",
      "1   False    False     False   False         False             False   \n",
      "2   False    False     False   False         False             False   \n",
      "3   False    False     False   False         False             False   \n",
      "4   False    False     False   False         False             False   \n",
      "5   False    False     False   False         False             False   \n",
      "6   False    False     False   False         False             False   \n",
      "7   False    False     False   False         False             False   \n",
      "8   False    False     False   False         False             False   \n",
      "9   False    False     False   False         False             False   \n",
      "10  False    False     False   False         False             False   \n",
      "11  False    False     False   False         False             False   \n",
      "12  False    False     False   False         False             False   \n",
      "13  False    False     False   False         False             False   \n",
      "14  False    False     False   False         False             False   \n",
      "15  False    False     False   False         False             False   \n",
      "16  False    False     False   False         False             False   \n",
      "17  False    False     False   False         False             False   \n",
      "18  False    False     False   False         False             False   \n",
      "19  False    False     False   False         False             False   \n",
      "20  False    False     False   False         False             False   \n",
      "21  False    False     False   False         False             False   \n",
      "22  False    False     False   False         False             False   \n",
      "23  False    False     False   False         False             False   \n",
      "24  False    False     False   False         False             False   \n",
      "25  False    False     False   False         False             False   \n",
      "26  False    False     False   False         False             False   \n",
      "27  False    False     False   False         False             False   \n",
      "28  False    False     False   False         False             False   \n",
      "29  False    False     False   False         False             False   \n",
      "30  False    False     False   False         False             False   \n",
      "31  False    False     False   False         False             False   \n",
      "32  False    False     False   False         False             False   \n",
      "33  False    False     False   False         False             False   \n",
      "34  False    False     False   False         False             False   \n",
      "35  False    False     False   False         False             False   \n",
      "36  False    False     False   False         False             False   \n",
      "37  False    False     False   False         False             False   \n",
      "38  False    False     False   False         False             False   \n",
      "39  False    False     False   False         False             False   \n",
      "40  False    False     False   False         False             False   \n",
      "41  False    False     False   False         False             False   \n",
      "42  False    False     False   False         False             False   \n",
      "43  False    False     False   False         False             False   \n",
      "44  False    False     False   False         False             False   \n",
      "45  False    False     False   False         False             False   \n",
      "46  False    False     False   False         False             False   \n",
      "47  False    False     False   False         False             False   \n",
      "48  False    False     False   False         False             False   \n",
      "49  False    False     False   False         False             False   \n",
      "50  False    False     False   False         False             False   \n",
      "51  False    False     False   False         False             False   \n",
      "52  False    False     False   False         False             False   \n",
      "53  False    False     False   False         False             False   \n",
      "54  False    False     False   False         False             False   \n",
      "\n",
      "    wildfire  winter storm  \n",
      "0      False         False  \n",
      "1      False         False  \n",
      "2      False         False  \n",
      "3      False         False  \n",
      "4      False         False  \n",
      "5      False         False  \n",
      "6      False         False  \n",
      "7      False         False  \n",
      "8      False         False  \n",
      "9      False         False  \n",
      "10     False         False  \n",
      "11     False         False  \n",
      "12     False         False  \n",
      "13     False         False  \n",
      "14     False         False  \n",
      "15     False         False  \n",
      "16     False         False  \n",
      "17     False         False  \n",
      "18     False         False  \n",
      "19     False         False  \n",
      "20     False         False  \n",
      "21     False         False  \n",
      "22     False         False  \n",
      "23     False         False  \n",
      "24     False         False  \n",
      "25     False         False  \n",
      "26     False         False  \n",
      "27     False         False  \n",
      "28     False         False  \n",
      "29     False         False  \n",
      "30     False         False  \n",
      "31     False         False  \n",
      "32     False         False  \n",
      "33     False         False  \n",
      "34     False         False  \n",
      "35     False         False  \n",
      "36     False         False  \n",
      "37     False         False  \n",
      "38     False         False  \n",
      "39     False         False  \n",
      "40     False         False  \n",
      "41     False         False  \n",
      "42     False         False  \n",
      "43     False         False  \n",
      "44     False         False  \n",
      "45     False         False  \n",
      "46     False         False  \n",
      "47     False         False  \n",
      "48     False         False  \n",
      "49     False         False  \n",
      "50     False         False  \n",
      "51     False         False  \n",
      "52     False         False  \n",
      "53     False         False  \n",
      "54     False         False  \n"
     ]
    }
   ],
   "source": [
    "print(df2.isna())"
   ]
  },
  {
   "cell_type": "code",
   "execution_count": 10,
   "id": "508bc94f",
   "metadata": {},
   "outputs": [],
   "source": [
    "df3= pd.read_csv('state_freq_data.csv', skiprows=1)"
   ]
  },
  {
   "cell_type": "code",
   "execution_count": 11,
   "id": "66b5070c",
   "metadata": {},
   "outputs": [
    {
     "data": {
      "text/html": [
       "<div>\n",
       "<style scoped>\n",
       "    .dataframe tbody tr th:only-of-type {\n",
       "        vertical-align: middle;\n",
       "    }\n",
       "\n",
       "    .dataframe tbody tr th {\n",
       "        vertical-align: top;\n",
       "    }\n",
       "\n",
       "    .dataframe thead th {\n",
       "        text-align: right;\n",
       "    }\n",
       "</style>\n",
       "<table border=\"1\" class=\"dataframe\">\n",
       "  <thead>\n",
       "    <tr style=\"text-align: right;\">\n",
       "      <th></th>\n",
       "      <th>year</th>\n",
       "      <th>state</th>\n",
       "      <th>drought</th>\n",
       "      <th>flooding</th>\n",
       "      <th>freeze</th>\n",
       "      <th>severe storm</th>\n",
       "      <th>tropical cyclone</th>\n",
       "      <th>wildfire</th>\n",
       "      <th>winter storm</th>\n",
       "    </tr>\n",
       "  </thead>\n",
       "  <tbody>\n",
       "    <tr>\n",
       "      <th>0</th>\n",
       "      <td>1980</td>\n",
       "      <td>AK</td>\n",
       "      <td>0</td>\n",
       "      <td>0</td>\n",
       "      <td>0</td>\n",
       "      <td>0</td>\n",
       "      <td>0</td>\n",
       "      <td>0</td>\n",
       "      <td>0</td>\n",
       "    </tr>\n",
       "    <tr>\n",
       "      <th>1</th>\n",
       "      <td>1980</td>\n",
       "      <td>AL</td>\n",
       "      <td>1</td>\n",
       "      <td>0</td>\n",
       "      <td>0</td>\n",
       "      <td>0</td>\n",
       "      <td>0</td>\n",
       "      <td>0</td>\n",
       "      <td>0</td>\n",
       "    </tr>\n",
       "    <tr>\n",
       "      <th>2</th>\n",
       "      <td>1980</td>\n",
       "      <td>AR</td>\n",
       "      <td>1</td>\n",
       "      <td>1</td>\n",
       "      <td>0</td>\n",
       "      <td>0</td>\n",
       "      <td>0</td>\n",
       "      <td>0</td>\n",
       "      <td>0</td>\n",
       "    </tr>\n",
       "    <tr>\n",
       "      <th>3</th>\n",
       "      <td>1980</td>\n",
       "      <td>AZ</td>\n",
       "      <td>0</td>\n",
       "      <td>0</td>\n",
       "      <td>0</td>\n",
       "      <td>0</td>\n",
       "      <td>0</td>\n",
       "      <td>0</td>\n",
       "      <td>0</td>\n",
       "    </tr>\n",
       "    <tr>\n",
       "      <th>4</th>\n",
       "      <td>1980</td>\n",
       "      <td>CA</td>\n",
       "      <td>0</td>\n",
       "      <td>0</td>\n",
       "      <td>0</td>\n",
       "      <td>0</td>\n",
       "      <td>0</td>\n",
       "      <td>0</td>\n",
       "      <td>0</td>\n",
       "    </tr>\n",
       "  </tbody>\n",
       "</table>\n",
       "</div>"
      ],
      "text/plain": [
       "   year state  drought  flooding  freeze  severe storm  tropical cyclone  \\\n",
       "0  1980    AK        0         0       0             0                 0   \n",
       "1  1980    AL        1         0       0             0                 0   \n",
       "2  1980    AR        1         1       0             0                 0   \n",
       "3  1980    AZ        0         0       0             0                 0   \n",
       "4  1980    CA        0         0       0             0                 0   \n",
       "\n",
       "   wildfire  winter storm  \n",
       "0         0             0  \n",
       "1         0             0  \n",
       "2         0             0  \n",
       "3         0             0  \n",
       "4         0             0  "
      ]
     },
     "execution_count": 11,
     "metadata": {},
     "output_type": "execute_result"
    }
   ],
   "source": [
    "df3.head()"
   ]
  },
  {
   "cell_type": "code",
   "execution_count": 12,
   "id": "37a2875c",
   "metadata": {},
   "outputs": [
    {
     "name": "stdout",
     "output_type": "stream",
     "text": [
      "       year  state  drought  flooding  freeze  severe storm  tropical cyclone  \\\n",
      "0     False  False    False     False   False         False             False   \n",
      "1     False  False    False     False   False         False             False   \n",
      "2     False  False    False     False   False         False             False   \n",
      "3     False  False    False     False   False         False             False   \n",
      "4     False  False    False     False   False         False             False   \n",
      "...     ...    ...      ...       ...     ...           ...               ...   \n",
      "2425  False  False    False     False   False         False             False   \n",
      "2426  False  False    False     False   False         False             False   \n",
      "2427  False  False    False     False   False         False             False   \n",
      "2428  False  False    False     False   False         False             False   \n",
      "2429  False  False    False     False   False         False             False   \n",
      "\n",
      "      wildfire  winter storm  \n",
      "0        False         False  \n",
      "1        False         False  \n",
      "2        False         False  \n",
      "3        False         False  \n",
      "4        False         False  \n",
      "...        ...           ...  \n",
      "2425     False         False  \n",
      "2426     False         False  \n",
      "2427     False         False  \n",
      "2428     False         False  \n",
      "2429     False         False  \n",
      "\n",
      "[2430 rows x 9 columns]\n"
     ]
    }
   ],
   "source": [
    "print(df3.isna())"
   ]
  },
  {
   "cell_type": "code",
   "execution_count": 13,
   "id": "d690b152",
   "metadata": {},
   "outputs": [
    {
     "data": {
      "text/plain": [
       "0    AK\n",
       "1    AL\n",
       "2    AR\n",
       "3    AZ\n",
       "4    CA\n",
       "Name: state, dtype: object"
      ]
     },
     "execution_count": 13,
     "metadata": {},
     "output_type": "execute_result"
    }
   ],
   "source": [
    "df3['state'].head()"
   ]
  },
  {
   "cell_type": "markdown",
   "id": "5a3e26df",
   "metadata": {},
   "source": [
    "# Wrangling Flooding Data "
   ]
  },
  {
   "cell_type": "code",
   "execution_count": 14,
   "id": "d774f3eb",
   "metadata": {},
   "outputs": [],
   "source": [
    "state_by_flooding = df3.loc[:,['state','flooding']]"
   ]
  },
  {
   "cell_type": "code",
   "execution_count": 15,
   "id": "78b39394",
   "metadata": {},
   "outputs": [],
   "source": [
    "cost_per_flood = df2.loc[:,['state','flooding']]"
   ]
  },
  {
   "cell_type": "code",
   "execution_count": null,
   "id": "6cb3e694",
   "metadata": {},
   "outputs": [],
   "source": []
  },
  {
   "cell_type": "code",
   "execution_count": 16,
   "id": "18b2c3ea",
   "metadata": {},
   "outputs": [],
   "source": [
    "df4= df3.groupby(by= 'state',as_index= False)['flooding'].sum()"
   ]
  },
  {
   "cell_type": "code",
   "execution_count": 17,
   "id": "9ec81dd7",
   "metadata": {},
   "outputs": [
    {
     "data": {
      "text/html": [
       "<div>\n",
       "<style scoped>\n",
       "    .dataframe tbody tr th:only-of-type {\n",
       "        vertical-align: middle;\n",
       "    }\n",
       "\n",
       "    .dataframe tbody tr th {\n",
       "        vertical-align: top;\n",
       "    }\n",
       "\n",
       "    .dataframe thead th {\n",
       "        text-align: right;\n",
       "    }\n",
       "</style>\n",
       "<table border=\"1\" class=\"dataframe\">\n",
       "  <thead>\n",
       "    <tr style=\"text-align: right;\">\n",
       "      <th></th>\n",
       "      <th>state</th>\n",
       "      <th>flooding</th>\n",
       "    </tr>\n",
       "  </thead>\n",
       "  <tbody>\n",
       "    <tr>\n",
       "      <th>0</th>\n",
       "      <td>AK</td>\n",
       "      <td>0</td>\n",
       "    </tr>\n",
       "    <tr>\n",
       "      <th>1</th>\n",
       "      <td>AL</td>\n",
       "      <td>2</td>\n",
       "    </tr>\n",
       "    <tr>\n",
       "      <th>2</th>\n",
       "      <td>AR</td>\n",
       "      <td>9</td>\n",
       "    </tr>\n",
       "    <tr>\n",
       "      <th>3</th>\n",
       "      <td>AZ</td>\n",
       "      <td>3</td>\n",
       "    </tr>\n",
       "    <tr>\n",
       "      <th>4</th>\n",
       "      <td>CA</td>\n",
       "      <td>6</td>\n",
       "    </tr>\n",
       "  </tbody>\n",
       "</table>\n",
       "</div>"
      ],
      "text/plain": [
       "  state  flooding\n",
       "0    AK         0\n",
       "1    AL         2\n",
       "2    AR         9\n",
       "3    AZ         3\n",
       "4    CA         6"
      ]
     },
     "execution_count": 17,
     "metadata": {},
     "output_type": "execute_result"
    }
   ],
   "source": [
    "df4.head()"
   ]
  },
  {
   "cell_type": "code",
   "execution_count": 18,
   "id": "5fbed749",
   "metadata": {},
   "outputs": [
    {
     "data": {
      "text/plain": [
       "Index(['state', 'flooding'], dtype='object')"
      ]
     },
     "execution_count": 18,
     "metadata": {},
     "output_type": "execute_result"
    }
   ],
   "source": [
    "df4.columns"
   ]
  },
  {
   "cell_type": "code",
   "execution_count": 19,
   "id": "0d855e32",
   "metadata": {},
   "outputs": [
    {
     "data": {
      "text/plain": [
       "0      0\n",
       "1      2\n",
       "2      9\n",
       "3      3\n",
       "4      6\n",
       "5      2\n",
       "6      3\n",
       "7      0\n",
       "8      2\n",
       "9      4\n",
       "10     4\n",
       "11     0\n",
       "12     0\n",
       "13     7\n",
       "14     3\n",
       "15     7\n",
       "16     6\n",
       "17     6\n",
       "18     4\n",
       "19    10\n",
       "20     4\n",
       "21     5\n",
       "22     2\n",
       "23     4\n",
       "24     5\n",
       "25     9\n",
       "26     5\n",
       "27     4\n",
       "28     2\n",
       "29     4\n",
       "30     5\n",
       "31     2\n",
       "32     4\n",
       "33     0\n",
       "34     1\n",
       "35     5\n",
       "36     5\n",
       "37     6\n",
       "38     3\n",
       "39     5\n",
       "40     0\n",
       "41     2\n",
       "42     3\n",
       "43     4\n",
       "44     4\n",
       "45     9\n",
       "46     1\n",
       "47     5\n",
       "48     0\n",
       "49     1\n",
       "50     3\n",
       "51     4\n",
       "52     2\n",
       "53     0\n",
       "Name: flooding, dtype: int64"
      ]
     },
     "execution_count": 19,
     "metadata": {},
     "output_type": "execute_result"
    }
   ],
   "source": [
    "df4['flooding']"
   ]
  },
  {
   "cell_type": "code",
   "execution_count": 20,
   "id": "ab199798",
   "metadata": {},
   "outputs": [
    {
     "data": {
      "text/plain": [
       "0     AK\n",
       "1     AL\n",
       "2     AR\n",
       "3     AZ\n",
       "4     CA\n",
       "5     CO\n",
       "6     CT\n",
       "7     DC\n",
       "8     DE\n",
       "9     FL\n",
       "10    GA\n",
       "11    GU\n",
       "12    HI\n",
       "13    IA\n",
       "14    ID\n",
       "15    IL\n",
       "16    IN\n",
       "17    KS\n",
       "18    KY\n",
       "19    LA\n",
       "20    MA\n",
       "21    MD\n",
       "22    ME\n",
       "23    MI\n",
       "24    MN\n",
       "25    MO\n",
       "26    MS\n",
       "27    MT\n",
       "28    NC\n",
       "29    ND\n",
       "30    NE\n",
       "31    NH\n",
       "32    NJ\n",
       "33    NM\n",
       "34    NV\n",
       "35    NY\n",
       "36    OH\n",
       "37    OK\n",
       "38    OR\n",
       "39    PA\n",
       "40    PR\n",
       "41    RI\n",
       "42    SC\n",
       "43    SD\n",
       "44    TN\n",
       "45    TX\n",
       "46    UT\n",
       "47    VA\n",
       "48    VI\n",
       "49    VT\n",
       "50    WA\n",
       "51    WI\n",
       "52    WV\n",
       "53    WY\n",
       "Name: state, dtype: object"
      ]
     },
     "execution_count": 20,
     "metadata": {},
     "output_type": "execute_result"
    }
   ],
   "source": [
    "df4['state']"
   ]
  },
  {
   "cell_type": "code",
   "execution_count": 21,
   "id": "7de22f3f",
   "metadata": {},
   "outputs": [],
   "source": [
    "flooding_cost_per_state= pd.merge(df4, cost_per_flood, left_on = 'state', right_on='state')"
   ]
  },
  {
   "cell_type": "code",
   "execution_count": 22,
   "id": "1213735c",
   "metadata": {},
   "outputs": [
    {
     "data": {
      "text/html": [
       "<div>\n",
       "<style scoped>\n",
       "    .dataframe tbody tr th:only-of-type {\n",
       "        vertical-align: middle;\n",
       "    }\n",
       "\n",
       "    .dataframe tbody tr th {\n",
       "        vertical-align: top;\n",
       "    }\n",
       "\n",
       "    .dataframe thead th {\n",
       "        text-align: right;\n",
       "    }\n",
       "</style>\n",
       "<table border=\"1\" class=\"dataframe\">\n",
       "  <thead>\n",
       "    <tr style=\"text-align: right;\">\n",
       "      <th></th>\n",
       "      <th>state</th>\n",
       "      <th>flooding_x</th>\n",
       "      <th>flooding_y</th>\n",
       "    </tr>\n",
       "  </thead>\n",
       "  <tbody>\n",
       "    <tr>\n",
       "      <th>0</th>\n",
       "      <td>AK</td>\n",
       "      <td>0</td>\n",
       "      <td>0.0</td>\n",
       "    </tr>\n",
       "    <tr>\n",
       "      <th>1</th>\n",
       "      <td>AL</td>\n",
       "      <td>2</td>\n",
       "      <td>134.7</td>\n",
       "    </tr>\n",
       "    <tr>\n",
       "      <th>2</th>\n",
       "      <td>AR</td>\n",
       "      <td>9</td>\n",
       "      <td>4597.8</td>\n",
       "    </tr>\n",
       "    <tr>\n",
       "      <th>3</th>\n",
       "      <td>AZ</td>\n",
       "      <td>3</td>\n",
       "      <td>1879.5</td>\n",
       "    </tr>\n",
       "    <tr>\n",
       "      <th>4</th>\n",
       "      <td>CA</td>\n",
       "      <td>6</td>\n",
       "      <td>18798.3</td>\n",
       "    </tr>\n",
       "  </tbody>\n",
       "</table>\n",
       "</div>"
      ],
      "text/plain": [
       "  state  flooding_x  flooding_y\n",
       "0    AK           0         0.0\n",
       "1    AL           2       134.7\n",
       "2    AR           9      4597.8\n",
       "3    AZ           3      1879.5\n",
       "4    CA           6     18798.3"
      ]
     },
     "execution_count": 22,
     "metadata": {},
     "output_type": "execute_result"
    }
   ],
   "source": [
    "flooding_cost_per_state.head()"
   ]
  },
  {
   "cell_type": "code",
   "execution_count": 23,
   "id": "2f43cd8c",
   "metadata": {},
   "outputs": [],
   "source": [
    "flooding_cost_per_state.rename(columns={'flooding_x': 'Total number of Floods', 'flooding_y': 'State Flooding Cost(Millions)'}, inplace= True)"
   ]
  },
  {
   "cell_type": "code",
   "execution_count": 24,
   "id": "31bc8172",
   "metadata": {},
   "outputs": [
    {
     "data": {
      "text/html": [
       "<div>\n",
       "<style scoped>\n",
       "    .dataframe tbody tr th:only-of-type {\n",
       "        vertical-align: middle;\n",
       "    }\n",
       "\n",
       "    .dataframe tbody tr th {\n",
       "        vertical-align: top;\n",
       "    }\n",
       "\n",
       "    .dataframe thead th {\n",
       "        text-align: right;\n",
       "    }\n",
       "</style>\n",
       "<table border=\"1\" class=\"dataframe\">\n",
       "  <thead>\n",
       "    <tr style=\"text-align: right;\">\n",
       "      <th></th>\n",
       "      <th>state</th>\n",
       "      <th>Total number of Floods</th>\n",
       "      <th>State Flooding Cost(Millions)</th>\n",
       "    </tr>\n",
       "  </thead>\n",
       "  <tbody>\n",
       "    <tr>\n",
       "      <th>0</th>\n",
       "      <td>AK</td>\n",
       "      <td>0</td>\n",
       "      <td>0.0</td>\n",
       "    </tr>\n",
       "    <tr>\n",
       "      <th>1</th>\n",
       "      <td>AL</td>\n",
       "      <td>2</td>\n",
       "      <td>134.7</td>\n",
       "    </tr>\n",
       "    <tr>\n",
       "      <th>2</th>\n",
       "      <td>AR</td>\n",
       "      <td>9</td>\n",
       "      <td>4597.8</td>\n",
       "    </tr>\n",
       "    <tr>\n",
       "      <th>3</th>\n",
       "      <td>AZ</td>\n",
       "      <td>3</td>\n",
       "      <td>1879.5</td>\n",
       "    </tr>\n",
       "    <tr>\n",
       "      <th>4</th>\n",
       "      <td>CA</td>\n",
       "      <td>6</td>\n",
       "      <td>18798.3</td>\n",
       "    </tr>\n",
       "  </tbody>\n",
       "</table>\n",
       "</div>"
      ],
      "text/plain": [
       "  state  Total number of Floods  State Flooding Cost(Millions)\n",
       "0    AK                       0                            0.0\n",
       "1    AL                       2                          134.7\n",
       "2    AR                       9                         4597.8\n",
       "3    AZ                       3                         1879.5\n",
       "4    CA                       6                        18798.3"
      ]
     },
     "execution_count": 24,
     "metadata": {},
     "output_type": "execute_result"
    }
   ],
   "source": [
    "flooding_cost_per_state.head()"
   ]
  },
  {
   "cell_type": "code",
   "execution_count": 25,
   "id": "b8747aa3",
   "metadata": {},
   "outputs": [],
   "source": [
    "flooding_cost_per_state.index = flooding_cost_per_state.index + 1\n"
   ]
  },
  {
   "cell_type": "code",
   "execution_count": 26,
   "id": "32e5dc50",
   "metadata": {},
   "outputs": [
    {
     "data": {
      "text/html": [
       "<div>\n",
       "<style scoped>\n",
       "    .dataframe tbody tr th:only-of-type {\n",
       "        vertical-align: middle;\n",
       "    }\n",
       "\n",
       "    .dataframe tbody tr th {\n",
       "        vertical-align: top;\n",
       "    }\n",
       "\n",
       "    .dataframe thead th {\n",
       "        text-align: right;\n",
       "    }\n",
       "</style>\n",
       "<table border=\"1\" class=\"dataframe\">\n",
       "  <thead>\n",
       "    <tr style=\"text-align: right;\">\n",
       "      <th></th>\n",
       "      <th>state</th>\n",
       "      <th>Total number of Floods</th>\n",
       "      <th>State Flooding Cost(Millions)</th>\n",
       "    </tr>\n",
       "  </thead>\n",
       "  <tbody>\n",
       "    <tr>\n",
       "      <th>1</th>\n",
       "      <td>AK</td>\n",
       "      <td>0</td>\n",
       "      <td>0.0</td>\n",
       "    </tr>\n",
       "    <tr>\n",
       "      <th>2</th>\n",
       "      <td>AL</td>\n",
       "      <td>2</td>\n",
       "      <td>134.7</td>\n",
       "    </tr>\n",
       "    <tr>\n",
       "      <th>3</th>\n",
       "      <td>AR</td>\n",
       "      <td>9</td>\n",
       "      <td>4597.8</td>\n",
       "    </tr>\n",
       "    <tr>\n",
       "      <th>4</th>\n",
       "      <td>AZ</td>\n",
       "      <td>3</td>\n",
       "      <td>1879.5</td>\n",
       "    </tr>\n",
       "    <tr>\n",
       "      <th>5</th>\n",
       "      <td>CA</td>\n",
       "      <td>6</td>\n",
       "      <td>18798.3</td>\n",
       "    </tr>\n",
       "  </tbody>\n",
       "</table>\n",
       "</div>"
      ],
      "text/plain": [
       "  state  Total number of Floods  State Flooding Cost(Millions)\n",
       "1    AK                       0                            0.0\n",
       "2    AL                       2                          134.7\n",
       "3    AR                       9                         4597.8\n",
       "4    AZ                       3                         1879.5\n",
       "5    CA                       6                        18798.3"
      ]
     },
     "execution_count": 26,
     "metadata": {},
     "output_type": "execute_result"
    }
   ],
   "source": [
    "flooding_cost_per_state.head()"
   ]
  },
  {
   "cell_type": "code",
   "execution_count": 27,
   "id": "96e7a13e",
   "metadata": {},
   "outputs": [
    {
     "name": "stdout",
     "output_type": "stream",
     "text": [
      "3652.8333333333335\n"
     ]
    }
   ],
   "source": [
    "print(flooding_cost_per_state['State Flooding Cost(Millions)'].mean())"
   ]
  },
  {
   "cell_type": "code",
   "execution_count": 28,
   "id": "3d598120",
   "metadata": {},
   "outputs": [
    {
     "name": "stdout",
     "output_type": "stream",
     "text": [
      "23957.3\n"
     ]
    }
   ],
   "source": [
    "print(flooding_cost_per_state['State Flooding Cost(Millions)'].max())"
   ]
  },
  {
   "cell_type": "code",
   "execution_count": 29,
   "id": "8b96e13a",
   "metadata": {},
   "outputs": [
    {
     "name": "stdout",
     "output_type": "stream",
     "text": [
      "state                             AK\n",
      "Total number of Floods             0\n",
      "State Flooding Cost(Millions)    0.0\n",
      "dtype: object\n"
     ]
    }
   ],
   "source": [
    "print(flooding_cost_per_state.min())"
   ]
  },
  {
   "cell_type": "code",
   "execution_count": 30,
   "id": "e9dd5d98",
   "metadata": {},
   "outputs": [
    {
     "name": "stdout",
     "output_type": "stream",
     "text": [
      "5516.120862509388\n"
     ]
    }
   ],
   "source": [
    "print(flooding_cost_per_state['State Flooding Cost(Millions)'].std())"
   ]
  },
  {
   "cell_type": "markdown",
   "id": "fc115654",
   "metadata": {},
   "source": [
    "# Wrangling Drought Data"
   ]
  },
  {
   "cell_type": "code",
   "execution_count": 31,
   "id": "5df850bf",
   "metadata": {},
   "outputs": [],
   "source": [
    "df_drought= df3.groupby(by= 'state',as_index= False)['drought'].sum()"
   ]
  },
  {
   "cell_type": "code",
   "execution_count": 32,
   "id": "5cb7b98c",
   "metadata": {},
   "outputs": [],
   "source": [
    "state_by_drought = df3.loc[:,['state','drought']]"
   ]
  },
  {
   "cell_type": "code",
   "execution_count": 33,
   "id": "3b44e793",
   "metadata": {},
   "outputs": [],
   "source": [
    "cost_per_drought = df2.loc[:,['state','drought']]"
   ]
  },
  {
   "cell_type": "code",
   "execution_count": 34,
   "id": "b613e3f8",
   "metadata": {},
   "outputs": [],
   "source": [
    "drought_cost_per_state= pd.merge(df_drought, cost_per_drought, left_on = 'state', right_on='state')\n",
    "drought_cost_per_state.index = drought_cost_per_state.index + 1"
   ]
  },
  {
   "cell_type": "code",
   "execution_count": 35,
   "id": "d58bcddc",
   "metadata": {},
   "outputs": [
    {
     "data": {
      "text/html": [
       "<div>\n",
       "<style scoped>\n",
       "    .dataframe tbody tr th:only-of-type {\n",
       "        vertical-align: middle;\n",
       "    }\n",
       "\n",
       "    .dataframe tbody tr th {\n",
       "        vertical-align: top;\n",
       "    }\n",
       "\n",
       "    .dataframe thead th {\n",
       "        text-align: right;\n",
       "    }\n",
       "</style>\n",
       "<table border=\"1\" class=\"dataframe\">\n",
       "  <thead>\n",
       "    <tr style=\"text-align: right;\">\n",
       "      <th></th>\n",
       "      <th>state</th>\n",
       "      <th>drought_x</th>\n",
       "      <th>drought_y</th>\n",
       "    </tr>\n",
       "  </thead>\n",
       "  <tbody>\n",
       "    <tr>\n",
       "      <th>1</th>\n",
       "      <td>AK</td>\n",
       "      <td>0</td>\n",
       "      <td>0.0</td>\n",
       "    </tr>\n",
       "    <tr>\n",
       "      <th>2</th>\n",
       "      <td>AL</td>\n",
       "      <td>16</td>\n",
       "      <td>6780.6</td>\n",
       "    </tr>\n",
       "    <tr>\n",
       "      <th>3</th>\n",
       "      <td>AR</td>\n",
       "      <td>16</td>\n",
       "      <td>6651.0</td>\n",
       "    </tr>\n",
       "    <tr>\n",
       "      <th>4</th>\n",
       "      <td>AZ</td>\n",
       "      <td>15</td>\n",
       "      <td>1486.5</td>\n",
       "    </tr>\n",
       "    <tr>\n",
       "      <th>5</th>\n",
       "      <td>CA</td>\n",
       "      <td>14</td>\n",
       "      <td>16199.3</td>\n",
       "    </tr>\n",
       "  </tbody>\n",
       "</table>\n",
       "</div>"
      ],
      "text/plain": [
       "  state  drought_x  drought_y\n",
       "1    AK          0        0.0\n",
       "2    AL         16     6780.6\n",
       "3    AR         16     6651.0\n",
       "4    AZ         15     1486.5\n",
       "5    CA         14    16199.3"
      ]
     },
     "execution_count": 35,
     "metadata": {},
     "output_type": "execute_result"
    }
   ],
   "source": [
    "drought_cost_per_state.head()"
   ]
  },
  {
   "cell_type": "code",
   "execution_count": 36,
   "id": "d179361b",
   "metadata": {},
   "outputs": [],
   "source": [
    "drought_cost_per_state.rename(columns={'drought_x': 'Total number of Droughts', 'drought_y': 'State Droughts Cost(Millions)'}, inplace= True)\n",
    "#drought_cost_per_state.index = drought_cost_per_state.index + 1"
   ]
  },
  {
   "cell_type": "code",
   "execution_count": 37,
   "id": "382fd73b",
   "metadata": {},
   "outputs": [
    {
     "data": {
      "text/html": [
       "<div>\n",
       "<style scoped>\n",
       "    .dataframe tbody tr th:only-of-type {\n",
       "        vertical-align: middle;\n",
       "    }\n",
       "\n",
       "    .dataframe tbody tr th {\n",
       "        vertical-align: top;\n",
       "    }\n",
       "\n",
       "    .dataframe thead th {\n",
       "        text-align: right;\n",
       "    }\n",
       "</style>\n",
       "<table border=\"1\" class=\"dataframe\">\n",
       "  <thead>\n",
       "    <tr style=\"text-align: right;\">\n",
       "      <th></th>\n",
       "      <th>state</th>\n",
       "      <th>Total number of Droughts</th>\n",
       "      <th>State Droughts Cost(Millions)</th>\n",
       "    </tr>\n",
       "  </thead>\n",
       "  <tbody>\n",
       "    <tr>\n",
       "      <th>1</th>\n",
       "      <td>AK</td>\n",
       "      <td>0</td>\n",
       "      <td>0.0</td>\n",
       "    </tr>\n",
       "    <tr>\n",
       "      <th>2</th>\n",
       "      <td>AL</td>\n",
       "      <td>16</td>\n",
       "      <td>6780.6</td>\n",
       "    </tr>\n",
       "    <tr>\n",
       "      <th>3</th>\n",
       "      <td>AR</td>\n",
       "      <td>16</td>\n",
       "      <td>6651.0</td>\n",
       "    </tr>\n",
       "    <tr>\n",
       "      <th>4</th>\n",
       "      <td>AZ</td>\n",
       "      <td>15</td>\n",
       "      <td>1486.5</td>\n",
       "    </tr>\n",
       "    <tr>\n",
       "      <th>5</th>\n",
       "      <td>CA</td>\n",
       "      <td>14</td>\n",
       "      <td>16199.3</td>\n",
       "    </tr>\n",
       "  </tbody>\n",
       "</table>\n",
       "</div>"
      ],
      "text/plain": [
       "  state  Total number of Droughts  State Droughts Cost(Millions)\n",
       "1    AK                         0                            0.0\n",
       "2    AL                        16                         6780.6\n",
       "3    AR                        16                         6651.0\n",
       "4    AZ                        15                         1486.5\n",
       "5    CA                        14                        16199.3"
      ]
     },
     "execution_count": 37,
     "metadata": {},
     "output_type": "execute_result"
    }
   ],
   "source": [
    "drought_cost_per_state.head()"
   ]
  },
  {
   "cell_type": "code",
   "execution_count": 38,
   "id": "a4e24573",
   "metadata": {},
   "outputs": [
    {
     "name": "stdout",
     "output_type": "stream",
     "text": [
      "6563.364814814816\n"
     ]
    }
   ],
   "source": [
    "print(drought_cost_per_state['State Droughts Cost(Millions)'].mean())"
   ]
  },
  {
   "cell_type": "code",
   "execution_count": 39,
   "id": "8882ac49",
   "metadata": {},
   "outputs": [
    {
     "name": "stdout",
     "output_type": "stream",
     "text": [
      "41863.9\n"
     ]
    }
   ],
   "source": [
    "print(drought_cost_per_state['State Droughts Cost(Millions)'].max())"
   ]
  },
  {
   "cell_type": "code",
   "execution_count": 40,
   "id": "63b40b75",
   "metadata": {},
   "outputs": [
    {
     "name": "stdout",
     "output_type": "stream",
     "text": [
      "0.0\n"
     ]
    }
   ],
   "source": [
    "print(drought_cost_per_state['State Droughts Cost(Millions)'].min())"
   ]
  },
  {
   "cell_type": "code",
   "execution_count": 41,
   "id": "2a652bf8",
   "metadata": {},
   "outputs": [
    {
     "name": "stdout",
     "output_type": "stream",
     "text": [
      "7966.291086755952\n"
     ]
    }
   ],
   "source": [
    "print(drought_cost_per_state['State Droughts Cost(Millions)'].std())"
   ]
  },
  {
   "cell_type": "markdown",
   "id": "0cf3357d",
   "metadata": {},
   "source": [
    "# Wrangling Freeze Data"
   ]
  },
  {
   "cell_type": "code",
   "execution_count": 42,
   "id": "31400413",
   "metadata": {},
   "outputs": [],
   "source": [
    "df_freeze= df3.groupby(by= 'state',as_index= False)['freeze'].sum()"
   ]
  },
  {
   "cell_type": "code",
   "execution_count": 43,
   "id": "33b27e90",
   "metadata": {},
   "outputs": [],
   "source": [
    "cost_per_freeze = df2.loc[:,['state','freeze']]"
   ]
  },
  {
   "cell_type": "code",
   "execution_count": 44,
   "id": "bcfd2c64",
   "metadata": {},
   "outputs": [],
   "source": [
    "freeze_cost_per_state= pd.merge(df_freeze, cost_per_freeze, left_on = 'state', right_on='state')"
   ]
  },
  {
   "cell_type": "code",
   "execution_count": 45,
   "id": "aa804176",
   "metadata": {},
   "outputs": [
    {
     "data": {
      "text/html": [
       "<div>\n",
       "<style scoped>\n",
       "    .dataframe tbody tr th:only-of-type {\n",
       "        vertical-align: middle;\n",
       "    }\n",
       "\n",
       "    .dataframe tbody tr th {\n",
       "        vertical-align: top;\n",
       "    }\n",
       "\n",
       "    .dataframe thead th {\n",
       "        text-align: right;\n",
       "    }\n",
       "</style>\n",
       "<table border=\"1\" class=\"dataframe\">\n",
       "  <thead>\n",
       "    <tr style=\"text-align: right;\">\n",
       "      <th></th>\n",
       "      <th>state</th>\n",
       "      <th>Total number of Freeze</th>\n",
       "      <th>State Freeze Cost(Millions)</th>\n",
       "    </tr>\n",
       "  </thead>\n",
       "  <tbody>\n",
       "    <tr>\n",
       "      <th>1</th>\n",
       "      <td>AK</td>\n",
       "      <td>0</td>\n",
       "      <td>0.0</td>\n",
       "    </tr>\n",
       "    <tr>\n",
       "      <th>2</th>\n",
       "      <td>AL</td>\n",
       "      <td>3</td>\n",
       "      <td>148.7</td>\n",
       "    </tr>\n",
       "    <tr>\n",
       "      <th>3</th>\n",
       "      <td>AR</td>\n",
       "      <td>2</td>\n",
       "      <td>291.0</td>\n",
       "    </tr>\n",
       "    <tr>\n",
       "      <th>4</th>\n",
       "      <td>AZ</td>\n",
       "      <td>0</td>\n",
       "      <td>0.0</td>\n",
       "    </tr>\n",
       "    <tr>\n",
       "      <th>5</th>\n",
       "      <td>CA</td>\n",
       "      <td>3</td>\n",
       "      <td>15131.0</td>\n",
       "    </tr>\n",
       "  </tbody>\n",
       "</table>\n",
       "</div>"
      ],
      "text/plain": [
       "  state  Total number of Freeze  State Freeze Cost(Millions)\n",
       "1    AK                       0                          0.0\n",
       "2    AL                       3                        148.7\n",
       "3    AR                       2                        291.0\n",
       "4    AZ                       0                          0.0\n",
       "5    CA                       3                      15131.0"
      ]
     },
     "execution_count": 45,
     "metadata": {},
     "output_type": "execute_result"
    }
   ],
   "source": [
    "freeze_cost_per_state.rename(columns={'freeze_x': 'Total number of Freeze', 'freeze_y': 'State Freeze Cost(Millions)'}, inplace= True)\n",
    "freeze_cost_per_state.index = freeze_cost_per_state.index + 1\n",
    "\n",
    "\n",
    "freeze_cost_per_state.head()"
   ]
  },
  {
   "cell_type": "code",
   "execution_count": 46,
   "id": "30cea6c1",
   "metadata": {},
   "outputs": [
    {
     "name": "stdout",
     "output_type": "stream",
     "text": [
      "675.2055555555556\n"
     ]
    }
   ],
   "source": [
    "print(freeze_cost_per_state['State Freeze Cost(Millions)'].mean())"
   ]
  },
  {
   "cell_type": "code",
   "execution_count": 47,
   "id": "5de2ef02",
   "metadata": {},
   "outputs": [
    {
     "name": "stdout",
     "output_type": "stream",
     "text": [
      "15131.0\n"
     ]
    }
   ],
   "source": [
    "print(freeze_cost_per_state['State Freeze Cost(Millions)'].max())"
   ]
  },
  {
   "cell_type": "code",
   "execution_count": 48,
   "id": "86e82138",
   "metadata": {},
   "outputs": [
    {
     "name": "stdout",
     "output_type": "stream",
     "text": [
      "2723.8189029387195\n"
     ]
    }
   ],
   "source": [
    "print(freeze_cost_per_state['State Freeze Cost(Millions)'].std())"
   ]
  },
  {
   "cell_type": "markdown",
   "id": "1dbe1bdf",
   "metadata": {},
   "source": [
    "# Wrangling Severe Storm Data"
   ]
  },
  {
   "cell_type": "code",
   "execution_count": 49,
   "id": "83dc9f7c",
   "metadata": {},
   "outputs": [],
   "source": [
    "df_severe_storm= df3.groupby(by= 'state',as_index= False)['severe storm'].sum()"
   ]
  },
  {
   "cell_type": "code",
   "execution_count": 50,
   "id": "b6434b07",
   "metadata": {},
   "outputs": [],
   "source": [
    "cost_per_severe_storm = df2.loc[:,['state','severe storm']]"
   ]
  },
  {
   "cell_type": "code",
   "execution_count": 51,
   "id": "243a310e",
   "metadata": {},
   "outputs": [],
   "source": [
    "severe_storm_cost_per_state= pd.merge(df_severe_storm, cost_per_severe_storm, left_on = 'state', right_on='state')"
   ]
  },
  {
   "cell_type": "code",
   "execution_count": 52,
   "id": "94fb511f",
   "metadata": {},
   "outputs": [
    {
     "data": {
      "text/html": [
       "<div>\n",
       "<style scoped>\n",
       "    .dataframe tbody tr th:only-of-type {\n",
       "        vertical-align: middle;\n",
       "    }\n",
       "\n",
       "    .dataframe tbody tr th {\n",
       "        vertical-align: top;\n",
       "    }\n",
       "\n",
       "    .dataframe thead th {\n",
       "        text-align: right;\n",
       "    }\n",
       "</style>\n",
       "<table border=\"1\" class=\"dataframe\">\n",
       "  <thead>\n",
       "    <tr style=\"text-align: right;\">\n",
       "      <th></th>\n",
       "      <th>state</th>\n",
       "      <th>Total number of Severe Stormes</th>\n",
       "      <th>State Severe Storm Cost(Millions)</th>\n",
       "    </tr>\n",
       "  </thead>\n",
       "  <tbody>\n",
       "    <tr>\n",
       "      <th>1</th>\n",
       "      <td>AK</td>\n",
       "      <td>0</td>\n",
       "      <td>0.0</td>\n",
       "    </tr>\n",
       "    <tr>\n",
       "      <th>2</th>\n",
       "      <td>AL</td>\n",
       "      <td>54</td>\n",
       "      <td>13894.8</td>\n",
       "    </tr>\n",
       "    <tr>\n",
       "      <th>3</th>\n",
       "      <td>AR</td>\n",
       "      <td>51</td>\n",
       "      <td>10216.5</td>\n",
       "    </tr>\n",
       "    <tr>\n",
       "      <th>4</th>\n",
       "      <td>AZ</td>\n",
       "      <td>1</td>\n",
       "      <td>5358.0</td>\n",
       "    </tr>\n",
       "    <tr>\n",
       "      <th>5</th>\n",
       "      <td>CA</td>\n",
       "      <td>4</td>\n",
       "      <td>3445.4</td>\n",
       "    </tr>\n",
       "  </tbody>\n",
       "</table>\n",
       "</div>"
      ],
      "text/plain": [
       "  state  Total number of Severe Stormes  State Severe Storm Cost(Millions)\n",
       "1    AK                               0                                0.0\n",
       "2    AL                              54                            13894.8\n",
       "3    AR                              51                            10216.5\n",
       "4    AZ                               1                             5358.0\n",
       "5    CA                               4                             3445.4"
      ]
     },
     "execution_count": 52,
     "metadata": {},
     "output_type": "execute_result"
    }
   ],
   "source": [
    "severe_storm_cost_per_state.rename(columns={'severe storm_x': 'Total number of Severe Stormes', 'severe storm_y': 'State Severe Storm Cost(Millions)'}, inplace= True)\n",
    "severe_storm_cost_per_state.index = severe_storm_cost_per_state.index + 1\n",
    "\n",
    "\n",
    "\n",
    "severe_storm_cost_per_state.head()"
   ]
  },
  {
   "cell_type": "code",
   "execution_count": 53,
   "id": "a9eabcaf",
   "metadata": {},
   "outputs": [
    {
     "name": "stdout",
     "output_type": "stream",
     "text": [
      "8482.072222222221\n"
     ]
    }
   ],
   "source": [
    "print(severe_storm_cost_per_state['State Severe Storm Cost(Millions)'].mean())"
   ]
  },
  {
   "cell_type": "code",
   "execution_count": 54,
   "id": "71110689",
   "metadata": {},
   "outputs": [
    {
     "name": "stdout",
     "output_type": "stream",
     "text": [
      "82717.0\n"
     ]
    }
   ],
   "source": [
    "print(severe_storm_cost_per_state['State Severe Storm Cost(Millions)'].max())"
   ]
  },
  {
   "cell_type": "code",
   "execution_count": 55,
   "id": "4848b718",
   "metadata": {},
   "outputs": [
    {
     "name": "stdout",
     "output_type": "stream",
     "text": [
      "13280.375623842341\n"
     ]
    }
   ],
   "source": [
    "print(severe_storm_cost_per_state['State Severe Storm Cost(Millions)'].std())"
   ]
  },
  {
   "cell_type": "markdown",
   "id": "03f195dc",
   "metadata": {},
   "source": [
    "# Wrangling Tropical Cyclone Data"
   ]
  },
  {
   "cell_type": "code",
   "execution_count": 56,
   "id": "4cc1b503",
   "metadata": {},
   "outputs": [],
   "source": [
    "df_tropical_cyclone= df3.groupby(by= 'state',as_index= False)['tropical cyclone'].sum()"
   ]
  },
  {
   "cell_type": "code",
   "execution_count": 57,
   "id": "ecbcf0d8",
   "metadata": {},
   "outputs": [],
   "source": [
    "cost_per_tropical_cyclone = df2.loc[:,['state','tropical cyclone']]"
   ]
  },
  {
   "cell_type": "code",
   "execution_count": 58,
   "id": "935e01a6",
   "metadata": {},
   "outputs": [],
   "source": [
    "tropical_cyclone_cost_per_state= pd.merge(df_tropical_cyclone, cost_per_tropical_cyclone, left_on = 'state', right_on='state')"
   ]
  },
  {
   "cell_type": "code",
   "execution_count": 59,
   "id": "b8d971dc",
   "metadata": {},
   "outputs": [
    {
     "data": {
      "text/html": [
       "<div>\n",
       "<style scoped>\n",
       "    .dataframe tbody tr th:only-of-type {\n",
       "        vertical-align: middle;\n",
       "    }\n",
       "\n",
       "    .dataframe tbody tr th {\n",
       "        vertical-align: top;\n",
       "    }\n",
       "\n",
       "    .dataframe thead th {\n",
       "        text-align: right;\n",
       "    }\n",
       "</style>\n",
       "<table border=\"1\" class=\"dataframe\">\n",
       "  <thead>\n",
       "    <tr style=\"text-align: right;\">\n",
       "      <th></th>\n",
       "      <th>state</th>\n",
       "      <th>Total number of Tropical cyclones</th>\n",
       "      <th>State Tropical cyclone Cost(Millions)</th>\n",
       "    </tr>\n",
       "  </thead>\n",
       "  <tbody>\n",
       "    <tr>\n",
       "      <th>1</th>\n",
       "      <td>AK</td>\n",
       "      <td>0</td>\n",
       "      <td>0.0</td>\n",
       "    </tr>\n",
       "    <tr>\n",
       "      <th>2</th>\n",
       "      <td>AL</td>\n",
       "      <td>24</td>\n",
       "      <td>26457.6</td>\n",
       "    </tr>\n",
       "    <tr>\n",
       "      <th>3</th>\n",
       "      <td>AR</td>\n",
       "      <td>5</td>\n",
       "      <td>706.4</td>\n",
       "    </tr>\n",
       "    <tr>\n",
       "      <th>4</th>\n",
       "      <td>AZ</td>\n",
       "      <td>0</td>\n",
       "      <td>0.0</td>\n",
       "    </tr>\n",
       "    <tr>\n",
       "      <th>5</th>\n",
       "      <td>CA</td>\n",
       "      <td>0</td>\n",
       "      <td>0.0</td>\n",
       "    </tr>\n",
       "  </tbody>\n",
       "</table>\n",
       "</div>"
      ],
      "text/plain": [
       "  state  Total number of Tropical cyclones  \\\n",
       "1    AK                                  0   \n",
       "2    AL                                 24   \n",
       "3    AR                                  5   \n",
       "4    AZ                                  0   \n",
       "5    CA                                  0   \n",
       "\n",
       "   State Tropical cyclone Cost(Millions)  \n",
       "1                                    0.0  \n",
       "2                                26457.6  \n",
       "3                                  706.4  \n",
       "4                                    0.0  \n",
       "5                                    0.0  "
      ]
     },
     "execution_count": 59,
     "metadata": {},
     "output_type": "execute_result"
    }
   ],
   "source": [
    "tropical_cyclone_cost_per_state.rename(columns={'tropical cyclone_x': 'Total number of Tropical cyclones', 'tropical cyclone_y': 'State Tropical cyclone Cost(Millions)'}, inplace= True)\n",
    "tropical_cyclone_cost_per_state.index = tropical_cyclone_cost_per_state.index + 1\n",
    "\n",
    "tropical_cyclone_cost_per_state.head()"
   ]
  },
  {
   "cell_type": "code",
   "execution_count": 60,
   "id": "3c66f6aa",
   "metadata": {},
   "outputs": [
    {
     "name": "stdout",
     "output_type": "stream",
     "text": [
      "25674.961111111115\n"
     ]
    }
   ],
   "source": [
    "print(tropical_cyclone_cost_per_state['State Tropical cyclone Cost(Millions)'].mean())"
   ]
  },
  {
   "cell_type": "code",
   "execution_count": 61,
   "id": "abeacc8f",
   "metadata": {},
   "outputs": [
    {
     "name": "stdout",
     "output_type": "stream",
     "text": [
      "363258.2\n"
     ]
    }
   ],
   "source": [
    "print(tropical_cyclone_cost_per_state['State Tropical cyclone Cost(Millions)'].max())"
   ]
  },
  {
   "cell_type": "code",
   "execution_count": 62,
   "id": "d6cc468a",
   "metadata": {},
   "outputs": [
    {
     "name": "stdout",
     "output_type": "stream",
     "text": [
      "69298.3291544021\n"
     ]
    }
   ],
   "source": [
    "print(tropical_cyclone_cost_per_state['State Tropical cyclone Cost(Millions)'].std())"
   ]
  },
  {
   "cell_type": "markdown",
   "id": "8dc9d504",
   "metadata": {},
   "source": [
    "# Wrangling Wildfire Data"
   ]
  },
  {
   "cell_type": "code",
   "execution_count": 63,
   "id": "cc5519ad",
   "metadata": {},
   "outputs": [],
   "source": [
    "df_wildfire= df3.groupby(by= 'state',as_index= False)['wildfire'].sum()"
   ]
  },
  {
   "cell_type": "code",
   "execution_count": 64,
   "id": "a1968a70",
   "metadata": {},
   "outputs": [],
   "source": [
    "cost_per_wildfire = df2.loc[:,['state','wildfire']]"
   ]
  },
  {
   "cell_type": "code",
   "execution_count": 65,
   "id": "cdb59fed",
   "metadata": {},
   "outputs": [],
   "source": [
    "wildfire_cost_per_state= pd.merge(df_wildfire, cost_per_wildfire, left_on = 'state', right_on='state')"
   ]
  },
  {
   "cell_type": "code",
   "execution_count": 66,
   "id": "929fa00a",
   "metadata": {},
   "outputs": [
    {
     "data": {
      "text/html": [
       "<div>\n",
       "<style scoped>\n",
       "    .dataframe tbody tr th:only-of-type {\n",
       "        vertical-align: middle;\n",
       "    }\n",
       "\n",
       "    .dataframe tbody tr th {\n",
       "        vertical-align: top;\n",
       "    }\n",
       "\n",
       "    .dataframe thead th {\n",
       "        text-align: right;\n",
       "    }\n",
       "</style>\n",
       "<table border=\"1\" class=\"dataframe\">\n",
       "  <thead>\n",
       "    <tr style=\"text-align: right;\">\n",
       "      <th></th>\n",
       "      <th>state</th>\n",
       "      <th>Total number of wildfires</th>\n",
       "      <th>State wildfire Cost (Millions)</th>\n",
       "    </tr>\n",
       "  </thead>\n",
       "  <tbody>\n",
       "    <tr>\n",
       "      <th>1</th>\n",
       "      <td>AK</td>\n",
       "      <td>8</td>\n",
       "      <td>2292.8</td>\n",
       "    </tr>\n",
       "    <tr>\n",
       "      <th>2</th>\n",
       "      <td>AL</td>\n",
       "      <td>2</td>\n",
       "      <td>716.4</td>\n",
       "    </tr>\n",
       "    <tr>\n",
       "      <th>3</th>\n",
       "      <td>AR</td>\n",
       "      <td>0</td>\n",
       "      <td>0.0</td>\n",
       "    </tr>\n",
       "    <tr>\n",
       "      <th>4</th>\n",
       "      <td>AZ</td>\n",
       "      <td>14</td>\n",
       "      <td>1327.8</td>\n",
       "    </tr>\n",
       "    <tr>\n",
       "      <th>5</th>\n",
       "      <td>CA</td>\n",
       "      <td>19</td>\n",
       "      <td>98106.3</td>\n",
       "    </tr>\n",
       "  </tbody>\n",
       "</table>\n",
       "</div>"
      ],
      "text/plain": [
       "  state  Total number of wildfires  State wildfire Cost (Millions)\n",
       "1    AK                          8                          2292.8\n",
       "2    AL                          2                           716.4\n",
       "3    AR                          0                             0.0\n",
       "4    AZ                         14                          1327.8\n",
       "5    CA                         19                         98106.3"
      ]
     },
     "execution_count": 66,
     "metadata": {},
     "output_type": "execute_result"
    }
   ],
   "source": [
    "wildfire_cost_per_state.rename(columns={'wildfire_x': 'Total number of wildfires', 'wildfire_y': 'State wildfire Cost (Millions)'}, inplace= True)\n",
    "wildfire_cost_per_state.index = wildfire_cost_per_state.index + 1\n",
    "\n",
    "wildfire_cost_per_state.head()"
   ]
  },
  {
   "cell_type": "code",
   "execution_count": 67,
   "id": "cf3458f9",
   "metadata": {},
   "outputs": [
    {
     "name": "stdout",
     "output_type": "stream",
     "text": [
      "2654.279629629629\n"
     ]
    }
   ],
   "source": [
    "print(wildfire_cost_per_state['State wildfire Cost (Millions)'].mean())"
   ]
  },
  {
   "cell_type": "code",
   "execution_count": 68,
   "id": "dfcb2c1e",
   "metadata": {},
   "outputs": [
    {
     "name": "stdout",
     "output_type": "stream",
     "text": [
      "98106.3\n"
     ]
    }
   ],
   "source": [
    "print(wildfire_cost_per_state['State wildfire Cost (Millions)'].max())"
   ]
  },
  {
   "cell_type": "code",
   "execution_count": 69,
   "id": "8eeb798a",
   "metadata": {},
   "outputs": [
    {
     "name": "stdout",
     "output_type": "stream",
     "text": [
      "13334.675160002382\n"
     ]
    }
   ],
   "source": [
    "print(wildfire_cost_per_state['State wildfire Cost (Millions)'].std())"
   ]
  },
  {
   "cell_type": "markdown",
   "id": "c6154bb7",
   "metadata": {},
   "source": [
    "# Wrangling Winter Storm Data "
   ]
  },
  {
   "cell_type": "code",
   "execution_count": 70,
   "id": "e6e744bd",
   "metadata": {},
   "outputs": [],
   "source": [
    "df_winter_storm= df3.groupby(by= 'state',as_index= False)['winter storm'].sum()"
   ]
  },
  {
   "cell_type": "code",
   "execution_count": 71,
   "id": "2665c68b",
   "metadata": {},
   "outputs": [],
   "source": [
    "cost_per_winter_storm = df2.loc[:,['state','winter storm']]"
   ]
  },
  {
   "cell_type": "code",
   "execution_count": 72,
   "id": "201e93a1",
   "metadata": {},
   "outputs": [],
   "source": [
    "winter_storm_cost_per_state= pd.merge(df_winter_storm, cost_per_winter_storm, left_on = 'state', right_on='state')"
   ]
  },
  {
   "cell_type": "code",
   "execution_count": 73,
   "id": "d6ba14e3",
   "metadata": {},
   "outputs": [
    {
     "data": {
      "text/html": [
       "<div>\n",
       "<style scoped>\n",
       "    .dataframe tbody tr th:only-of-type {\n",
       "        vertical-align: middle;\n",
       "    }\n",
       "\n",
       "    .dataframe tbody tr th {\n",
       "        vertical-align: top;\n",
       "    }\n",
       "\n",
       "    .dataframe thead th {\n",
       "        text-align: right;\n",
       "    }\n",
       "</style>\n",
       "<table border=\"1\" class=\"dataframe\">\n",
       "  <thead>\n",
       "    <tr style=\"text-align: right;\">\n",
       "      <th></th>\n",
       "      <th>state</th>\n",
       "      <th>Total number of Winter Stormes</th>\n",
       "      <th>State Winter Storm Cost(Millions)</th>\n",
       "    </tr>\n",
       "  </thead>\n",
       "  <tbody>\n",
       "    <tr>\n",
       "      <th>1</th>\n",
       "      <td>AK</td>\n",
       "      <td>0</td>\n",
       "      <td>0.0</td>\n",
       "    </tr>\n",
       "    <tr>\n",
       "      <th>2</th>\n",
       "      <td>AL</td>\n",
       "      <td>9</td>\n",
       "      <td>2377.1</td>\n",
       "    </tr>\n",
       "    <tr>\n",
       "      <th>3</th>\n",
       "      <td>AR</td>\n",
       "      <td>8</td>\n",
       "      <td>1135.5</td>\n",
       "    </tr>\n",
       "    <tr>\n",
       "      <th>4</th>\n",
       "      <td>AZ</td>\n",
       "      <td>0</td>\n",
       "      <td>0.0</td>\n",
       "    </tr>\n",
       "    <tr>\n",
       "      <th>5</th>\n",
       "      <td>CA</td>\n",
       "      <td>0</td>\n",
       "      <td>0.0</td>\n",
       "    </tr>\n",
       "  </tbody>\n",
       "</table>\n",
       "</div>"
      ],
      "text/plain": [
       "  state  Total number of Winter Stormes  State Winter Storm Cost(Millions)\n",
       "1    AK                               0                                0.0\n",
       "2    AL                               9                             2377.1\n",
       "3    AR                               8                             1135.5\n",
       "4    AZ                               0                                0.0\n",
       "5    CA                               0                                0.0"
      ]
     },
     "execution_count": 73,
     "metadata": {},
     "output_type": "execute_result"
    }
   ],
   "source": [
    "winter_storm_cost_per_state.rename(columns={'winter storm_x': 'Total number of Winter Stormes', 'winter storm_y': 'State Winter Storm Cost(Millions)'}, inplace= True)\n",
    "winter_storm_cost_per_state.index = winter_storm_cost_per_state.index + 1\n",
    "\n",
    "winter_storm_cost_per_state.head()"
   ]
  },
  {
   "cell_type": "code",
   "execution_count": 74,
   "id": "f5ddb7eb",
   "metadata": {},
   "outputs": [
    {
     "name": "stdout",
     "output_type": "stream",
     "text": [
      "1823.8481481481485\n"
     ]
    }
   ],
   "source": [
    "print(winter_storm_cost_per_state['State Winter Storm Cost(Millions)'].mean())"
   ]
  },
  {
   "cell_type": "code",
   "execution_count": 75,
   "id": "c4abaef9",
   "metadata": {},
   "outputs": [
    {
     "name": "stdout",
     "output_type": "stream",
     "text": [
      "25374.3\n"
     ]
    }
   ],
   "source": [
    "print(winter_storm_cost_per_state['State Winter Storm Cost(Millions)'].max())"
   ]
  },
  {
   "cell_type": "markdown",
   "id": "18cb83e9",
   "metadata": {},
   "source": [
    "# Deaths Per Event "
   ]
  },
  {
   "cell_type": "code",
   "execution_count": 76,
   "id": "bcf2fc5b",
   "metadata": {},
   "outputs": [],
   "source": [
    "df_deaths_per_event= df1.groupby(by= 'Disaster',as_index= False)['Deaths'].sum()\n",
    "df_deaths_per_event.index = df_deaths_per_event.index + 1"
   ]
  },
  {
   "cell_type": "code",
   "execution_count": 77,
   "id": "08554ac5",
   "metadata": {},
   "outputs": [
    {
     "data": {
      "text/html": [
       "<div>\n",
       "<style scoped>\n",
       "    .dataframe tbody tr th:only-of-type {\n",
       "        vertical-align: middle;\n",
       "    }\n",
       "\n",
       "    .dataframe tbody tr th {\n",
       "        vertical-align: top;\n",
       "    }\n",
       "\n",
       "    .dataframe thead th {\n",
       "        text-align: right;\n",
       "    }\n",
       "</style>\n",
       "<table border=\"1\" class=\"dataframe\">\n",
       "  <thead>\n",
       "    <tr style=\"text-align: right;\">\n",
       "      <th></th>\n",
       "      <th>Disaster</th>\n",
       "      <th>Deaths</th>\n",
       "    </tr>\n",
       "  </thead>\n",
       "  <tbody>\n",
       "    <tr>\n",
       "      <th>1</th>\n",
       "      <td>Drought</td>\n",
       "      <td>4522</td>\n",
       "    </tr>\n",
       "    <tr>\n",
       "      <th>2</th>\n",
       "      <td>Flooding</td>\n",
       "      <td>738</td>\n",
       "    </tr>\n",
       "    <tr>\n",
       "      <th>3</th>\n",
       "      <td>Freeze</td>\n",
       "      <td>162</td>\n",
       "    </tr>\n",
       "    <tr>\n",
       "      <th>4</th>\n",
       "      <td>Severe Storm</td>\n",
       "      <td>2094</td>\n",
       "    </tr>\n",
       "    <tr>\n",
       "      <th>5</th>\n",
       "      <td>Tropical Cyclone</td>\n",
       "      <td>6897</td>\n",
       "    </tr>\n",
       "  </tbody>\n",
       "</table>\n",
       "</div>"
      ],
      "text/plain": [
       "           Disaster  Deaths\n",
       "1           Drought    4522\n",
       "2          Flooding     738\n",
       "3            Freeze     162\n",
       "4      Severe Storm    2094\n",
       "5  Tropical Cyclone    6897"
      ]
     },
     "execution_count": 77,
     "metadata": {},
     "output_type": "execute_result"
    }
   ],
   "source": [
    "df_deaths_per_event.head()"
   ]
  },
  {
   "cell_type": "markdown",
   "id": "5406d68f",
   "metadata": {},
   "source": [
    "## Various wrangling "
   ]
  },
  {
   "cell_type": "code",
   "execution_count": 78,
   "id": "6d418018",
   "metadata": {},
   "outputs": [
    {
     "data": {
      "text/plain": [
       "0     1980-04-10\n",
       "1     1980-08-07\n",
       "2     1980-06-01\n",
       "3     1981-01-12\n",
       "4     1981-05-05\n",
       "         ...    \n",
       "371   2023-08-11\n",
       "372   2023-08-29\n",
       "373   2023-09-23\n",
       "374   2023-04-01\n",
       "375   2023-12-16\n",
       "Name: Begin Date, Length: 376, dtype: datetime64[ns]"
      ]
     },
     "execution_count": 78,
     "metadata": {},
     "output_type": "execute_result"
    }
   ],
   "source": [
    "pd.to_datetime(df1['Begin Date'], format='%Y%m%d')"
   ]
  },
  {
   "cell_type": "code",
   "execution_count": 79,
   "id": "8557b5a1",
   "metadata": {},
   "outputs": [
    {
     "data": {
      "text/plain": [
       "0     1980-04-17\n",
       "1     1980-08-11\n",
       "2     1980-11-30\n",
       "3     1981-01-14\n",
       "4     1981-05-10\n",
       "         ...    \n",
       "371   2023-08-11\n",
       "372   2023-08-31\n",
       "373   2023-09-24\n",
       "374   2023-09-30\n",
       "375   2023-12-18\n",
       "Name: End Date, Length: 376, dtype: datetime64[ns]"
      ]
     },
     "execution_count": 79,
     "metadata": {},
     "output_type": "execute_result"
    }
   ],
   "source": [
    "pd.to_datetime(df1['End Date'], format='%Y%m%d')"
   ]
  },
  {
   "cell_type": "code",
   "execution_count": 80,
   "id": "51ee9d5f",
   "metadata": {},
   "outputs": [],
   "source": [
    "df_cost_per_event= df1.groupby(by= 'Disaster',as_index= False)['Total CPI-Adjusted Cost (Millions of Dollars)'].sum()\n",
    "df_cost_per_event.index = df_cost_per_event.index + 1"
   ]
  },
  {
   "cell_type": "code",
   "execution_count": 81,
   "id": "6fe18e0e",
   "metadata": {},
   "outputs": [
    {
     "data": {
      "text/html": [
       "<div>\n",
       "<style scoped>\n",
       "    .dataframe tbody tr th:only-of-type {\n",
       "        vertical-align: middle;\n",
       "    }\n",
       "\n",
       "    .dataframe tbody tr th {\n",
       "        vertical-align: top;\n",
       "    }\n",
       "\n",
       "    .dataframe thead th {\n",
       "        text-align: right;\n",
       "    }\n",
       "</style>\n",
       "<table border=\"1\" class=\"dataframe\">\n",
       "  <thead>\n",
       "    <tr style=\"text-align: right;\">\n",
       "      <th></th>\n",
       "      <th>Disaster</th>\n",
       "      <th>Total CPI-Adjusted Cost (Millions of Dollars)</th>\n",
       "    </tr>\n",
       "  </thead>\n",
       "  <tbody>\n",
       "    <tr>\n",
       "      <th>1</th>\n",
       "      <td>Drought</td>\n",
       "      <td>352383.7</td>\n",
       "    </tr>\n",
       "    <tr>\n",
       "      <th>2</th>\n",
       "      <td>Flooding</td>\n",
       "      <td>196399.1</td>\n",
       "    </tr>\n",
       "    <tr>\n",
       "      <th>3</th>\n",
       "      <td>Freeze</td>\n",
       "      <td>36328.5</td>\n",
       "    </tr>\n",
       "    <tr>\n",
       "      <th>4</th>\n",
       "      <td>Severe Storm</td>\n",
       "      <td>454745.8</td>\n",
       "    </tr>\n",
       "    <tr>\n",
       "      <th>5</th>\n",
       "      <td>Tropical Cyclone</td>\n",
       "      <td>1379161.2</td>\n",
       "    </tr>\n",
       "  </tbody>\n",
       "</table>\n",
       "</div>"
      ],
      "text/plain": [
       "           Disaster  Total CPI-Adjusted Cost (Millions of Dollars)\n",
       "1           Drought                                       352383.7\n",
       "2          Flooding                                       196399.1\n",
       "3            Freeze                                        36328.5\n",
       "4      Severe Storm                                       454745.8\n",
       "5  Tropical Cyclone                                      1379161.2"
      ]
     },
     "execution_count": 81,
     "metadata": {},
     "output_type": "execute_result"
    }
   ],
   "source": [
    "df_cost_per_event.head()"
   ]
  },
  {
   "cell_type": "code",
   "execution_count": 82,
   "id": "3b39e520",
   "metadata": {},
   "outputs": [],
   "source": [
    "df_year_WSto= df3.groupby(by= 'year',as_index= False)['winter storm'].sum()\n",
    "df_year_WSto.index = df_year_WSto.index + 1"
   ]
  },
  {
   "cell_type": "code",
   "execution_count": 83,
   "id": "d48c45c1",
   "metadata": {},
   "outputs": [
    {
     "data": {
      "text/html": [
       "<div>\n",
       "<style scoped>\n",
       "    .dataframe tbody tr th:only-of-type {\n",
       "        vertical-align: middle;\n",
       "    }\n",
       "\n",
       "    .dataframe tbody tr th {\n",
       "        vertical-align: top;\n",
       "    }\n",
       "\n",
       "    .dataframe thead th {\n",
       "        text-align: right;\n",
       "    }\n",
       "</style>\n",
       "<table border=\"1\" class=\"dataframe\">\n",
       "  <thead>\n",
       "    <tr style=\"text-align: right;\">\n",
       "      <th></th>\n",
       "      <th>year</th>\n",
       "      <th>winter storm</th>\n",
       "    </tr>\n",
       "  </thead>\n",
       "  <tbody>\n",
       "    <tr>\n",
       "      <th>1</th>\n",
       "      <td>1980</td>\n",
       "      <td>0</td>\n",
       "    </tr>\n",
       "    <tr>\n",
       "      <th>2</th>\n",
       "      <td>1981</td>\n",
       "      <td>0</td>\n",
       "    </tr>\n",
       "    <tr>\n",
       "      <th>3</th>\n",
       "      <td>1982</td>\n",
       "      <td>35</td>\n",
       "    </tr>\n",
       "    <tr>\n",
       "      <th>4</th>\n",
       "      <td>1983</td>\n",
       "      <td>0</td>\n",
       "    </tr>\n",
       "    <tr>\n",
       "      <th>5</th>\n",
       "      <td>1984</td>\n",
       "      <td>0</td>\n",
       "    </tr>\n",
       "  </tbody>\n",
       "</table>\n",
       "</div>"
      ],
      "text/plain": [
       "   year  winter storm\n",
       "1  1980             0\n",
       "2  1981             0\n",
       "3  1982            35\n",
       "4  1983             0\n",
       "5  1984             0"
      ]
     },
     "execution_count": 83,
     "metadata": {},
     "output_type": "execute_result"
    }
   ],
   "source": [
    "df_year_WSto.head()"
   ]
  },
  {
   "cell_type": "code",
   "execution_count": 84,
   "id": "3e8900f1",
   "metadata": {},
   "outputs": [],
   "source": [
    "df_year_Flo= df3.groupby(by= 'year',as_index= False)['flooding'].sum()\n",
    "df_year_Flo.index = df_year_Flo.index + 1"
   ]
  },
  {
   "cell_type": "code",
   "execution_count": 85,
   "id": "ab6e7bc3",
   "metadata": {},
   "outputs": [
    {
     "data": {
      "text/html": [
       "<div>\n",
       "<style scoped>\n",
       "    .dataframe tbody tr th:only-of-type {\n",
       "        vertical-align: middle;\n",
       "    }\n",
       "\n",
       "    .dataframe tbody tr th {\n",
       "        vertical-align: top;\n",
       "    }\n",
       "\n",
       "    .dataframe thead th {\n",
       "        text-align: right;\n",
       "    }\n",
       "</style>\n",
       "<table border=\"1\" class=\"dataframe\">\n",
       "  <thead>\n",
       "    <tr style=\"text-align: right;\">\n",
       "      <th></th>\n",
       "      <th>year</th>\n",
       "      <th>flooding</th>\n",
       "    </tr>\n",
       "  </thead>\n",
       "  <tbody>\n",
       "    <tr>\n",
       "      <th>1</th>\n",
       "      <td>1980</td>\n",
       "      <td>3</td>\n",
       "    </tr>\n",
       "    <tr>\n",
       "      <th>2</th>\n",
       "      <td>1981</td>\n",
       "      <td>0</td>\n",
       "    </tr>\n",
       "    <tr>\n",
       "      <th>3</th>\n",
       "      <td>1982</td>\n",
       "      <td>0</td>\n",
       "    </tr>\n",
       "    <tr>\n",
       "      <th>4</th>\n",
       "      <td>1983</td>\n",
       "      <td>13</td>\n",
       "    </tr>\n",
       "    <tr>\n",
       "      <th>5</th>\n",
       "      <td>1984</td>\n",
       "      <td>0</td>\n",
       "    </tr>\n",
       "  </tbody>\n",
       "</table>\n",
       "</div>"
      ],
      "text/plain": [
       "   year  flooding\n",
       "1  1980         3\n",
       "2  1981         0\n",
       "3  1982         0\n",
       "4  1983        13\n",
       "5  1984         0"
      ]
     },
     "execution_count": 85,
     "metadata": {},
     "output_type": "execute_result"
    }
   ],
   "source": [
    "df_year_Flo.head()"
   ]
  },
  {
   "cell_type": "code",
   "execution_count": 86,
   "id": "b7155c7f",
   "metadata": {},
   "outputs": [],
   "source": [
    "df_year_Dro= df3.groupby(by= 'year',as_index= False)['drought'].sum()\n",
    "df_year_Dro.index = df_year_Dro.index + 1"
   ]
  },
  {
   "cell_type": "code",
   "execution_count": 87,
   "id": "2c22675f",
   "metadata": {},
   "outputs": [
    {
     "data": {
      "text/html": [
       "<div>\n",
       "<style scoped>\n",
       "    .dataframe tbody tr th:only-of-type {\n",
       "        vertical-align: middle;\n",
       "    }\n",
       "\n",
       "    .dataframe tbody tr th {\n",
       "        vertical-align: top;\n",
       "    }\n",
       "\n",
       "    .dataframe thead th {\n",
       "        text-align: right;\n",
       "    }\n",
       "</style>\n",
       "<table border=\"1\" class=\"dataframe\">\n",
       "  <thead>\n",
       "    <tr style=\"text-align: right;\">\n",
       "      <th></th>\n",
       "      <th>year</th>\n",
       "      <th>drought</th>\n",
       "    </tr>\n",
       "  </thead>\n",
       "  <tbody>\n",
       "    <tr>\n",
       "      <th>1</th>\n",
       "      <td>1980</td>\n",
       "      <td>21</td>\n",
       "    </tr>\n",
       "    <tr>\n",
       "      <th>2</th>\n",
       "      <td>1981</td>\n",
       "      <td>0</td>\n",
       "    </tr>\n",
       "    <tr>\n",
       "      <th>3</th>\n",
       "      <td>1982</td>\n",
       "      <td>0</td>\n",
       "    </tr>\n",
       "    <tr>\n",
       "      <th>4</th>\n",
       "      <td>1983</td>\n",
       "      <td>11</td>\n",
       "    </tr>\n",
       "    <tr>\n",
       "      <th>5</th>\n",
       "      <td>1984</td>\n",
       "      <td>0</td>\n",
       "    </tr>\n",
       "  </tbody>\n",
       "</table>\n",
       "</div>"
      ],
      "text/plain": [
       "   year  drought\n",
       "1  1980       21\n",
       "2  1981        0\n",
       "3  1982        0\n",
       "4  1983       11\n",
       "5  1984        0"
      ]
     },
     "execution_count": 87,
     "metadata": {},
     "output_type": "execute_result"
    }
   ],
   "source": [
    "df_year_Dro.head()"
   ]
  },
  {
   "cell_type": "code",
   "execution_count": 88,
   "id": "5b9d6465",
   "metadata": {},
   "outputs": [],
   "source": [
    "df_year_Fre= df3.groupby(by= 'year',as_index= False)['freeze'].sum()\n",
    "df_year_Fre.index = df_year_Fre.index + 1"
   ]
  },
  {
   "cell_type": "code",
   "execution_count": 89,
   "id": "5a920890",
   "metadata": {},
   "outputs": [],
   "source": [
    "df_year_SeSto= df3.groupby(by= 'year',as_index= False)['severe storm'].sum()\n",
    "df_year_SeSto.index = df_year_SeSto.index + 1"
   ]
  },
  {
   "cell_type": "code",
   "execution_count": 90,
   "id": "d8b74ed3",
   "metadata": {},
   "outputs": [],
   "source": [
    "df_year_TropCy= df3.groupby(by= 'year',as_index= False)['tropical cyclone'].sum()\n",
    "df_year_TropCy.index = df_year_TropCy.index + 1"
   ]
  },
  {
   "cell_type": "code",
   "execution_count": 91,
   "id": "3366eacc",
   "metadata": {},
   "outputs": [],
   "source": [
    "df_year_WFire= df3.groupby(by= 'year',as_index= False)['wildfire'].sum()\n",
    "df_year_WFire.index = df_year_WFire.index + 1"
   ]
  },
  {
   "cell_type": "code",
   "execution_count": 92,
   "id": "1ae33a7b",
   "metadata": {},
   "outputs": [
    {
     "data": {
      "text/html": [
       "<div>\n",
       "<style scoped>\n",
       "    .dataframe tbody tr th:only-of-type {\n",
       "        vertical-align: middle;\n",
       "    }\n",
       "\n",
       "    .dataframe tbody tr th {\n",
       "        vertical-align: top;\n",
       "    }\n",
       "\n",
       "    .dataframe thead th {\n",
       "        text-align: right;\n",
       "    }\n",
       "</style>\n",
       "<table border=\"1\" class=\"dataframe\">\n",
       "  <thead>\n",
       "    <tr style=\"text-align: right;\">\n",
       "      <th></th>\n",
       "      <th>year</th>\n",
       "      <th>wildfire</th>\n",
       "    </tr>\n",
       "  </thead>\n",
       "  <tbody>\n",
       "    <tr>\n",
       "      <th>1</th>\n",
       "      <td>1980</td>\n",
       "      <td>0</td>\n",
       "    </tr>\n",
       "    <tr>\n",
       "      <th>2</th>\n",
       "      <td>1981</td>\n",
       "      <td>0</td>\n",
       "    </tr>\n",
       "    <tr>\n",
       "      <th>3</th>\n",
       "      <td>1982</td>\n",
       "      <td>0</td>\n",
       "    </tr>\n",
       "    <tr>\n",
       "      <th>4</th>\n",
       "      <td>1983</td>\n",
       "      <td>0</td>\n",
       "    </tr>\n",
       "    <tr>\n",
       "      <th>5</th>\n",
       "      <td>1984</td>\n",
       "      <td>0</td>\n",
       "    </tr>\n",
       "  </tbody>\n",
       "</table>\n",
       "</div>"
      ],
      "text/plain": [
       "   year  wildfire\n",
       "1  1980         0\n",
       "2  1981         0\n",
       "3  1982         0\n",
       "4  1983         0\n",
       "5  1984         0"
      ]
     },
     "execution_count": 92,
     "metadata": {},
     "output_type": "execute_result"
    }
   ],
   "source": [
    "df_year_WFire.head()"
   ]
  },
  {
   "cell_type": "code",
   "execution_count": 93,
   "id": "b1352c87",
   "metadata": {},
   "outputs": [
    {
     "name": "stderr",
     "output_type": "stream",
     "text": [
      "C:\\Users\\esteg\\anaconda3\\envs\\PythonData\\lib\\site-packages\\ipykernel_launcher.py:1: FutureWarning: Indexing with multiple keys (implicitly converted to a tuple of keys) will be deprecated, use a list instead.\n",
      "  \"\"\"Entry point for launching an IPython kernel.\n"
     ]
    }
   ],
   "source": [
    "Total_disasters_by_Year= df3.groupby(by= 'year',as_index= False)['flooding', 'drought', 'freeze', 'severe storm', 'tropical cyclone', 'wildfire', 'winter storm'].sum()\n",
    "Total_disasters_by_Year.index = Total_disasters_by_Year.index + 1"
   ]
  },
  {
   "cell_type": "code",
   "execution_count": 94,
   "id": "8d0b6b09",
   "metadata": {},
   "outputs": [
    {
     "data": {
      "text/html": [
       "<div>\n",
       "<style scoped>\n",
       "    .dataframe tbody tr th:only-of-type {\n",
       "        vertical-align: middle;\n",
       "    }\n",
       "\n",
       "    .dataframe tbody tr th {\n",
       "        vertical-align: top;\n",
       "    }\n",
       "\n",
       "    .dataframe thead th {\n",
       "        text-align: right;\n",
       "    }\n",
       "</style>\n",
       "<table border=\"1\" class=\"dataframe\">\n",
       "  <thead>\n",
       "    <tr style=\"text-align: right;\">\n",
       "      <th></th>\n",
       "      <th>year</th>\n",
       "      <th>flooding</th>\n",
       "      <th>drought</th>\n",
       "      <th>freeze</th>\n",
       "      <th>severe storm</th>\n",
       "      <th>tropical cyclone</th>\n",
       "      <th>wildfire</th>\n",
       "      <th>winter storm</th>\n",
       "    </tr>\n",
       "  </thead>\n",
       "  <tbody>\n",
       "    <tr>\n",
       "      <th>1</th>\n",
       "      <td>1980</td>\n",
       "      <td>3</td>\n",
       "      <td>21</td>\n",
       "      <td>0</td>\n",
       "      <td>0</td>\n",
       "      <td>2</td>\n",
       "      <td>0</td>\n",
       "      <td>0</td>\n",
       "    </tr>\n",
       "    <tr>\n",
       "      <th>2</th>\n",
       "      <td>1981</td>\n",
       "      <td>0</td>\n",
       "      <td>0</td>\n",
       "      <td>1</td>\n",
       "      <td>5</td>\n",
       "      <td>0</td>\n",
       "      <td>0</td>\n",
       "      <td>0</td>\n",
       "    </tr>\n",
       "    <tr>\n",
       "      <th>3</th>\n",
       "      <td>1982</td>\n",
       "      <td>0</td>\n",
       "      <td>0</td>\n",
       "      <td>0</td>\n",
       "      <td>33</td>\n",
       "      <td>0</td>\n",
       "      <td>0</td>\n",
       "      <td>35</td>\n",
       "    </tr>\n",
       "    <tr>\n",
       "      <th>4</th>\n",
       "      <td>1983</td>\n",
       "      <td>13</td>\n",
       "      <td>11</td>\n",
       "      <td>41</td>\n",
       "      <td>0</td>\n",
       "      <td>1</td>\n",
       "      <td>0</td>\n",
       "      <td>0</td>\n",
       "    </tr>\n",
       "    <tr>\n",
       "      <th>5</th>\n",
       "      <td>1984</td>\n",
       "      <td>0</td>\n",
       "      <td>0</td>\n",
       "      <td>0</td>\n",
       "      <td>17</td>\n",
       "      <td>0</td>\n",
       "      <td>0</td>\n",
       "      <td>0</td>\n",
       "    </tr>\n",
       "  </tbody>\n",
       "</table>\n",
       "</div>"
      ],
      "text/plain": [
       "   year  flooding  drought  freeze  severe storm  tropical cyclone  wildfire  \\\n",
       "1  1980         3       21       0             0                 2         0   \n",
       "2  1981         0        0       1             5                 0         0   \n",
       "3  1982         0        0       0            33                 0         0   \n",
       "4  1983        13       11      41             0                 1         0   \n",
       "5  1984         0        0       0            17                 0         0   \n",
       "\n",
       "   winter storm  \n",
       "1             0  \n",
       "2             0  \n",
       "3            35  \n",
       "4             0  \n",
       "5             0  "
      ]
     },
     "execution_count": 94,
     "metadata": {},
     "output_type": "execute_result"
    }
   ],
   "source": [
    "Total_disasters_by_Year.head()"
   ]
  },
  {
   "cell_type": "code",
   "execution_count": 95,
   "id": "0b0036c9",
   "metadata": {},
   "outputs": [],
   "source": [
    "df1['Begin Date']= pd.to_datetime(df1['Begin Date'], format='%Y%m%d')\n",
    "df1['End Date']= pd.to_datetime(df1['End Date'], format='%Y%m%d')"
   ]
  },
  {
   "cell_type": "code",
   "execution_count": 96,
   "id": "51e65d08",
   "metadata": {},
   "outputs": [
    {
     "name": "stdout",
     "output_type": "stream",
     "text": [
      "1980 4 10\n"
     ]
    }
   ],
   "source": [
    "dt = datetime.strptime('1980-04-10', '%Y-%m-%d')\n",
    "print(dt.year, dt.month, dt.day)"
   ]
  },
  {
   "cell_type": "code",
   "execution_count": 97,
   "id": "1795f71b",
   "metadata": {},
   "outputs": [],
   "source": [
    "#df1[\"Year_only\"]= datetime.strptime(df1[\"Begin Date\"], '%Y-%m-%d').year"
   ]
  },
  {
   "cell_type": "code",
   "execution_count": 98,
   "id": "7d8add3a",
   "metadata": {},
   "outputs": [],
   "source": [
    "#df1[\"Begin Date\"]astype(str).str(3)"
   ]
  },
  {
   "cell_type": "code",
   "execution_count": 99,
   "id": "1dba9341",
   "metadata": {},
   "outputs": [],
   "source": [
    "df1['year_only']=df1['Begin Date'].astype(str).str[:4]"
   ]
  },
  {
   "cell_type": "code",
   "execution_count": 100,
   "id": "dd425e03",
   "metadata": {},
   "outputs": [
    {
     "data": {
      "text/html": [
       "<div>\n",
       "<style scoped>\n",
       "    .dataframe tbody tr th:only-of-type {\n",
       "        vertical-align: middle;\n",
       "    }\n",
       "\n",
       "    .dataframe tbody tr th {\n",
       "        vertical-align: top;\n",
       "    }\n",
       "\n",
       "    .dataframe thead th {\n",
       "        text-align: right;\n",
       "    }\n",
       "</style>\n",
       "<table border=\"1\" class=\"dataframe\">\n",
       "  <thead>\n",
       "    <tr style=\"text-align: right;\">\n",
       "      <th></th>\n",
       "      <th>Name</th>\n",
       "      <th>Disaster</th>\n",
       "      <th>Begin Date</th>\n",
       "      <th>End Date</th>\n",
       "      <th>Total CPI-Adjusted Cost (Millions of Dollars)</th>\n",
       "      <th>Deaths</th>\n",
       "      <th>year_only</th>\n",
       "    </tr>\n",
       "  </thead>\n",
       "  <tbody>\n",
       "    <tr>\n",
       "      <th>0</th>\n",
       "      <td>Southern Severe Storms and Flooding (April 1980)</td>\n",
       "      <td>Flooding</td>\n",
       "      <td>1980-04-10</td>\n",
       "      <td>1980-04-17</td>\n",
       "      <td>2678.6</td>\n",
       "      <td>7</td>\n",
       "      <td>1980</td>\n",
       "    </tr>\n",
       "    <tr>\n",
       "      <th>1</th>\n",
       "      <td>Hurricane Allen (August 1980)</td>\n",
       "      <td>Tropical Cyclone</td>\n",
       "      <td>1980-08-07</td>\n",
       "      <td>1980-08-11</td>\n",
       "      <td>2177.2</td>\n",
       "      <td>13</td>\n",
       "      <td>1980</td>\n",
       "    </tr>\n",
       "  </tbody>\n",
       "</table>\n",
       "</div>"
      ],
      "text/plain": [
       "                                               Name          Disaster  \\\n",
       "0  Southern Severe Storms and Flooding (April 1980)          Flooding   \n",
       "1                     Hurricane Allen (August 1980)  Tropical Cyclone   \n",
       "\n",
       "  Begin Date   End Date  Total CPI-Adjusted Cost (Millions of Dollars)  \\\n",
       "0 1980-04-10 1980-04-17                                         2678.6   \n",
       "1 1980-08-07 1980-08-11                                         2177.2   \n",
       "\n",
       "   Deaths year_only  \n",
       "0       7      1980  \n",
       "1      13      1980  "
      ]
     },
     "execution_count": 100,
     "metadata": {},
     "output_type": "execute_result"
    }
   ],
   "source": [
    "df1.head(2)"
   ]
  },
  {
   "cell_type": "code",
   "execution_count": 101,
   "id": "f68de010",
   "metadata": {},
   "outputs": [
    {
     "data": {
      "text/html": [
       "<div>\n",
       "<style scoped>\n",
       "    .dataframe tbody tr th:only-of-type {\n",
       "        vertical-align: middle;\n",
       "    }\n",
       "\n",
       "    .dataframe tbody tr th {\n",
       "        vertical-align: top;\n",
       "    }\n",
       "\n",
       "    .dataframe thead th {\n",
       "        text-align: right;\n",
       "    }\n",
       "</style>\n",
       "<table border=\"1\" class=\"dataframe\">\n",
       "  <thead>\n",
       "    <tr style=\"text-align: right;\">\n",
       "      <th></th>\n",
       "      <th>year_only</th>\n",
       "      <th>Disaster</th>\n",
       "      <th>Total CPI-Adjusted Cost (Millions of Dollars)</th>\n",
       "    </tr>\n",
       "  </thead>\n",
       "  <tbody>\n",
       "    <tr>\n",
       "      <th>0</th>\n",
       "      <td>1980</td>\n",
       "      <td>Drought</td>\n",
       "      <td>39579.0</td>\n",
       "    </tr>\n",
       "    <tr>\n",
       "      <th>1</th>\n",
       "      <td>1980</td>\n",
       "      <td>Flooding</td>\n",
       "      <td>2678.6</td>\n",
       "    </tr>\n",
       "    <tr>\n",
       "      <th>2</th>\n",
       "      <td>1980</td>\n",
       "      <td>Tropical Cyclone</td>\n",
       "      <td>2177.2</td>\n",
       "    </tr>\n",
       "    <tr>\n",
       "      <th>3</th>\n",
       "      <td>1981</td>\n",
       "      <td>Freeze</td>\n",
       "      <td>2019.2</td>\n",
       "    </tr>\n",
       "    <tr>\n",
       "      <th>4</th>\n",
       "      <td>1981</td>\n",
       "      <td>Severe Storm</td>\n",
       "      <td>1372.9</td>\n",
       "    </tr>\n",
       "  </tbody>\n",
       "</table>\n",
       "</div>"
      ],
      "text/plain": [
       "  year_only          Disaster  Total CPI-Adjusted Cost (Millions of Dollars)\n",
       "0      1980           Drought                                        39579.0\n",
       "1      1980          Flooding                                         2678.6\n",
       "2      1980  Tropical Cyclone                                         2177.2\n",
       "3      1981            Freeze                                         2019.2\n",
       "4      1981      Severe Storm                                         1372.9"
      ]
     },
     "execution_count": 101,
     "metadata": {},
     "output_type": "execute_result"
    }
   ],
   "source": [
    "df_year_per_event_cost= df1.groupby(by = ['year_only', 'Disaster'],as_index= False)['Total CPI-Adjusted Cost (Millions of Dollars)'].sum()\n",
    "df_year_per_event_cost.head()"
   ]
  },
  {
   "cell_type": "code",
   "execution_count": 102,
   "id": "4c865d3f",
   "metadata": {},
   "outputs": [
    {
     "data": {
      "text/html": [
       "<div>\n",
       "<style scoped>\n",
       "    .dataframe tbody tr th:only-of-type {\n",
       "        vertical-align: middle;\n",
       "    }\n",
       "\n",
       "    .dataframe tbody tr th {\n",
       "        vertical-align: top;\n",
       "    }\n",
       "\n",
       "    .dataframe thead th {\n",
       "        text-align: right;\n",
       "    }\n",
       "</style>\n",
       "<table border=\"1\" class=\"dataframe\">\n",
       "  <thead>\n",
       "    <tr style=\"text-align: right;\">\n",
       "      <th></th>\n",
       "      <th>Begin Date</th>\n",
       "      <th>End Date</th>\n",
       "      <th>Name</th>\n",
       "      <th>Deaths</th>\n",
       "    </tr>\n",
       "  </thead>\n",
       "  <tbody>\n",
       "    <tr>\n",
       "      <th>1</th>\n",
       "      <td>1980-04-10</td>\n",
       "      <td>1980-04-17</td>\n",
       "      <td>Southern Severe Storms and Flooding (April 1980)</td>\n",
       "      <td>7</td>\n",
       "    </tr>\n",
       "    <tr>\n",
       "      <th>2</th>\n",
       "      <td>1980-06-01</td>\n",
       "      <td>1980-11-30</td>\n",
       "      <td>Central/Eastern Drought/Heat Wave (Summer-Fall...</td>\n",
       "      <td>1260</td>\n",
       "    </tr>\n",
       "    <tr>\n",
       "      <th>3</th>\n",
       "      <td>1980-08-07</td>\n",
       "      <td>1980-08-11</td>\n",
       "      <td>Hurricane Allen (August 1980)</td>\n",
       "      <td>13</td>\n",
       "    </tr>\n",
       "    <tr>\n",
       "      <th>4</th>\n",
       "      <td>1981-01-12</td>\n",
       "      <td>1981-01-14</td>\n",
       "      <td>Florida Freeze (January 1981)</td>\n",
       "      <td>0</td>\n",
       "    </tr>\n",
       "    <tr>\n",
       "      <th>5</th>\n",
       "      <td>1981-05-05</td>\n",
       "      <td>1981-05-10</td>\n",
       "      <td>Severe Storms, Flash Floods, Hail, Tornadoes (...</td>\n",
       "      <td>20</td>\n",
       "    </tr>\n",
       "  </tbody>\n",
       "</table>\n",
       "</div>"
      ],
      "text/plain": [
       "  Begin Date   End Date                                               Name  \\\n",
       "1 1980-04-10 1980-04-17   Southern Severe Storms and Flooding (April 1980)   \n",
       "2 1980-06-01 1980-11-30  Central/Eastern Drought/Heat Wave (Summer-Fall...   \n",
       "3 1980-08-07 1980-08-11                      Hurricane Allen (August 1980)   \n",
       "4 1981-01-12 1981-01-14                      Florida Freeze (January 1981)   \n",
       "5 1981-05-05 1981-05-10  Severe Storms, Flash Floods, Hail, Tornadoes (...   \n",
       "\n",
       "   Deaths  \n",
       "1       7  \n",
       "2    1260  \n",
       "3      13  \n",
       "4       0  \n",
       "5      20  "
      ]
     },
     "execution_count": 102,
     "metadata": {},
     "output_type": "execute_result"
    }
   ],
   "source": [
    "df_deaths_per_year= df1.groupby(by= ['Begin Date', 'End Date', 'Name'],as_index= False)['Deaths'].sum()\n",
    "df_deaths_per_year.index = df_deaths_per_year.index + 1\n",
    "\n",
    "df_deaths_per_year.head()"
   ]
  },
  {
   "cell_type": "code",
   "execution_count": 103,
   "id": "2c212a4d",
   "metadata": {},
   "outputs": [],
   "source": [
    "df5= pd.read_csv('US_inflation_rates.csv')\n",
    "df5.rename(columns={'value': 'Inflation rate value'},inplace=True)\n",
    "df5.index = df5.index + 1"
   ]
  },
  {
   "cell_type": "code",
   "execution_count": 104,
   "id": "9ecbd2b4",
   "metadata": {},
   "outputs": [
    {
     "data": {
      "text/html": [
       "<div>\n",
       "<style scoped>\n",
       "    .dataframe tbody tr th:only-of-type {\n",
       "        vertical-align: middle;\n",
       "    }\n",
       "\n",
       "    .dataframe tbody tr th {\n",
       "        vertical-align: top;\n",
       "    }\n",
       "\n",
       "    .dataframe thead th {\n",
       "        text-align: right;\n",
       "    }\n",
       "</style>\n",
       "<table border=\"1\" class=\"dataframe\">\n",
       "  <thead>\n",
       "    <tr style=\"text-align: right;\">\n",
       "      <th></th>\n",
       "      <th>date</th>\n",
       "      <th>Inflation rate value</th>\n",
       "    </tr>\n",
       "  </thead>\n",
       "  <tbody>\n",
       "    <tr>\n",
       "      <th>1</th>\n",
       "      <td>1947-01-01</td>\n",
       "      <td>21.48</td>\n",
       "    </tr>\n",
       "    <tr>\n",
       "      <th>2</th>\n",
       "      <td>1947-02-01</td>\n",
       "      <td>21.62</td>\n",
       "    </tr>\n",
       "    <tr>\n",
       "      <th>3</th>\n",
       "      <td>1947-03-01</td>\n",
       "      <td>22.00</td>\n",
       "    </tr>\n",
       "    <tr>\n",
       "      <th>4</th>\n",
       "      <td>1947-04-01</td>\n",
       "      <td>22.00</td>\n",
       "    </tr>\n",
       "    <tr>\n",
       "      <th>5</th>\n",
       "      <td>1947-05-01</td>\n",
       "      <td>21.95</td>\n",
       "    </tr>\n",
       "  </tbody>\n",
       "</table>\n",
       "</div>"
      ],
      "text/plain": [
       "         date  Inflation rate value\n",
       "1  1947-01-01                 21.48\n",
       "2  1947-02-01                 21.62\n",
       "3  1947-03-01                 22.00\n",
       "4  1947-04-01                 22.00\n",
       "5  1947-05-01                 21.95"
      ]
     },
     "execution_count": 104,
     "metadata": {},
     "output_type": "execute_result"
    }
   ],
   "source": [
    "df5.head()"
   ]
  },
  {
   "cell_type": "code",
   "execution_count": 105,
   "id": "08b107e8",
   "metadata": {},
   "outputs": [],
   "source": [
    "df5['year_only']=df5['date'].astype(str).str[:4]"
   ]
  },
  {
   "cell_type": "code",
   "execution_count": 106,
   "id": "dc695c0a",
   "metadata": {},
   "outputs": [
    {
     "data": {
      "text/html": [
       "<div>\n",
       "<style scoped>\n",
       "    .dataframe tbody tr th:only-of-type {\n",
       "        vertical-align: middle;\n",
       "    }\n",
       "\n",
       "    .dataframe tbody tr th {\n",
       "        vertical-align: top;\n",
       "    }\n",
       "\n",
       "    .dataframe thead th {\n",
       "        text-align: right;\n",
       "    }\n",
       "</style>\n",
       "<table border=\"1\" class=\"dataframe\">\n",
       "  <thead>\n",
       "    <tr style=\"text-align: right;\">\n",
       "      <th></th>\n",
       "      <th>date</th>\n",
       "      <th>Inflation rate value</th>\n",
       "      <th>year_only</th>\n",
       "    </tr>\n",
       "  </thead>\n",
       "  <tbody>\n",
       "    <tr>\n",
       "      <th>1</th>\n",
       "      <td>1947-01-01</td>\n",
       "      <td>21.48</td>\n",
       "      <td>1947</td>\n",
       "    </tr>\n",
       "    <tr>\n",
       "      <th>2</th>\n",
       "      <td>1947-02-01</td>\n",
       "      <td>21.62</td>\n",
       "      <td>1947</td>\n",
       "    </tr>\n",
       "    <tr>\n",
       "      <th>3</th>\n",
       "      <td>1947-03-01</td>\n",
       "      <td>22.00</td>\n",
       "      <td>1947</td>\n",
       "    </tr>\n",
       "    <tr>\n",
       "      <th>4</th>\n",
       "      <td>1947-04-01</td>\n",
       "      <td>22.00</td>\n",
       "      <td>1947</td>\n",
       "    </tr>\n",
       "    <tr>\n",
       "      <th>5</th>\n",
       "      <td>1947-05-01</td>\n",
       "      <td>21.95</td>\n",
       "      <td>1947</td>\n",
       "    </tr>\n",
       "  </tbody>\n",
       "</table>\n",
       "</div>"
      ],
      "text/plain": [
       "         date  Inflation rate value year_only\n",
       "1  1947-01-01                 21.48      1947\n",
       "2  1947-02-01                 21.62      1947\n",
       "3  1947-03-01                 22.00      1947\n",
       "4  1947-04-01                 22.00      1947\n",
       "5  1947-05-01                 21.95      1947"
      ]
     },
     "execution_count": 106,
     "metadata": {},
     "output_type": "execute_result"
    }
   ],
   "source": [
    "df5.head()"
   ]
  },
  {
   "cell_type": "code",
   "execution_count": 107,
   "id": "005c826b",
   "metadata": {},
   "outputs": [],
   "source": [
    "#plt.bar(df_cost_per_event.Disaster, df_cost_per_event.Total CPI-Adjusted Cost (Millions of Dollars))\n",
    "#plt.xlabel('Disaster Type')\n",
    "#plt.ylabel('Cost in Millions')\n",
    "#plt.show()"
   ]
  },
  {
   "cell_type": "code",
   "execution_count": 108,
   "id": "e6d3a6bd",
   "metadata": {},
   "outputs": [
    {
     "data": {
      "text/plain": [
       "<AxesSubplot:title={'center':'cost per event'}, xlabel='Disaster'>"
      ]
     },
     "execution_count": 108,
     "metadata": {},
     "output_type": "execute_result"
    },
    {
     "data": {
      "image/png": "[encoded data removed]",
      "text/plain": [
       "<Figure size 432x288 with 1 Axes>"
      ]
     },
     "metadata": {
      "needs_background": "light"
     },
     "output_type": "display_data"
    }
   ],
   "source": [
    "df_cost_per_event.plot(x= \"Disaster\", y = \"Total CPI-Adjusted Cost (Millions of Dollars)\", title= \"cost per event\", kind= \"bar\")"
   ]
  },
  {
   "cell_type": "code",
   "execution_count": 109,
   "id": "edcf49ac",
   "metadata": {},
   "outputs": [
    {
     "data": {
      "text/plain": [
       "<AxesSubplot:xlabel='year'>"
      ]
     },
     "execution_count": 109,
     "metadata": {},
     "output_type": "execute_result"
    },
    {
     "data": {
      "image/png": "[encoded data removed]",
      "text/plain": [
       "<Figure size 432x288 with 1 Axes>"
      ]
     },
     "metadata": {
      "needs_background": "light"
     },
     "output_type": "display_data"
    }
   ],
   "source": [
    "Total_disasters_by_Year.plot(x= \"year\", kind= \"line\", )"
   ]
  },
  {
   "cell_type": "code",
   "execution_count": 110,
   "id": "5f17d88c",
   "metadata": {},
   "outputs": [
    {
     "data": {
      "text/plain": [
       "<AxesSubplot:xlabel='year'>"
      ]
     },
     "execution_count": 110,
     "metadata": {},
     "output_type": "execute_result"
    },
    {
     "data": {
      "image/png": "[encoded data removed]",
      "text/plain": [
       "<Figure size 432x288 with 1 Axes>"
      ]
     },
     "metadata": {
      "needs_background": "light"
     },
     "output_type": "display_data"
    }
   ],
   "source": [
    "df_year_WFire.plot(x= \"year\", y= \"wildfire\", kind= \"line\")"
   ]
  },
  {
   "cell_type": "code",
   "execution_count": 111,
   "id": "316a7c2d",
   "metadata": {},
   "outputs": [
    {
     "data": {
      "text/plain": [
       "<AxesSubplot:xlabel='year'>"
      ]
     },
     "execution_count": 111,
     "metadata": {},
     "output_type": "execute_result"
    },
    {
     "data": {
      "image/png": "[encoded data removed]",
      "text/plain": [
       "<Figure size 432x288 with 1 Axes>"
      ]
     },
     "metadata": {
      "needs_background": "light"
     },
     "output_type": "display_data"
    }
   ],
   "source": [
    "df_year_Dro.plot(x= \"year\", y= \"drought\", kind= \"line\")"
   ]
  },
  {
   "cell_type": "code",
   "execution_count": 112,
   "id": "2bf47d86",
   "metadata": {},
   "outputs": [
    {
     "data": {
      "text/plain": [
       "<AxesSubplot:xlabel='year'>"
      ]
     },
     "execution_count": 112,
     "metadata": {},
     "output_type": "execute_result"
    },
    {
     "data": {
      "image/png": "[encoded data removed]",
      "text/plain": [
       "<Figure size 432x288 with 1 Axes>"
      ]
     },
     "metadata": {
      "needs_background": "light"
     },
     "output_type": "display_data"
    }
   ],
   "source": [
    "df_year_Flo.plot(x= \"year\", y= \"flooding\", kind= \"line\")"
   ]
  },
  {
   "cell_type": "code",
   "execution_count": 113,
   "id": "87e09d6a",
   "metadata": {},
   "outputs": [
    {
     "data": {
      "text/plain": [
       "<AxesSubplot:xlabel='year'>"
      ]
     },
     "execution_count": 113,
     "metadata": {},
     "output_type": "execute_result"
    },
    {
     "data": {
      "image/png": "[encoded data removed]",
      "text/plain": [
       "<Figure size 432x288 with 1 Axes>"
      ]
     },
     "metadata": {
      "needs_background": "light"
     },
     "output_type": "display_data"
    }
   ],
   "source": [
    "df_year_WSto.plot(x= \"year\", y= \"winter storm\", kind= \"line\")"
   ]
  },
  {
   "cell_type": "code",
   "execution_count": 114,
   "id": "42329b9b",
   "metadata": {},
   "outputs": [
    {
     "data": {
      "text/plain": [
       "<AxesSubplot:xlabel='year'>"
      ]
     },
     "execution_count": 114,
     "metadata": {},
     "output_type": "execute_result"
    },
    {
     "data": {
      "image/png": "[encoded data removed]",
      "text/plain": [
       "<Figure size 432x288 with 1 Axes>"
      ]
     },
     "metadata": {
      "needs_background": "light"
     },
     "output_type": "display_data"
    }
   ],
   "source": [
    "df_year_Fre.plot(x= \"year\", y= \"freeze\", kind= \"line\")"
   ]
  },
  {
   "cell_type": "code",
   "execution_count": 115,
   "id": "f1493c51",
   "metadata": {},
   "outputs": [
    {
     "data": {
      "text/plain": [
       "<AxesSubplot:xlabel='year'>"
      ]
     },
     "execution_count": 115,
     "metadata": {},
     "output_type": "execute_result"
    },
    {
     "data": {
      "image/png": "[encoded data removed]",
      "text/plain": [
       "<Figure size 432x288 with 1 Axes>"
      ]
     },
     "metadata": {
      "needs_background": "light"
     },
     "output_type": "display_data"
    }
   ],
   "source": [
    "df_year_SeSto.plot(x= \"year\", y= \"severe storm\", kind= \"line\")"
   ]
  },
  {
   "cell_type": "code",
   "execution_count": 116,
   "id": "d7638a85",
   "metadata": {},
   "outputs": [
    {
     "data": {
      "text/plain": [
       "<AxesSubplot:xlabel='year'>"
      ]
     },
     "execution_count": 116,
     "metadata": {},
     "output_type": "execute_result"
    },
    {
     "data": {
      "image/png": "[encoded data removed]",
      "text/plain": [
       "<Figure size 432x288 with 1 Axes>"
      ]
     },
     "metadata": {
      "needs_background": "light"
     },
     "output_type": "display_data"
    }
   ],
   "source": [
    "df_year_TropCy.plot(x= \"year\", y= \"tropical cyclone\", kind= \"line\")"
   ]
  },
  {
   "cell_type": "code",
   "execution_count": 117,
   "id": "4deb6174",
   "metadata": {},
   "outputs": [
    {
     "data": {
      "text/html": [
       "<div>\n",
       "<style scoped>\n",
       "    .dataframe tbody tr th:only-of-type {\n",
       "        vertical-align: middle;\n",
       "    }\n",
       "\n",
       "    .dataframe tbody tr th {\n",
       "        vertical-align: top;\n",
       "    }\n",
       "\n",
       "    .dataframe thead th {\n",
       "        text-align: right;\n",
       "    }\n",
       "</style>\n",
       "<table border=\"1\" class=\"dataframe\">\n",
       "  <thead>\n",
       "    <tr style=\"text-align: right;\">\n",
       "      <th></th>\n",
       "      <th>year_only</th>\n",
       "      <th>Deaths</th>\n",
       "    </tr>\n",
       "  </thead>\n",
       "  <tbody>\n",
       "    <tr>\n",
       "      <th>1</th>\n",
       "      <td>1980</td>\n",
       "      <td>1280</td>\n",
       "    </tr>\n",
       "    <tr>\n",
       "      <th>2</th>\n",
       "      <td>1981</td>\n",
       "      <td>20</td>\n",
       "    </tr>\n",
       "    <tr>\n",
       "      <th>3</th>\n",
       "      <td>1982</td>\n",
       "      <td>243</td>\n",
       "    </tr>\n",
       "    <tr>\n",
       "      <th>4</th>\n",
       "      <td>1983</td>\n",
       "      <td>186</td>\n",
       "    </tr>\n",
       "    <tr>\n",
       "      <th>5</th>\n",
       "      <td>1984</td>\n",
       "      <td>81</td>\n",
       "    </tr>\n",
       "  </tbody>\n",
       "</table>\n",
       "</div>"
      ],
      "text/plain": [
       "  year_only  Deaths\n",
       "1      1980    1280\n",
       "2      1981      20\n",
       "3      1982     243\n",
       "4      1983     186\n",
       "5      1984      81"
      ]
     },
     "execution_count": 117,
     "metadata": {},
     "output_type": "execute_result"
    }
   ],
   "source": [
    "df_deaths_per_year2= df1.groupby(by= ['year_only'],as_index= False)['Deaths'].sum()\n",
    "df_deaths_per_year2.index = df_deaths_per_year2.index + 1\n",
    "\n",
    "df_deaths_per_year2.head()"
   ]
  },
  {
   "cell_type": "code",
   "execution_count": 118,
   "id": "0d0bf9ef",
   "metadata": {},
   "outputs": [
    {
     "name": "stdout",
     "output_type": "stream",
     "text": [
      "380.2325581395349\n"
     ]
    }
   ],
   "source": [
    "print(df_deaths_per_year2['Deaths'].mean())"
   ]
  },
  {
   "cell_type": "code",
   "execution_count": 119,
   "id": "2f15688b",
   "metadata": {},
   "outputs": [
    {
     "name": "stdout",
     "output_type": "stream",
     "text": [
      "3280\n"
     ]
    }
   ],
   "source": [
    "print(df_deaths_per_year2['Deaths'].max())"
   ]
  },
  {
   "cell_type": "code",
   "execution_count": 120,
   "id": "190f2174",
   "metadata": {},
   "outputs": [
    {
     "data": {
      "text/html": [
       "<div>\n",
       "<style scoped>\n",
       "    .dataframe tbody tr th:only-of-type {\n",
       "        vertical-align: middle;\n",
       "    }\n",
       "\n",
       "    .dataframe tbody tr th {\n",
       "        vertical-align: top;\n",
       "    }\n",
       "\n",
       "    .dataframe thead th {\n",
       "        text-align: right;\n",
       "    }\n",
       "</style>\n",
       "<table border=\"1\" class=\"dataframe\">\n",
       "  <thead>\n",
       "    <tr style=\"text-align: right;\">\n",
       "      <th></th>\n",
       "      <th>year_only</th>\n",
       "      <th>Total CPI-Adjusted Cost (Millions of Dollars)</th>\n",
       "    </tr>\n",
       "  </thead>\n",
       "  <tbody>\n",
       "    <tr>\n",
       "      <th>1</th>\n",
       "      <td>1980</td>\n",
       "      <td>44434.8</td>\n",
       "    </tr>\n",
       "    <tr>\n",
       "      <th>2</th>\n",
       "      <td>1981</td>\n",
       "      <td>3392.1</td>\n",
       "    </tr>\n",
       "    <tr>\n",
       "      <th>3</th>\n",
       "      <td>1982</td>\n",
       "      <td>14765.9</td>\n",
       "    </tr>\n",
       "    <tr>\n",
       "      <th>4</th>\n",
       "      <td>1983</td>\n",
       "      <td>26005.6</td>\n",
       "    </tr>\n",
       "    <tr>\n",
       "      <th>5</th>\n",
       "      <td>1984</td>\n",
       "      <td>3124.5</td>\n",
       "    </tr>\n",
       "  </tbody>\n",
       "</table>\n",
       "</div>"
      ],
      "text/plain": [
       "  year_only  Total CPI-Adjusted Cost (Millions of Dollars)\n",
       "1      1980                                        44434.8\n",
       "2      1981                                         3392.1\n",
       "3      1982                                        14765.9\n",
       "4      1983                                        26005.6\n",
       "5      1984                                         3124.5"
      ]
     },
     "execution_count": 120,
     "metadata": {},
     "output_type": "execute_result"
    }
   ],
   "source": [
    "Total_cost_per_year= df1.groupby(by= ['year_only'],as_index= False)['Total CPI-Adjusted Cost (Millions of Dollars)'].sum()\n",
    "Total_cost_per_year.index = Total_cost_per_year.index + 1\n",
    "\n",
    "Total_cost_per_year.head()"
   ]
  },
  {
   "cell_type": "code",
   "execution_count": 121,
   "id": "5091faa0",
   "metadata": {},
   "outputs": [
    {
     "data": {
      "text/html": [
       "<div>\n",
       "<style scoped>\n",
       "    .dataframe tbody tr th:only-of-type {\n",
       "        vertical-align: middle;\n",
       "    }\n",
       "\n",
       "    .dataframe tbody tr th {\n",
       "        vertical-align: top;\n",
       "    }\n",
       "\n",
       "    .dataframe thead th {\n",
       "        text-align: right;\n",
       "    }\n",
       "</style>\n",
       "<table border=\"1\" class=\"dataframe\">\n",
       "  <thead>\n",
       "    <tr style=\"text-align: right;\">\n",
       "      <th></th>\n",
       "      <th>year_only</th>\n",
       "      <th>Inflation rate value</th>\n",
       "    </tr>\n",
       "  </thead>\n",
       "  <tbody>\n",
       "    <tr>\n",
       "      <th>1</th>\n",
       "      <td>1947</td>\n",
       "      <td>22.331667</td>\n",
       "    </tr>\n",
       "    <tr>\n",
       "      <th>2</th>\n",
       "      <td>1948</td>\n",
       "      <td>24.045000</td>\n",
       "    </tr>\n",
       "    <tr>\n",
       "      <th>3</th>\n",
       "      <td>1949</td>\n",
       "      <td>23.809167</td>\n",
       "    </tr>\n",
       "    <tr>\n",
       "      <th>4</th>\n",
       "      <td>1950</td>\n",
       "      <td>24.062500</td>\n",
       "    </tr>\n",
       "    <tr>\n",
       "      <th>5</th>\n",
       "      <td>1951</td>\n",
       "      <td>25.973333</td>\n",
       "    </tr>\n",
       "  </tbody>\n",
       "</table>\n",
       "</div>"
      ],
      "text/plain": [
       "  year_only  Inflation rate value\n",
       "1      1947             22.331667\n",
       "2      1948             24.045000\n",
       "3      1949             23.809167\n",
       "4      1950             24.062500\n",
       "5      1951             25.973333"
      ]
     },
     "execution_count": 121,
     "metadata": {},
     "output_type": "execute_result"
    }
   ],
   "source": [
    "inflation_rate_per_year= df5.groupby(by= ['year_only'],as_index= False)['Inflation rate value'].mean()\n",
    "inflation_rate_per_year.index = inflation_rate_per_year.index + 1\n",
    "\n",
    "inflation_rate_per_year.head()"
   ]
  },
  {
   "cell_type": "code",
   "execution_count": 122,
   "id": "d1583ce6",
   "metadata": {},
   "outputs": [
    {
     "data": {
      "text/plain": [
       "<AxesSubplot:title={'center':'Average inflation rate per year'}, xlabel='year_only'>"
      ]
     },
     "execution_count": 122,
     "metadata": {},
     "output_type": "execute_result"
    },
    {
     "data": {
      "image/png": "[encoded data removed]",
      "text/plain": [
       "<Figure size 432x288 with 1 Axes>"
      ]
     },
     "metadata": {
      "needs_background": "light"
     },
     "output_type": "display_data"
    }
   ],
   "source": [
    "inflation_rate_per_year.plot(x= \"year_only\", y = \"Inflation rate value\", title= \"Average inflation rate per year\", kind= \"line\")"
   ]
  },
  {
   "cell_type": "code",
   "execution_count": 123,
   "id": "767be7d5",
   "metadata": {},
   "outputs": [],
   "source": [
    "Inflation_rate_vs_total_cost= pd.merge(inflation_rate_per_year, Total_cost_per_year)"
   ]
  },
  {
   "cell_type": "code",
   "execution_count": 124,
   "id": "4f6aa9fb",
   "metadata": {},
   "outputs": [
    {
     "data": {
      "text/html": [
       "<div>\n",
       "<style scoped>\n",
       "    .dataframe tbody tr th:only-of-type {\n",
       "        vertical-align: middle;\n",
       "    }\n",
       "\n",
       "    .dataframe tbody tr th {\n",
       "        vertical-align: top;\n",
       "    }\n",
       "\n",
       "    .dataframe thead th {\n",
       "        text-align: right;\n",
       "    }\n",
       "</style>\n",
       "<table border=\"1\" class=\"dataframe\">\n",
       "  <thead>\n",
       "    <tr style=\"text-align: right;\">\n",
       "      <th></th>\n",
       "      <th>year_only</th>\n",
       "      <th>Inflation rate value</th>\n",
       "      <th>Total CPI-Adjusted Cost (Millions of Dollars)</th>\n",
       "    </tr>\n",
       "  </thead>\n",
       "  <tbody>\n",
       "    <tr>\n",
       "      <th>0</th>\n",
       "      <td>1980</td>\n",
       "      <td>82.383333</td>\n",
       "      <td>44434.8</td>\n",
       "    </tr>\n",
       "    <tr>\n",
       "      <th>1</th>\n",
       "      <td>1981</td>\n",
       "      <td>90.933333</td>\n",
       "      <td>3392.1</td>\n",
       "    </tr>\n",
       "    <tr>\n",
       "      <th>2</th>\n",
       "      <td>1982</td>\n",
       "      <td>96.533333</td>\n",
       "      <td>14765.9</td>\n",
       "    </tr>\n",
       "    <tr>\n",
       "      <th>3</th>\n",
       "      <td>1983</td>\n",
       "      <td>99.583333</td>\n",
       "      <td>26005.6</td>\n",
       "    </tr>\n",
       "    <tr>\n",
       "      <th>4</th>\n",
       "      <td>1984</td>\n",
       "      <td>103.933333</td>\n",
       "      <td>3124.5</td>\n",
       "    </tr>\n",
       "  </tbody>\n",
       "</table>\n",
       "</div>"
      ],
      "text/plain": [
       "  year_only  Inflation rate value  \\\n",
       "0      1980             82.383333   \n",
       "1      1981             90.933333   \n",
       "2      1982             96.533333   \n",
       "3      1983             99.583333   \n",
       "4      1984            103.933333   \n",
       "\n",
       "   Total CPI-Adjusted Cost (Millions of Dollars)  \n",
       "0                                        44434.8  \n",
       "1                                         3392.1  \n",
       "2                                        14765.9  \n",
       "3                                        26005.6  \n",
       "4                                         3124.5  "
      ]
     },
     "execution_count": 124,
     "metadata": {},
     "output_type": "execute_result"
    }
   ],
   "source": [
    "Inflation_rate_vs_total_cost.head()"
   ]
  },
  {
   "cell_type": "code",
   "execution_count": 134,
   "id": "26f4f1c4",
   "metadata": {},
   "outputs": [
    {
     "data": {
      "image/png": "[encoded data removed]",
      "text/plain": [
       "<Figure size 1440x1440 with 1 Axes>"
      ]
     },
     "metadata": {
      "needs_background": "light"
     },
     "output_type": "display_data"
    }
   ],
   "source": [
    "plt.figure(figsize=(20,20))\n",
    "x = Inflation_rate_vs_total_cost.year_only\n",
    "y1 = Inflation_rate_vs_total_cost['Inflation rate value']\n",
    "y2 = Inflation_rate_vs_total_cost['Total CPI-Adjusted Cost (Millions of Dollars)']\n",
    "\n",
    "plt.plot(x, y1, label ='y1')\n",
    "plt.plot(x, y2, '-.', label ='y2')\n",
    "\n",
    "plt.xlabel(\"X-axis data\")\n",
    "plt.ylabel(\"Y-axis data\")\n",
    "plt.legend()\n",
    "plt.title('multiple plots')\n",
    "plt.show()"
   ]
  },
  {
   "cell_type": "code",
   "execution_count": 126,
   "id": "39894df1",
   "metadata": {},
   "outputs": [
    {
     "data": {
      "image/png": "[encoded data removed]",
      "text/plain": [
       "<Figure size 864x288 with 2 Axes>"
      ]
     },
     "metadata": {
      "needs_background": "light"
     },
     "output_type": "display_data"
    }
   ],
   "source": [
    "# Generate random data for multiple histograms\n",
    "Total_cost_per_year = np.random.randn(1000)\n",
    "inflation_rate_per_year = np.random.normal(loc=3, scale=1, size=1000)\n",
    " \n",
    "# Creating subplots with multiple histograms\n",
    "fig, axes = plt.subplots(nrows=1, ncols=2, figsize=(12, 4))\n",
    " \n",
    "axes[0].hist(Total_cost_per_year, bins=30, color='Yellow', edgecolor='black')\n",
    "axes[0].set_title('Cost Per Year')\n",
    " \n",
    "axes[1].hist(Inflation_rate_vs_total_cost['Inflation rate value'], bins=30, color='Pink', edgecolor='black')\n",
    "axes[1].set_title('Histogram 2')\n",
    " \n",
    "# Adding labels and title\n",
    "for ax in axes:\n",
    "    ax.set_xlabel('Values')\n",
    "    ax.set_ylabel('Year')\n",
    " \n",
    "# Adjusting layout for better spacing\n",
    "plt.tight_layout()\n",
    " \n",
    "# Display the figure\n",
    "plt.show()"
   ]
  },
  {
   "cell_type": "code",
   "execution_count": null,
   "id": "45e68c93",
   "metadata": {},
   "outputs": [],
   "source": []
  },
  {
   "cell_type": "code",
   "execution_count": 127,
   "id": "e45ce163",
   "metadata": {},
   "outputs": [
    {
     "data": {
      "image/png": "[encoded data removed]",
      "text/plain": [
       "<Figure size 432x288 with 1 Axes>"
      ]
     },
     "metadata": {
      "needs_background": "light"
     },
     "output_type": "display_data"
    }
   ],
   "source": [
    "sns.countplot(data=df_year_per_event_cost,\n",
    "              x='Disaster')\n",
    "plt.xlabel('')\n",
    "plt.ylabel('Total CPI-Adjusted Cost (Millions of Dollars)')\n",
    "plt.title('Year per event cost')\n",
    "sns.despine()\n",
    "plt.show()"
   ]
  },
  {
   "cell_type": "code",
   "execution_count": 128,
   "id": "a1a859d2",
   "metadata": {},
   "outputs": [
    {
     "data": {
      "image/png": "[encoded data removed]",
      "text/plain": [
       "<Figure size 432x288 with 1 Axes>"
      ]
     },
     "metadata": {
      "needs_background": "light"
     },
     "output_type": "display_data"
    }
   ],
   "source": [
    "sns.stripplot(data=df_year_per_event_cost,\n",
    "             x='year_only',\n",
    "             y='Total CPI-Adjusted Cost (Millions of Dollars)')\n",
    "plt.xticks(rotation=-1)\n",
    "plt.xlabel('Year')\n",
    "plt.ylabel('Cost')\n",
    "sns.despine()\n",
    "plt.savefig('Yearly cost', bbox_inches='tight')\n",
    "plt.show()"
   ]
  },
  {
   "cell_type": "code",
   "execution_count": 129,
   "id": "054f8efa",
   "metadata": {},
   "outputs": [
    {
     "data": {
      "image/png": "[encoded data removed]",
      "text/plain": [
       "<Figure size 1440x1440 with 1 Axes>"
      ]
     },
     "metadata": {
      "needs_background": "light"
     },
     "output_type": "display_data"
    }
   ],
   "source": [
    "plt.figure(figsize=(20,20))\n",
    "x = df_year_per_event_cost.year_only\n",
    "y1 = df_year_per_event_cost['Disaster']\n",
    "y2 = df_year_per_event_cost['Total CPI-Adjusted Cost (Millions of Dollars)']\n",
    "\n",
    "plt.plot(x, y1, label ='y1')\n",
    "plt.plot(x, y2, '-.', label ='y2')\n",
    "\n",
    "plt.xlabel(\"X-axis data\")\n",
    "plt.ylabel(\"Y-axis data\")\n",
    "plt.legend()\n",
    "plt.title('multiple plots')\n",
    "plt.show()"
   ]
  },
  {
   "cell_type": "code",
   "execution_count": 130,
   "id": "e9a42aea",
   "metadata": {},
   "outputs": [
    {
     "data": {
      "text/html": [
       "<div>\n",
       "<style scoped>\n",
       "    .dataframe tbody tr th:only-of-type {\n",
       "        vertical-align: middle;\n",
       "    }\n",
       "\n",
       "    .dataframe tbody tr th {\n",
       "        vertical-align: top;\n",
       "    }\n",
       "\n",
       "    .dataframe thead th {\n",
       "        text-align: right;\n",
       "    }\n",
       "</style>\n",
       "<table border=\"1\" class=\"dataframe\">\n",
       "  <thead>\n",
       "    <tr style=\"text-align: right;\">\n",
       "      <th></th>\n",
       "      <th>year</th>\n",
       "      <th>state</th>\n",
       "      <th>drought</th>\n",
       "      <th>flooding</th>\n",
       "      <th>freeze</th>\n",
       "      <th>severe storm</th>\n",
       "      <th>tropical cyclone</th>\n",
       "      <th>wildfire</th>\n",
       "      <th>winter storm</th>\n",
       "    </tr>\n",
       "  </thead>\n",
       "  <tbody>\n",
       "    <tr>\n",
       "      <th>0</th>\n",
       "      <td>1980</td>\n",
       "      <td>AK</td>\n",
       "      <td>0</td>\n",
       "      <td>0</td>\n",
       "      <td>0</td>\n",
       "      <td>0</td>\n",
       "      <td>0</td>\n",
       "      <td>0</td>\n",
       "      <td>0</td>\n",
       "    </tr>\n",
       "    <tr>\n",
       "      <th>1</th>\n",
       "      <td>1980</td>\n",
       "      <td>AL</td>\n",
       "      <td>1</td>\n",
       "      <td>0</td>\n",
       "      <td>0</td>\n",
       "      <td>0</td>\n",
       "      <td>0</td>\n",
       "      <td>0</td>\n",
       "      <td>0</td>\n",
       "    </tr>\n",
       "    <tr>\n",
       "      <th>2</th>\n",
       "      <td>1980</td>\n",
       "      <td>AR</td>\n",
       "      <td>1</td>\n",
       "      <td>1</td>\n",
       "      <td>0</td>\n",
       "      <td>0</td>\n",
       "      <td>0</td>\n",
       "      <td>0</td>\n",
       "      <td>0</td>\n",
       "    </tr>\n",
       "    <tr>\n",
       "      <th>3</th>\n",
       "      <td>1980</td>\n",
       "      <td>AZ</td>\n",
       "      <td>0</td>\n",
       "      <td>0</td>\n",
       "      <td>0</td>\n",
       "      <td>0</td>\n",
       "      <td>0</td>\n",
       "      <td>0</td>\n",
       "      <td>0</td>\n",
       "    </tr>\n",
       "    <tr>\n",
       "      <th>4</th>\n",
       "      <td>1980</td>\n",
       "      <td>CA</td>\n",
       "      <td>0</td>\n",
       "      <td>0</td>\n",
       "      <td>0</td>\n",
       "      <td>0</td>\n",
       "      <td>0</td>\n",
       "      <td>0</td>\n",
       "      <td>0</td>\n",
       "    </tr>\n",
       "  </tbody>\n",
       "</table>\n",
       "</div>"
      ],
      "text/plain": [
       "   year state  drought  flooding  freeze  severe storm  tropical cyclone  \\\n",
       "0  1980    AK        0         0       0             0                 0   \n",
       "1  1980    AL        1         0       0             0                 0   \n",
       "2  1980    AR        1         1       0             0                 0   \n",
       "3  1980    AZ        0         0       0             0                 0   \n",
       "4  1980    CA        0         0       0             0                 0   \n",
       "\n",
       "   wildfire  winter storm  \n",
       "0         0             0  \n",
       "1         0             0  \n",
       "2         0             0  \n",
       "3         0             0  \n",
       "4         0             0  "
      ]
     },
     "execution_count": 130,
     "metadata": {},
     "output_type": "execute_result"
    }
   ],
   "source": [
    "df3.head()"
   ]
  },
  {
   "cell_type": "code",
   "execution_count": 131,
   "id": "d197f9a3",
   "metadata": {},
   "outputs": [],
   "source": [
    "df_year_state= df3.groupby(by= ['year'],as_index= False)['state'].sum()"
   ]
  },
  {
   "cell_type": "code",
   "execution_count": 132,
   "id": "38b8c605",
   "metadata": {},
   "outputs": [
    {
     "data": {
      "text/html": [
       "<div>\n",
       "<style scoped>\n",
       "    .dataframe tbody tr th:only-of-type {\n",
       "        vertical-align: middle;\n",
       "    }\n",
       "\n",
       "    .dataframe tbody tr th {\n",
       "        vertical-align: top;\n",
       "    }\n",
       "\n",
       "    .dataframe thead th {\n",
       "        text-align: right;\n",
       "    }\n",
       "</style>\n",
       "<table border=\"1\" class=\"dataframe\">\n",
       "  <thead>\n",
       "    <tr style=\"text-align: right;\">\n",
       "      <th></th>\n",
       "      <th>year</th>\n",
       "      <th>state</th>\n",
       "    </tr>\n",
       "  </thead>\n",
       "  <tbody>\n",
       "    <tr>\n",
       "      <th>0</th>\n",
       "      <td>1980</td>\n",
       "      <td>AKALARAZCACOCTDCDEFLGAGUHIIAIDILINKSKYLAMAMDME...</td>\n",
       "    </tr>\n",
       "    <tr>\n",
       "      <th>1</th>\n",
       "      <td>1981</td>\n",
       "      <td>AKALARAZCACOCTDCDEFLGAGUHIIAIDILINKSKYLAMAMDME...</td>\n",
       "    </tr>\n",
       "    <tr>\n",
       "      <th>2</th>\n",
       "      <td>1982</td>\n",
       "      <td>AKALARAZCACOCTDCDEFLGAGUHIIAIDILINKSKYLAMAMDME...</td>\n",
       "    </tr>\n",
       "    <tr>\n",
       "      <th>3</th>\n",
       "      <td>1983</td>\n",
       "      <td>AKALARAZCACOCTDCDEFLGAGUHIIAIDILINKSKYLAMAMDME...</td>\n",
       "    </tr>\n",
       "    <tr>\n",
       "      <th>4</th>\n",
       "      <td>1984</td>\n",
       "      <td>AKALARAZCACOCTDCDEFLGAGUHIIAIDILINKSKYLAMAMDME...</td>\n",
       "    </tr>\n",
       "  </tbody>\n",
       "</table>\n",
       "</div>"
      ],
      "text/plain": [
       "   year                                              state\n",
       "0  1980  AKALARAZCACOCTDCDEFLGAGUHIIAIDILINKSKYLAMAMDME...\n",
       "1  1981  AKALARAZCACOCTDCDEFLGAGUHIIAIDILINKSKYLAMAMDME...\n",
       "2  1982  AKALARAZCACOCTDCDEFLGAGUHIIAIDILINKSKYLAMAMDME...\n",
       "3  1983  AKALARAZCACOCTDCDEFLGAGUHIIAIDILINKSKYLAMAMDME...\n",
       "4  1984  AKALARAZCACOCTDCDEFLGAGUHIIAIDILINKSKYLAMAMDME..."
      ]
     },
     "execution_count": 132,
     "metadata": {},
     "output_type": "execute_result"
    }
   ],
   "source": [
    "df_year_state.head()"
   ]
  },
  {
   "cell_type": "code",
   "execution_count": null,
   "id": "799e3139",
   "metadata": {},
   "outputs": [],
   "source": []
  }
 ],
 "metadata": {
  "kernelspec": {
   "display_name": "PythonData",
   "language": "python",
   "name": "pythondata"
  },
  "language_info": {
   "codemirror_mode": {
    "name": "ipython",
    "version": 3
   },
   "file_extension": ".py",
   "mimetype": "text/x-python",
   "name": "python",
   "nbconvert_exporter": "python",
   "pygments_lexer": "ipython3",
   "version": "3.7.10"
  }
 },
 "nbformat": 4,
 "nbformat_minor": 5
}
